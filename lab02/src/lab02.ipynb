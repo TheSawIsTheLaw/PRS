{
 "cells": [
  {
   "cell_type": "code",
   "execution_count": 3,
   "metadata": {},
   "outputs": [],
   "source": [
    "import numpy as np\n",
    "import matplotlib.pyplot as plt\n",
    "import pandas as pd"
   ]
  },
  {
   "cell_type": "code",
   "execution_count": 4,
   "metadata": {},
   "outputs": [
    {
     "name": "stderr",
     "output_type": "stream",
     "text": [
      "/var/folders/nd/rxp2phv12xl4m1wk92ksqgxr0000gn/T/ipykernel_2170/4239620103.py:1: ParserWarning: Falling back to the 'python' engine because the 'c' engine does not support regex separators (separators > 1 char and different from '\\s+' are interpreted as regex); you can avoid this warning by specifying engine='python'.\n",
      "  data = pd.read_csv(\"sample_movielens_rating.dat\", sep=\"::\", names=[\"user\", \"item\", \"label\", \"time\"])\n"
     ]
    }
   ],
   "source": [
    "data = pd.read_csv(\"sample_movielens_rating.dat\", sep=\"::\", names=[\"user\", \"item\", \"label\", \"time\"])"
   ]
  },
  {
   "cell_type": "code",
   "execution_count": 5,
   "metadata": {},
   "outputs": [
    {
     "data": {
      "text/html": [
       "<div>\n",
       "<style scoped>\n",
       "    .dataframe tbody tr th:only-of-type {\n",
       "        vertical-align: middle;\n",
       "    }\n",
       "\n",
       "    .dataframe tbody tr th {\n",
       "        vertical-align: top;\n",
       "    }\n",
       "\n",
       "    .dataframe thead th {\n",
       "        text-align: right;\n",
       "    }\n",
       "</style>\n",
       "<table border=\"1\" class=\"dataframe\">\n",
       "  <thead>\n",
       "    <tr style=\"text-align: right;\">\n",
       "      <th></th>\n",
       "      <th>user</th>\n",
       "      <th>item</th>\n",
       "      <th>label</th>\n",
       "      <th>time</th>\n",
       "    </tr>\n",
       "  </thead>\n",
       "  <tbody>\n",
       "    <tr>\n",
       "      <th>0</th>\n",
       "      <td>5488</td>\n",
       "      <td>488</td>\n",
       "      <td>3</td>\n",
       "      <td>959821507</td>\n",
       "    </tr>\n",
       "    <tr>\n",
       "      <th>1</th>\n",
       "      <td>5698</td>\n",
       "      <td>1682</td>\n",
       "      <td>4</td>\n",
       "      <td>958593778</td>\n",
       "    </tr>\n",
       "    <tr>\n",
       "      <th>2</th>\n",
       "      <td>3116</td>\n",
       "      <td>260</td>\n",
       "      <td>5</td>\n",
       "      <td>969465180</td>\n",
       "    </tr>\n",
       "    <tr>\n",
       "      <th>3</th>\n",
       "      <td>1425</td>\n",
       "      <td>1354</td>\n",
       "      <td>5</td>\n",
       "      <td>1024172237</td>\n",
       "    </tr>\n",
       "    <tr>\n",
       "      <th>4</th>\n",
       "      <td>4808</td>\n",
       "      <td>540</td>\n",
       "      <td>2</td>\n",
       "      <td>962954668</td>\n",
       "    </tr>\n",
       "    <tr>\n",
       "      <th>...</th>\n",
       "      <td>...</td>\n",
       "      <td>...</td>\n",
       "      <td>...</td>\n",
       "      <td>...</td>\n",
       "    </tr>\n",
       "    <tr>\n",
       "      <th>99995</th>\n",
       "      <td>3773</td>\n",
       "      <td>2470</td>\n",
       "      <td>4</td>\n",
       "      <td>966046827</td>\n",
       "    </tr>\n",
       "    <tr>\n",
       "      <th>99996</th>\n",
       "      <td>5728</td>\n",
       "      <td>3042</td>\n",
       "      <td>1</td>\n",
       "      <td>958474720</td>\n",
       "    </tr>\n",
       "    <tr>\n",
       "      <th>99997</th>\n",
       "      <td>3611</td>\n",
       "      <td>1019</td>\n",
       "      <td>4</td>\n",
       "      <td>966614749</td>\n",
       "    </tr>\n",
       "    <tr>\n",
       "      <th>99998</th>\n",
       "      <td>2223</td>\n",
       "      <td>2968</td>\n",
       "      <td>4</td>\n",
       "      <td>974601023</td>\n",
       "    </tr>\n",
       "    <tr>\n",
       "      <th>99999</th>\n",
       "      <td>1757</td>\n",
       "      <td>610</td>\n",
       "      <td>5</td>\n",
       "      <td>974703792</td>\n",
       "    </tr>\n",
       "  </tbody>\n",
       "</table>\n",
       "<p>100000 rows × 4 columns</p>\n",
       "</div>"
      ],
      "text/plain": [
       "       user  item  label        time\n",
       "0      5488   488      3   959821507\n",
       "1      5698  1682      4   958593778\n",
       "2      3116   260      5   969465180\n",
       "3      1425  1354      5  1024172237\n",
       "4      4808   540      2   962954668\n",
       "...     ...   ...    ...         ...\n",
       "99995  3773  2470      4   966046827\n",
       "99996  5728  3042      1   958474720\n",
       "99997  3611  1019      4   966614749\n",
       "99998  2223  2968      4   974601023\n",
       "99999  1757   610      5   974703792\n",
       "\n",
       "[100000 rows x 4 columns]"
      ]
     },
     "execution_count": 5,
     "metadata": {},
     "output_type": "execute_result"
    }
   ],
   "source": [
    "data"
   ]
  },
  {
   "cell_type": "code",
   "execution_count": 10,
   "metadata": {},
   "outputs": [
    {
     "name": "stdout",
     "output_type": "stream",
     "text": [
      "n_users: 5894, n_items: 3253, data density: 0.4172 %\n",
      "Training start time: \u001b[35m2023-10-07 20:27:12\u001b[0m\n",
      "Final block size and num: (5894, 1)\n",
      "sim_matrix elapsed: 0.120s\n",
      "sim_matrix, shape: (5894, 5894), num_elements: 4222948, density: 12.1561 %\n"
     ]
    },
    {
     "name": "stderr",
     "output_type": "stream",
     "text": [
      "top_k: 100%|██████████| 5894/5894 [00:00<00:00, 10850.20it/s]\n",
      "eval_pointwise:   0%|          | 0/3 [00:00<?, ?it/s]"
     ]
    },
    {
     "name": "stdout",
     "output_type": "stream",
     "text": [
      "\u001b[31mNo common interaction or similar neighbor for user 1728 and item 2899, proceed with default prediction\u001b[0m\n",
      "\u001b[31mNo common interaction or similar neighbor for user 1728 and item 2621, proceed with default prediction\u001b[0m\n",
      "\u001b[31mNo common interaction or similar neighbor for user 1932 and item 2012, proceed with default prediction\u001b[0m\n",
      "\u001b[31mNo common interaction or similar neighbor for user 35 and item 2067, proceed with default prediction\u001b[0m\n",
      "\u001b[31mNo common interaction or similar neighbor for user 192 and item 556, proceed with default prediction\u001b[0m\n",
      "\u001b[31mNo common interaction or similar neighbor for user 1957 and item 2741, proceed with default prediction\u001b[0m\n"
     ]
    },
    {
     "name": "stderr",
     "output_type": "stream",
     "text": [
      "eval_pointwise: 100%|██████████| 3/3 [00:00<00:00,  4.49it/s]\n",
      "/opt/homebrew/lib/python3.11/site-packages/sklearn/metrics/_classification.py:2845: FutureWarning: Setting the eps parameter is deprecated and will be removed in 1.5. Instead eps will always havea default value of `np.finfo(y_pred.dtype).eps`.\n",
      "  warnings.warn(\n",
      "eval_listwise: 100%|██████████| 1823/1823 [00:00<00:00, 3132.98it/s]\n"
     ]
    },
    {
     "name": "stdout",
     "output_type": "stream",
     "text": [
      "\t eval log_loss: 1.5595\n",
      "\t eval roc_auc: 0.6823\n",
      "\t eval precision@10: 0.0046\n",
      "\t eval recall@10: 0.0213\n",
      "\t eval ndcg@10: 0.0214\n",
      "==============================\n"
     ]
    },
    {
     "name": "stderr",
     "output_type": "stream",
     "text": [
      "eval_pointwise: 100%|██████████| 3/3 [00:00<00:00,  4.24it/s]\n",
      "/opt/homebrew/lib/python3.11/site-packages/sklearn/metrics/_classification.py:2845: FutureWarning: Setting the eps parameter is deprecated and will be removed in 1.5. Instead eps will always havea default value of `np.finfo(y_pred.dtype).eps`.\n",
      "  warnings.warn(\n",
      "eval_listwise: 100%|██████████| 1846/1846 [00:00<00:00, 3081.74it/s]\n"
     ]
    },
    {
     "name": "stdout",
     "output_type": "stream",
     "text": [
      "{'loss': 1.5734550263402793, 'roc_auc': 0.6868956461575482, 'precision': 0.004523293607800651, 'recall': 0.01878975499641805, 'ndcg': 0.020532097630717117}\n"
     ]
    }
   ],
   "source": [
    "from libreco.data import random_split, DatasetPure\n",
    "from libreco.algorithms import UserCF\n",
    "from libreco.evaluation import evaluate\n",
    "\n",
    "trainData, evalData, testData= random_split(data, multi_ratios=[0.8, 0.1, 0.1])\n",
    "\n",
    "trainData, dataInfo = DatasetPure.build_trainset(trainData)\n",
    "evalData = DatasetPure.build_evalset(evalData)\n",
    "testData = DatasetPure.build_testset(testData)\n",
    "print(dataInfo)\n",
    "\n",
    "userCf = UserCF(\n",
    "    task=\"ranking\",\n",
    "    data_info=dataInfo,\n",
    "    sim_type=\"cosine\",\n",
    ")\n",
    "\n",
    "userCf.fit(\n",
    "    trainData,\n",
    "    neg_sampling=True,\n",
    "    verbose=2,\n",
    "    eval_data=evalData,\n",
    "    metrics=[\"loss\", \"roc_auc\", \"precision\", \"recall\", \"ndcg\"]\n",
    ")\n",
    "\n",
    "evaluation = evaluate(\n",
    "    model=userCf,\n",
    "    data=testData,\n",
    "    neg_sampling=True,\n",
    "    metrics=[\"loss\", \"roc_auc\", \"precision\", \"recall\", \"ndcg\"]\n",
    ")\n",
    "print(evaluation)"
   ]
  },
  {
   "cell_type": "code",
   "execution_count": 11,
   "metadata": {},
   "outputs": [
    {
     "name": "stdout",
     "output_type": "stream",
     "text": [
      "n_users: 5894, n_items: 3253, data density: 0.4172 %\n",
      "Training start time: \u001b[35m2023-10-07 20:28:19\u001b[0m\n",
      "Final block size and num: (3253, 1)\n",
      "sim_matrix elapsed: 0.043s\n",
      "sim_matrix, shape: (3253, 3253), num_elements: 1710008, density: 4.9224 %\n"
     ]
    },
    {
     "name": "stderr",
     "output_type": "stream",
     "text": [
      "top_k: 100%|██████████| 3253/3253 [00:00<00:00, 14909.22it/s]\n",
      "eval_pointwise:   0%|          | 0/3 [00:00<?, ?it/s]"
     ]
    },
    {
     "name": "stdout",
     "output_type": "stream",
     "text": [
      "\u001b[31mNo common interaction or similar neighbor for user 1728 and item 2899, proceed with default prediction\u001b[0m\n",
      "\u001b[31mNo common interaction or similar neighbor for user 1728 and item 2621, proceed with default prediction\u001b[0m\n",
      "\u001b[31mNo common interaction or similar neighbor for user 1932 and item 2012, proceed with default prediction\u001b[0m\n",
      "\u001b[31mNo common interaction or similar neighbor for user 35 and item 2067, proceed with default prediction\u001b[0m\n",
      "\u001b[31mNo common interaction or similar neighbor for user 192 and item 556, proceed with default prediction\u001b[0m\n",
      "\u001b[31mNo common interaction or similar neighbor for user 1957 and item 2741, proceed with default prediction\u001b[0m\n"
     ]
    },
    {
     "name": "stderr",
     "output_type": "stream",
     "text": [
      "eval_pointwise: 100%|██████████| 3/3 [00:00<00:00,  5.01it/s]\n",
      "/opt/homebrew/lib/python3.11/site-packages/sklearn/metrics/_classification.py:2845: FutureWarning: Setting the eps parameter is deprecated and will be removed in 1.5. Instead eps will always havea default value of `np.finfo(y_pred.dtype).eps`.\n",
      "  warnings.warn(\n",
      "eval_listwise: 100%|██████████| 1823/1823 [00:01<00:00, 1181.15it/s]\n"
     ]
    },
    {
     "name": "stdout",
     "output_type": "stream",
     "text": [
      "\t eval log_loss: 1.8389\n",
      "\t eval roc_auc: 0.4937\n",
      "\t eval precision@10: 0.0002\n",
      "\t eval recall@10: 0.0012\n",
      "\t eval ndcg@10: 0.0009\n",
      "==============================\n"
     ]
    },
    {
     "name": "stderr",
     "output_type": "stream",
     "text": [
      "eval_pointwise: 100%|██████████| 3/3 [00:00<00:00,  5.23it/s]\n",
      "/opt/homebrew/lib/python3.11/site-packages/sklearn/metrics/_classification.py:2845: FutureWarning: Setting the eps parameter is deprecated and will be removed in 1.5. Instead eps will always havea default value of `np.finfo(y_pred.dtype).eps`.\n",
      "  warnings.warn(\n",
      "eval_listwise: 100%|██████████| 1846/1846 [00:01<00:00, 1195.72it/s]"
     ]
    },
    {
     "name": "stdout",
     "output_type": "stream",
     "text": [
      "{'loss': 1.8552990619331893, 'roc_auc': 0.4923121609683976, 'precision': 0.00035211267605633805, 'recall': 0.0014990584532838054, 'ndcg': 0.0013039464842552425}\n"
     ]
    },
    {
     "name": "stderr",
     "output_type": "stream",
     "text": [
      "\n"
     ]
    }
   ],
   "source": [
    "from libreco.data import random_split, DatasetPure\n",
    "from libreco.algorithms import ItemCF\n",
    "from libreco.evaluation import evaluate\n",
    "\n",
    "trainData, evalData, testData= random_split(data, multi_ratios=[0.8, 0.1, 0.1])\n",
    "\n",
    "trainData, dataInfo = DatasetPure.build_trainset(trainData)\n",
    "evalData = DatasetPure.build_evalset(evalData)\n",
    "testData = DatasetPure.build_testset(testData)\n",
    "print(dataInfo)\n",
    "\n",
    "itemCf = ItemCF(\n",
    "    task=\"ranking\",\n",
    "    data_info=dataInfo,\n",
    "    sim_type=\"cosine\",\n",
    ")\n",
    "\n",
    "itemCf.fit(\n",
    "    trainData,\n",
    "    neg_sampling=True,\n",
    "    verbose=2,\n",
    "    eval_data=evalData,\n",
    "    metrics=[\"loss\", \"roc_auc\", \"precision\", \"recall\", \"ndcg\"]\n",
    ")\n",
    "\n",
    "evaluation = evaluate(\n",
    "    model=itemCf,\n",
    "    data=testData,\n",
    "    neg_sampling=True,\n",
    "    metrics=[\"loss\", \"roc_auc\", \"precision\", \"recall\", \"ndcg\"]\n",
    ")\n",
    "print(evaluation)"
   ]
  },
  {
   "cell_type": "code",
   "execution_count": null,
   "metadata": {},
   "outputs": [],
   "source": []
  }
 ],
 "metadata": {
  "kernelspec": {
   "display_name": "Python 3",
   "language": "python",
   "name": "python3"
  },
  "language_info": {
   "codemirror_mode": {
    "name": "ipython",
    "version": 3
   },
   "file_extension": ".py",
   "mimetype": "text/x-python",
   "name": "python",
   "nbconvert_exporter": "python",
   "pygments_lexer": "ipython3",
   "version": "3.11.5"
  },
  "orig_nbformat": 4
 },
 "nbformat": 4,
 "nbformat_minor": 2
}
