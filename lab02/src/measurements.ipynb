{
 "cells": [
  {
   "cell_type": "code",
   "execution_count": null,
   "metadata": {},
   "outputs": [],
   "source": [
    "import pandas as pd\n",
    "\n",
    "data = pd.read_csv(\"sample_movielens_rating.dat\", sep=\"::\", names=[\"user\", \"item\", \"label\", \"time\"])"
   ]
  },
  {
   "cell_type": "code",
   "execution_count": 22,
   "metadata": {},
   "outputs": [
    {
     "name": "stdout",
     "output_type": "stream",
     "text": [
      "1\n",
      "Training start time: \u001b[35m2023-10-07 23:41:14\u001b[0m\n",
      "Final block size and num: (5894, 1)\n",
      "sim_matrix elapsed: 0.129s\n",
      "sim_matrix, shape: (5894, 5894), num_elements: 4222948, density: 12.1561 %\n"
     ]
    },
    {
     "name": "stderr",
     "output_type": "stream",
     "text": [
      "top_k: 100%|██████████| 5894/5894 [00:00<00:00, 10804.23it/s]\n",
      "eval_pointwise:   0%|          | 0/3 [00:00<?, ?it/s]"
     ]
    },
    {
     "name": "stdout",
     "output_type": "stream",
     "text": [
      "\u001b[31mNo common interaction or similar neighbor for user 1728 and item 2899, proceed with default prediction\u001b[0m\n",
      "\u001b[31mNo common interaction or similar neighbor for user 1728 and item 2621, proceed with default prediction\u001b[0m\n",
      "\u001b[31mNo common interaction or similar neighbor for user 1932 and item 2012, proceed with default prediction\u001b[0m\n",
      "\u001b[31mNo common interaction or similar neighbor for user 35 and item 2067, proceed with default prediction\u001b[0m\n",
      "\u001b[31mNo common interaction or similar neighbor for user 192 and item 556, proceed with default prediction\u001b[0m\n",
      "\u001b[31mNo common interaction or similar neighbor for user 1957 and item 2741, proceed with default prediction\u001b[0m\n"
     ]
    },
    {
     "name": "stderr",
     "output_type": "stream",
     "text": [
      "eval_pointwise: 100%|██████████| 3/3 [00:00<00:00,  5.65it/s]\n",
      "/opt/homebrew/lib/python3.11/site-packages/sklearn/metrics/_classification.py:2845: FutureWarning: Setting the eps parameter is deprecated and will be removed in 1.5. Instead eps will always havea default value of `np.finfo(y_pred.dtype).eps`.\n",
      "  warnings.warn(\n",
      "eval_listwise: 100%|██████████| 1823/1823 [00:00<00:00, 12522.34it/s]\n"
     ]
    },
    {
     "name": "stdout",
     "output_type": "stream",
     "text": [
      "\t eval log_loss: 1.2638\n",
      "\t eval roc_auc: 0.7303\n",
      "\t eval precision@10: 0.0041\n",
      "\t eval recall@10: 0.0184\n",
      "\t eval ndcg@10: 0.0935\n",
      "==============================\n"
     ]
    },
    {
     "name": "stderr",
     "output_type": "stream",
     "text": [
      "eval_pointwise: 100%|██████████| 3/3 [00:00<00:00,  5.80it/s]\n"
     ]
    },
    {
     "name": "stdout",
     "output_type": "stream",
     "text": [
      "Training start time: \u001b[35m2023-10-07 23:41:16\u001b[0m\n",
      "Final block size and num: (3253, 1)\n",
      "sim_matrix elapsed: 0.045s\n",
      "sim_matrix, shape: (3253, 3253), num_elements: 1710008, density: 4.9224 %\n"
     ]
    },
    {
     "name": "stderr",
     "output_type": "stream",
     "text": [
      "top_k: 100%|██████████| 3253/3253 [00:00<00:00, 15605.67it/s]\n",
      "eval_pointwise:  33%|███▎      | 1/3 [00:00<00:00,  5.70it/s]"
     ]
    },
    {
     "name": "stdout",
     "output_type": "stream",
     "text": [
      "\u001b[31mNo common interaction or similar neighbor for user 1728 and item 2899, proceed with default prediction\u001b[0m\n",
      "\u001b[31mNo common interaction or similar neighbor for user 1728 and item 2621, proceed with default prediction\u001b[0m\n",
      "\u001b[31mNo common interaction or similar neighbor for user 1932 and item 2012, proceed with default prediction\u001b[0m\n",
      "\u001b[31mNo common interaction or similar neighbor for user 35 and item 2067, proceed with default prediction\u001b[0m\n",
      "\u001b[31mNo common interaction or similar neighbor for user 192 and item 556, proceed with default prediction\u001b[0m\n",
      "\u001b[31mNo common interaction or similar neighbor for user 1957 and item 2741, proceed with default prediction\u001b[0m\n"
     ]
    },
    {
     "name": "stderr",
     "output_type": "stream",
     "text": [
      "eval_pointwise: 100%|██████████| 3/3 [00:00<00:00,  7.02it/s]\n",
      "/opt/homebrew/lib/python3.11/site-packages/sklearn/metrics/_classification.py:2845: FutureWarning: Setting the eps parameter is deprecated and will be removed in 1.5. Instead eps will always havea default value of `np.finfo(y_pred.dtype).eps`.\n",
      "  warnings.warn(\n",
      "eval_listwise: 100%|██████████| 1823/1823 [00:00<00:00, 8189.54it/s]\n"
     ]
    },
    {
     "name": "stdout",
     "output_type": "stream",
     "text": [
      "\t eval log_loss: 1.5361\n",
      "\t eval roc_auc: 0.5440\n",
      "\t eval precision@10: 0.0002\n",
      "\t eval recall@10: 0.0007\n",
      "\t eval ndcg@10: 0.0011\n",
      "==============================\n"
     ]
    },
    {
     "name": "stderr",
     "output_type": "stream",
     "text": [
      "eval_pointwise: 100%|██████████| 3/3 [00:00<00:00,  7.05it/s]\n"
     ]
    },
    {
     "name": "stdout",
     "output_type": "stream",
     "text": [
      "\u001b[31mWarning: pearson is not suitable for implicit data\u001b[0m\n",
      "Training start time: \u001b[35m2023-10-07 23:41:17\u001b[0m\n",
      "Final block size and num: (5894, 1)\n",
      "sim_matrix elapsed: 0.149s\n",
      "sim_matrix, shape: (5894, 5894), num_elements: 3855554, density: 11.0986 %\n"
     ]
    },
    {
     "name": "stderr",
     "output_type": "stream",
     "text": [
      "top_k: 100%|██████████| 5894/5894 [00:00<00:00, 12514.47it/s]\n",
      "eval_pointwise:  33%|███▎      | 1/3 [00:00<00:00,  5.03it/s]"
     ]
    },
    {
     "name": "stdout",
     "output_type": "stream",
     "text": [
      "\u001b[31mNo common interaction or similar neighbor for user 5359 and item 2395, proceed with default prediction\u001b[0m\n",
      "\u001b[31mNo common interaction or similar neighbor for user 5773 and item 2930, proceed with default prediction\u001b[0m\n",
      "\u001b[31mNo common interaction or similar neighbor for user 5773 and item 282, proceed with default prediction\u001b[0m\n",
      "\u001b[31mNo common interaction or similar neighbor for user 4268 and item 1643, proceed with default prediction\u001b[0m\n",
      "\u001b[31mNo common interaction or similar neighbor for user 4440 and item 1772, proceed with default prediction\u001b[0m\n",
      "\u001b[31mNo common interaction or similar neighbor for user 1728 and item 2899, proceed with default prediction\u001b[0m\n"
     ]
    },
    {
     "name": "stderr",
     "output_type": "stream",
     "text": [
      "eval_pointwise: 100%|██████████| 3/3 [00:00<00:00,  6.27it/s]\n",
      "/opt/homebrew/lib/python3.11/site-packages/sklearn/metrics/_classification.py:2845: FutureWarning: Setting the eps parameter is deprecated and will be removed in 1.5. Instead eps will always havea default value of `np.finfo(y_pred.dtype).eps`.\n",
      "  warnings.warn(\n",
      "eval_listwise: 100%|██████████| 1823/1823 [00:00<00:00, 14271.61it/s]\n"
     ]
    },
    {
     "name": "stdout",
     "output_type": "stream",
     "text": [
      "\t eval log_loss: 1.6875\n",
      "\t eval roc_auc: 0.7128\n",
      "\t eval precision@10: 0.0013\n",
      "\t eval recall@10: 0.0067\n",
      "\t eval ndcg@10: 0.0151\n",
      "==============================\n"
     ]
    },
    {
     "name": "stderr",
     "output_type": "stream",
     "text": [
      "eval_pointwise: 100%|██████████| 3/3 [00:00<00:00,  6.20it/s]\n"
     ]
    },
    {
     "name": "stdout",
     "output_type": "stream",
     "text": [
      "\u001b[31mWarning: pearson is not suitable for implicit data\u001b[0m\n",
      "Training start time: \u001b[35m2023-10-07 23:41:19\u001b[0m\n",
      "Final block size and num: (3253, 1)\n",
      "sim_matrix elapsed: 0.056s\n",
      "sim_matrix, shape: (3253, 3253), num_elements: 1608184, density: 4.6293 %\n"
     ]
    },
    {
     "name": "stderr",
     "output_type": "stream",
     "text": [
      "top_k: 100%|██████████| 3253/3253 [00:00<00:00, 16615.67it/s]\n",
      "eval_pointwise:  33%|███▎      | 1/3 [00:00<00:00,  5.97it/s]"
     ]
    },
    {
     "name": "stdout",
     "output_type": "stream",
     "text": [
      "\u001b[31mNo common interaction or similar neighbor for user 5359 and item 2395, proceed with default prediction\u001b[0m\n",
      "\u001b[31mNo common interaction or similar neighbor for user 5773 and item 2930, proceed with default prediction\u001b[0m\n",
      "\u001b[31mNo common interaction or similar neighbor for user 1141 and item 711, proceed with default prediction\u001b[0m\n",
      "\u001b[31mNo common interaction or similar neighbor for user 4862 and item 86, proceed with default prediction\u001b[0m\n",
      "\u001b[31mNo common interaction or similar neighbor for user 4440 and item 1772, proceed with default prediction\u001b[0m\n",
      "\u001b[31mNo common interaction or similar neighbor for user 1728 and item 2899, proceed with default prediction\u001b[0m\n"
     ]
    },
    {
     "name": "stderr",
     "output_type": "stream",
     "text": [
      "eval_pointwise: 100%|██████████| 3/3 [00:00<00:00,  7.35it/s]\n",
      "/opt/homebrew/lib/python3.11/site-packages/sklearn/metrics/_classification.py:2845: FutureWarning: Setting the eps parameter is deprecated and will be removed in 1.5. Instead eps will always havea default value of `np.finfo(y_pred.dtype).eps`.\n",
      "  warnings.warn(\n",
      "eval_listwise: 100%|██████████| 1823/1823 [00:00<00:00, 8240.55it/s]\n"
     ]
    },
    {
     "name": "stdout",
     "output_type": "stream",
     "text": [
      "\t eval log_loss: 1.9346\n",
      "\t eval roc_auc: 0.6053\n",
      "\t eval precision@10: 0.0003\n",
      "\t eval recall@10: 0.0008\n",
      "\t eval ndcg@10: 0.0011\n",
      "==============================\n"
     ]
    },
    {
     "name": "stderr",
     "output_type": "stream",
     "text": [
      "eval_pointwise: 100%|██████████| 3/3 [00:00<00:00,  7.28it/s]\n"
     ]
    },
    {
     "name": "stdout",
     "output_type": "stream",
     "text": [
      "Training start time: \u001b[35m2023-10-07 23:41:20\u001b[0m\n",
      "Final block size and num: (5894, 1)\n",
      "sim_matrix elapsed: 0.106s\n",
      "sim_matrix, shape: (5894, 5894), num_elements: 4222948, density: 12.1561 %\n"
     ]
    },
    {
     "name": "stderr",
     "output_type": "stream",
     "text": [
      "top_k: 100%|██████████| 5894/5894 [00:00<00:00, 11946.48it/s]\n",
      "eval_pointwise:   0%|          | 0/3 [00:00<?, ?it/s]"
     ]
    },
    {
     "name": "stdout",
     "output_type": "stream",
     "text": [
      "\u001b[31mNo common interaction or similar neighbor for user 1728 and item 2899, proceed with default prediction\u001b[0m\n",
      "\u001b[31mNo common interaction or similar neighbor for user 1728 and item 2621, proceed with default prediction\u001b[0m\n",
      "\u001b[31mNo common interaction or similar neighbor for user 1932 and item 2012, proceed with default prediction\u001b[0m\n",
      "\u001b[31mNo common interaction or similar neighbor for user 35 and item 2067, proceed with default prediction\u001b[0m\n",
      "\u001b[31mNo common interaction or similar neighbor for user 192 and item 556, proceed with default prediction\u001b[0m\n",
      "\u001b[31mNo common interaction or similar neighbor for user 1957 and item 2741, proceed with default prediction\u001b[0m\n"
     ]
    },
    {
     "name": "stderr",
     "output_type": "stream",
     "text": [
      "eval_pointwise: 100%|██████████| 3/3 [00:00<00:00,  5.96it/s]\n",
      "/opt/homebrew/lib/python3.11/site-packages/sklearn/metrics/_classification.py:2845: FutureWarning: Setting the eps parameter is deprecated and will be removed in 1.5. Instead eps will always havea default value of `np.finfo(y_pred.dtype).eps`.\n",
      "  warnings.warn(\n",
      "eval_listwise: 100%|██████████| 1823/1823 [00:00<00:00, 11222.47it/s]\n"
     ]
    },
    {
     "name": "stdout",
     "output_type": "stream",
     "text": [
      "\t eval log_loss: 1.6535\n",
      "\t eval roc_auc: 0.7408\n",
      "\t eval precision@10: 0.0027\n",
      "\t eval recall@10: 0.0096\n",
      "\t eval ndcg@10: 0.0359\n",
      "==============================\n"
     ]
    },
    {
     "name": "stderr",
     "output_type": "stream",
     "text": [
      "eval_pointwise: 100%|██████████| 3/3 [00:00<00:00,  5.68it/s]\n"
     ]
    },
    {
     "name": "stdout",
     "output_type": "stream",
     "text": [
      "Training start time: \u001b[35m2023-10-07 23:41:22\u001b[0m\n",
      "Final block size and num: (3253, 1)\n",
      "sim_matrix elapsed: 0.035s\n",
      "sim_matrix, shape: (3253, 3253), num_elements: 1710008, density: 4.9224 %\n"
     ]
    },
    {
     "name": "stderr",
     "output_type": "stream",
     "text": [
      "top_k: 100%|██████████| 3253/3253 [00:00<00:00, 15930.48it/s]\n",
      "eval_pointwise:  33%|███▎      | 1/3 [00:00<00:00,  5.69it/s]"
     ]
    },
    {
     "name": "stdout",
     "output_type": "stream",
     "text": [
      "\u001b[31mNo common interaction or similar neighbor for user 1728 and item 2899, proceed with default prediction\u001b[0m\n",
      "\u001b[31mNo common interaction or similar neighbor for user 1728 and item 2621, proceed with default prediction\u001b[0m\n",
      "\u001b[31mNo common interaction or similar neighbor for user 1932 and item 2012, proceed with default prediction\u001b[0m\n",
      "\u001b[31mNo common interaction or similar neighbor for user 35 and item 2067, proceed with default prediction\u001b[0m\n",
      "\u001b[31mNo common interaction or similar neighbor for user 192 and item 556, proceed with default prediction\u001b[0m\n",
      "\u001b[31mNo common interaction or similar neighbor for user 1957 and item 2741, proceed with default prediction\u001b[0m\n"
     ]
    },
    {
     "name": "stderr",
     "output_type": "stream",
     "text": [
      "eval_pointwise: 100%|██████████| 3/3 [00:00<00:00,  6.98it/s]\n",
      "/opt/homebrew/lib/python3.11/site-packages/sklearn/metrics/_classification.py:2845: FutureWarning: Setting the eps parameter is deprecated and will be removed in 1.5. Instead eps will always havea default value of `np.finfo(y_pred.dtype).eps`.\n",
      "  warnings.warn(\n",
      "eval_listwise: 100%|██████████| 1823/1823 [00:00<00:00, 8028.65it/s]\n"
     ]
    },
    {
     "name": "stdout",
     "output_type": "stream",
     "text": [
      "\t eval log_loss: 1.8866\n",
      "\t eval roc_auc: 0.6214\n",
      "\t eval precision@10: 0.0015\n",
      "\t eval recall@10: 0.0056\n",
      "\t eval ndcg@10: 0.0057\n",
      "==============================\n"
     ]
    },
    {
     "name": "stderr",
     "output_type": "stream",
     "text": [
      "eval_pointwise: 100%|██████████| 3/3 [00:00<00:00,  6.98it/s]\n"
     ]
    },
    {
     "name": "stdout",
     "output_type": "stream",
     "text": [
      "2\n",
      "Training start time: \u001b[35m2023-10-07 23:41:23\u001b[0m\n",
      "Final block size and num: (5894, 1)\n",
      "sim_matrix elapsed: 0.120s\n",
      "sim_matrix, shape: (5894, 5894), num_elements: 4222948, density: 12.1561 %\n"
     ]
    },
    {
     "name": "stderr",
     "output_type": "stream",
     "text": [
      "top_k: 100%|██████████| 5894/5894 [00:00<00:00, 11474.83it/s]\n",
      "eval_pointwise:   0%|          | 0/3 [00:00<?, ?it/s]"
     ]
    },
    {
     "name": "stdout",
     "output_type": "stream",
     "text": [
      "\u001b[31mNo common interaction or similar neighbor for user 1728 and item 2899, proceed with default prediction\u001b[0m\n",
      "\u001b[31mNo common interaction or similar neighbor for user 1728 and item 2621, proceed with default prediction\u001b[0m\n",
      "\u001b[31mNo common interaction or similar neighbor for user 1932 and item 2012, proceed with default prediction\u001b[0m\n",
      "\u001b[31mNo common interaction or similar neighbor for user 35 and item 2067, proceed with default prediction\u001b[0m\n",
      "\u001b[31mNo common interaction or similar neighbor for user 192 and item 556, proceed with default prediction\u001b[0m\n",
      "\u001b[31mNo common interaction or similar neighbor for user 1957 and item 2741, proceed with default prediction\u001b[0m\n"
     ]
    },
    {
     "name": "stderr",
     "output_type": "stream",
     "text": [
      "eval_pointwise: 100%|██████████| 3/3 [00:00<00:00,  5.87it/s]\n",
      "/opt/homebrew/lib/python3.11/site-packages/sklearn/metrics/_classification.py:2845: FutureWarning: Setting the eps parameter is deprecated and will be removed in 1.5. Instead eps will always havea default value of `np.finfo(y_pred.dtype).eps`.\n",
      "  warnings.warn(\n",
      "eval_listwise: 100%|██████████| 1823/1823 [00:00<00:00, 12564.87it/s]\n"
     ]
    },
    {
     "name": "stdout",
     "output_type": "stream",
     "text": [
      "\t eval log_loss: 1.3109\n",
      "\t eval roc_auc: 0.7409\n",
      "\t eval precision@10: 0.0024\n",
      "\t eval recall@10: 0.0087\n",
      "\t eval ndcg@10: 0.0581\n",
      "==============================\n"
     ]
    },
    {
     "name": "stderr",
     "output_type": "stream",
     "text": [
      "eval_pointwise: 100%|██████████| 3/3 [00:00<00:00,  5.87it/s]\n"
     ]
    },
    {
     "name": "stdout",
     "output_type": "stream",
     "text": [
      "Training start time: \u001b[35m2023-10-07 23:41:25\u001b[0m\n",
      "Final block size and num: (3253, 1)\n",
      "sim_matrix elapsed: 0.039s\n",
      "sim_matrix, shape: (3253, 3253), num_elements: 1710008, density: 4.9224 %\n"
     ]
    },
    {
     "name": "stderr",
     "output_type": "stream",
     "text": [
      "top_k: 100%|██████████| 3253/3253 [00:00<00:00, 15917.91it/s]\n",
      "eval_pointwise:  33%|███▎      | 1/3 [00:00<00:00,  5.60it/s]"
     ]
    },
    {
     "name": "stdout",
     "output_type": "stream",
     "text": [
      "\u001b[31mNo common interaction or similar neighbor for user 1728 and item 2899, proceed with default prediction\u001b[0m\n",
      "\u001b[31mNo common interaction or similar neighbor for user 1728 and item 2621, proceed with default prediction\u001b[0m\n",
      "\u001b[31mNo common interaction or similar neighbor for user 1932 and item 2012, proceed with default prediction\u001b[0m\n",
      "\u001b[31mNo common interaction or similar neighbor for user 35 and item 2067, proceed with default prediction\u001b[0m\n",
      "\u001b[31mNo common interaction or similar neighbor for user 192 and item 556, proceed with default prediction\u001b[0m\n",
      "\u001b[31mNo common interaction or similar neighbor for user 1957 and item 2741, proceed with default prediction\u001b[0m\n"
     ]
    },
    {
     "name": "stderr",
     "output_type": "stream",
     "text": [
      "eval_pointwise: 100%|██████████| 3/3 [00:00<00:00,  6.86it/s]\n",
      "/opt/homebrew/lib/python3.11/site-packages/sklearn/metrics/_classification.py:2845: FutureWarning: Setting the eps parameter is deprecated and will be removed in 1.5. Instead eps will always havea default value of `np.finfo(y_pred.dtype).eps`.\n",
      "  warnings.warn(\n",
      "eval_listwise: 100%|██████████| 1823/1823 [00:00<00:00, 6508.14it/s]\n"
     ]
    },
    {
     "name": "stdout",
     "output_type": "stream",
     "text": [
      "\t eval log_loss: 1.5888\n",
      "\t eval roc_auc: 0.5505\n",
      "\t eval precision@10: 0.0003\n",
      "\t eval recall@10: 0.0010\n",
      "\t eval ndcg@10: 0.0011\n",
      "==============================\n"
     ]
    },
    {
     "name": "stderr",
     "output_type": "stream",
     "text": [
      "eval_pointwise: 100%|██████████| 3/3 [00:00<00:00,  6.71it/s]\n"
     ]
    },
    {
     "name": "stdout",
     "output_type": "stream",
     "text": [
      "\u001b[31mWarning: pearson is not suitable for implicit data\u001b[0m\n",
      "Training start time: \u001b[35m2023-10-07 23:41:27\u001b[0m\n",
      "Final block size and num: (5894, 1)\n",
      "sim_matrix elapsed: 0.149s\n",
      "sim_matrix, shape: (5894, 5894), num_elements: 3855554, density: 11.0986 %\n"
     ]
    },
    {
     "name": "stderr",
     "output_type": "stream",
     "text": [
      "top_k: 100%|██████████| 5894/5894 [00:00<00:00, 11960.34it/s]\n",
      "eval_pointwise:   0%|          | 0/3 [00:00<?, ?it/s]"
     ]
    },
    {
     "name": "stdout",
     "output_type": "stream",
     "text": [
      "\u001b[31mNo common interaction or similar neighbor for user 5359 and item 2395, proceed with default prediction\u001b[0m\n",
      "\u001b[31mNo common interaction or similar neighbor for user 5773 and item 2930, proceed with default prediction\u001b[0m\n",
      "\u001b[31mNo common interaction or similar neighbor for user 5773 and item 282, proceed with default prediction\u001b[0m\n",
      "\u001b[31mNo common interaction or similar neighbor for user 4268 and item 1643, proceed with default prediction\u001b[0m\n",
      "\u001b[31mNo common interaction or similar neighbor for user 4440 and item 1772, proceed with default prediction\u001b[0m\n",
      "\u001b[31mNo common interaction or similar neighbor for user 1728 and item 2899, proceed with default prediction\u001b[0m\n"
     ]
    },
    {
     "name": "stderr",
     "output_type": "stream",
     "text": [
      "eval_pointwise: 100%|██████████| 3/3 [00:00<00:00,  5.81it/s]\n",
      "/opt/homebrew/lib/python3.11/site-packages/sklearn/metrics/_classification.py:2845: FutureWarning: Setting the eps parameter is deprecated and will be removed in 1.5. Instead eps will always havea default value of `np.finfo(y_pred.dtype).eps`.\n",
      "  warnings.warn(\n",
      "eval_listwise: 100%|██████████| 1823/1823 [00:00<00:00, 11147.13it/s]\n"
     ]
    },
    {
     "name": "stdout",
     "output_type": "stream",
     "text": [
      "\t eval log_loss: 1.7648\n",
      "\t eval roc_auc: 0.7188\n",
      "\t eval precision@10: 0.0024\n",
      "\t eval recall@10: 0.0116\n",
      "\t eval ndcg@10: 0.0216\n",
      "==============================\n"
     ]
    },
    {
     "name": "stderr",
     "output_type": "stream",
     "text": [
      "eval_pointwise: 100%|██████████| 3/3 [00:00<00:00,  6.07it/s]\n"
     ]
    },
    {
     "name": "stdout",
     "output_type": "stream",
     "text": [
      "\u001b[31mWarning: pearson is not suitable for implicit data\u001b[0m\n",
      "Training start time: \u001b[35m2023-10-07 23:41:29\u001b[0m\n",
      "Final block size and num: (3253, 1)\n",
      "sim_matrix elapsed: 0.057s\n",
      "sim_matrix, shape: (3253, 3253), num_elements: 1608184, density: 4.6293 %\n"
     ]
    },
    {
     "name": "stderr",
     "output_type": "stream",
     "text": [
      "top_k: 100%|██████████| 3253/3253 [00:00<00:00, 16553.44it/s]\n",
      "eval_pointwise:  33%|███▎      | 1/3 [00:00<00:00,  5.47it/s]"
     ]
    },
    {
     "name": "stdout",
     "output_type": "stream",
     "text": [
      "\u001b[31mNo common interaction or similar neighbor for user 5359 and item 2395, proceed with default prediction\u001b[0m\n",
      "\u001b[31mNo common interaction or similar neighbor for user 5773 and item 2930, proceed with default prediction\u001b[0m\n",
      "\u001b[31mNo common interaction or similar neighbor for user 1141 and item 711, proceed with default prediction\u001b[0m\n",
      "\u001b[31mNo common interaction or similar neighbor for user 4862 and item 86, proceed with default prediction\u001b[0m\n",
      "\u001b[31mNo common interaction or similar neighbor for user 4440 and item 1772, proceed with default prediction\u001b[0m\n",
      "\u001b[31mNo common interaction or similar neighbor for user 1728 and item 2899, proceed with default prediction\u001b[0m\n"
     ]
    },
    {
     "name": "stderr",
     "output_type": "stream",
     "text": [
      "eval_pointwise: 100%|██████████| 3/3 [00:00<00:00,  6.95it/s]\n",
      "/opt/homebrew/lib/python3.11/site-packages/sklearn/metrics/_classification.py:2845: FutureWarning: Setting the eps parameter is deprecated and will be removed in 1.5. Instead eps will always havea default value of `np.finfo(y_pred.dtype).eps`.\n",
      "  warnings.warn(\n",
      "eval_listwise: 100%|██████████| 1823/1823 [00:00<00:00, 6464.49it/s]\n"
     ]
    },
    {
     "name": "stdout",
     "output_type": "stream",
     "text": [
      "\t eval log_loss: 2.0255\n",
      "\t eval roc_auc: 0.6071\n",
      "\t eval precision@10: 0.0003\n",
      "\t eval recall@10: 0.0013\n",
      "\t eval ndcg@10: 0.0011\n",
      "==============================\n"
     ]
    },
    {
     "name": "stderr",
     "output_type": "stream",
     "text": [
      "eval_pointwise: 100%|██████████| 3/3 [00:00<00:00,  7.21it/s]\n"
     ]
    },
    {
     "name": "stdout",
     "output_type": "stream",
     "text": [
      "Training start time: \u001b[35m2023-10-07 23:41:30\u001b[0m\n",
      "Final block size and num: (5894, 1)\n",
      "sim_matrix elapsed: 0.106s\n",
      "sim_matrix, shape: (5894, 5894), num_elements: 4222948, density: 12.1561 %\n"
     ]
    },
    {
     "name": "stderr",
     "output_type": "stream",
     "text": [
      "top_k: 100%|██████████| 5894/5894 [00:00<00:00, 11615.88it/s]\n",
      "eval_pointwise:   0%|          | 0/3 [00:00<?, ?it/s]"
     ]
    },
    {
     "name": "stdout",
     "output_type": "stream",
     "text": [
      "\u001b[31mNo common interaction or similar neighbor for user 1728 and item 2899, proceed with default prediction\u001b[0m\n",
      "\u001b[31mNo common interaction or similar neighbor for user 1728 and item 2621, proceed with default prediction\u001b[0m\n",
      "\u001b[31mNo common interaction or similar neighbor for user 1932 and item 2012, proceed with default prediction\u001b[0m\n",
      "\u001b[31mNo common interaction or similar neighbor for user 35 and item 2067, proceed with default prediction\u001b[0m\n",
      "\u001b[31mNo common interaction or similar neighbor for user 192 and item 556, proceed with default prediction\u001b[0m\n",
      "\u001b[31mNo common interaction or similar neighbor for user 1957 and item 2741, proceed with default prediction\u001b[0m\n"
     ]
    },
    {
     "name": "stderr",
     "output_type": "stream",
     "text": [
      "eval_pointwise: 100%|██████████| 3/3 [00:00<00:00,  5.81it/s]\n",
      "/opt/homebrew/lib/python3.11/site-packages/sklearn/metrics/_classification.py:2845: FutureWarning: Setting the eps parameter is deprecated and will be removed in 1.5. Instead eps will always havea default value of `np.finfo(y_pred.dtype).eps`.\n",
      "  warnings.warn(\n",
      "eval_listwise: 100%|██████████| 1823/1823 [00:00<00:00, 8621.34it/s]\n"
     ]
    },
    {
     "name": "stdout",
     "output_type": "stream",
     "text": [
      "\t eval log_loss: 1.7059\n",
      "\t eval roc_auc: 0.7517\n",
      "\t eval precision@10: 0.0033\n",
      "\t eval recall@10: 0.0115\n",
      "\t eval ndcg@10: 0.0283\n",
      "==============================\n"
     ]
    },
    {
     "name": "stderr",
     "output_type": "stream",
     "text": [
      "eval_pointwise: 100%|██████████| 3/3 [00:00<00:00,  5.85it/s]\n"
     ]
    },
    {
     "name": "stdout",
     "output_type": "stream",
     "text": [
      "Training start time: \u001b[35m2023-10-07 23:41:32\u001b[0m\n",
      "Final block size and num: (3253, 1)\n",
      "sim_matrix elapsed: 0.036s\n",
      "sim_matrix, shape: (3253, 3253), num_elements: 1710008, density: 4.9224 %\n"
     ]
    },
    {
     "name": "stderr",
     "output_type": "stream",
     "text": [
      "top_k: 100%|██████████| 3253/3253 [00:00<00:00, 15612.08it/s]\n",
      "eval_pointwise:  33%|███▎      | 1/3 [00:00<00:00,  5.52it/s]"
     ]
    },
    {
     "name": "stdout",
     "output_type": "stream",
     "text": [
      "\u001b[31mNo common interaction or similar neighbor for user 1728 and item 2899, proceed with default prediction\u001b[0m\n",
      "\u001b[31mNo common interaction or similar neighbor for user 1728 and item 2621, proceed with default prediction\u001b[0m\n",
      "\u001b[31mNo common interaction or similar neighbor for user 1932 and item 2012, proceed with default prediction\u001b[0m\n",
      "\u001b[31mNo common interaction or similar neighbor for user 35 and item 2067, proceed with default prediction\u001b[0m\n",
      "\u001b[31mNo common interaction or similar neighbor for user 192 and item 556, proceed with default prediction\u001b[0m\n",
      "\u001b[31mNo common interaction or similar neighbor for user 1957 and item 2741, proceed with default prediction\u001b[0m\n"
     ]
    },
    {
     "name": "stderr",
     "output_type": "stream",
     "text": [
      "eval_pointwise: 100%|██████████| 3/3 [00:00<00:00,  6.81it/s]\n",
      "/opt/homebrew/lib/python3.11/site-packages/sklearn/metrics/_classification.py:2845: FutureWarning: Setting the eps parameter is deprecated and will be removed in 1.5. Instead eps will always havea default value of `np.finfo(y_pred.dtype).eps`.\n",
      "  warnings.warn(\n",
      "eval_listwise: 100%|██████████| 1823/1823 [00:00<00:00, 6398.29it/s]\n"
     ]
    },
    {
     "name": "stdout",
     "output_type": "stream",
     "text": [
      "\t eval log_loss: 1.9412\n",
      "\t eval roc_auc: 0.6351\n",
      "\t eval precision@10: 0.0012\n",
      "\t eval recall@10: 0.0057\n",
      "\t eval ndcg@10: 0.0048\n",
      "==============================\n"
     ]
    },
    {
     "name": "stderr",
     "output_type": "stream",
     "text": [
      "eval_pointwise: 100%|██████████| 3/3 [00:00<00:00,  6.40it/s]\n"
     ]
    },
    {
     "name": "stdout",
     "output_type": "stream",
     "text": [
      "3\n",
      "Training start time: \u001b[35m2023-10-07 23:41:33\u001b[0m\n",
      "Final block size and num: (5894, 1)\n",
      "sim_matrix elapsed: 0.127s\n",
      "sim_matrix, shape: (5894, 5894), num_elements: 4222948, density: 12.1561 %\n"
     ]
    },
    {
     "name": "stderr",
     "output_type": "stream",
     "text": [
      "top_k: 100%|██████████| 5894/5894 [00:00<00:00, 11380.80it/s]\n",
      "eval_pointwise:   0%|          | 0/3 [00:00<?, ?it/s]"
     ]
    },
    {
     "name": "stdout",
     "output_type": "stream",
     "text": [
      "\u001b[31mNo common interaction or similar neighbor for user 1728 and item 2899, proceed with default prediction\u001b[0m\n",
      "\u001b[31mNo common interaction or similar neighbor for user 1728 and item 2621, proceed with default prediction\u001b[0m\n",
      "\u001b[31mNo common interaction or similar neighbor for user 1932 and item 2012, proceed with default prediction\u001b[0m\n",
      "\u001b[31mNo common interaction or similar neighbor for user 35 and item 2067, proceed with default prediction\u001b[0m\n",
      "\u001b[31mNo common interaction or similar neighbor for user 192 and item 556, proceed with default prediction\u001b[0m\n",
      "\u001b[31mNo common interaction or similar neighbor for user 1957 and item 2741, proceed with default prediction\u001b[0m\n"
     ]
    },
    {
     "name": "stderr",
     "output_type": "stream",
     "text": [
      "eval_pointwise: 100%|██████████| 3/3 [00:00<00:00,  5.68it/s]\n",
      "/opt/homebrew/lib/python3.11/site-packages/sklearn/metrics/_classification.py:2845: FutureWarning: Setting the eps parameter is deprecated and will be removed in 1.5. Instead eps will always havea default value of `np.finfo(y_pred.dtype).eps`.\n",
      "  warnings.warn(\n",
      "eval_listwise: 100%|██████████| 1823/1823 [00:00<00:00, 11313.85it/s]\n"
     ]
    },
    {
     "name": "stdout",
     "output_type": "stream",
     "text": [
      "\t eval log_loss: 1.3475\n",
      "\t eval roc_auc: 0.7424\n",
      "\t eval precision@10: 0.0025\n",
      "\t eval recall@10: 0.0094\n",
      "\t eval ndcg@10: 0.0374\n",
      "==============================\n"
     ]
    },
    {
     "name": "stderr",
     "output_type": "stream",
     "text": [
      "eval_pointwise: 100%|██████████| 3/3 [00:00<00:00,  5.73it/s]\n"
     ]
    },
    {
     "name": "stdout",
     "output_type": "stream",
     "text": [
      "Training start time: \u001b[35m2023-10-07 23:41:35\u001b[0m\n",
      "Final block size and num: (3253, 1)\n",
      "sim_matrix elapsed: 0.041s\n",
      "sim_matrix, shape: (3253, 3253), num_elements: 1710008, density: 4.9224 %\n"
     ]
    },
    {
     "name": "stderr",
     "output_type": "stream",
     "text": [
      "top_k: 100%|██████████| 3253/3253 [00:00<00:00, 15776.03it/s]\n",
      "eval_pointwise:  33%|███▎      | 1/3 [00:00<00:00,  5.39it/s]"
     ]
    },
    {
     "name": "stdout",
     "output_type": "stream",
     "text": [
      "\u001b[31mNo common interaction or similar neighbor for user 1728 and item 2899, proceed with default prediction\u001b[0m\n",
      "\u001b[31mNo common interaction or similar neighbor for user 1728 and item 2621, proceed with default prediction\u001b[0m\n",
      "\u001b[31mNo common interaction or similar neighbor for user 1932 and item 2012, proceed with default prediction\u001b[0m\n",
      "\u001b[31mNo common interaction or similar neighbor for user 35 and item 2067, proceed with default prediction\u001b[0m\n",
      "\u001b[31mNo common interaction or similar neighbor for user 192 and item 556, proceed with default prediction\u001b[0m\n",
      "\u001b[31mNo common interaction or similar neighbor for user 1957 and item 2741, proceed with default prediction\u001b[0m\n"
     ]
    },
    {
     "name": "stderr",
     "output_type": "stream",
     "text": [
      "eval_pointwise: 100%|██████████| 3/3 [00:00<00:00,  6.60it/s]\n",
      "/opt/homebrew/lib/python3.11/site-packages/sklearn/metrics/_classification.py:2845: FutureWarning: Setting the eps parameter is deprecated and will be removed in 1.5. Instead eps will always havea default value of `np.finfo(y_pred.dtype).eps`.\n",
      "  warnings.warn(\n",
      "eval_listwise: 100%|██████████| 1823/1823 [00:00<00:00, 4787.66it/s]\n"
     ]
    },
    {
     "name": "stdout",
     "output_type": "stream",
     "text": [
      "\t eval log_loss: 1.6289\n",
      "\t eval roc_auc: 0.5521\n",
      "\t eval precision@10: 0.0002\n",
      "\t eval recall@10: 0.0004\n",
      "\t eval ndcg@10: 0.0006\n",
      "==============================\n"
     ]
    },
    {
     "name": "stderr",
     "output_type": "stream",
     "text": [
      "eval_pointwise: 100%|██████████| 3/3 [00:00<00:00,  6.48it/s]\n"
     ]
    },
    {
     "name": "stdout",
     "output_type": "stream",
     "text": [
      "\u001b[31mWarning: pearson is not suitable for implicit data\u001b[0m\n",
      "Training start time: \u001b[35m2023-10-07 23:41:37\u001b[0m\n",
      "Final block size and num: (5894, 1)\n",
      "sim_matrix elapsed: 0.155s\n",
      "sim_matrix, shape: (5894, 5894), num_elements: 3855554, density: 11.0986 %\n"
     ]
    },
    {
     "name": "stderr",
     "output_type": "stream",
     "text": [
      "top_k: 100%|██████████| 5894/5894 [00:00<00:00, 12256.77it/s]\n",
      "eval_pointwise:   0%|          | 0/3 [00:00<?, ?it/s]"
     ]
    },
    {
     "name": "stdout",
     "output_type": "stream",
     "text": [
      "\u001b[31mNo common interaction or similar neighbor for user 5359 and item 2395, proceed with default prediction\u001b[0m\n",
      "\u001b[31mNo common interaction or similar neighbor for user 5773 and item 2930, proceed with default prediction\u001b[0m\n",
      "\u001b[31mNo common interaction or similar neighbor for user 5773 and item 282, proceed with default prediction\u001b[0m\n",
      "\u001b[31mNo common interaction or similar neighbor for user 4268 and item 1643, proceed with default prediction\u001b[0m\n",
      "\u001b[31mNo common interaction or similar neighbor for user 4440 and item 1772, proceed with default prediction\u001b[0m\n",
      "\u001b[31mNo common interaction or similar neighbor for user 1728 and item 2899, proceed with default prediction\u001b[0m\n"
     ]
    },
    {
     "name": "stderr",
     "output_type": "stream",
     "text": [
      "eval_pointwise: 100%|██████████| 3/3 [00:00<00:00,  5.57it/s]\n",
      "/opt/homebrew/lib/python3.11/site-packages/sklearn/metrics/_classification.py:2845: FutureWarning: Setting the eps parameter is deprecated and will be removed in 1.5. Instead eps will always havea default value of `np.finfo(y_pred.dtype).eps`.\n",
      "  warnings.warn(\n",
      "eval_listwise: 100%|██████████| 1823/1823 [00:00<00:00, 8509.11it/s]\n"
     ]
    },
    {
     "name": "stdout",
     "output_type": "stream",
     "text": [
      "\t eval log_loss: 1.8230\n",
      "\t eval roc_auc: 0.7176\n",
      "\t eval precision@10: 0.0030\n",
      "\t eval recall@10: 0.0137\n",
      "\t eval ndcg@10: 0.0215\n",
      "==============================\n"
     ]
    },
    {
     "name": "stderr",
     "output_type": "stream",
     "text": [
      "eval_pointwise: 100%|██████████| 3/3 [00:00<00:00,  5.72it/s]\n"
     ]
    },
    {
     "name": "stdout",
     "output_type": "stream",
     "text": [
      "\u001b[31mWarning: pearson is not suitable for implicit data\u001b[0m\n",
      "Training start time: \u001b[35m2023-10-07 23:41:39\u001b[0m\n",
      "Final block size and num: (3253, 1)\n",
      "sim_matrix elapsed: 0.057s\n",
      "sim_matrix, shape: (3253, 3253), num_elements: 1608184, density: 4.6293 %\n"
     ]
    },
    {
     "name": "stderr",
     "output_type": "stream",
     "text": [
      "top_k: 100%|██████████| 3253/3253 [00:00<00:00, 16402.14it/s]\n",
      "eval_pointwise:  33%|███▎      | 1/3 [00:00<00:00,  5.35it/s]"
     ]
    },
    {
     "name": "stdout",
     "output_type": "stream",
     "text": [
      "\u001b[31mNo common interaction or similar neighbor for user 5359 and item 2395, proceed with default prediction\u001b[0m\n",
      "\u001b[31mNo common interaction or similar neighbor for user 5773 and item 2930, proceed with default prediction\u001b[0m\n",
      "\u001b[31mNo common interaction or similar neighbor for user 1141 and item 711, proceed with default prediction\u001b[0m\n",
      "\u001b[31mNo common interaction or similar neighbor for user 4862 and item 86, proceed with default prediction\u001b[0m\n",
      "\u001b[31mNo common interaction or similar neighbor for user 4440 and item 1772, proceed with default prediction\u001b[0m\n",
      "\u001b[31mNo common interaction or similar neighbor for user 1728 and item 2899, proceed with default prediction\u001b[0m\n"
     ]
    },
    {
     "name": "stderr",
     "output_type": "stream",
     "text": [
      "eval_pointwise: 100%|██████████| 3/3 [00:00<00:00,  6.69it/s]\n",
      "/opt/homebrew/lib/python3.11/site-packages/sklearn/metrics/_classification.py:2845: FutureWarning: Setting the eps parameter is deprecated and will be removed in 1.5. Instead eps will always havea default value of `np.finfo(y_pred.dtype).eps`.\n",
      "  warnings.warn(\n",
      "eval_listwise: 100%|██████████| 1823/1823 [00:00<00:00, 4949.01it/s]\n"
     ]
    },
    {
     "name": "stdout",
     "output_type": "stream",
     "text": [
      "\t eval log_loss: 2.0923\n",
      "\t eval roc_auc: 0.6043\n",
      "\t eval precision@10: 0.0002\n",
      "\t eval recall@10: 0.0009\n",
      "\t eval ndcg@10: 0.0008\n",
      "==============================\n"
     ]
    },
    {
     "name": "stderr",
     "output_type": "stream",
     "text": [
      "eval_pointwise: 100%|██████████| 3/3 [00:00<00:00,  6.67it/s]\n"
     ]
    },
    {
     "name": "stdout",
     "output_type": "stream",
     "text": [
      "Training start time: \u001b[35m2023-10-07 23:41:41\u001b[0m\n",
      "Final block size and num: (5894, 1)\n",
      "sim_matrix elapsed: 0.105s\n",
      "sim_matrix, shape: (5894, 5894), num_elements: 4222948, density: 12.1561 %\n"
     ]
    },
    {
     "name": "stderr",
     "output_type": "stream",
     "text": [
      "top_k: 100%|██████████| 5894/5894 [00:00<00:00, 8608.40it/s] \n",
      "eval_pointwise:   0%|          | 0/3 [00:00<?, ?it/s]"
     ]
    },
    {
     "name": "stdout",
     "output_type": "stream",
     "text": [
      "\u001b[31mNo common interaction or similar neighbor for user 1728 and item 2899, proceed with default prediction\u001b[0m\n",
      "\u001b[31mNo common interaction or similar neighbor for user 1728 and item 2621, proceed with default prediction\u001b[0m\n",
      "\u001b[31mNo common interaction or similar neighbor for user 1932 and item 2012, proceed with default prediction\u001b[0m\n",
      "\u001b[31mNo common interaction or similar neighbor for user 35 and item 2067, proceed with default prediction\u001b[0m\n",
      "\u001b[31mNo common interaction or similar neighbor for user 192 and item 556, proceed with default prediction\u001b[0m\n",
      "\u001b[31mNo common interaction or similar neighbor for user 1957 and item 2741, proceed with default prediction\u001b[0m\n"
     ]
    },
    {
     "name": "stderr",
     "output_type": "stream",
     "text": [
      "eval_pointwise: 100%|██████████| 3/3 [00:00<00:00,  5.57it/s]\n",
      "/opt/homebrew/lib/python3.11/site-packages/sklearn/metrics/_classification.py:2845: FutureWarning: Setting the eps parameter is deprecated and will be removed in 1.5. Instead eps will always havea default value of `np.finfo(y_pred.dtype).eps`.\n",
      "  warnings.warn(\n",
      "eval_listwise: 100%|██████████| 1823/1823 [00:00<00:00, 6810.81it/s]\n"
     ]
    },
    {
     "name": "stdout",
     "output_type": "stream",
     "text": [
      "\t eval log_loss: 1.7449\n",
      "\t eval roc_auc: 0.7546\n",
      "\t eval precision@10: 0.0035\n",
      "\t eval recall@10: 0.0131\n",
      "\t eval ndcg@10: 0.0232\n",
      "==============================\n"
     ]
    },
    {
     "name": "stderr",
     "output_type": "stream",
     "text": [
      "eval_pointwise: 100%|██████████| 3/3 [00:00<00:00,  5.50it/s]\n"
     ]
    },
    {
     "name": "stdout",
     "output_type": "stream",
     "text": [
      "Training start time: \u001b[35m2023-10-07 23:41:43\u001b[0m\n",
      "Final block size and num: (3253, 1)\n",
      "sim_matrix elapsed: 0.036s\n",
      "sim_matrix, shape: (3253, 3253), num_elements: 1710008, density: 4.9224 %\n"
     ]
    },
    {
     "name": "stderr",
     "output_type": "stream",
     "text": [
      "top_k: 100%|██████████| 3253/3253 [00:00<00:00, 14619.76it/s]\n",
      "eval_pointwise:  33%|███▎      | 1/3 [00:00<00:00,  5.25it/s]"
     ]
    },
    {
     "name": "stdout",
     "output_type": "stream",
     "text": [
      "\u001b[31mNo common interaction or similar neighbor for user 1728 and item 2899, proceed with default prediction\u001b[0m\n",
      "\u001b[31mNo common interaction or similar neighbor for user 1728 and item 2621, proceed with default prediction\u001b[0m\n",
      "\u001b[31mNo common interaction or similar neighbor for user 1932 and item 2012, proceed with default prediction\u001b[0m\n",
      "\u001b[31mNo common interaction or similar neighbor for user 35 and item 2067, proceed with default prediction\u001b[0m\n",
      "\u001b[31mNo common interaction or similar neighbor for user 192 and item 556, proceed with default prediction\u001b[0m\n",
      "\u001b[31mNo common interaction or similar neighbor for user 1957 and item 2741, proceed with default prediction\u001b[0m\n"
     ]
    },
    {
     "name": "stderr",
     "output_type": "stream",
     "text": [
      "eval_pointwise: 100%|██████████| 3/3 [00:00<00:00,  6.50it/s]\n",
      "/opt/homebrew/lib/python3.11/site-packages/sklearn/metrics/_classification.py:2845: FutureWarning: Setting the eps parameter is deprecated and will be removed in 1.5. Instead eps will always havea default value of `np.finfo(y_pred.dtype).eps`.\n",
      "  warnings.warn(\n",
      "eval_listwise: 100%|██████████| 1823/1823 [00:00<00:00, 4569.31it/s]\n"
     ]
    },
    {
     "name": "stdout",
     "output_type": "stream",
     "text": [
      "\t eval log_loss: 1.9820\n",
      "\t eval roc_auc: 0.6413\n",
      "\t eval precision@10: 0.0010\n",
      "\t eval recall@10: 0.0057\n",
      "\t eval ndcg@10: 0.0045\n",
      "==============================\n"
     ]
    },
    {
     "name": "stderr",
     "output_type": "stream",
     "text": [
      "eval_pointwise: 100%|██████████| 3/3 [00:00<00:00,  6.40it/s]\n"
     ]
    },
    {
     "name": "stdout",
     "output_type": "stream",
     "text": [
      "4\n",
      "Training start time: \u001b[35m2023-10-07 23:41:44\u001b[0m\n",
      "Final block size and num: (5894, 1)\n",
      "sim_matrix elapsed: 0.121s\n",
      "sim_matrix, shape: (5894, 5894), num_elements: 4222948, density: 12.1561 %\n"
     ]
    },
    {
     "name": "stderr",
     "output_type": "stream",
     "text": [
      "top_k: 100%|██████████| 5894/5894 [00:00<00:00, 11296.25it/s]\n",
      "eval_pointwise:   0%|          | 0/3 [00:00<?, ?it/s]"
     ]
    },
    {
     "name": "stdout",
     "output_type": "stream",
     "text": [
      "\u001b[31mNo common interaction or similar neighbor for user 1728 and item 2899, proceed with default prediction\u001b[0m\n",
      "\u001b[31mNo common interaction or similar neighbor for user 1728 and item 2621, proceed with default prediction\u001b[0m\n",
      "\u001b[31mNo common interaction or similar neighbor for user 1932 and item 2012, proceed with default prediction\u001b[0m\n",
      "\u001b[31mNo common interaction or similar neighbor for user 35 and item 2067, proceed with default prediction\u001b[0m\n",
      "\u001b[31mNo common interaction or similar neighbor for user 192 and item 556, proceed with default prediction\u001b[0m\n",
      "\u001b[31mNo common interaction or similar neighbor for user 1957 and item 2741, proceed with default prediction\u001b[0m\n"
     ]
    },
    {
     "name": "stderr",
     "output_type": "stream",
     "text": [
      "eval_pointwise: 100%|██████████| 3/3 [00:00<00:00,  5.50it/s]\n",
      "/opt/homebrew/lib/python3.11/site-packages/sklearn/metrics/_classification.py:2845: FutureWarning: Setting the eps parameter is deprecated and will be removed in 1.5. Instead eps will always havea default value of `np.finfo(y_pred.dtype).eps`.\n",
      "  warnings.warn(\n",
      "eval_listwise: 100%|██████████| 1823/1823 [00:00<00:00, 9950.36it/s]\n"
     ]
    },
    {
     "name": "stdout",
     "output_type": "stream",
     "text": [
      "\t eval log_loss: 1.3768\n",
      "\t eval roc_auc: 0.7415\n",
      "\t eval precision@10: 0.0026\n",
      "\t eval recall@10: 0.0101\n",
      "\t eval ndcg@10: 0.0297\n",
      "==============================\n"
     ]
    },
    {
     "name": "stderr",
     "output_type": "stream",
     "text": [
      "eval_pointwise: 100%|██████████| 3/3 [00:00<00:00,  5.47it/s]\n"
     ]
    },
    {
     "name": "stdout",
     "output_type": "stream",
     "text": [
      "Training start time: \u001b[35m2023-10-07 23:41:46\u001b[0m\n",
      "Final block size and num: (3253, 1)\n",
      "sim_matrix elapsed: 0.042s\n",
      "sim_matrix, shape: (3253, 3253), num_elements: 1710008, density: 4.9224 %\n"
     ]
    },
    {
     "name": "stderr",
     "output_type": "stream",
     "text": [
      "top_k: 100%|██████████| 3253/3253 [00:00<00:00, 15669.64it/s]\n",
      "eval_pointwise:  33%|███▎      | 1/3 [00:00<00:00,  5.09it/s]"
     ]
    },
    {
     "name": "stdout",
     "output_type": "stream",
     "text": [
      "\u001b[31mNo common interaction or similar neighbor for user 1728 and item 2899, proceed with default prediction\u001b[0m\n",
      "\u001b[31mNo common interaction or similar neighbor for user 1728 and item 2621, proceed with default prediction\u001b[0m\n",
      "\u001b[31mNo common interaction or similar neighbor for user 1932 and item 2012, proceed with default prediction\u001b[0m\n",
      "\u001b[31mNo common interaction or similar neighbor for user 35 and item 2067, proceed with default prediction\u001b[0m\n",
      "\u001b[31mNo common interaction or similar neighbor for user 192 and item 556, proceed with default prediction\u001b[0m\n",
      "\u001b[31mNo common interaction or similar neighbor for user 1957 and item 2741, proceed with default prediction\u001b[0m\n"
     ]
    },
    {
     "name": "stderr",
     "output_type": "stream",
     "text": [
      "eval_pointwise: 100%|██████████| 3/3 [00:00<00:00,  6.31it/s]\n",
      "/opt/homebrew/lib/python3.11/site-packages/sklearn/metrics/_classification.py:2845: FutureWarning: Setting the eps parameter is deprecated and will be removed in 1.5. Instead eps will always havea default value of `np.finfo(y_pred.dtype).eps`.\n",
      "  warnings.warn(\n",
      "eval_listwise: 100%|██████████| 1823/1823 [00:00<00:00, 3968.95it/s]\n"
     ]
    },
    {
     "name": "stdout",
     "output_type": "stream",
     "text": [
      "\t eval log_loss: 1.6609\n",
      "\t eval roc_auc: 0.5507\n",
      "\t eval precision@10: 0.0002\n",
      "\t eval recall@10: 0.0007\n",
      "\t eval ndcg@10: 0.0009\n",
      "==============================\n"
     ]
    },
    {
     "name": "stderr",
     "output_type": "stream",
     "text": [
      "eval_pointwise: 100%|██████████| 3/3 [00:00<00:00,  6.21it/s]\n"
     ]
    },
    {
     "name": "stdout",
     "output_type": "stream",
     "text": [
      "\u001b[31mWarning: pearson is not suitable for implicit data\u001b[0m\n",
      "Training start time: \u001b[35m2023-10-07 23:41:48\u001b[0m\n",
      "Final block size and num: (5894, 1)\n",
      "sim_matrix elapsed: 0.156s\n",
      "sim_matrix, shape: (5894, 5894), num_elements: 3855554, density: 11.0986 %\n"
     ]
    },
    {
     "name": "stderr",
     "output_type": "stream",
     "text": [
      "top_k: 100%|██████████| 5894/5894 [00:00<00:00, 12041.61it/s]\n",
      "eval_pointwise:   0%|          | 0/3 [00:00<?, ?it/s]"
     ]
    },
    {
     "name": "stdout",
     "output_type": "stream",
     "text": [
      "\u001b[31mNo common interaction or similar neighbor for user 5359 and item 2395, proceed with default prediction\u001b[0m\n",
      "\u001b[31mNo common interaction or similar neighbor for user 5773 and item 2930, proceed with default prediction\u001b[0m\n",
      "\u001b[31mNo common interaction or similar neighbor for user 5773 and item 282, proceed with default prediction\u001b[0m\n",
      "\u001b[31mNo common interaction or similar neighbor for user 4268 and item 1643, proceed with default prediction\u001b[0m\n",
      "\u001b[31mNo common interaction or similar neighbor for user 4440 and item 1772, proceed with default prediction\u001b[0m\n",
      "\u001b[31mNo common interaction or similar neighbor for user 1728 and item 2899, proceed with default prediction\u001b[0m\n"
     ]
    },
    {
     "name": "stderr",
     "output_type": "stream",
     "text": [
      "eval_pointwise: 100%|██████████| 3/3 [00:00<00:00,  5.59it/s]\n",
      "/opt/homebrew/lib/python3.11/site-packages/sklearn/metrics/_classification.py:2845: FutureWarning: Setting the eps parameter is deprecated and will be removed in 1.5. Instead eps will always havea default value of `np.finfo(y_pred.dtype).eps`.\n",
      "  warnings.warn(\n",
      "eval_listwise: 100%|██████████| 1823/1823 [00:00<00:00, 7074.83it/s]\n"
     ]
    },
    {
     "name": "stdout",
     "output_type": "stream",
     "text": [
      "\t eval log_loss: 1.8685\n",
      "\t eval roc_auc: 0.7139\n",
      "\t eval precision@10: 0.0034\n",
      "\t eval recall@10: 0.0164\n",
      "\t eval ndcg@10: 0.0246\n",
      "==============================\n"
     ]
    },
    {
     "name": "stderr",
     "output_type": "stream",
     "text": [
      "eval_pointwise: 100%|██████████| 3/3 [00:00<00:00,  5.64it/s]\n"
     ]
    },
    {
     "name": "stdout",
     "output_type": "stream",
     "text": [
      "\u001b[31mWarning: pearson is not suitable for implicit data\u001b[0m\n",
      "Training start time: \u001b[35m2023-10-07 23:41:50\u001b[0m\n",
      "Final block size and num: (3253, 1)\n",
      "sim_matrix elapsed: 0.058s\n",
      "sim_matrix, shape: (3253, 3253), num_elements: 1608184, density: 4.6293 %\n"
     ]
    },
    {
     "name": "stderr",
     "output_type": "stream",
     "text": [
      "top_k: 100%|██████████| 3253/3253 [00:00<00:00, 15961.34it/s]\n",
      "eval_pointwise:  33%|███▎      | 1/3 [00:00<00:00,  5.41it/s]"
     ]
    },
    {
     "name": "stdout",
     "output_type": "stream",
     "text": [
      "\u001b[31mNo common interaction or similar neighbor for user 5359 and item 2395, proceed with default prediction\u001b[0m\n",
      "\u001b[31mNo common interaction or similar neighbor for user 5773 and item 2930, proceed with default prediction\u001b[0m\n",
      "\u001b[31mNo common interaction or similar neighbor for user 1141 and item 711, proceed with default prediction\u001b[0m\n",
      "\u001b[31mNo common interaction or similar neighbor for user 4862 and item 86, proceed with default prediction\u001b[0m\n",
      "\u001b[31mNo common interaction or similar neighbor for user 4440 and item 1772, proceed with default prediction\u001b[0m\n",
      "\u001b[31mNo common interaction or similar neighbor for user 1728 and item 2899, proceed with default prediction\u001b[0m\n"
     ]
    },
    {
     "name": "stderr",
     "output_type": "stream",
     "text": [
      "eval_pointwise: 100%|██████████| 3/3 [00:00<00:00,  6.51it/s]\n",
      "/opt/homebrew/lib/python3.11/site-packages/sklearn/metrics/_classification.py:2845: FutureWarning: Setting the eps parameter is deprecated and will be removed in 1.5. Instead eps will always havea default value of `np.finfo(y_pred.dtype).eps`.\n",
      "  warnings.warn(\n",
      "eval_listwise: 100%|██████████| 1823/1823 [00:00<00:00, 4038.62it/s]\n"
     ]
    },
    {
     "name": "stdout",
     "output_type": "stream",
     "text": [
      "\t eval log_loss: 2.1430\n",
      "\t eval roc_auc: 0.6000\n",
      "\t eval precision@10: 0.0003\n",
      "\t eval recall@10: 0.0013\n",
      "\t eval ndcg@10: 0.0012\n",
      "==============================\n"
     ]
    },
    {
     "name": "stderr",
     "output_type": "stream",
     "text": [
      "eval_pointwise: 100%|██████████| 3/3 [00:00<00:00,  6.63it/s]\n"
     ]
    },
    {
     "name": "stdout",
     "output_type": "stream",
     "text": [
      "Training start time: \u001b[35m2023-10-07 23:41:52\u001b[0m\n",
      "Final block size and num: (5894, 1)\n",
      "sim_matrix elapsed: 0.100s\n",
      "sim_matrix, shape: (5894, 5894), num_elements: 4222948, density: 12.1561 %\n"
     ]
    },
    {
     "name": "stderr",
     "output_type": "stream",
     "text": [
      "top_k: 100%|██████████| 5894/5894 [00:00<00:00, 11681.70it/s]\n",
      "eval_pointwise:   0%|          | 0/3 [00:00<?, ?it/s]"
     ]
    },
    {
     "name": "stdout",
     "output_type": "stream",
     "text": [
      "\u001b[31mNo common interaction or similar neighbor for user 1728 and item 2899, proceed with default prediction\u001b[0m\n",
      "\u001b[31mNo common interaction or similar neighbor for user 1728 and item 2621, proceed with default prediction\u001b[0m\n",
      "\u001b[31mNo common interaction or similar neighbor for user 1932 and item 2012, proceed with default prediction\u001b[0m\n",
      "\u001b[31mNo common interaction or similar neighbor for user 35 and item 2067, proceed with default prediction\u001b[0m\n",
      "\u001b[31mNo common interaction or similar neighbor for user 192 and item 556, proceed with default prediction\u001b[0m\n",
      "\u001b[31mNo common interaction or similar neighbor for user 1957 and item 2741, proceed with default prediction\u001b[0m\n"
     ]
    },
    {
     "name": "stderr",
     "output_type": "stream",
     "text": [
      "eval_pointwise: 100%|██████████| 3/3 [00:00<00:00,  5.48it/s]\n",
      "/opt/homebrew/lib/python3.11/site-packages/sklearn/metrics/_classification.py:2845: FutureWarning: Setting the eps parameter is deprecated and will be removed in 1.5. Instead eps will always havea default value of `np.finfo(y_pred.dtype).eps`.\n",
      "  warnings.warn(\n",
      "eval_listwise: 100%|██████████| 1823/1823 [00:00<00:00, 5761.58it/s]\n"
     ]
    },
    {
     "name": "stdout",
     "output_type": "stream",
     "text": [
      "\t eval log_loss: 1.7757\n",
      "\t eval roc_auc: 0.7550\n",
      "\t eval precision@10: 0.0033\n",
      "\t eval recall@10: 0.0120\n",
      "\t eval ndcg@10: 0.0193\n",
      "==============================\n"
     ]
    },
    {
     "name": "stderr",
     "output_type": "stream",
     "text": [
      "eval_pointwise: 100%|██████████| 3/3 [00:00<00:00,  5.49it/s]\n"
     ]
    },
    {
     "name": "stdout",
     "output_type": "stream",
     "text": [
      "Training start time: \u001b[35m2023-10-07 23:41:54\u001b[0m\n",
      "Final block size and num: (3253, 1)\n",
      "sim_matrix elapsed: 0.037s\n",
      "sim_matrix, shape: (3253, 3253), num_elements: 1710008, density: 4.9224 %\n"
     ]
    },
    {
     "name": "stderr",
     "output_type": "stream",
     "text": [
      "top_k: 100%|██████████| 3253/3253 [00:00<00:00, 15968.40it/s]\n",
      "eval_pointwise:  33%|███▎      | 1/3 [00:00<00:00,  5.13it/s]"
     ]
    },
    {
     "name": "stdout",
     "output_type": "stream",
     "text": [
      "\u001b[31mNo common interaction or similar neighbor for user 1728 and item 2899, proceed with default prediction\u001b[0m\n",
      "\u001b[31mNo common interaction or similar neighbor for user 1728 and item 2621, proceed with default prediction\u001b[0m\n",
      "\u001b[31mNo common interaction or similar neighbor for user 1932 and item 2012, proceed with default prediction\u001b[0m\n",
      "\u001b[31mNo common interaction or similar neighbor for user 35 and item 2067, proceed with default prediction\u001b[0m\n",
      "\u001b[31mNo common interaction or similar neighbor for user 192 and item 556, proceed with default prediction\u001b[0m\n",
      "\u001b[31mNo common interaction or similar neighbor for user 1957 and item 2741, proceed with default prediction\u001b[0m\n"
     ]
    },
    {
     "name": "stderr",
     "output_type": "stream",
     "text": [
      "eval_pointwise: 100%|██████████| 3/3 [00:00<00:00,  6.33it/s]\n",
      "/opt/homebrew/lib/python3.11/site-packages/sklearn/metrics/_classification.py:2845: FutureWarning: Setting the eps parameter is deprecated and will be removed in 1.5. Instead eps will always havea default value of `np.finfo(y_pred.dtype).eps`.\n",
      "  warnings.warn(\n",
      "eval_listwise: 100%|██████████| 1823/1823 [00:00<00:00, 4068.99it/s]\n"
     ]
    },
    {
     "name": "stdout",
     "output_type": "stream",
     "text": [
      "\t eval log_loss: 2.0141\n",
      "\t eval roc_auc: 0.6438\n",
      "\t eval precision@10: 0.0011\n",
      "\t eval recall@10: 0.0062\n",
      "\t eval ndcg@10: 0.0047\n",
      "==============================\n"
     ]
    },
    {
     "name": "stderr",
     "output_type": "stream",
     "text": [
      "eval_pointwise: 100%|██████████| 3/3 [00:00<00:00,  5.96it/s]\n"
     ]
    },
    {
     "name": "stdout",
     "output_type": "stream",
     "text": [
      "5\n",
      "Training start time: \u001b[35m2023-10-07 23:41:56\u001b[0m\n",
      "Final block size and num: (5894, 1)\n",
      "sim_matrix elapsed: 0.128s\n",
      "sim_matrix, shape: (5894, 5894), num_elements: 4222948, density: 12.1561 %\n"
     ]
    },
    {
     "name": "stderr",
     "output_type": "stream",
     "text": [
      "top_k: 100%|██████████| 5894/5894 [00:00<00:00, 10139.88it/s]\n",
      "eval_pointwise:   0%|          | 0/3 [00:00<?, ?it/s]"
     ]
    },
    {
     "name": "stdout",
     "output_type": "stream",
     "text": [
      "\u001b[31mNo common interaction or similar neighbor for user 1728 and item 2899, proceed with default prediction\u001b[0m\n",
      "\u001b[31mNo common interaction or similar neighbor for user 1728 and item 2621, proceed with default prediction\u001b[0m\n",
      "\u001b[31mNo common interaction or similar neighbor for user 1932 and item 2012, proceed with default prediction\u001b[0m\n",
      "\u001b[31mNo common interaction or similar neighbor for user 35 and item 2067, proceed with default prediction\u001b[0m\n",
      "\u001b[31mNo common interaction or similar neighbor for user 192 and item 556, proceed with default prediction\u001b[0m\n",
      "\u001b[31mNo common interaction or similar neighbor for user 1957 and item 2741, proceed with default prediction\u001b[0m\n"
     ]
    },
    {
     "name": "stderr",
     "output_type": "stream",
     "text": [
      "eval_pointwise: 100%|██████████| 3/3 [00:00<00:00,  5.16it/s]\n",
      "/opt/homebrew/lib/python3.11/site-packages/sklearn/metrics/_classification.py:2845: FutureWarning: Setting the eps parameter is deprecated and will be removed in 1.5. Instead eps will always havea default value of `np.finfo(y_pred.dtype).eps`.\n",
      "  warnings.warn(\n",
      "eval_listwise: 100%|██████████| 1823/1823 [00:00<00:00, 8860.57it/s]\n"
     ]
    },
    {
     "name": "stdout",
     "output_type": "stream",
     "text": [
      "\t eval log_loss: 1.4015\n",
      "\t eval roc_auc: 0.7387\n",
      "\t eval precision@10: 0.0026\n",
      "\t eval recall@10: 0.0111\n",
      "\t eval ndcg@10: 0.0250\n",
      "==============================\n"
     ]
    },
    {
     "name": "stderr",
     "output_type": "stream",
     "text": [
      "eval_pointwise: 100%|██████████| 3/3 [00:00<00:00,  5.34it/s]\n"
     ]
    },
    {
     "name": "stdout",
     "output_type": "stream",
     "text": [
      "Training start time: \u001b[35m2023-10-07 23:41:58\u001b[0m\n",
      "Final block size and num: (3253, 1)\n",
      "sim_matrix elapsed: 0.041s\n",
      "sim_matrix, shape: (3253, 3253), num_elements: 1710008, density: 4.9224 %\n"
     ]
    },
    {
     "name": "stderr",
     "output_type": "stream",
     "text": [
      "top_k: 100%|██████████| 3253/3253 [00:00<00:00, 15633.17it/s]\n",
      "eval_pointwise:  33%|███▎      | 1/3 [00:00<00:00,  4.97it/s]"
     ]
    },
    {
     "name": "stdout",
     "output_type": "stream",
     "text": [
      "\u001b[31mNo common interaction or similar neighbor for user 1728 and item 2899, proceed with default prediction\u001b[0m\n",
      "\u001b[31mNo common interaction or similar neighbor for user 1728 and item 2621, proceed with default prediction\u001b[0m\n",
      "\u001b[31mNo common interaction or similar neighbor for user 1932 and item 2012, proceed with default prediction\u001b[0m\n",
      "\u001b[31mNo common interaction or similar neighbor for user 35 and item 2067, proceed with default prediction\u001b[0m\n",
      "\u001b[31mNo common interaction or similar neighbor for user 192 and item 556, proceed with default prediction\u001b[0m\n",
      "\u001b[31mNo common interaction or similar neighbor for user 1957 and item 2741, proceed with default prediction\u001b[0m\n"
     ]
    },
    {
     "name": "stderr",
     "output_type": "stream",
     "text": [
      "eval_pointwise: 100%|██████████| 3/3 [00:00<00:00,  6.10it/s]\n",
      "/opt/homebrew/lib/python3.11/site-packages/sklearn/metrics/_classification.py:2845: FutureWarning: Setting the eps parameter is deprecated and will be removed in 1.5. Instead eps will always havea default value of `np.finfo(y_pred.dtype).eps`.\n",
      "  warnings.warn(\n",
      "eval_listwise: 100%|██████████| 1823/1823 [00:00<00:00, 3439.56it/s]\n"
     ]
    },
    {
     "name": "stdout",
     "output_type": "stream",
     "text": [
      "\t eval log_loss: 1.6874\n",
      "\t eval roc_auc: 0.5476\n",
      "\t eval precision@10: 0.0002\n",
      "\t eval recall@10: 0.0009\n",
      "\t eval ndcg@10: 0.0009\n",
      "==============================\n"
     ]
    },
    {
     "name": "stderr",
     "output_type": "stream",
     "text": [
      "eval_pointwise: 100%|██████████| 3/3 [00:00<00:00,  6.07it/s]\n"
     ]
    },
    {
     "name": "stdout",
     "output_type": "stream",
     "text": [
      "\u001b[31mWarning: pearson is not suitable for implicit data\u001b[0m\n",
      "Training start time: \u001b[35m2023-10-07 23:42:00\u001b[0m\n",
      "Final block size and num: (5894, 1)\n",
      "sim_matrix elapsed: 0.152s\n",
      "sim_matrix, shape: (5894, 5894), num_elements: 3855554, density: 11.0986 %\n"
     ]
    },
    {
     "name": "stderr",
     "output_type": "stream",
     "text": [
      "top_k: 100%|██████████| 5894/5894 [00:00<00:00, 11881.16it/s]\n",
      "eval_pointwise:   0%|          | 0/3 [00:00<?, ?it/s]"
     ]
    },
    {
     "name": "stdout",
     "output_type": "stream",
     "text": [
      "\u001b[31mNo common interaction or similar neighbor for user 5359 and item 2395, proceed with default prediction\u001b[0m\n",
      "\u001b[31mNo common interaction or similar neighbor for user 5773 and item 2930, proceed with default prediction\u001b[0m\n",
      "\u001b[31mNo common interaction or similar neighbor for user 5773 and item 282, proceed with default prediction\u001b[0m\n",
      "\u001b[31mNo common interaction or similar neighbor for user 4268 and item 1643, proceed with default prediction\u001b[0m\n",
      "\u001b[31mNo common interaction or similar neighbor for user 4440 and item 1772, proceed with default prediction\u001b[0m\n",
      "\u001b[31mNo common interaction or similar neighbor for user 1728 and item 2899, proceed with default prediction\u001b[0m\n"
     ]
    },
    {
     "name": "stderr",
     "output_type": "stream",
     "text": [
      "eval_pointwise: 100%|██████████| 3/3 [00:00<00:00,  5.57it/s]\n",
      "/opt/homebrew/lib/python3.11/site-packages/sklearn/metrics/_classification.py:2845: FutureWarning: Setting the eps parameter is deprecated and will be removed in 1.5. Instead eps will always havea default value of `np.finfo(y_pred.dtype).eps`.\n",
      "  warnings.warn(\n",
      "eval_listwise: 100%|██████████| 1823/1823 [00:00<00:00, 6366.56it/s]\n"
     ]
    },
    {
     "name": "stdout",
     "output_type": "stream",
     "text": [
      "\t eval log_loss: 1.9051\n",
      "\t eval roc_auc: 0.7094\n",
      "\t eval precision@10: 0.0033\n",
      "\t eval recall@10: 0.0156\n",
      "\t eval ndcg@10: 0.0213\n",
      "==============================\n"
     ]
    },
    {
     "name": "stderr",
     "output_type": "stream",
     "text": [
      "eval_pointwise: 100%|██████████| 3/3 [00:00<00:00,  5.01it/s]\n"
     ]
    },
    {
     "name": "stdout",
     "output_type": "stream",
     "text": [
      "\u001b[31mWarning: pearson is not suitable for implicit data\u001b[0m\n",
      "Training start time: \u001b[35m2023-10-07 23:42:02\u001b[0m\n",
      "Final block size and num: (3253, 1)\n",
      "sim_matrix elapsed: 0.063s\n",
      "sim_matrix, shape: (3253, 3253), num_elements: 1608184, density: 4.6293 %\n"
     ]
    },
    {
     "name": "stderr",
     "output_type": "stream",
     "text": [
      "top_k: 100%|██████████| 3253/3253 [00:00<00:00, 14238.19it/s]\n",
      "eval_pointwise:   0%|          | 0/3 [00:00<?, ?it/s]"
     ]
    },
    {
     "name": "stdout",
     "output_type": "stream",
     "text": [
      "\u001b[31mNo common interaction or similar neighbor for user 5359 and item 2395, proceed with default prediction\u001b[0m\n",
      "\u001b[31mNo common interaction or similar neighbor for user 5773 and item 2930, proceed with default prediction\u001b[0m\n",
      "\u001b[31mNo common interaction or similar neighbor for user 1141 and item 711, proceed with default prediction\u001b[0m\n",
      "\u001b[31mNo common interaction or similar neighbor for user 4862 and item 86, proceed with default prediction\u001b[0m\n",
      "\u001b[31mNo common interaction or similar neighbor for user 4440 and item 1772, proceed with default prediction\u001b[0m\n",
      "\u001b[31mNo common interaction or similar neighbor for user 1728 and item 2899, proceed with default prediction\u001b[0m\n"
     ]
    },
    {
     "name": "stderr",
     "output_type": "stream",
     "text": [
      "eval_pointwise: 100%|██████████| 3/3 [00:00<00:00,  6.25it/s]\n",
      "/opt/homebrew/lib/python3.11/site-packages/sklearn/metrics/_classification.py:2845: FutureWarning: Setting the eps parameter is deprecated and will be removed in 1.5. Instead eps will always havea default value of `np.finfo(y_pred.dtype).eps`.\n",
      "  warnings.warn(\n",
      "eval_listwise: 100%|██████████| 1823/1823 [00:00<00:00, 3508.90it/s]\n"
     ]
    },
    {
     "name": "stdout",
     "output_type": "stream",
     "text": [
      "\t eval log_loss: 2.1822\n",
      "\t eval roc_auc: 0.5949\n",
      "\t eval precision@10: 0.0004\n",
      "\t eval recall@10: 0.0014\n",
      "\t eval ndcg@10: 0.0014\n",
      "==============================\n"
     ]
    },
    {
     "name": "stderr",
     "output_type": "stream",
     "text": [
      "eval_pointwise: 100%|██████████| 3/3 [00:00<00:00,  6.48it/s]\n"
     ]
    },
    {
     "name": "stdout",
     "output_type": "stream",
     "text": [
      "Training start time: \u001b[35m2023-10-07 23:42:03\u001b[0m\n",
      "Final block size and num: (5894, 1)\n",
      "sim_matrix elapsed: 0.104s\n",
      "sim_matrix, shape: (5894, 5894), num_elements: 4222948, density: 12.1561 %\n"
     ]
    },
    {
     "name": "stderr",
     "output_type": "stream",
     "text": [
      "top_k: 100%|██████████| 5894/5894 [00:00<00:00, 11678.57it/s]\n",
      "eval_pointwise:   0%|          | 0/3 [00:00<?, ?it/s]"
     ]
    },
    {
     "name": "stdout",
     "output_type": "stream",
     "text": [
      "\u001b[31mNo common interaction or similar neighbor for user 1728 and item 2899, proceed with default prediction\u001b[0m\n",
      "\u001b[31mNo common interaction or similar neighbor for user 1728 and item 2621, proceed with default prediction\u001b[0m\n",
      "\u001b[31mNo common interaction or similar neighbor for user 1932 and item 2012, proceed with default prediction\u001b[0m\n",
      "\u001b[31mNo common interaction or similar neighbor for user 35 and item 2067, proceed with default prediction\u001b[0m\n",
      "\u001b[31mNo common interaction or similar neighbor for user 192 and item 556, proceed with default prediction\u001b[0m\n",
      "\u001b[31mNo common interaction or similar neighbor for user 1957 and item 2741, proceed with default prediction\u001b[0m\n"
     ]
    },
    {
     "name": "stderr",
     "output_type": "stream",
     "text": [
      "eval_pointwise: 100%|██████████| 3/3 [00:00<00:00,  5.32it/s]\n",
      "/opt/homebrew/lib/python3.11/site-packages/sklearn/metrics/_classification.py:2845: FutureWarning: Setting the eps parameter is deprecated and will be removed in 1.5. Instead eps will always havea default value of `np.finfo(y_pred.dtype).eps`.\n",
      "  warnings.warn(\n",
      "eval_listwise: 100%|██████████| 1823/1823 [00:00<00:00, 4924.31it/s]\n"
     ]
    },
    {
     "name": "stdout",
     "output_type": "stream",
     "text": [
      "\t eval log_loss: 1.8012\n",
      "\t eval roc_auc: 0.7535\n",
      "\t eval precision@10: 0.0034\n",
      "\t eval recall@10: 0.0135\n",
      "\t eval ndcg@10: 0.0176\n",
      "==============================\n"
     ]
    },
    {
     "name": "stderr",
     "output_type": "stream",
     "text": [
      "eval_pointwise: 100%|██████████| 3/3 [00:00<00:00,  5.04it/s]\n"
     ]
    },
    {
     "name": "stdout",
     "output_type": "stream",
     "text": [
      "Training start time: \u001b[35m2023-10-07 23:42:06\u001b[0m\n",
      "Final block size and num: (3253, 1)\n",
      "sim_matrix elapsed: 0.038s\n",
      "sim_matrix, shape: (3253, 3253), num_elements: 1710008, density: 4.9224 %\n"
     ]
    },
    {
     "name": "stderr",
     "output_type": "stream",
     "text": [
      "top_k: 100%|██████████| 3253/3253 [00:00<00:00, 14409.95it/s]\n",
      "eval_pointwise:  33%|███▎      | 1/3 [00:00<00:00,  4.94it/s]"
     ]
    },
    {
     "name": "stdout",
     "output_type": "stream",
     "text": [
      "\u001b[31mNo common interaction or similar neighbor for user 1728 and item 2899, proceed with default prediction\u001b[0m\n",
      "\u001b[31mNo common interaction or similar neighbor for user 1728 and item 2621, proceed with default prediction\u001b[0m\n",
      "\u001b[31mNo common interaction or similar neighbor for user 1932 and item 2012, proceed with default prediction\u001b[0m\n",
      "\u001b[31mNo common interaction or similar neighbor for user 35 and item 2067, proceed with default prediction\u001b[0m\n",
      "\u001b[31mNo common interaction or similar neighbor for user 192 and item 556, proceed with default prediction\u001b[0m\n",
      "\u001b[31mNo common interaction or similar neighbor for user 1957 and item 2741, proceed with default prediction\u001b[0m\n"
     ]
    },
    {
     "name": "stderr",
     "output_type": "stream",
     "text": [
      "eval_pointwise: 100%|██████████| 3/3 [00:00<00:00,  6.09it/s]\n",
      "/opt/homebrew/lib/python3.11/site-packages/sklearn/metrics/_classification.py:2845: FutureWarning: Setting the eps parameter is deprecated and will be removed in 1.5. Instead eps will always havea default value of `np.finfo(y_pred.dtype).eps`.\n",
      "  warnings.warn(\n",
      "eval_listwise: 100%|██████████| 1823/1823 [00:00<00:00, 3439.04it/s]\n"
     ]
    },
    {
     "name": "stdout",
     "output_type": "stream",
     "text": [
      "\t eval log_loss: 2.0405\n",
      "\t eval roc_auc: 0.6437\n",
      "\t eval precision@10: 0.0013\n",
      "\t eval recall@10: 0.0068\n",
      "\t eval ndcg@10: 0.0057\n",
      "==============================\n"
     ]
    },
    {
     "name": "stderr",
     "output_type": "stream",
     "text": [
      "eval_pointwise: 100%|██████████| 3/3 [00:00<00:00,  6.07it/s]\n"
     ]
    },
    {
     "name": "stdout",
     "output_type": "stream",
     "text": [
      "6\n",
      "Training start time: \u001b[35m2023-10-07 23:42:08\u001b[0m\n",
      "Final block size and num: (5894, 1)\n",
      "sim_matrix elapsed: 0.125s\n",
      "sim_matrix, shape: (5894, 5894), num_elements: 4222948, density: 12.1561 %\n"
     ]
    },
    {
     "name": "stderr",
     "output_type": "stream",
     "text": [
      "top_k: 100%|██████████| 5894/5894 [00:00<00:00, 11076.55it/s]\n",
      "eval_pointwise:   0%|          | 0/3 [00:00<?, ?it/s]"
     ]
    },
    {
     "name": "stdout",
     "output_type": "stream",
     "text": [
      "\u001b[31mNo common interaction or similar neighbor for user 1728 and item 2899, proceed with default prediction\u001b[0m\n",
      "\u001b[31mNo common interaction or similar neighbor for user 1728 and item 2621, proceed with default prediction\u001b[0m\n",
      "\u001b[31mNo common interaction or similar neighbor for user 1932 and item 2012, proceed with default prediction\u001b[0m\n",
      "\u001b[31mNo common interaction or similar neighbor for user 35 and item 2067, proceed with default prediction\u001b[0m\n",
      "\u001b[31mNo common interaction or similar neighbor for user 192 and item 556, proceed with default prediction\u001b[0m\n",
      "\u001b[31mNo common interaction or similar neighbor for user 1957 and item 2741, proceed with default prediction\u001b[0m\n"
     ]
    },
    {
     "name": "stderr",
     "output_type": "stream",
     "text": [
      "eval_pointwise: 100%|██████████| 3/3 [00:00<00:00,  5.19it/s]\n",
      "/opt/homebrew/lib/python3.11/site-packages/sklearn/metrics/_classification.py:2845: FutureWarning: Setting the eps parameter is deprecated and will be removed in 1.5. Instead eps will always havea default value of `np.finfo(y_pred.dtype).eps`.\n",
      "  warnings.warn(\n",
      "eval_listwise: 100%|██████████| 1823/1823 [00:00<00:00, 7844.84it/s]\n"
     ]
    },
    {
     "name": "stdout",
     "output_type": "stream",
     "text": [
      "\t eval log_loss: 1.4226\n",
      "\t eval roc_auc: 0.7352\n",
      "\t eval precision@10: 0.0029\n",
      "\t eval recall@10: 0.0118\n",
      "\t eval ndcg@10: 0.0207\n",
      "==============================\n"
     ]
    },
    {
     "name": "stderr",
     "output_type": "stream",
     "text": [
      "eval_pointwise: 100%|██████████| 3/3 [00:00<00:00,  5.20it/s]\n"
     ]
    },
    {
     "name": "stdout",
     "output_type": "stream",
     "text": [
      "Training start time: \u001b[35m2023-10-07 23:42:10\u001b[0m\n",
      "Final block size and num: (3253, 1)\n",
      "sim_matrix elapsed: 0.040s\n",
      "sim_matrix, shape: (3253, 3253), num_elements: 1710008, density: 4.9224 %\n"
     ]
    },
    {
     "name": "stderr",
     "output_type": "stream",
     "text": [
      "top_k: 100%|██████████| 3253/3253 [00:00<00:00, 15280.18it/s]\n",
      "eval_pointwise:   0%|          | 0/3 [00:00<?, ?it/s]"
     ]
    },
    {
     "name": "stdout",
     "output_type": "stream",
     "text": [
      "\u001b[31mNo common interaction or similar neighbor for user 1728 and item 2899, proceed with default prediction\u001b[0m\n",
      "\u001b[31mNo common interaction or similar neighbor for user 1728 and item 2621, proceed with default prediction\u001b[0m\n",
      "\u001b[31mNo common interaction or similar neighbor for user 1932 and item 2012, proceed with default prediction\u001b[0m\n",
      "\u001b[31mNo common interaction or similar neighbor for user 35 and item 2067, proceed with default prediction\u001b[0m\n",
      "\u001b[31mNo common interaction or similar neighbor for user 192 and item 556, proceed with default prediction\u001b[0m\n",
      "\u001b[31mNo common interaction or similar neighbor for user 1957 and item 2741, proceed with default prediction\u001b[0m\n"
     ]
    },
    {
     "name": "stderr",
     "output_type": "stream",
     "text": [
      "eval_pointwise: 100%|██████████| 3/3 [00:00<00:00,  5.88it/s]\n",
      "/opt/homebrew/lib/python3.11/site-packages/sklearn/metrics/_classification.py:2845: FutureWarning: Setting the eps parameter is deprecated and will be removed in 1.5. Instead eps will always havea default value of `np.finfo(y_pred.dtype).eps`.\n",
      "  warnings.warn(\n",
      "eval_listwise: 100%|██████████| 1823/1823 [00:00<00:00, 3106.83it/s]\n"
     ]
    },
    {
     "name": "stdout",
     "output_type": "stream",
     "text": [
      "\t eval log_loss: 1.7096\n",
      "\t eval roc_auc: 0.5433\n",
      "\t eval precision@10: 0.0002\n",
      "\t eval recall@10: 0.0005\n",
      "\t eval ndcg@10: 0.0008\n",
      "==============================\n"
     ]
    },
    {
     "name": "stderr",
     "output_type": "stream",
     "text": [
      "eval_pointwise: 100%|██████████| 3/3 [00:00<00:00,  5.92it/s]\n"
     ]
    },
    {
     "name": "stdout",
     "output_type": "stream",
     "text": [
      "\u001b[31mWarning: pearson is not suitable for implicit data\u001b[0m\n",
      "Training start time: \u001b[35m2023-10-07 23:42:12\u001b[0m\n",
      "Final block size and num: (5894, 1)\n",
      "sim_matrix elapsed: 0.156s\n",
      "sim_matrix, shape: (5894, 5894), num_elements: 3855554, density: 11.0986 %\n"
     ]
    },
    {
     "name": "stderr",
     "output_type": "stream",
     "text": [
      "top_k: 100%|██████████| 5894/5894 [00:00<00:00, 12048.59it/s]\n",
      "eval_pointwise:   0%|          | 0/3 [00:00<?, ?it/s]"
     ]
    },
    {
     "name": "stdout",
     "output_type": "stream",
     "text": [
      "\u001b[31mNo common interaction or similar neighbor for user 5359 and item 2395, proceed with default prediction\u001b[0m\n",
      "\u001b[31mNo common interaction or similar neighbor for user 5773 and item 2930, proceed with default prediction\u001b[0m\n",
      "\u001b[31mNo common interaction or similar neighbor for user 5773 and item 282, proceed with default prediction\u001b[0m\n",
      "\u001b[31mNo common interaction or similar neighbor for user 4268 and item 1643, proceed with default prediction\u001b[0m\n",
      "\u001b[31mNo common interaction or similar neighbor for user 4440 and item 1772, proceed with default prediction\u001b[0m\n",
      "\u001b[31mNo common interaction or similar neighbor for user 1728 and item 2899, proceed with default prediction\u001b[0m\n"
     ]
    },
    {
     "name": "stderr",
     "output_type": "stream",
     "text": [
      "eval_pointwise: 100%|██████████| 3/3 [00:00<00:00,  5.49it/s]\n",
      "/opt/homebrew/lib/python3.11/site-packages/sklearn/metrics/_classification.py:2845: FutureWarning: Setting the eps parameter is deprecated and will be removed in 1.5. Instead eps will always havea default value of `np.finfo(y_pred.dtype).eps`.\n",
      "  warnings.warn(\n",
      "eval_listwise: 100%|██████████| 1823/1823 [00:00<00:00, 5638.95it/s]\n"
     ]
    },
    {
     "name": "stdout",
     "output_type": "stream",
     "text": [
      "\t eval log_loss: 1.9350\n",
      "\t eval roc_auc: 0.7046\n",
      "\t eval precision@10: 0.0034\n",
      "\t eval recall@10: 0.0154\n",
      "\t eval ndcg@10: 0.0233\n",
      "==============================\n"
     ]
    },
    {
     "name": "stderr",
     "output_type": "stream",
     "text": [
      "eval_pointwise: 100%|██████████| 3/3 [00:00<00:00,  5.45it/s]\n"
     ]
    },
    {
     "name": "stdout",
     "output_type": "stream",
     "text": [
      "\u001b[31mWarning: pearson is not suitable for implicit data\u001b[0m\n",
      "Training start time: \u001b[35m2023-10-07 23:42:14\u001b[0m\n",
      "Final block size and num: (3253, 1)\n",
      "sim_matrix elapsed: 0.054s\n",
      "sim_matrix, shape: (3253, 3253), num_elements: 1608184, density: 4.6293 %\n"
     ]
    },
    {
     "name": "stderr",
     "output_type": "stream",
     "text": [
      "top_k: 100%|██████████| 3253/3253 [00:00<00:00, 16378.02it/s]\n",
      "eval_pointwise:  33%|███▎      | 1/3 [00:00<00:00,  5.10it/s]"
     ]
    },
    {
     "name": "stdout",
     "output_type": "stream",
     "text": [
      "\u001b[31mNo common interaction or similar neighbor for user 5359 and item 2395, proceed with default prediction\u001b[0m\n",
      "\u001b[31mNo common interaction or similar neighbor for user 5773 and item 2930, proceed with default prediction\u001b[0m\n",
      "\u001b[31mNo common interaction or similar neighbor for user 1141 and item 711, proceed with default prediction\u001b[0m\n",
      "\u001b[31mNo common interaction or similar neighbor for user 4862 and item 86, proceed with default prediction\u001b[0m\n",
      "\u001b[31mNo common interaction or similar neighbor for user 4440 and item 1772, proceed with default prediction\u001b[0m\n",
      "\u001b[31mNo common interaction or similar neighbor for user 1728 and item 2899, proceed with default prediction\u001b[0m\n"
     ]
    },
    {
     "name": "stderr",
     "output_type": "stream",
     "text": [
      "eval_pointwise: 100%|██████████| 3/3 [00:00<00:00,  6.30it/s]\n",
      "/opt/homebrew/lib/python3.11/site-packages/sklearn/metrics/_classification.py:2845: FutureWarning: Setting the eps parameter is deprecated and will be removed in 1.5. Instead eps will always havea default value of `np.finfo(y_pred.dtype).eps`.\n",
      "  warnings.warn(\n",
      "eval_listwise: 100%|██████████| 1823/1823 [00:00<00:00, 3107.21it/s]\n"
     ]
    },
    {
     "name": "stdout",
     "output_type": "stream",
     "text": [
      "\t eval log_loss: 2.2131\n",
      "\t eval roc_auc: 0.5899\n",
      "\t eval precision@10: 0.0004\n",
      "\t eval recall@10: 0.0016\n",
      "\t eval ndcg@10: 0.0015\n",
      "==============================\n"
     ]
    },
    {
     "name": "stderr",
     "output_type": "stream",
     "text": [
      "eval_pointwise: 100%|██████████| 3/3 [00:00<00:00,  6.29it/s]\n"
     ]
    },
    {
     "name": "stdout",
     "output_type": "stream",
     "text": [
      "Training start time: \u001b[35m2023-10-07 23:42:15\u001b[0m\n",
      "Final block size and num: (5894, 1)\n",
      "sim_matrix elapsed: 0.101s\n",
      "sim_matrix, shape: (5894, 5894), num_elements: 4222948, density: 12.1561 %\n"
     ]
    },
    {
     "name": "stderr",
     "output_type": "stream",
     "text": [
      "top_k: 100%|██████████| 5894/5894 [00:00<00:00, 11339.59it/s]\n",
      "eval_pointwise:   0%|          | 0/3 [00:00<?, ?it/s]"
     ]
    },
    {
     "name": "stdout",
     "output_type": "stream",
     "text": [
      "\u001b[31mNo common interaction or similar neighbor for user 1728 and item 2899, proceed with default prediction\u001b[0m\n",
      "\u001b[31mNo common interaction or similar neighbor for user 1728 and item 2621, proceed with default prediction\u001b[0m\n",
      "\u001b[31mNo common interaction or similar neighbor for user 1932 and item 2012, proceed with default prediction\u001b[0m\n",
      "\u001b[31mNo common interaction or similar neighbor for user 35 and item 2067, proceed with default prediction\u001b[0m\n",
      "\u001b[31mNo common interaction or similar neighbor for user 192 and item 556, proceed with default prediction\u001b[0m\n",
      "\u001b[31mNo common interaction or similar neighbor for user 1957 and item 2741, proceed with default prediction\u001b[0m\n"
     ]
    },
    {
     "name": "stderr",
     "output_type": "stream",
     "text": [
      "eval_pointwise: 100%|██████████| 3/3 [00:00<00:00,  5.11it/s]\n",
      "/opt/homebrew/lib/python3.11/site-packages/sklearn/metrics/_classification.py:2845: FutureWarning: Setting the eps parameter is deprecated and will be removed in 1.5. Instead eps will always havea default value of `np.finfo(y_pred.dtype).eps`.\n",
      "  warnings.warn(\n",
      "eval_listwise: 100%|██████████| 1823/1823 [00:00<00:00, 4328.21it/s]\n"
     ]
    },
    {
     "name": "stdout",
     "output_type": "stream",
     "text": [
      "\t eval log_loss: 1.8226\n",
      "\t eval roc_auc: 0.7512\n",
      "\t eval precision@10: 0.0034\n",
      "\t eval recall@10: 0.0133\n",
      "\t eval ndcg@10: 0.0166\n",
      "==============================\n"
     ]
    },
    {
     "name": "stderr",
     "output_type": "stream",
     "text": [
      "eval_pointwise: 100%|██████████| 3/3 [00:00<00:00,  5.21it/s]\n"
     ]
    },
    {
     "name": "stdout",
     "output_type": "stream",
     "text": [
      "Training start time: \u001b[35m2023-10-07 23:42:18\u001b[0m\n",
      "Final block size and num: (3253, 1)\n",
      "sim_matrix elapsed: 0.035s\n",
      "sim_matrix, shape: (3253, 3253), num_elements: 1710008, density: 4.9224 %\n"
     ]
    },
    {
     "name": "stderr",
     "output_type": "stream",
     "text": [
      "top_k: 100%|██████████| 3253/3253 [00:00<00:00, 15724.32it/s]\n",
      "eval_pointwise:   0%|          | 0/3 [00:00<?, ?it/s]"
     ]
    },
    {
     "name": "stdout",
     "output_type": "stream",
     "text": [
      "\u001b[31mNo common interaction or similar neighbor for user 1728 and item 2899, proceed with default prediction\u001b[0m\n",
      "\u001b[31mNo common interaction or similar neighbor for user 1728 and item 2621, proceed with default prediction\u001b[0m\n",
      "\u001b[31mNo common interaction or similar neighbor for user 1932 and item 2012, proceed with default prediction\u001b[0m\n",
      "\u001b[31mNo common interaction or similar neighbor for user 35 and item 2067, proceed with default prediction\u001b[0m\n",
      "\u001b[31mNo common interaction or similar neighbor for user 192 and item 556, proceed with default prediction\u001b[0m\n",
      "\u001b[31mNo common interaction or similar neighbor for user 1957 and item 2741, proceed with default prediction\u001b[0m\n"
     ]
    },
    {
     "name": "stderr",
     "output_type": "stream",
     "text": [
      "eval_pointwise: 100%|██████████| 3/3 [00:00<00:00,  5.94it/s]\n",
      "/opt/homebrew/lib/python3.11/site-packages/sklearn/metrics/_classification.py:2845: FutureWarning: Setting the eps parameter is deprecated and will be removed in 1.5. Instead eps will always havea default value of `np.finfo(y_pred.dtype).eps`.\n",
      "  warnings.warn(\n",
      "eval_listwise: 100%|██████████| 1823/1823 [00:00<00:00, 3097.50it/s]\n"
     ]
    },
    {
     "name": "stdout",
     "output_type": "stream",
     "text": [
      "\t eval log_loss: 2.0624\n",
      "\t eval roc_auc: 0.6419\n",
      "\t eval precision@10: 0.0012\n",
      "\t eval recall@10: 0.0064\n",
      "\t eval ndcg@10: 0.0055\n",
      "==============================\n"
     ]
    },
    {
     "name": "stderr",
     "output_type": "stream",
     "text": [
      "eval_pointwise: 100%|██████████| 3/3 [00:00<00:00,  5.93it/s]\n"
     ]
    },
    {
     "name": "stdout",
     "output_type": "stream",
     "text": [
      "7\n",
      "Training start time: \u001b[35m2023-10-07 23:42:20\u001b[0m\n",
      "Final block size and num: (5894, 1)\n",
      "sim_matrix elapsed: 0.122s\n",
      "sim_matrix, shape: (5894, 5894), num_elements: 4222948, density: 12.1561 %\n"
     ]
    },
    {
     "name": "stderr",
     "output_type": "stream",
     "text": [
      "top_k: 100%|██████████| 5894/5894 [00:00<00:00, 11073.31it/s]\n",
      "eval_pointwise:   0%|          | 0/3 [00:00<?, ?it/s]"
     ]
    },
    {
     "name": "stdout",
     "output_type": "stream",
     "text": [
      "\u001b[31mNo common interaction or similar neighbor for user 1728 and item 2899, proceed with default prediction\u001b[0m\n",
      "\u001b[31mNo common interaction or similar neighbor for user 1728 and item 2621, proceed with default prediction\u001b[0m\n",
      "\u001b[31mNo common interaction or similar neighbor for user 1932 and item 2012, proceed with default prediction\u001b[0m\n",
      "\u001b[31mNo common interaction or similar neighbor for user 35 and item 2067, proceed with default prediction\u001b[0m\n",
      "\u001b[31mNo common interaction or similar neighbor for user 192 and item 556, proceed with default prediction\u001b[0m\n",
      "\u001b[31mNo common interaction or similar neighbor for user 1957 and item 2741, proceed with default prediction\u001b[0m\n"
     ]
    },
    {
     "name": "stderr",
     "output_type": "stream",
     "text": [
      "eval_pointwise: 100%|██████████| 3/3 [00:00<00:00,  5.06it/s]\n",
      "/opt/homebrew/lib/python3.11/site-packages/sklearn/metrics/_classification.py:2845: FutureWarning: Setting the eps parameter is deprecated and will be removed in 1.5. Instead eps will always havea default value of `np.finfo(y_pred.dtype).eps`.\n",
      "  warnings.warn(\n",
      "eval_listwise: 100%|██████████| 1823/1823 [00:00<00:00, 7658.73it/s]\n"
     ]
    },
    {
     "name": "stdout",
     "output_type": "stream",
     "text": [
      "\t eval log_loss: 1.4408\n",
      "\t eval roc_auc: 0.7314\n",
      "\t eval precision@10: 0.0032\n",
      "\t eval recall@10: 0.0132\n",
      "\t eval ndcg@10: 0.0207\n",
      "==============================\n"
     ]
    },
    {
     "name": "stderr",
     "output_type": "stream",
     "text": [
      "eval_pointwise: 100%|██████████| 3/3 [00:00<00:00,  5.15it/s]\n"
     ]
    },
    {
     "name": "stdout",
     "output_type": "stream",
     "text": [
      "Training start time: \u001b[35m2023-10-07 23:42:22\u001b[0m\n",
      "Final block size and num: (3253, 1)\n",
      "sim_matrix elapsed: 0.039s\n",
      "sim_matrix, shape: (3253, 3253), num_elements: 1710008, density: 4.9224 %\n"
     ]
    },
    {
     "name": "stderr",
     "output_type": "stream",
     "text": [
      "top_k: 100%|██████████| 3253/3253 [00:00<00:00, 15383.74it/s]\n",
      "eval_pointwise:   0%|          | 0/3 [00:00<?, ?it/s]"
     ]
    },
    {
     "name": "stdout",
     "output_type": "stream",
     "text": [
      "\u001b[31mNo common interaction or similar neighbor for user 1728 and item 2899, proceed with default prediction\u001b[0m\n",
      "\u001b[31mNo common interaction or similar neighbor for user 1728 and item 2621, proceed with default prediction\u001b[0m\n",
      "\u001b[31mNo common interaction or similar neighbor for user 1932 and item 2012, proceed with default prediction\u001b[0m\n",
      "\u001b[31mNo common interaction or similar neighbor for user 35 and item 2067, proceed with default prediction\u001b[0m\n",
      "\u001b[31mNo common interaction or similar neighbor for user 192 and item 556, proceed with default prediction\u001b[0m\n",
      "\u001b[31mNo common interaction or similar neighbor for user 1957 and item 2741, proceed with default prediction\u001b[0m\n"
     ]
    },
    {
     "name": "stderr",
     "output_type": "stream",
     "text": [
      "eval_pointwise: 100%|██████████| 3/3 [00:00<00:00,  5.94it/s]\n",
      "/opt/homebrew/lib/python3.11/site-packages/sklearn/metrics/_classification.py:2845: FutureWarning: Setting the eps parameter is deprecated and will be removed in 1.5. Instead eps will always havea default value of `np.finfo(y_pred.dtype).eps`.\n",
      "  warnings.warn(\n",
      "eval_listwise: 100%|██████████| 1823/1823 [00:00<00:00, 2777.77it/s]\n"
     ]
    },
    {
     "name": "stdout",
     "output_type": "stream",
     "text": [
      "\t eval log_loss: 1.7285\n",
      "\t eval roc_auc: 0.5387\n",
      "\t eval precision@10: 0.0002\n",
      "\t eval recall@10: 0.0006\n",
      "\t eval ndcg@10: 0.0008\n",
      "==============================\n"
     ]
    },
    {
     "name": "stderr",
     "output_type": "stream",
     "text": [
      "eval_pointwise: 100%|██████████| 3/3 [00:00<00:00,  5.92it/s]\n"
     ]
    },
    {
     "name": "stdout",
     "output_type": "stream",
     "text": [
      "\u001b[31mWarning: pearson is not suitable for implicit data\u001b[0m\n",
      "Training start time: \u001b[35m2023-10-07 23:42:24\u001b[0m\n",
      "Final block size and num: (5894, 1)\n",
      "sim_matrix elapsed: 0.148s\n",
      "sim_matrix, shape: (5894, 5894), num_elements: 3855554, density: 11.0986 %\n"
     ]
    },
    {
     "name": "stderr",
     "output_type": "stream",
     "text": [
      "top_k: 100%|██████████| 5894/5894 [00:00<00:00, 12435.54it/s]\n",
      "eval_pointwise:   0%|          | 0/3 [00:00<?, ?it/s]"
     ]
    },
    {
     "name": "stdout",
     "output_type": "stream",
     "text": [
      "\u001b[31mNo common interaction or similar neighbor for user 5359 and item 2395, proceed with default prediction\u001b[0m\n",
      "\u001b[31mNo common interaction or similar neighbor for user 5773 and item 2930, proceed with default prediction\u001b[0m\n",
      "\u001b[31mNo common interaction or similar neighbor for user 5773 and item 282, proceed with default prediction\u001b[0m\n",
      "\u001b[31mNo common interaction or similar neighbor for user 4268 and item 1643, proceed with default prediction\u001b[0m\n",
      "\u001b[31mNo common interaction or similar neighbor for user 4440 and item 1772, proceed with default prediction\u001b[0m\n",
      "\u001b[31mNo common interaction or similar neighbor for user 1728 and item 2899, proceed with default prediction\u001b[0m\n"
     ]
    },
    {
     "name": "stderr",
     "output_type": "stream",
     "text": [
      "eval_pointwise: 100%|██████████| 3/3 [00:00<00:00,  5.32it/s]\n",
      "/opt/homebrew/lib/python3.11/site-packages/sklearn/metrics/_classification.py:2845: FutureWarning: Setting the eps parameter is deprecated and will be removed in 1.5. Instead eps will always havea default value of `np.finfo(y_pred.dtype).eps`.\n",
      "  warnings.warn(\n",
      "eval_listwise: 100%|██████████| 1823/1823 [00:00<00:00, 4979.76it/s]\n"
     ]
    },
    {
     "name": "stdout",
     "output_type": "stream",
     "text": [
      "\t eval log_loss: 1.9602\n",
      "\t eval roc_auc: 0.6994\n",
      "\t eval precision@10: 0.0035\n",
      "\t eval recall@10: 0.0167\n",
      "\t eval ndcg@10: 0.0233\n",
      "==============================\n"
     ]
    },
    {
     "name": "stderr",
     "output_type": "stream",
     "text": [
      "eval_pointwise: 100%|██████████| 3/3 [00:00<00:00,  5.40it/s]\n"
     ]
    },
    {
     "name": "stdout",
     "output_type": "stream",
     "text": [
      "\u001b[31mWarning: pearson is not suitable for implicit data\u001b[0m\n",
      "Training start time: \u001b[35m2023-10-07 23:42:26\u001b[0m\n",
      "Final block size and num: (3253, 1)\n",
      "sim_matrix elapsed: 0.054s\n",
      "sim_matrix, shape: (3253, 3253), num_elements: 1608184, density: 4.6293 %\n"
     ]
    },
    {
     "name": "stderr",
     "output_type": "stream",
     "text": [
      "top_k: 100%|██████████| 3253/3253 [00:00<00:00, 16606.16it/s]\n",
      "eval_pointwise:  33%|███▎      | 1/3 [00:00<00:00,  5.08it/s]"
     ]
    },
    {
     "name": "stdout",
     "output_type": "stream",
     "text": [
      "\u001b[31mNo common interaction or similar neighbor for user 5359 and item 2395, proceed with default prediction\u001b[0m\n",
      "\u001b[31mNo common interaction or similar neighbor for user 5773 and item 2930, proceed with default prediction\u001b[0m\n",
      "\u001b[31mNo common interaction or similar neighbor for user 1141 and item 711, proceed with default prediction\u001b[0m\n",
      "\u001b[31mNo common interaction or similar neighbor for user 4862 and item 86, proceed with default prediction\u001b[0m\n",
      "\u001b[31mNo common interaction or similar neighbor for user 4440 and item 1772, proceed with default prediction\u001b[0m\n",
      "\u001b[31mNo common interaction or similar neighbor for user 1728 and item 2899, proceed with default prediction\u001b[0m\n"
     ]
    },
    {
     "name": "stderr",
     "output_type": "stream",
     "text": [
      "eval_pointwise: 100%|██████████| 3/3 [00:00<00:00,  6.30it/s]\n",
      "/opt/homebrew/lib/python3.11/site-packages/sklearn/metrics/_classification.py:2845: FutureWarning: Setting the eps parameter is deprecated and will be removed in 1.5. Instead eps will always havea default value of `np.finfo(y_pred.dtype).eps`.\n",
      "  warnings.warn(\n",
      "eval_listwise: 100%|██████████| 1823/1823 [00:00<00:00, 2771.24it/s]\n"
     ]
    },
    {
     "name": "stdout",
     "output_type": "stream",
     "text": [
      "\t eval log_loss: 2.2377\n",
      "\t eval roc_auc: 0.5855\n",
      "\t eval precision@10: 0.0004\n",
      "\t eval recall@10: 0.0013\n",
      "\t eval ndcg@10: 0.0016\n",
      "==============================\n"
     ]
    },
    {
     "name": "stderr",
     "output_type": "stream",
     "text": [
      "eval_pointwise: 100%|██████████| 3/3 [00:00<00:00,  6.03it/s]\n"
     ]
    },
    {
     "name": "stdout",
     "output_type": "stream",
     "text": [
      "Training start time: \u001b[35m2023-10-07 23:42:28\u001b[0m\n",
      "Final block size and num: (5894, 1)\n",
      "sim_matrix elapsed: 0.103s\n",
      "sim_matrix, shape: (5894, 5894), num_elements: 4222948, density: 12.1561 %\n"
     ]
    },
    {
     "name": "stderr",
     "output_type": "stream",
     "text": [
      "top_k: 100%|██████████| 5894/5894 [00:00<00:00, 11585.10it/s]\n",
      "eval_pointwise:   0%|          | 0/3 [00:00<?, ?it/s]"
     ]
    },
    {
     "name": "stdout",
     "output_type": "stream",
     "text": [
      "\u001b[31mNo common interaction or similar neighbor for user 1728 and item 2899, proceed with default prediction\u001b[0m\n",
      "\u001b[31mNo common interaction or similar neighbor for user 1728 and item 2621, proceed with default prediction\u001b[0m\n",
      "\u001b[31mNo common interaction or similar neighbor for user 1932 and item 2012, proceed with default prediction\u001b[0m\n",
      "\u001b[31mNo common interaction or similar neighbor for user 35 and item 2067, proceed with default prediction\u001b[0m\n",
      "\u001b[31mNo common interaction or similar neighbor for user 192 and item 556, proceed with default prediction\u001b[0m\n",
      "\u001b[31mNo common interaction or similar neighbor for user 1957 and item 2741, proceed with default prediction\u001b[0m\n"
     ]
    },
    {
     "name": "stderr",
     "output_type": "stream",
     "text": [
      "eval_pointwise: 100%|██████████| 3/3 [00:00<00:00,  5.10it/s]\n",
      "/opt/homebrew/lib/python3.11/site-packages/sklearn/metrics/_classification.py:2845: FutureWarning: Setting the eps parameter is deprecated and will be removed in 1.5. Instead eps will always havea default value of `np.finfo(y_pred.dtype).eps`.\n",
      "  warnings.warn(\n",
      "eval_listwise: 100%|██████████| 1823/1823 [00:00<00:00, 3865.14it/s]\n"
     ]
    },
    {
     "name": "stdout",
     "output_type": "stream",
     "text": [
      "\t eval log_loss: 1.8410\n",
      "\t eval roc_auc: 0.7484\n",
      "\t eval precision@10: 0.0039\n",
      "\t eval recall@10: 0.0155\n",
      "\t eval ndcg@10: 0.0209\n",
      "==============================\n"
     ]
    },
    {
     "name": "stderr",
     "output_type": "stream",
     "text": [
      "eval_pointwise: 100%|██████████| 3/3 [00:00<00:00,  5.17it/s]\n"
     ]
    },
    {
     "name": "stdout",
     "output_type": "stream",
     "text": [
      "Training start time: \u001b[35m2023-10-07 23:42:30\u001b[0m\n",
      "Final block size and num: (3253, 1)\n",
      "sim_matrix elapsed: 0.037s\n",
      "sim_matrix, shape: (3253, 3253), num_elements: 1710008, density: 4.9224 %\n"
     ]
    },
    {
     "name": "stderr",
     "output_type": "stream",
     "text": [
      "top_k: 100%|██████████| 3253/3253 [00:00<00:00, 15570.34it/s]\n",
      "eval_pointwise:   0%|          | 0/3 [00:00<?, ?it/s]"
     ]
    },
    {
     "name": "stdout",
     "output_type": "stream",
     "text": [
      "\u001b[31mNo common interaction or similar neighbor for user 1728 and item 2899, proceed with default prediction\u001b[0m\n",
      "\u001b[31mNo common interaction or similar neighbor for user 1728 and item 2621, proceed with default prediction\u001b[0m\n",
      "\u001b[31mNo common interaction or similar neighbor for user 1932 and item 2012, proceed with default prediction\u001b[0m\n",
      "\u001b[31mNo common interaction or similar neighbor for user 35 and item 2067, proceed with default prediction\u001b[0m\n",
      "\u001b[31mNo common interaction or similar neighbor for user 192 and item 556, proceed with default prediction\u001b[0m\n",
      "\u001b[31mNo common interaction or similar neighbor for user 1957 and item 2741, proceed with default prediction\u001b[0m\n"
     ]
    },
    {
     "name": "stderr",
     "output_type": "stream",
     "text": [
      "eval_pointwise: 100%|██████████| 3/3 [00:00<00:00,  5.82it/s]\n",
      "/opt/homebrew/lib/python3.11/site-packages/sklearn/metrics/_classification.py:2845: FutureWarning: Setting the eps parameter is deprecated and will be removed in 1.5. Instead eps will always havea default value of `np.finfo(y_pred.dtype).eps`.\n",
      "  warnings.warn(\n",
      "eval_listwise: 100%|██████████| 1823/1823 [00:00<00:00, 2703.40it/s]\n"
     ]
    },
    {
     "name": "stdout",
     "output_type": "stream",
     "text": [
      "\t eval log_loss: 2.0809\n",
      "\t eval roc_auc: 0.6392\n",
      "\t eval precision@10: 0.0013\n",
      "\t eval recall@10: 0.0071\n",
      "\t eval ndcg@10: 0.0059\n",
      "==============================\n"
     ]
    },
    {
     "name": "stderr",
     "output_type": "stream",
     "text": [
      "eval_pointwise: 100%|██████████| 3/3 [00:00<00:00,  5.81it/s]\n"
     ]
    },
    {
     "name": "stdout",
     "output_type": "stream",
     "text": [
      "8\n",
      "Training start time: \u001b[35m2023-10-07 23:42:32\u001b[0m\n",
      "Final block size and num: (5894, 1)\n",
      "sim_matrix elapsed: 0.120s\n",
      "sim_matrix, shape: (5894, 5894), num_elements: 4222948, density: 12.1561 %\n"
     ]
    },
    {
     "name": "stderr",
     "output_type": "stream",
     "text": [
      "top_k: 100%|██████████| 5894/5894 [00:00<00:00, 11072.18it/s]\n",
      "eval_pointwise:   0%|          | 0/3 [00:00<?, ?it/s]"
     ]
    },
    {
     "name": "stdout",
     "output_type": "stream",
     "text": [
      "\u001b[31mNo common interaction or similar neighbor for user 1728 and item 2899, proceed with default prediction\u001b[0m\n",
      "\u001b[31mNo common interaction or similar neighbor for user 1728 and item 2621, proceed with default prediction\u001b[0m\n",
      "\u001b[31mNo common interaction or similar neighbor for user 1932 and item 2012, proceed with default prediction\u001b[0m\n",
      "\u001b[31mNo common interaction or similar neighbor for user 35 and item 2067, proceed with default prediction\u001b[0m\n",
      "\u001b[31mNo common interaction or similar neighbor for user 192 and item 556, proceed with default prediction\u001b[0m\n",
      "\u001b[31mNo common interaction or similar neighbor for user 1957 and item 2741, proceed with default prediction\u001b[0m\n"
     ]
    },
    {
     "name": "stderr",
     "output_type": "stream",
     "text": [
      "eval_pointwise: 100%|██████████| 3/3 [00:00<00:00,  5.01it/s]\n",
      "/opt/homebrew/lib/python3.11/site-packages/sklearn/metrics/_classification.py:2845: FutureWarning: Setting the eps parameter is deprecated and will be removed in 1.5. Instead eps will always havea default value of `np.finfo(y_pred.dtype).eps`.\n",
      "  warnings.warn(\n",
      "eval_listwise: 100%|██████████| 1823/1823 [00:00<00:00, 6858.10it/s]\n"
     ]
    },
    {
     "name": "stdout",
     "output_type": "stream",
     "text": [
      "\t eval log_loss: 1.4567\n",
      "\t eval roc_auc: 0.7274\n",
      "\t eval precision@10: 0.0033\n",
      "\t eval recall@10: 0.0137\n",
      "\t eval ndcg@10: 0.0187\n",
      "==============================\n"
     ]
    },
    {
     "name": "stderr",
     "output_type": "stream",
     "text": [
      "eval_pointwise: 100%|██████████| 3/3 [00:00<00:00,  4.88it/s]\n"
     ]
    },
    {
     "name": "stdout",
     "output_type": "stream",
     "text": [
      "Training start time: \u001b[35m2023-10-07 23:42:34\u001b[0m\n",
      "Final block size and num: (3253, 1)\n",
      "sim_matrix elapsed: 0.042s\n",
      "sim_matrix, shape: (3253, 3253), num_elements: 1710008, density: 4.9224 %\n"
     ]
    },
    {
     "name": "stderr",
     "output_type": "stream",
     "text": [
      "top_k: 100%|██████████| 3253/3253 [00:00<00:00, 15320.85it/s]\n",
      "eval_pointwise:   0%|          | 0/3 [00:00<?, ?it/s]"
     ]
    },
    {
     "name": "stdout",
     "output_type": "stream",
     "text": [
      "\u001b[31mNo common interaction or similar neighbor for user 1728 and item 2899, proceed with default prediction\u001b[0m\n",
      "\u001b[31mNo common interaction or similar neighbor for user 1728 and item 2621, proceed with default prediction\u001b[0m\n",
      "\u001b[31mNo common interaction or similar neighbor for user 1932 and item 2012, proceed with default prediction\u001b[0m\n",
      "\u001b[31mNo common interaction or similar neighbor for user 35 and item 2067, proceed with default prediction\u001b[0m\n",
      "\u001b[31mNo common interaction or similar neighbor for user 192 and item 556, proceed with default prediction\u001b[0m\n",
      "\u001b[31mNo common interaction or similar neighbor for user 1957 and item 2741, proceed with default prediction\u001b[0m\n"
     ]
    },
    {
     "name": "stderr",
     "output_type": "stream",
     "text": [
      "eval_pointwise: 100%|██████████| 3/3 [00:00<00:00,  5.70it/s]\n",
      "/opt/homebrew/lib/python3.11/site-packages/sklearn/metrics/_classification.py:2845: FutureWarning: Setting the eps parameter is deprecated and will be removed in 1.5. Instead eps will always havea default value of `np.finfo(y_pred.dtype).eps`.\n",
      "  warnings.warn(\n",
      "eval_listwise: 100%|██████████| 1823/1823 [00:00<00:00, 2379.96it/s]\n"
     ]
    },
    {
     "name": "stdout",
     "output_type": "stream",
     "text": [
      "\t eval log_loss: 1.7449\n",
      "\t eval roc_auc: 0.5342\n",
      "\t eval precision@10: 0.0001\n",
      "\t eval recall@10: 0.0006\n",
      "\t eval ndcg@10: 0.0007\n",
      "==============================\n"
     ]
    },
    {
     "name": "stderr",
     "output_type": "stream",
     "text": [
      "eval_pointwise: 100%|██████████| 3/3 [00:00<00:00,  5.67it/s]\n"
     ]
    },
    {
     "name": "stdout",
     "output_type": "stream",
     "text": [
      "\u001b[31mWarning: pearson is not suitable for implicit data\u001b[0m\n",
      "Training start time: \u001b[35m2023-10-07 23:42:36\u001b[0m\n",
      "Final block size and num: (5894, 1)\n",
      "sim_matrix elapsed: 0.152s\n",
      "sim_matrix, shape: (5894, 5894), num_elements: 3855554, density: 11.0986 %\n"
     ]
    },
    {
     "name": "stderr",
     "output_type": "stream",
     "text": [
      "top_k: 100%|██████████| 5894/5894 [00:00<00:00, 12079.92it/s]\n",
      "eval_pointwise:   0%|          | 0/3 [00:00<?, ?it/s]"
     ]
    },
    {
     "name": "stdout",
     "output_type": "stream",
     "text": [
      "\u001b[31mNo common interaction or similar neighbor for user 5359 and item 2395, proceed with default prediction\u001b[0m\n",
      "\u001b[31mNo common interaction or similar neighbor for user 5773 and item 2930, proceed with default prediction\u001b[0m\n",
      "\u001b[31mNo common interaction or similar neighbor for user 5773 and item 282, proceed with default prediction\u001b[0m\n",
      "\u001b[31mNo common interaction or similar neighbor for user 4268 and item 1643, proceed with default prediction\u001b[0m\n",
      "\u001b[31mNo common interaction or similar neighbor for user 4440 and item 1772, proceed with default prediction\u001b[0m\n",
      "\u001b[31mNo common interaction or similar neighbor for user 1728 and item 2899, proceed with default prediction\u001b[0m\n"
     ]
    },
    {
     "name": "stderr",
     "output_type": "stream",
     "text": [
      "eval_pointwise: 100%|██████████| 3/3 [00:00<00:00,  5.22it/s]\n",
      "/opt/homebrew/lib/python3.11/site-packages/sklearn/metrics/_classification.py:2845: FutureWarning: Setting the eps parameter is deprecated and will be removed in 1.5. Instead eps will always havea default value of `np.finfo(y_pred.dtype).eps`.\n",
      "  warnings.warn(\n",
      "eval_listwise: 100%|██████████| 1823/1823 [00:00<00:00, 4487.95it/s]\n"
     ]
    },
    {
     "name": "stdout",
     "output_type": "stream",
     "text": [
      "\t eval log_loss: 1.9816\n",
      "\t eval roc_auc: 0.6945\n",
      "\t eval precision@10: 0.0032\n",
      "\t eval recall@10: 0.0149\n",
      "\t eval ndcg@10: 0.0206\n",
      "==============================\n"
     ]
    },
    {
     "name": "stderr",
     "output_type": "stream",
     "text": [
      "eval_pointwise: 100%|██████████| 3/3 [00:00<00:00,  5.07it/s]\n"
     ]
    },
    {
     "name": "stdout",
     "output_type": "stream",
     "text": [
      "\u001b[31mWarning: pearson is not suitable for implicit data\u001b[0m\n",
      "Training start time: \u001b[35m2023-10-07 23:42:39\u001b[0m\n",
      "Final block size and num: (3253, 1)\n",
      "sim_matrix elapsed: 0.059s\n",
      "sim_matrix, shape: (3253, 3253), num_elements: 1608184, density: 4.6293 %\n"
     ]
    },
    {
     "name": "stderr",
     "output_type": "stream",
     "text": [
      "top_k: 100%|██████████| 3253/3253 [00:00<00:00, 16081.51it/s]\n",
      "eval_pointwise:   0%|          | 0/3 [00:00<?, ?it/s]"
     ]
    },
    {
     "name": "stdout",
     "output_type": "stream",
     "text": [
      "\u001b[31mNo common interaction or similar neighbor for user 5359 and item 2395, proceed with default prediction\u001b[0m\n",
      "\u001b[31mNo common interaction or similar neighbor for user 5773 and item 2930, proceed with default prediction\u001b[0m\n",
      "\u001b[31mNo common interaction or similar neighbor for user 1141 and item 711, proceed with default prediction\u001b[0m\n",
      "\u001b[31mNo common interaction or similar neighbor for user 4862 and item 86, proceed with default prediction\u001b[0m\n",
      "\u001b[31mNo common interaction or similar neighbor for user 4440 and item 1772, proceed with default prediction\u001b[0m\n",
      "\u001b[31mNo common interaction or similar neighbor for user 1728 and item 2899, proceed with default prediction\u001b[0m\n"
     ]
    },
    {
     "name": "stderr",
     "output_type": "stream",
     "text": [
      "eval_pointwise: 100%|██████████| 3/3 [00:00<00:00,  6.02it/s]\n",
      "/opt/homebrew/lib/python3.11/site-packages/sklearn/metrics/_classification.py:2845: FutureWarning: Setting the eps parameter is deprecated and will be removed in 1.5. Instead eps will always havea default value of `np.finfo(y_pred.dtype).eps`.\n",
      "  warnings.warn(\n",
      "eval_listwise: 100%|██████████| 1823/1823 [00:00<00:00, 2405.78it/s]\n"
     ]
    },
    {
     "name": "stdout",
     "output_type": "stream",
     "text": [
      "\t eval log_loss: 2.2575\n",
      "\t eval roc_auc: 0.5815\n",
      "\t eval precision@10: 0.0004\n",
      "\t eval recall@10: 0.0013\n",
      "\t eval ndcg@10: 0.0015\n",
      "==============================\n"
     ]
    },
    {
     "name": "stderr",
     "output_type": "stream",
     "text": [
      "eval_pointwise: 100%|██████████| 3/3 [00:00<00:00,  5.97it/s]\n"
     ]
    },
    {
     "name": "stdout",
     "output_type": "stream",
     "text": [
      "Training start time: \u001b[35m2023-10-07 23:42:41\u001b[0m\n",
      "Final block size and num: (5894, 1)\n",
      "sim_matrix elapsed: 0.104s\n",
      "sim_matrix, shape: (5894, 5894), num_elements: 4222948, density: 12.1561 %\n"
     ]
    },
    {
     "name": "stderr",
     "output_type": "stream",
     "text": [
      "top_k: 100%|██████████| 5894/5894 [00:00<00:00, 8013.21it/s] \n",
      "eval_pointwise:   0%|          | 0/3 [00:00<?, ?it/s]"
     ]
    },
    {
     "name": "stdout",
     "output_type": "stream",
     "text": [
      "\u001b[31mNo common interaction or similar neighbor for user 1728 and item 2899, proceed with default prediction\u001b[0m\n",
      "\u001b[31mNo common interaction or similar neighbor for user 1728 and item 2621, proceed with default prediction\u001b[0m\n",
      "\u001b[31mNo common interaction or similar neighbor for user 1932 and item 2012, proceed with default prediction\u001b[0m\n",
      "\u001b[31mNo common interaction or similar neighbor for user 35 and item 2067, proceed with default prediction\u001b[0m\n",
      "\u001b[31mNo common interaction or similar neighbor for user 192 and item 556, proceed with default prediction\u001b[0m\n",
      "\u001b[31mNo common interaction or similar neighbor for user 1957 and item 2741, proceed with default prediction\u001b[0m\n"
     ]
    },
    {
     "name": "stderr",
     "output_type": "stream",
     "text": [
      "eval_pointwise: 100%|██████████| 3/3 [00:00<00:00,  4.90it/s]\n",
      "/opt/homebrew/lib/python3.11/site-packages/sklearn/metrics/_classification.py:2845: FutureWarning: Setting the eps parameter is deprecated and will be removed in 1.5. Instead eps will always havea default value of `np.finfo(y_pred.dtype).eps`.\n",
      "  warnings.warn(\n",
      "eval_listwise: 100%|██████████| 1823/1823 [00:00<00:00, 3350.62it/s]\n"
     ]
    },
    {
     "name": "stdout",
     "output_type": "stream",
     "text": [
      "\t eval log_loss: 1.8569\n",
      "\t eval roc_auc: 0.7452\n",
      "\t eval precision@10: 0.0037\n",
      "\t eval recall@10: 0.0161\n",
      "\t eval ndcg@10: 0.0183\n",
      "==============================\n"
     ]
    },
    {
     "name": "stderr",
     "output_type": "stream",
     "text": [
      "eval_pointwise: 100%|██████████| 3/3 [00:00<00:00,  5.07it/s]\n"
     ]
    },
    {
     "name": "stdout",
     "output_type": "stream",
     "text": [
      "Training start time: \u001b[35m2023-10-07 23:42:43\u001b[0m\n",
      "Final block size and num: (3253, 1)\n",
      "sim_matrix elapsed: 0.037s\n",
      "sim_matrix, shape: (3253, 3253), num_elements: 1710008, density: 4.9224 %\n"
     ]
    },
    {
     "name": "stderr",
     "output_type": "stream",
     "text": [
      "top_k: 100%|██████████| 3253/3253 [00:00<00:00, 15619.61it/s]\n",
      "eval_pointwise:   0%|          | 0/3 [00:00<?, ?it/s]"
     ]
    },
    {
     "name": "stdout",
     "output_type": "stream",
     "text": [
      "\u001b[31mNo common interaction or similar neighbor for user 1728 and item 2899, proceed with default prediction\u001b[0m\n",
      "\u001b[31mNo common interaction or similar neighbor for user 1728 and item 2621, proceed with default prediction\u001b[0m\n",
      "\u001b[31mNo common interaction or similar neighbor for user 1932 and item 2012, proceed with default prediction\u001b[0m\n",
      "\u001b[31mNo common interaction or similar neighbor for user 35 and item 2067, proceed with default prediction\u001b[0m\n",
      "\u001b[31mNo common interaction or similar neighbor for user 192 and item 556, proceed with default prediction\u001b[0m\n",
      "\u001b[31mNo common interaction or similar neighbor for user 1957 and item 2741, proceed with default prediction\u001b[0m\n"
     ]
    },
    {
     "name": "stderr",
     "output_type": "stream",
     "text": [
      "eval_pointwise: 100%|██████████| 3/3 [00:00<00:00,  5.72it/s]\n",
      "/opt/homebrew/lib/python3.11/site-packages/sklearn/metrics/_classification.py:2845: FutureWarning: Setting the eps parameter is deprecated and will be removed in 1.5. Instead eps will always havea default value of `np.finfo(y_pred.dtype).eps`.\n",
      "  warnings.warn(\n",
      "eval_listwise: 100%|██████████| 1823/1823 [00:00<00:00, 2333.23it/s]\n"
     ]
    },
    {
     "name": "stdout",
     "output_type": "stream",
     "text": [
      "\t eval log_loss: 2.0968\n",
      "\t eval roc_auc: 0.6361\n",
      "\t eval precision@10: 0.0013\n",
      "\t eval recall@10: 0.0072\n",
      "\t eval ndcg@10: 0.0057\n",
      "==============================\n"
     ]
    },
    {
     "name": "stderr",
     "output_type": "stream",
     "text": [
      "eval_pointwise: 100%|██████████| 3/3 [00:00<00:00,  5.62it/s]\n"
     ]
    },
    {
     "name": "stdout",
     "output_type": "stream",
     "text": [
      "9\n",
      "Training start time: \u001b[35m2023-10-07 23:42:46\u001b[0m\n",
      "Final block size and num: (5894, 1)\n",
      "sim_matrix elapsed: 0.125s\n",
      "sim_matrix, shape: (5894, 5894), num_elements: 4222948, density: 12.1561 %\n"
     ]
    },
    {
     "name": "stderr",
     "output_type": "stream",
     "text": [
      "top_k: 100%|██████████| 5894/5894 [00:00<00:00, 11114.51it/s]\n",
      "eval_pointwise:   0%|          | 0/3 [00:00<?, ?it/s]"
     ]
    },
    {
     "name": "stdout",
     "output_type": "stream",
     "text": [
      "\u001b[31mNo common interaction or similar neighbor for user 1728 and item 2899, proceed with default prediction\u001b[0m\n",
      "\u001b[31mNo common interaction or similar neighbor for user 1728 and item 2621, proceed with default prediction\u001b[0m\n",
      "\u001b[31mNo common interaction or similar neighbor for user 1932 and item 2012, proceed with default prediction\u001b[0m\n",
      "\u001b[31mNo common interaction or similar neighbor for user 35 and item 2067, proceed with default prediction\u001b[0m\n",
      "\u001b[31mNo common interaction or similar neighbor for user 192 and item 556, proceed with default prediction\u001b[0m\n",
      "\u001b[31mNo common interaction or similar neighbor for user 1957 and item 2741, proceed with default prediction\u001b[0m\n"
     ]
    },
    {
     "name": "stderr",
     "output_type": "stream",
     "text": [
      "eval_pointwise: 100%|██████████| 3/3 [00:00<00:00,  4.99it/s]\n",
      "/opt/homebrew/lib/python3.11/site-packages/sklearn/metrics/_classification.py:2845: FutureWarning: Setting the eps parameter is deprecated and will be removed in 1.5. Instead eps will always havea default value of `np.finfo(y_pred.dtype).eps`.\n",
      "  warnings.warn(\n",
      "eval_listwise: 100%|██████████| 1823/1823 [00:00<00:00, 6317.12it/s]\n"
     ]
    },
    {
     "name": "stdout",
     "output_type": "stream",
     "text": [
      "\t eval log_loss: 1.4709\n",
      "\t eval roc_auc: 0.7231\n",
      "\t eval precision@10: 0.0038\n",
      "\t eval recall@10: 0.0158\n",
      "\t eval ndcg@10: 0.0187\n",
      "==============================\n"
     ]
    },
    {
     "name": "stderr",
     "output_type": "stream",
     "text": [
      "eval_pointwise: 100%|██████████| 3/3 [00:00<00:00,  4.92it/s]\n"
     ]
    },
    {
     "name": "stdout",
     "output_type": "stream",
     "text": [
      "Training start time: \u001b[35m2023-10-07 23:42:48\u001b[0m\n",
      "Final block size and num: (3253, 1)\n",
      "sim_matrix elapsed: 0.041s\n",
      "sim_matrix, shape: (3253, 3253), num_elements: 1710008, density: 4.9224 %\n"
     ]
    },
    {
     "name": "stderr",
     "output_type": "stream",
     "text": [
      "top_k: 100%|██████████| 3253/3253 [00:00<00:00, 15329.25it/s]\n",
      "eval_pointwise:   0%|          | 0/3 [00:00<?, ?it/s]"
     ]
    },
    {
     "name": "stdout",
     "output_type": "stream",
     "text": [
      "\u001b[31mNo common interaction or similar neighbor for user 1728 and item 2899, proceed with default prediction\u001b[0m\n",
      "\u001b[31mNo common interaction or similar neighbor for user 1728 and item 2621, proceed with default prediction\u001b[0m\n",
      "\u001b[31mNo common interaction or similar neighbor for user 1932 and item 2012, proceed with default prediction\u001b[0m\n",
      "\u001b[31mNo common interaction or similar neighbor for user 35 and item 2067, proceed with default prediction\u001b[0m\n",
      "\u001b[31mNo common interaction or similar neighbor for user 192 and item 556, proceed with default prediction\u001b[0m\n",
      "\u001b[31mNo common interaction or similar neighbor for user 1957 and item 2741, proceed with default prediction\u001b[0m\n"
     ]
    },
    {
     "name": "stderr",
     "output_type": "stream",
     "text": [
      "eval_pointwise: 100%|██████████| 3/3 [00:00<00:00,  5.47it/s]\n",
      "/opt/homebrew/lib/python3.11/site-packages/sklearn/metrics/_classification.py:2845: FutureWarning: Setting the eps parameter is deprecated and will be removed in 1.5. Instead eps will always havea default value of `np.finfo(y_pred.dtype).eps`.\n",
      "  warnings.warn(\n",
      "eval_listwise: 100%|██████████| 1823/1823 [00:00<00:00, 2127.55it/s]\n"
     ]
    },
    {
     "name": "stdout",
     "output_type": "stream",
     "text": [
      "\t eval log_loss: 1.7590\n",
      "\t eval roc_auc: 0.5297\n",
      "\t eval precision@10: 0.0002\n",
      "\t eval recall@10: 0.0006\n",
      "\t eval ndcg@10: 0.0008\n",
      "==============================\n"
     ]
    },
    {
     "name": "stderr",
     "output_type": "stream",
     "text": [
      "eval_pointwise: 100%|██████████| 3/3 [00:00<00:00,  5.60it/s]\n"
     ]
    },
    {
     "name": "stdout",
     "output_type": "stream",
     "text": [
      "\u001b[31mWarning: pearson is not suitable for implicit data\u001b[0m\n",
      "Training start time: \u001b[35m2023-10-07 23:42:50\u001b[0m\n",
      "Final block size and num: (5894, 1)\n",
      "sim_matrix elapsed: 0.154s\n",
      "sim_matrix, shape: (5894, 5894), num_elements: 3855554, density: 11.0986 %\n"
     ]
    },
    {
     "name": "stderr",
     "output_type": "stream",
     "text": [
      "top_k: 100%|██████████| 5894/5894 [00:00<00:00, 11814.59it/s]\n",
      "eval_pointwise:   0%|          | 0/3 [00:00<?, ?it/s]"
     ]
    },
    {
     "name": "stdout",
     "output_type": "stream",
     "text": [
      "\u001b[31mNo common interaction or similar neighbor for user 5359 and item 2395, proceed with default prediction\u001b[0m\n",
      "\u001b[31mNo common interaction or similar neighbor for user 5773 and item 2930, proceed with default prediction\u001b[0m\n",
      "\u001b[31mNo common interaction or similar neighbor for user 5773 and item 282, proceed with default prediction\u001b[0m\n",
      "\u001b[31mNo common interaction or similar neighbor for user 4268 and item 1643, proceed with default prediction\u001b[0m\n",
      "\u001b[31mNo common interaction or similar neighbor for user 4440 and item 1772, proceed with default prediction\u001b[0m\n",
      "\u001b[31mNo common interaction or similar neighbor for user 1728 and item 2899, proceed with default prediction\u001b[0m\n"
     ]
    },
    {
     "name": "stderr",
     "output_type": "stream",
     "text": [
      "eval_pointwise: 100%|██████████| 3/3 [00:00<00:00,  5.25it/s]\n",
      "/opt/homebrew/lib/python3.11/site-packages/sklearn/metrics/_classification.py:2845: FutureWarning: Setting the eps parameter is deprecated and will be removed in 1.5. Instead eps will always havea default value of `np.finfo(y_pred.dtype).eps`.\n",
      "  warnings.warn(\n",
      "eval_listwise: 100%|██████████| 1823/1823 [00:00<00:00, 3991.02it/s]\n"
     ]
    },
    {
     "name": "stdout",
     "output_type": "stream",
     "text": [
      "\t eval log_loss: 2.0000\n",
      "\t eval roc_auc: 0.6899\n",
      "\t eval precision@10: 0.0033\n",
      "\t eval recall@10: 0.0144\n",
      "\t eval ndcg@10: 0.0228\n",
      "==============================\n"
     ]
    },
    {
     "name": "stderr",
     "output_type": "stream",
     "text": [
      "eval_pointwise: 100%|██████████| 3/3 [00:00<00:00,  5.14it/s]\n"
     ]
    },
    {
     "name": "stdout",
     "output_type": "stream",
     "text": [
      "\u001b[31mWarning: pearson is not suitable for implicit data\u001b[0m\n",
      "Training start time: \u001b[35m2023-10-07 23:42:52\u001b[0m\n",
      "Final block size and num: (3253, 1)\n",
      "sim_matrix elapsed: 0.059s\n",
      "sim_matrix, shape: (3253, 3253), num_elements: 1608184, density: 4.6293 %\n"
     ]
    },
    {
     "name": "stderr",
     "output_type": "stream",
     "text": [
      "top_k: 100%|██████████| 3253/3253 [00:00<00:00, 15987.56it/s]\n",
      "eval_pointwise:  33%|███▎      | 1/3 [00:00<00:00,  4.98it/s]"
     ]
    },
    {
     "name": "stdout",
     "output_type": "stream",
     "text": [
      "\u001b[31mNo common interaction or similar neighbor for user 5359 and item 2395, proceed with default prediction\u001b[0m\n",
      "\u001b[31mNo common interaction or similar neighbor for user 5773 and item 2930, proceed with default prediction\u001b[0m\n",
      "\u001b[31mNo common interaction or similar neighbor for user 1141 and item 711, proceed with default prediction\u001b[0m\n",
      "\u001b[31mNo common interaction or similar neighbor for user 4862 and item 86, proceed with default prediction\u001b[0m\n",
      "\u001b[31mNo common interaction or similar neighbor for user 4440 and item 1772, proceed with default prediction\u001b[0m\n",
      "\u001b[31mNo common interaction or similar neighbor for user 1728 and item 2899, proceed with default prediction\u001b[0m\n"
     ]
    },
    {
     "name": "stderr",
     "output_type": "stream",
     "text": [
      "eval_pointwise: 100%|██████████| 3/3 [00:00<00:00,  6.07it/s]\n",
      "/opt/homebrew/lib/python3.11/site-packages/sklearn/metrics/_classification.py:2845: FutureWarning: Setting the eps parameter is deprecated and will be removed in 1.5. Instead eps will always havea default value of `np.finfo(y_pred.dtype).eps`.\n",
      "  warnings.warn(\n",
      "eval_listwise: 100%|██████████| 1823/1823 [00:00<00:00, 2231.04it/s]\n"
     ]
    },
    {
     "name": "stdout",
     "output_type": "stream",
     "text": [
      "\t eval log_loss: 2.2736\n",
      "\t eval roc_auc: 0.5779\n",
      "\t eval precision@10: 0.0004\n",
      "\t eval recall@10: 0.0014\n",
      "\t eval ndcg@10: 0.0017\n",
      "==============================\n"
     ]
    },
    {
     "name": "stderr",
     "output_type": "stream",
     "text": [
      "eval_pointwise: 100%|██████████| 3/3 [00:00<00:00,  5.86it/s]\n"
     ]
    },
    {
     "name": "stdout",
     "output_type": "stream",
     "text": [
      "Training start time: \u001b[35m2023-10-07 23:42:55\u001b[0m\n",
      "Final block size and num: (5894, 1)\n",
      "sim_matrix elapsed: 0.106s\n",
      "sim_matrix, shape: (5894, 5894), num_elements: 4222948, density: 12.1561 %\n"
     ]
    },
    {
     "name": "stderr",
     "output_type": "stream",
     "text": [
      "top_k: 100%|██████████| 5894/5894 [00:00<00:00, 11200.70it/s]\n",
      "eval_pointwise:   0%|          | 0/3 [00:00<?, ?it/s]"
     ]
    },
    {
     "name": "stdout",
     "output_type": "stream",
     "text": [
      "\u001b[31mNo common interaction or similar neighbor for user 1728 and item 2899, proceed with default prediction\u001b[0m\n",
      "\u001b[31mNo common interaction or similar neighbor for user 1728 and item 2621, proceed with default prediction\u001b[0m\n",
      "\u001b[31mNo common interaction or similar neighbor for user 1932 and item 2012, proceed with default prediction\u001b[0m\n",
      "\u001b[31mNo common interaction or similar neighbor for user 35 and item 2067, proceed with default prediction\u001b[0m\n",
      "\u001b[31mNo common interaction or similar neighbor for user 192 and item 556, proceed with default prediction\u001b[0m\n",
      "\u001b[31mNo common interaction or similar neighbor for user 1957 and item 2741, proceed with default prediction\u001b[0m\n"
     ]
    },
    {
     "name": "stderr",
     "output_type": "stream",
     "text": [
      "eval_pointwise: 100%|██████████| 3/3 [00:00<00:00,  4.75it/s]\n",
      "/opt/homebrew/lib/python3.11/site-packages/sklearn/metrics/_classification.py:2845: FutureWarning: Setting the eps parameter is deprecated and will be removed in 1.5. Instead eps will always havea default value of `np.finfo(y_pred.dtype).eps`.\n",
      "  warnings.warn(\n",
      "eval_listwise: 100%|██████████| 1823/1823 [00:00<00:00, 3083.32it/s]\n"
     ]
    },
    {
     "name": "stdout",
     "output_type": "stream",
     "text": [
      "\t eval log_loss: 1.8710\n",
      "\t eval roc_auc: 0.7416\n",
      "\t eval precision@10: 0.0041\n",
      "\t eval recall@10: 0.0166\n",
      "\t eval ndcg@10: 0.0182\n",
      "==============================\n"
     ]
    },
    {
     "name": "stderr",
     "output_type": "stream",
     "text": [
      "eval_pointwise: 100%|██████████| 3/3 [00:00<00:00,  4.72it/s]\n"
     ]
    },
    {
     "name": "stdout",
     "output_type": "stream",
     "text": [
      "Training start time: \u001b[35m2023-10-07 23:42:57\u001b[0m\n",
      "Final block size and num: (3253, 1)\n",
      "sim_matrix elapsed: 0.044s\n",
      "sim_matrix, shape: (3253, 3253), num_elements: 1710008, density: 4.9224 %\n"
     ]
    },
    {
     "name": "stderr",
     "output_type": "stream",
     "text": [
      "top_k: 100%|██████████| 3253/3253 [00:00<00:00, 14649.54it/s]\n",
      "eval_pointwise:   0%|          | 0/3 [00:00<?, ?it/s]"
     ]
    },
    {
     "name": "stdout",
     "output_type": "stream",
     "text": [
      "\u001b[31mNo common interaction or similar neighbor for user 1728 and item 2899, proceed with default prediction\u001b[0m\n",
      "\u001b[31mNo common interaction or similar neighbor for user 1728 and item 2621, proceed with default prediction\u001b[0m\n",
      "\u001b[31mNo common interaction or similar neighbor for user 1932 and item 2012, proceed with default prediction\u001b[0m\n",
      "\u001b[31mNo common interaction or similar neighbor for user 35 and item 2067, proceed with default prediction\u001b[0m\n",
      "\u001b[31mNo common interaction or similar neighbor for user 192 and item 556, proceed with default prediction\u001b[0m\n",
      "\u001b[31mNo common interaction or similar neighbor for user 1957 and item 2741, proceed with default prediction\u001b[0m\n"
     ]
    },
    {
     "name": "stderr",
     "output_type": "stream",
     "text": [
      "eval_pointwise: 100%|██████████| 3/3 [00:00<00:00,  5.50it/s]\n",
      "/opt/homebrew/lib/python3.11/site-packages/sklearn/metrics/_classification.py:2845: FutureWarning: Setting the eps parameter is deprecated and will be removed in 1.5. Instead eps will always havea default value of `np.finfo(y_pred.dtype).eps`.\n",
      "  warnings.warn(\n",
      "eval_listwise: 100%|██████████| 1823/1823 [00:00<00:00, 2106.19it/s]\n"
     ]
    },
    {
     "name": "stdout",
     "output_type": "stream",
     "text": [
      "\t eval log_loss: 2.1105\n",
      "\t eval roc_auc: 0.6328\n",
      "\t eval precision@10: 0.0014\n",
      "\t eval recall@10: 0.0076\n",
      "\t eval ndcg@10: 0.0061\n",
      "==============================\n"
     ]
    },
    {
     "name": "stderr",
     "output_type": "stream",
     "text": [
      "eval_pointwise: 100%|██████████| 3/3 [00:00<00:00,  5.49it/s]\n"
     ]
    },
    {
     "name": "stdout",
     "output_type": "stream",
     "text": [
      "10\n",
      "Training start time: \u001b[35m2023-10-07 23:42:59\u001b[0m\n",
      "Final block size and num: (5894, 1)\n",
      "sim_matrix elapsed: 0.124s\n",
      "sim_matrix, shape: (5894, 5894), num_elements: 4222948, density: 12.1561 %\n"
     ]
    },
    {
     "name": "stderr",
     "output_type": "stream",
     "text": [
      "top_k: 100%|██████████| 5894/5894 [00:00<00:00, 10860.53it/s]\n",
      "eval_pointwise:   0%|          | 0/3 [00:00<?, ?it/s]"
     ]
    },
    {
     "name": "stdout",
     "output_type": "stream",
     "text": [
      "\u001b[31mNo common interaction or similar neighbor for user 1728 and item 2899, proceed with default prediction\u001b[0m\n",
      "\u001b[31mNo common interaction or similar neighbor for user 1728 and item 2621, proceed with default prediction\u001b[0m\n",
      "\u001b[31mNo common interaction or similar neighbor for user 1932 and item 2012, proceed with default prediction\u001b[0m\n",
      "\u001b[31mNo common interaction or similar neighbor for user 35 and item 2067, proceed with default prediction\u001b[0m\n",
      "\u001b[31mNo common interaction or similar neighbor for user 192 and item 556, proceed with default prediction\u001b[0m\n",
      "\u001b[31mNo common interaction or similar neighbor for user 1957 and item 2741, proceed with default prediction\u001b[0m\n"
     ]
    },
    {
     "name": "stderr",
     "output_type": "stream",
     "text": [
      "eval_pointwise: 100%|██████████| 3/3 [00:00<00:00,  4.92it/s]\n",
      "/opt/homebrew/lib/python3.11/site-packages/sklearn/metrics/_classification.py:2845: FutureWarning: Setting the eps parameter is deprecated and will be removed in 1.5. Instead eps will always havea default value of `np.finfo(y_pred.dtype).eps`.\n",
      "  warnings.warn(\n",
      "eval_listwise: 100%|██████████| 1823/1823 [00:00<00:00, 5967.97it/s]\n"
     ]
    },
    {
     "name": "stdout",
     "output_type": "stream",
     "text": [
      "\t eval log_loss: 1.4835\n",
      "\t eval roc_auc: 0.7188\n",
      "\t eval precision@10: 0.0038\n",
      "\t eval recall@10: 0.0182\n",
      "\t eval ndcg@10: 0.0181\n",
      "==============================\n"
     ]
    },
    {
     "name": "stderr",
     "output_type": "stream",
     "text": [
      "eval_pointwise: 100%|██████████| 3/3 [00:00<00:00,  4.86it/s]\n"
     ]
    },
    {
     "name": "stdout",
     "output_type": "stream",
     "text": [
      "Training start time: \u001b[35m2023-10-07 23:43:02\u001b[0m\n",
      "Final block size and num: (3253, 1)\n",
      "sim_matrix elapsed: 0.041s\n",
      "sim_matrix, shape: (3253, 3253), num_elements: 1710008, density: 4.9224 %\n"
     ]
    },
    {
     "name": "stderr",
     "output_type": "stream",
     "text": [
      "top_k: 100%|██████████| 3253/3253 [00:00<00:00, 15463.09it/s]\n",
      "eval_pointwise:   0%|          | 0/3 [00:00<?, ?it/s]"
     ]
    },
    {
     "name": "stdout",
     "output_type": "stream",
     "text": [
      "\u001b[31mNo common interaction or similar neighbor for user 1728 and item 2899, proceed with default prediction\u001b[0m\n",
      "\u001b[31mNo common interaction or similar neighbor for user 1728 and item 2621, proceed with default prediction\u001b[0m\n",
      "\u001b[31mNo common interaction or similar neighbor for user 1932 and item 2012, proceed with default prediction\u001b[0m\n",
      "\u001b[31mNo common interaction or similar neighbor for user 35 and item 2067, proceed with default prediction\u001b[0m\n",
      "\u001b[31mNo common interaction or similar neighbor for user 192 and item 556, proceed with default prediction\u001b[0m\n",
      "\u001b[31mNo common interaction or similar neighbor for user 1957 and item 2741, proceed with default prediction\u001b[0m\n"
     ]
    },
    {
     "name": "stderr",
     "output_type": "stream",
     "text": [
      "eval_pointwise: 100%|██████████| 3/3 [00:00<00:00,  5.54it/s]\n",
      "/opt/homebrew/lib/python3.11/site-packages/sklearn/metrics/_classification.py:2845: FutureWarning: Setting the eps parameter is deprecated and will be removed in 1.5. Instead eps will always havea default value of `np.finfo(y_pred.dtype).eps`.\n",
      "  warnings.warn(\n",
      "eval_listwise: 100%|██████████| 1823/1823 [00:00<00:00, 2076.10it/s]\n"
     ]
    },
    {
     "name": "stdout",
     "output_type": "stream",
     "text": [
      "\t eval log_loss: 1.7713\n",
      "\t eval roc_auc: 0.5253\n",
      "\t eval precision@10: 0.0002\n",
      "\t eval recall@10: 0.0008\n",
      "\t eval ndcg@10: 0.0008\n",
      "==============================\n"
     ]
    },
    {
     "name": "stderr",
     "output_type": "stream",
     "text": [
      "eval_pointwise: 100%|██████████| 3/3 [00:00<00:00,  5.57it/s]\n"
     ]
    },
    {
     "name": "stdout",
     "output_type": "stream",
     "text": [
      "\u001b[31mWarning: pearson is not suitable for implicit data\u001b[0m\n",
      "Training start time: \u001b[35m2023-10-07 23:43:04\u001b[0m\n",
      "Final block size and num: (5894, 1)\n",
      "sim_matrix elapsed: 0.154s\n",
      "sim_matrix, shape: (5894, 5894), num_elements: 3855554, density: 11.0986 %\n"
     ]
    },
    {
     "name": "stderr",
     "output_type": "stream",
     "text": [
      "top_k: 100%|██████████| 5894/5894 [00:00<00:00, 11669.39it/s]\n",
      "eval_pointwise:   0%|          | 0/3 [00:00<?, ?it/s]"
     ]
    },
    {
     "name": "stdout",
     "output_type": "stream",
     "text": [
      "\u001b[31mNo common interaction or similar neighbor for user 5359 and item 2395, proceed with default prediction\u001b[0m\n",
      "\u001b[31mNo common interaction or similar neighbor for user 5773 and item 2930, proceed with default prediction\u001b[0m\n",
      "\u001b[31mNo common interaction or similar neighbor for user 5773 and item 282, proceed with default prediction\u001b[0m\n",
      "\u001b[31mNo common interaction or similar neighbor for user 4268 and item 1643, proceed with default prediction\u001b[0m\n",
      "\u001b[31mNo common interaction or similar neighbor for user 4440 and item 1772, proceed with default prediction\u001b[0m\n",
      "\u001b[31mNo common interaction or similar neighbor for user 1728 and item 2899, proceed with default prediction\u001b[0m\n"
     ]
    },
    {
     "name": "stderr",
     "output_type": "stream",
     "text": [
      "eval_pointwise: 100%|██████████| 3/3 [00:00<00:00,  5.16it/s]\n",
      "/opt/homebrew/lib/python3.11/site-packages/sklearn/metrics/_classification.py:2845: FutureWarning: Setting the eps parameter is deprecated and will be removed in 1.5. Instead eps will always havea default value of `np.finfo(y_pred.dtype).eps`.\n",
      "  warnings.warn(\n",
      "eval_listwise: 100%|██████████| 1823/1823 [00:00<00:00, 3572.44it/s]\n"
     ]
    },
    {
     "name": "stdout",
     "output_type": "stream",
     "text": [
      "\t eval log_loss: 2.0157\n",
      "\t eval roc_auc: 0.6855\n",
      "\t eval precision@10: 0.0033\n",
      "\t eval recall@10: 0.0155\n",
      "\t eval ndcg@10: 0.0211\n",
      "==============================\n"
     ]
    },
    {
     "name": "stderr",
     "output_type": "stream",
     "text": [
      "eval_pointwise: 100%|██████████| 3/3 [00:00<00:00,  5.02it/s]\n"
     ]
    },
    {
     "name": "stdout",
     "output_type": "stream",
     "text": [
      "\u001b[31mWarning: pearson is not suitable for implicit data\u001b[0m\n",
      "Training start time: \u001b[35m2023-10-07 23:43:06\u001b[0m\n",
      "Final block size and num: (3253, 1)\n",
      "sim_matrix elapsed: 0.055s\n",
      "sim_matrix, shape: (3253, 3253), num_elements: 1608184, density: 4.6293 %\n"
     ]
    },
    {
     "name": "stderr",
     "output_type": "stream",
     "text": [
      "top_k: 100%|██████████| 3253/3253 [00:00<00:00, 16291.49it/s]\n",
      "eval_pointwise:   0%|          | 0/3 [00:00<?, ?it/s]"
     ]
    },
    {
     "name": "stdout",
     "output_type": "stream",
     "text": [
      "\u001b[31mNo common interaction or similar neighbor for user 5359 and item 2395, proceed with default prediction\u001b[0m\n",
      "\u001b[31mNo common interaction or similar neighbor for user 5773 and item 2930, proceed with default prediction\u001b[0m\n",
      "\u001b[31mNo common interaction or similar neighbor for user 1141 and item 711, proceed with default prediction\u001b[0m\n",
      "\u001b[31mNo common interaction or similar neighbor for user 4862 and item 86, proceed with default prediction\u001b[0m\n",
      "\u001b[31mNo common interaction or similar neighbor for user 4440 and item 1772, proceed with default prediction\u001b[0m\n",
      "\u001b[31mNo common interaction or similar neighbor for user 1728 and item 2899, proceed with default prediction\u001b[0m\n"
     ]
    },
    {
     "name": "stderr",
     "output_type": "stream",
     "text": [
      "eval_pointwise: 100%|██████████| 3/3 [00:00<00:00,  5.95it/s]\n",
      "/opt/homebrew/lib/python3.11/site-packages/sklearn/metrics/_classification.py:2845: FutureWarning: Setting the eps parameter is deprecated and will be removed in 1.5. Instead eps will always havea default value of `np.finfo(y_pred.dtype).eps`.\n",
      "  warnings.warn(\n",
      "eval_listwise: 100%|██████████| 1823/1823 [00:00<00:00, 2011.00it/s]\n"
     ]
    },
    {
     "name": "stdout",
     "output_type": "stream",
     "text": [
      "\t eval log_loss: 2.2869\n",
      "\t eval roc_auc: 0.5745\n",
      "\t eval precision@10: 0.0004\n",
      "\t eval recall@10: 0.0014\n",
      "\t eval ndcg@10: 0.0018\n",
      "==============================\n"
     ]
    },
    {
     "name": "stderr",
     "output_type": "stream",
     "text": [
      "eval_pointwise: 100%|██████████| 3/3 [00:00<00:00,  5.84it/s]\n"
     ]
    },
    {
     "name": "stdout",
     "output_type": "stream",
     "text": [
      "Training start time: \u001b[35m2023-10-07 23:43:09\u001b[0m\n",
      "Final block size and num: (5894, 1)\n",
      "sim_matrix elapsed: 0.109s\n",
      "sim_matrix, shape: (5894, 5894), num_elements: 4222948, density: 12.1561 %\n"
     ]
    },
    {
     "name": "stderr",
     "output_type": "stream",
     "text": [
      "top_k: 100%|██████████| 5894/5894 [00:00<00:00, 11376.25it/s]\n",
      "eval_pointwise:   0%|          | 0/3 [00:00<?, ?it/s]"
     ]
    },
    {
     "name": "stdout",
     "output_type": "stream",
     "text": [
      "\u001b[31mNo common interaction or similar neighbor for user 1728 and item 2899, proceed with default prediction\u001b[0m\n",
      "\u001b[31mNo common interaction or similar neighbor for user 1728 and item 2621, proceed with default prediction\u001b[0m\n",
      "\u001b[31mNo common interaction or similar neighbor for user 1932 and item 2012, proceed with default prediction\u001b[0m\n",
      "\u001b[31mNo common interaction or similar neighbor for user 35 and item 2067, proceed with default prediction\u001b[0m\n",
      "\u001b[31mNo common interaction or similar neighbor for user 192 and item 556, proceed with default prediction\u001b[0m\n",
      "\u001b[31mNo common interaction or similar neighbor for user 1957 and item 2741, proceed with default prediction\u001b[0m\n"
     ]
    },
    {
     "name": "stderr",
     "output_type": "stream",
     "text": [
      "eval_pointwise: 100%|██████████| 3/3 [00:00<00:00,  4.92it/s]\n",
      "/opt/homebrew/lib/python3.11/site-packages/sklearn/metrics/_classification.py:2845: FutureWarning: Setting the eps parameter is deprecated and will be removed in 1.5. Instead eps will always havea default value of `np.finfo(y_pred.dtype).eps`.\n",
      "  warnings.warn(\n",
      "eval_listwise: 100%|██████████| 1823/1823 [00:00<00:00, 2809.36it/s]\n"
     ]
    },
    {
     "name": "stdout",
     "output_type": "stream",
     "text": [
      "\t eval log_loss: 1.8833\n",
      "\t eval roc_auc: 0.7382\n",
      "\t eval precision@10: 0.0039\n",
      "\t eval recall@10: 0.0162\n",
      "\t eval ndcg@10: 0.0178\n",
      "==============================\n"
     ]
    },
    {
     "name": "stderr",
     "output_type": "stream",
     "text": [
      "eval_pointwise: 100%|██████████| 3/3 [00:00<00:00,  4.78it/s]\n"
     ]
    },
    {
     "name": "stdout",
     "output_type": "stream",
     "text": [
      "Training start time: \u001b[35m2023-10-07 23:43:11\u001b[0m\n",
      "Final block size and num: (3253, 1)\n",
      "sim_matrix elapsed: 0.038s\n",
      "sim_matrix, shape: (3253, 3253), num_elements: 1710008, density: 4.9224 %\n"
     ]
    },
    {
     "name": "stderr",
     "output_type": "stream",
     "text": [
      "top_k: 100%|██████████| 3253/3253 [00:00<00:00, 15430.82it/s]\n",
      "eval_pointwise:   0%|          | 0/3 [00:00<?, ?it/s]"
     ]
    },
    {
     "name": "stdout",
     "output_type": "stream",
     "text": [
      "\u001b[31mNo common interaction or similar neighbor for user 1728 and item 2899, proceed with default prediction\u001b[0m\n",
      "\u001b[31mNo common interaction or similar neighbor for user 1728 and item 2621, proceed with default prediction\u001b[0m\n",
      "\u001b[31mNo common interaction or similar neighbor for user 1932 and item 2012, proceed with default prediction\u001b[0m\n",
      "\u001b[31mNo common interaction or similar neighbor for user 35 and item 2067, proceed with default prediction\u001b[0m\n",
      "\u001b[31mNo common interaction or similar neighbor for user 192 and item 556, proceed with default prediction\u001b[0m\n",
      "\u001b[31mNo common interaction or similar neighbor for user 1957 and item 2741, proceed with default prediction\u001b[0m\n"
     ]
    },
    {
     "name": "stderr",
     "output_type": "stream",
     "text": [
      "eval_pointwise: 100%|██████████| 3/3 [00:00<00:00,  5.43it/s]\n",
      "/opt/homebrew/lib/python3.11/site-packages/sklearn/metrics/_classification.py:2845: FutureWarning: Setting the eps parameter is deprecated and will be removed in 1.5. Instead eps will always havea default value of `np.finfo(y_pred.dtype).eps`.\n",
      "  warnings.warn(\n",
      "eval_listwise: 100%|██████████| 1823/1823 [00:00<00:00, 1944.17it/s]\n"
     ]
    },
    {
     "name": "stdout",
     "output_type": "stream",
     "text": [
      "\t eval log_loss: 2.1222\n",
      "\t eval roc_auc: 0.6295\n",
      "\t eval precision@10: 0.0014\n",
      "\t eval recall@10: 0.0075\n",
      "\t eval ndcg@10: 0.0060\n",
      "==============================\n"
     ]
    },
    {
     "name": "stderr",
     "output_type": "stream",
     "text": [
      "eval_pointwise: 100%|██████████| 3/3 [00:00<00:00,  5.52it/s]\n"
     ]
    },
    {
     "name": "stdout",
     "output_type": "stream",
     "text": [
      "11\n",
      "Training start time: \u001b[35m2023-10-07 23:43:13\u001b[0m\n",
      "Final block size and num: (5894, 1)\n",
      "sim_matrix elapsed: 0.117s\n",
      "sim_matrix, shape: (5894, 5894), num_elements: 4222948, density: 12.1561 %\n"
     ]
    },
    {
     "name": "stderr",
     "output_type": "stream",
     "text": [
      "top_k: 100%|██████████| 5894/5894 [00:00<00:00, 11136.37it/s]\n",
      "eval_pointwise:   0%|          | 0/3 [00:00<?, ?it/s]"
     ]
    },
    {
     "name": "stdout",
     "output_type": "stream",
     "text": [
      "\u001b[31mNo common interaction or similar neighbor for user 1728 and item 2899, proceed with default prediction\u001b[0m\n",
      "\u001b[31mNo common interaction or similar neighbor for user 1728 and item 2621, proceed with default prediction\u001b[0m\n",
      "\u001b[31mNo common interaction or similar neighbor for user 1932 and item 2012, proceed with default prediction\u001b[0m\n",
      "\u001b[31mNo common interaction or similar neighbor for user 35 and item 2067, proceed with default prediction\u001b[0m\n",
      "\u001b[31mNo common interaction or similar neighbor for user 192 and item 556, proceed with default prediction\u001b[0m\n",
      "\u001b[31mNo common interaction or similar neighbor for user 1957 and item 2741, proceed with default prediction\u001b[0m\n"
     ]
    },
    {
     "name": "stderr",
     "output_type": "stream",
     "text": [
      "eval_pointwise: 100%|██████████| 3/3 [00:00<00:00,  4.73it/s]\n",
      "/opt/homebrew/lib/python3.11/site-packages/sklearn/metrics/_classification.py:2845: FutureWarning: Setting the eps parameter is deprecated and will be removed in 1.5. Instead eps will always havea default value of `np.finfo(y_pred.dtype).eps`.\n",
      "  warnings.warn(\n",
      "eval_listwise: 100%|██████████| 1823/1823 [00:00<00:00, 5471.88it/s]\n"
     ]
    },
    {
     "name": "stdout",
     "output_type": "stream",
     "text": [
      "\t eval log_loss: 1.4948\n",
      "\t eval roc_auc: 0.7145\n",
      "\t eval precision@10: 0.0039\n",
      "\t eval recall@10: 0.0172\n",
      "\t eval ndcg@10: 0.0185\n",
      "==============================\n"
     ]
    },
    {
     "name": "stderr",
     "output_type": "stream",
     "text": [
      "eval_pointwise: 100%|██████████| 3/3 [00:00<00:00,  4.83it/s]\n"
     ]
    },
    {
     "name": "stdout",
     "output_type": "stream",
     "text": [
      "Training start time: \u001b[35m2023-10-07 23:43:16\u001b[0m\n",
      "Final block size and num: (3253, 1)\n",
      "sim_matrix elapsed: 0.040s\n",
      "sim_matrix, shape: (3253, 3253), num_elements: 1710008, density: 4.9224 %\n"
     ]
    },
    {
     "name": "stderr",
     "output_type": "stream",
     "text": [
      "top_k: 100%|██████████| 3253/3253 [00:00<00:00, 15380.53it/s]\n",
      "eval_pointwise:   0%|          | 0/3 [00:00<?, ?it/s]"
     ]
    },
    {
     "name": "stdout",
     "output_type": "stream",
     "text": [
      "\u001b[31mNo common interaction or similar neighbor for user 1728 and item 2899, proceed with default prediction\u001b[0m\n",
      "\u001b[31mNo common interaction or similar neighbor for user 1728 and item 2621, proceed with default prediction\u001b[0m\n",
      "\u001b[31mNo common interaction or similar neighbor for user 1932 and item 2012, proceed with default prediction\u001b[0m\n",
      "\u001b[31mNo common interaction or similar neighbor for user 35 and item 2067, proceed with default prediction\u001b[0m\n",
      "\u001b[31mNo common interaction or similar neighbor for user 192 and item 556, proceed with default prediction\u001b[0m\n",
      "\u001b[31mNo common interaction or similar neighbor for user 1957 and item 2741, proceed with default prediction\u001b[0m\n"
     ]
    },
    {
     "name": "stderr",
     "output_type": "stream",
     "text": [
      "eval_pointwise: 100%|██████████| 3/3 [00:00<00:00,  5.54it/s]\n",
      "/opt/homebrew/lib/python3.11/site-packages/sklearn/metrics/_classification.py:2845: FutureWarning: Setting the eps parameter is deprecated and will be removed in 1.5. Instead eps will always havea default value of `np.finfo(y_pred.dtype).eps`.\n",
      "  warnings.warn(\n",
      "eval_listwise: 100%|██████████| 1823/1823 [00:00<00:00, 1927.54it/s]\n"
     ]
    },
    {
     "name": "stdout",
     "output_type": "stream",
     "text": [
      "\t eval log_loss: 1.7821\n",
      "\t eval roc_auc: 0.5209\n",
      "\t eval precision@10: 0.0002\n",
      "\t eval recall@10: 0.0009\n",
      "\t eval ndcg@10: 0.0009\n",
      "==============================\n"
     ]
    },
    {
     "name": "stderr",
     "output_type": "stream",
     "text": [
      "eval_pointwise: 100%|██████████| 3/3 [00:00<00:00,  5.55it/s]\n"
     ]
    },
    {
     "name": "stdout",
     "output_type": "stream",
     "text": [
      "\u001b[31mWarning: pearson is not suitable for implicit data\u001b[0m\n",
      "Training start time: \u001b[35m2023-10-07 23:43:18\u001b[0m\n",
      "Final block size and num: (5894, 1)\n",
      "sim_matrix elapsed: 0.156s\n",
      "sim_matrix, shape: (5894, 5894), num_elements: 3855554, density: 11.0986 %\n"
     ]
    },
    {
     "name": "stderr",
     "output_type": "stream",
     "text": [
      "top_k: 100%|██████████| 5894/5894 [00:00<00:00, 11891.12it/s]\n",
      "eval_pointwise:   0%|          | 0/3 [00:00<?, ?it/s]"
     ]
    },
    {
     "name": "stdout",
     "output_type": "stream",
     "text": [
      "\u001b[31mNo common interaction or similar neighbor for user 5359 and item 2395, proceed with default prediction\u001b[0m\n",
      "\u001b[31mNo common interaction or similar neighbor for user 5773 and item 2930, proceed with default prediction\u001b[0m\n",
      "\u001b[31mNo common interaction or similar neighbor for user 5773 and item 282, proceed with default prediction\u001b[0m\n",
      "\u001b[31mNo common interaction or similar neighbor for user 4268 and item 1643, proceed with default prediction\u001b[0m\n",
      "\u001b[31mNo common interaction or similar neighbor for user 4440 and item 1772, proceed with default prediction\u001b[0m\n",
      "\u001b[31mNo common interaction or similar neighbor for user 1728 and item 2899, proceed with default prediction\u001b[0m\n"
     ]
    },
    {
     "name": "stderr",
     "output_type": "stream",
     "text": [
      "eval_pointwise: 100%|██████████| 3/3 [00:00<00:00,  5.07it/s]\n",
      "/opt/homebrew/lib/python3.11/site-packages/sklearn/metrics/_classification.py:2845: FutureWarning: Setting the eps parameter is deprecated and will be removed in 1.5. Instead eps will always havea default value of `np.finfo(y_pred.dtype).eps`.\n",
      "  warnings.warn(\n",
      "eval_listwise: 100%|██████████| 1823/1823 [00:00<00:00, 3283.79it/s]\n"
     ]
    },
    {
     "name": "stdout",
     "output_type": "stream",
     "text": [
      "\t eval log_loss: 2.0294\n",
      "\t eval roc_auc: 0.6815\n",
      "\t eval precision@10: 0.0034\n",
      "\t eval recall@10: 0.0151\n",
      "\t eval ndcg@10: 0.0225\n",
      "==============================\n"
     ]
    },
    {
     "name": "stderr",
     "output_type": "stream",
     "text": [
      "eval_pointwise: 100%|██████████| 3/3 [00:00<00:00,  4.97it/s]\n"
     ]
    },
    {
     "name": "stdout",
     "output_type": "stream",
     "text": [
      "\u001b[31mWarning: pearson is not suitable for implicit data\u001b[0m\n",
      "Training start time: \u001b[35m2023-10-07 23:43:21\u001b[0m\n",
      "Final block size and num: (3253, 1)\n",
      "sim_matrix elapsed: 0.057s\n",
      "sim_matrix, shape: (3253, 3253), num_elements: 1608184, density: 4.6293 %\n"
     ]
    },
    {
     "name": "stderr",
     "output_type": "stream",
     "text": [
      "top_k: 100%|██████████| 3253/3253 [00:00<00:00, 14653.74it/s]\n",
      "eval_pointwise:   0%|          | 0/3 [00:00<?, ?it/s]"
     ]
    },
    {
     "name": "stdout",
     "output_type": "stream",
     "text": [
      "\u001b[31mNo common interaction or similar neighbor for user 5359 and item 2395, proceed with default prediction\u001b[0m\n",
      "\u001b[31mNo common interaction or similar neighbor for user 5773 and item 2930, proceed with default prediction\u001b[0m\n",
      "\u001b[31mNo common interaction or similar neighbor for user 1141 and item 711, proceed with default prediction\u001b[0m\n",
      "\u001b[31mNo common interaction or similar neighbor for user 4862 and item 86, proceed with default prediction\u001b[0m\n",
      "\u001b[31mNo common interaction or similar neighbor for user 4440 and item 1772, proceed with default prediction\u001b[0m\n",
      "\u001b[31mNo common interaction or similar neighbor for user 1728 and item 2899, proceed with default prediction\u001b[0m\n"
     ]
    },
    {
     "name": "stderr",
     "output_type": "stream",
     "text": [
      "eval_pointwise: 100%|██████████| 3/3 [00:00<00:00,  5.81it/s]\n",
      "/opt/homebrew/lib/python3.11/site-packages/sklearn/metrics/_classification.py:2845: FutureWarning: Setting the eps parameter is deprecated and will be removed in 1.5. Instead eps will always havea default value of `np.finfo(y_pred.dtype).eps`.\n",
      "  warnings.warn(\n",
      "eval_listwise: 100%|██████████| 1823/1823 [00:00<00:00, 1919.22it/s]\n"
     ]
    },
    {
     "name": "stdout",
     "output_type": "stream",
     "text": [
      "\t eval log_loss: 2.2981\n",
      "\t eval roc_auc: 0.5717\n",
      "\t eval precision@10: 0.0004\n",
      "\t eval recall@10: 0.0014\n",
      "\t eval ndcg@10: 0.0018\n",
      "==============================\n"
     ]
    },
    {
     "name": "stderr",
     "output_type": "stream",
     "text": [
      "eval_pointwise: 100%|██████████| 3/3 [00:00<00:00,  5.96it/s]\n"
     ]
    },
    {
     "name": "stdout",
     "output_type": "stream",
     "text": [
      "Training start time: \u001b[35m2023-10-07 23:43:23\u001b[0m\n",
      "Final block size and num: (5894, 1)\n",
      "sim_matrix elapsed: 0.101s\n",
      "sim_matrix, shape: (5894, 5894), num_elements: 4222948, density: 12.1561 %\n"
     ]
    },
    {
     "name": "stderr",
     "output_type": "stream",
     "text": [
      "top_k: 100%|██████████| 5894/5894 [00:00<00:00, 11426.05it/s]\n",
      "eval_pointwise:   0%|          | 0/3 [00:00<?, ?it/s]"
     ]
    },
    {
     "name": "stdout",
     "output_type": "stream",
     "text": [
      "\u001b[31mNo common interaction or similar neighbor for user 1728 and item 2899, proceed with default prediction\u001b[0m\n",
      "\u001b[31mNo common interaction or similar neighbor for user 1728 and item 2621, proceed with default prediction\u001b[0m\n",
      "\u001b[31mNo common interaction or similar neighbor for user 1932 and item 2012, proceed with default prediction\u001b[0m\n",
      "\u001b[31mNo common interaction or similar neighbor for user 35 and item 2067, proceed with default prediction\u001b[0m\n",
      "\u001b[31mNo common interaction or similar neighbor for user 192 and item 556, proceed with default prediction\u001b[0m\n",
      "\u001b[31mNo common interaction or similar neighbor for user 1957 and item 2741, proceed with default prediction\u001b[0m\n"
     ]
    },
    {
     "name": "stderr",
     "output_type": "stream",
     "text": [
      "eval_pointwise: 100%|██████████| 3/3 [00:00<00:00,  4.82it/s]\n",
      "/opt/homebrew/lib/python3.11/site-packages/sklearn/metrics/_classification.py:2845: FutureWarning: Setting the eps parameter is deprecated and will be removed in 1.5. Instead eps will always havea default value of `np.finfo(y_pred.dtype).eps`.\n",
      "  warnings.warn(\n",
      "eval_listwise: 100%|██████████| 1823/1823 [00:00<00:00, 2593.28it/s]\n"
     ]
    },
    {
     "name": "stdout",
     "output_type": "stream",
     "text": [
      "\t eval log_loss: 1.8942\n",
      "\t eval roc_auc: 0.7346\n",
      "\t eval precision@10: 0.0036\n",
      "\t eval recall@10: 0.0163\n",
      "\t eval ndcg@10: 0.0170\n",
      "==============================\n"
     ]
    },
    {
     "name": "stderr",
     "output_type": "stream",
     "text": [
      "eval_pointwise: 100%|██████████| 3/3 [00:00<00:00,  4.80it/s]\n"
     ]
    },
    {
     "name": "stdout",
     "output_type": "stream",
     "text": [
      "Training start time: \u001b[35m2023-10-07 23:43:25\u001b[0m\n",
      "Final block size and num: (3253, 1)\n",
      "sim_matrix elapsed: 0.036s\n",
      "sim_matrix, shape: (3253, 3253), num_elements: 1710008, density: 4.9224 %\n"
     ]
    },
    {
     "name": "stderr",
     "output_type": "stream",
     "text": [
      "top_k: 100%|██████████| 3253/3253 [00:00<00:00, 15422.83it/s]\n",
      "eval_pointwise:   0%|          | 0/3 [00:00<?, ?it/s]"
     ]
    },
    {
     "name": "stdout",
     "output_type": "stream",
     "text": [
      "\u001b[31mNo common interaction or similar neighbor for user 1728 and item 2899, proceed with default prediction\u001b[0m\n",
      "\u001b[31mNo common interaction or similar neighbor for user 1728 and item 2621, proceed with default prediction\u001b[0m\n",
      "\u001b[31mNo common interaction or similar neighbor for user 1932 and item 2012, proceed with default prediction\u001b[0m\n",
      "\u001b[31mNo common interaction or similar neighbor for user 35 and item 2067, proceed with default prediction\u001b[0m\n",
      "\u001b[31mNo common interaction or similar neighbor for user 192 and item 556, proceed with default prediction\u001b[0m\n",
      "\u001b[31mNo common interaction or similar neighbor for user 1957 and item 2741, proceed with default prediction\u001b[0m\n"
     ]
    },
    {
     "name": "stderr",
     "output_type": "stream",
     "text": [
      "eval_pointwise: 100%|██████████| 3/3 [00:00<00:00,  5.51it/s]\n",
      "/opt/homebrew/lib/python3.11/site-packages/sklearn/metrics/_classification.py:2845: FutureWarning: Setting the eps parameter is deprecated and will be removed in 1.5. Instead eps will always havea default value of `np.finfo(y_pred.dtype).eps`.\n",
      "  warnings.warn(\n",
      "eval_listwise: 100%|██████████| 1823/1823 [00:00<00:00, 1880.05it/s]\n"
     ]
    },
    {
     "name": "stdout",
     "output_type": "stream",
     "text": [
      "\t eval log_loss: 2.1325\n",
      "\t eval roc_auc: 0.6261\n",
      "\t eval precision@10: 0.0015\n",
      "\t eval recall@10: 0.0080\n",
      "\t eval ndcg@10: 0.0065\n",
      "==============================\n"
     ]
    },
    {
     "name": "stderr",
     "output_type": "stream",
     "text": [
      "eval_pointwise: 100%|██████████| 3/3 [00:00<00:00,  5.51it/s]\n"
     ]
    },
    {
     "name": "stdout",
     "output_type": "stream",
     "text": [
      "12\n",
      "Training start time: \u001b[35m2023-10-07 23:43:28\u001b[0m\n",
      "Final block size and num: (5894, 1)\n",
      "sim_matrix elapsed: 0.122s\n",
      "sim_matrix, shape: (5894, 5894), num_elements: 4222948, density: 12.1561 %\n"
     ]
    },
    {
     "name": "stderr",
     "output_type": "stream",
     "text": [
      "top_k: 100%|██████████| 5894/5894 [00:00<00:00, 10933.06it/s]\n",
      "eval_pointwise:   0%|          | 0/3 [00:00<?, ?it/s]"
     ]
    },
    {
     "name": "stdout",
     "output_type": "stream",
     "text": [
      "\u001b[31mNo common interaction or similar neighbor for user 1728 and item 2899, proceed with default prediction\u001b[0m\n",
      "\u001b[31mNo common interaction or similar neighbor for user 1728 and item 2621, proceed with default prediction\u001b[0m\n",
      "\u001b[31mNo common interaction or similar neighbor for user 1932 and item 2012, proceed with default prediction\u001b[0m\n",
      "\u001b[31mNo common interaction or similar neighbor for user 35 and item 2067, proceed with default prediction\u001b[0m\n",
      "\u001b[31mNo common interaction or similar neighbor for user 192 and item 556, proceed with default prediction\u001b[0m\n",
      "\u001b[31mNo common interaction or similar neighbor for user 1957 and item 2741, proceed with default prediction\u001b[0m\n"
     ]
    },
    {
     "name": "stderr",
     "output_type": "stream",
     "text": [
      "eval_pointwise: 100%|██████████| 3/3 [00:00<00:00,  4.51it/s]\n",
      "/opt/homebrew/lib/python3.11/site-packages/sklearn/metrics/_classification.py:2845: FutureWarning: Setting the eps parameter is deprecated and will be removed in 1.5. Instead eps will always havea default value of `np.finfo(y_pred.dtype).eps`.\n",
      "  warnings.warn(\n",
      "eval_listwise: 100%|██████████| 1823/1823 [00:00<00:00, 4943.29it/s]\n"
     ]
    },
    {
     "name": "stdout",
     "output_type": "stream",
     "text": [
      "\t eval log_loss: 1.5050\n",
      "\t eval roc_auc: 0.7103\n",
      "\t eval precision@10: 0.0036\n",
      "\t eval recall@10: 0.0159\n",
      "\t eval ndcg@10: 0.0166\n",
      "==============================\n"
     ]
    },
    {
     "name": "stderr",
     "output_type": "stream",
     "text": [
      "eval_pointwise: 100%|██████████| 3/3 [00:00<00:00,  4.82it/s]\n"
     ]
    },
    {
     "name": "stdout",
     "output_type": "stream",
     "text": [
      "Training start time: \u001b[35m2023-10-07 23:43:30\u001b[0m\n",
      "Final block size and num: (3253, 1)\n",
      "sim_matrix elapsed: 0.041s\n",
      "sim_matrix, shape: (3253, 3253), num_elements: 1710008, density: 4.9224 %\n"
     ]
    },
    {
     "name": "stderr",
     "output_type": "stream",
     "text": [
      "top_k: 100%|██████████| 3253/3253 [00:00<00:00, 15168.89it/s]\n",
      "eval_pointwise:   0%|          | 0/3 [00:00<?, ?it/s]"
     ]
    },
    {
     "name": "stdout",
     "output_type": "stream",
     "text": [
      "\u001b[31mNo common interaction or similar neighbor for user 1728 and item 2899, proceed with default prediction\u001b[0m\n",
      "\u001b[31mNo common interaction or similar neighbor for user 1728 and item 2621, proceed with default prediction\u001b[0m\n",
      "\u001b[31mNo common interaction or similar neighbor for user 1932 and item 2012, proceed with default prediction\u001b[0m\n",
      "\u001b[31mNo common interaction or similar neighbor for user 35 and item 2067, proceed with default prediction\u001b[0m\n",
      "\u001b[31mNo common interaction or similar neighbor for user 192 and item 556, proceed with default prediction\u001b[0m\n",
      "\u001b[31mNo common interaction or similar neighbor for user 1957 and item 2741, proceed with default prediction\u001b[0m\n"
     ]
    },
    {
     "name": "stderr",
     "output_type": "stream",
     "text": [
      "eval_pointwise: 100%|██████████| 3/3 [00:00<00:00,  5.35it/s]\n",
      "/opt/homebrew/lib/python3.11/site-packages/sklearn/metrics/_classification.py:2845: FutureWarning: Setting the eps parameter is deprecated and will be removed in 1.5. Instead eps will always havea default value of `np.finfo(y_pred.dtype).eps`.\n",
      "  warnings.warn(\n",
      "eval_listwise: 100%|██████████| 1823/1823 [00:01<00:00, 1737.65it/s]\n"
     ]
    },
    {
     "name": "stdout",
     "output_type": "stream",
     "text": [
      "\t eval log_loss: 1.7917\n",
      "\t eval roc_auc: 0.5168\n",
      "\t eval precision@10: 0.0002\n",
      "\t eval recall@10: 0.0009\n",
      "\t eval ndcg@10: 0.0009\n",
      "==============================\n"
     ]
    },
    {
     "name": "stderr",
     "output_type": "stream",
     "text": [
      "eval_pointwise: 100%|██████████| 3/3 [00:00<00:00,  5.41it/s]\n"
     ]
    },
    {
     "name": "stdout",
     "output_type": "stream",
     "text": [
      "\u001b[31mWarning: pearson is not suitable for implicit data\u001b[0m\n",
      "Training start time: \u001b[35m2023-10-07 23:43:33\u001b[0m\n",
      "Final block size and num: (5894, 1)\n",
      "sim_matrix elapsed: 0.151s\n",
      "sim_matrix, shape: (5894, 5894), num_elements: 3855554, density: 11.0986 %\n"
     ]
    },
    {
     "name": "stderr",
     "output_type": "stream",
     "text": [
      "top_k: 100%|██████████| 5894/5894 [00:00<00:00, 12109.51it/s]\n",
      "eval_pointwise:   0%|          | 0/3 [00:00<?, ?it/s]"
     ]
    },
    {
     "name": "stdout",
     "output_type": "stream",
     "text": [
      "\u001b[31mNo common interaction or similar neighbor for user 5359 and item 2395, proceed with default prediction\u001b[0m\n",
      "\u001b[31mNo common interaction or similar neighbor for user 5773 and item 2930, proceed with default prediction\u001b[0m\n",
      "\u001b[31mNo common interaction or similar neighbor for user 5773 and item 282, proceed with default prediction\u001b[0m\n",
      "\u001b[31mNo common interaction or similar neighbor for user 4268 and item 1643, proceed with default prediction\u001b[0m\n",
      "\u001b[31mNo common interaction or similar neighbor for user 4440 and item 1772, proceed with default prediction\u001b[0m\n",
      "\u001b[31mNo common interaction or similar neighbor for user 1728 and item 2899, proceed with default prediction\u001b[0m\n"
     ]
    },
    {
     "name": "stderr",
     "output_type": "stream",
     "text": [
      "eval_pointwise: 100%|██████████| 3/3 [00:00<00:00,  5.06it/s]\n",
      "/opt/homebrew/lib/python3.11/site-packages/sklearn/metrics/_classification.py:2845: FutureWarning: Setting the eps parameter is deprecated and will be removed in 1.5. Instead eps will always havea default value of `np.finfo(y_pred.dtype).eps`.\n",
      "  warnings.warn(\n",
      "eval_listwise: 100%|██████████| 1823/1823 [00:00<00:00, 3099.41it/s]\n"
     ]
    },
    {
     "name": "stdout",
     "output_type": "stream",
     "text": [
      "\t eval log_loss: 2.0413\n",
      "\t eval roc_auc: 0.6779\n",
      "\t eval precision@10: 0.0034\n",
      "\t eval recall@10: 0.0151\n",
      "\t eval ndcg@10: 0.0231\n",
      "==============================\n"
     ]
    },
    {
     "name": "stderr",
     "output_type": "stream",
     "text": [
      "eval_pointwise: 100%|██████████| 3/3 [00:00<00:00,  5.12it/s]\n"
     ]
    },
    {
     "name": "stdout",
     "output_type": "stream",
     "text": [
      "\u001b[31mWarning: pearson is not suitable for implicit data\u001b[0m\n",
      "Training start time: \u001b[35m2023-10-07 23:43:35\u001b[0m\n",
      "Final block size and num: (3253, 1)\n",
      "sim_matrix elapsed: 0.055s\n",
      "sim_matrix, shape: (3253, 3253), num_elements: 1608184, density: 4.6293 %\n"
     ]
    },
    {
     "name": "stderr",
     "output_type": "stream",
     "text": [
      "top_k: 100%|██████████| 3253/3253 [00:00<00:00, 16327.14it/s]\n",
      "eval_pointwise:   0%|          | 0/3 [00:00<?, ?it/s]"
     ]
    },
    {
     "name": "stdout",
     "output_type": "stream",
     "text": [
      "\u001b[31mNo common interaction or similar neighbor for user 5359 and item 2395, proceed with default prediction\u001b[0m\n",
      "\u001b[31mNo common interaction or similar neighbor for user 5773 and item 2930, proceed with default prediction\u001b[0m\n",
      "\u001b[31mNo common interaction or similar neighbor for user 1141 and item 711, proceed with default prediction\u001b[0m\n",
      "\u001b[31mNo common interaction or similar neighbor for user 4862 and item 86, proceed with default prediction\u001b[0m\n",
      "\u001b[31mNo common interaction or similar neighbor for user 4440 and item 1772, proceed with default prediction\u001b[0m\n",
      "\u001b[31mNo common interaction or similar neighbor for user 1728 and item 2899, proceed with default prediction\u001b[0m\n"
     ]
    },
    {
     "name": "stderr",
     "output_type": "stream",
     "text": [
      "eval_pointwise: 100%|██████████| 3/3 [00:00<00:00,  5.92it/s]\n",
      "/opt/homebrew/lib/python3.11/site-packages/sklearn/metrics/_classification.py:2845: FutureWarning: Setting the eps parameter is deprecated and will be removed in 1.5. Instead eps will always havea default value of `np.finfo(y_pred.dtype).eps`.\n",
      "  warnings.warn(\n",
      "eval_listwise: 100%|██████████| 1823/1823 [00:01<00:00, 1783.51it/s]\n"
     ]
    },
    {
     "name": "stdout",
     "output_type": "stream",
     "text": [
      "\t eval log_loss: 2.3073\n",
      "\t eval roc_auc: 0.5693\n",
      "\t eval precision@10: 0.0004\n",
      "\t eval recall@10: 0.0014\n",
      "\t eval ndcg@10: 0.0016\n",
      "==============================\n"
     ]
    },
    {
     "name": "stderr",
     "output_type": "stream",
     "text": [
      "eval_pointwise: 100%|██████████| 3/3 [00:00<00:00,  5.90it/s]\n"
     ]
    },
    {
     "name": "stdout",
     "output_type": "stream",
     "text": [
      "Training start time: \u001b[35m2023-10-07 23:43:37\u001b[0m\n",
      "Final block size and num: (5894, 1)\n",
      "sim_matrix elapsed: 0.104s\n",
      "sim_matrix, shape: (5894, 5894), num_elements: 4222948, density: 12.1561 %\n"
     ]
    },
    {
     "name": "stderr",
     "output_type": "stream",
     "text": [
      "top_k: 100%|██████████| 5894/5894 [00:00<00:00, 11628.92it/s]\n",
      "eval_pointwise:   0%|          | 0/3 [00:00<?, ?it/s]"
     ]
    },
    {
     "name": "stdout",
     "output_type": "stream",
     "text": [
      "\u001b[31mNo common interaction or similar neighbor for user 1728 and item 2899, proceed with default prediction\u001b[0m\n",
      "\u001b[31mNo common interaction or similar neighbor for user 1728 and item 2621, proceed with default prediction\u001b[0m\n",
      "\u001b[31mNo common interaction or similar neighbor for user 1932 and item 2012, proceed with default prediction\u001b[0m\n",
      "\u001b[31mNo common interaction or similar neighbor for user 35 and item 2067, proceed with default prediction\u001b[0m\n",
      "\u001b[31mNo common interaction or similar neighbor for user 192 and item 556, proceed with default prediction\u001b[0m\n",
      "\u001b[31mNo common interaction or similar neighbor for user 1957 and item 2741, proceed with default prediction\u001b[0m\n"
     ]
    },
    {
     "name": "stderr",
     "output_type": "stream",
     "text": [
      "eval_pointwise: 100%|██████████| 3/3 [00:00<00:00,  4.81it/s]\n",
      "/opt/homebrew/lib/python3.11/site-packages/sklearn/metrics/_classification.py:2845: FutureWarning: Setting the eps parameter is deprecated and will be removed in 1.5. Instead eps will always havea default value of `np.finfo(y_pred.dtype).eps`.\n",
      "  warnings.warn(\n",
      "eval_listwise: 100%|██████████| 1823/1823 [00:00<00:00, 2490.36it/s]\n"
     ]
    },
    {
     "name": "stdout",
     "output_type": "stream",
     "text": [
      "\t eval log_loss: 1.9040\n",
      "\t eval roc_auc: 0.7312\n",
      "\t eval precision@10: 0.0037\n",
      "\t eval recall@10: 0.0167\n",
      "\t eval ndcg@10: 0.0165\n",
      "==============================\n"
     ]
    },
    {
     "name": "stderr",
     "output_type": "stream",
     "text": [
      "eval_pointwise: 100%|██████████| 3/3 [00:00<00:00,  4.78it/s]\n"
     ]
    },
    {
     "name": "stdout",
     "output_type": "stream",
     "text": [
      "Training start time: \u001b[35m2023-10-07 23:43:40\u001b[0m\n",
      "Final block size and num: (3253, 1)\n",
      "sim_matrix elapsed: 0.037s\n",
      "sim_matrix, shape: (3253, 3253), num_elements: 1710008, density: 4.9224 %\n"
     ]
    },
    {
     "name": "stderr",
     "output_type": "stream",
     "text": [
      "top_k: 100%|██████████| 3253/3253 [00:00<00:00, 15300.74it/s]\n",
      "eval_pointwise:   0%|          | 0/3 [00:00<?, ?it/s]"
     ]
    },
    {
     "name": "stdout",
     "output_type": "stream",
     "text": [
      "\u001b[31mNo common interaction or similar neighbor for user 1728 and item 2899, proceed with default prediction\u001b[0m\n",
      "\u001b[31mNo common interaction or similar neighbor for user 1728 and item 2621, proceed with default prediction\u001b[0m\n",
      "\u001b[31mNo common interaction or similar neighbor for user 1932 and item 2012, proceed with default prediction\u001b[0m\n",
      "\u001b[31mNo common interaction or similar neighbor for user 35 and item 2067, proceed with default prediction\u001b[0m\n",
      "\u001b[31mNo common interaction or similar neighbor for user 192 and item 556, proceed with default prediction\u001b[0m\n",
      "\u001b[31mNo common interaction or similar neighbor for user 1957 and item 2741, proceed with default prediction\u001b[0m\n"
     ]
    },
    {
     "name": "stderr",
     "output_type": "stream",
     "text": [
      "eval_pointwise: 100%|██████████| 3/3 [00:00<00:00,  5.00it/s]\n",
      "/opt/homebrew/lib/python3.11/site-packages/sklearn/metrics/_classification.py:2845: FutureWarning: Setting the eps parameter is deprecated and will be removed in 1.5. Instead eps will always havea default value of `np.finfo(y_pred.dtype).eps`.\n",
      "  warnings.warn(\n",
      "eval_listwise: 100%|██████████| 1823/1823 [00:01<00:00, 1713.05it/s]\n"
     ]
    },
    {
     "name": "stdout",
     "output_type": "stream",
     "text": [
      "\t eval log_loss: 2.1416\n",
      "\t eval roc_auc: 0.6228\n",
      "\t eval precision@10: 0.0016\n",
      "\t eval recall@10: 0.0081\n",
      "\t eval ndcg@10: 0.0069\n",
      "==============================\n"
     ]
    },
    {
     "name": "stderr",
     "output_type": "stream",
     "text": [
      "eval_pointwise: 100%|██████████| 3/3 [00:00<00:00,  5.41it/s]\n"
     ]
    },
    {
     "name": "stdout",
     "output_type": "stream",
     "text": [
      "13\n",
      "Training start time: \u001b[35m2023-10-07 23:43:43\u001b[0m\n",
      "Final block size and num: (5894, 1)\n",
      "sim_matrix elapsed: 0.124s\n",
      "sim_matrix, shape: (5894, 5894), num_elements: 4222948, density: 12.1561 %\n"
     ]
    },
    {
     "name": "stderr",
     "output_type": "stream",
     "text": [
      "top_k: 100%|██████████| 5894/5894 [00:00<00:00, 10819.19it/s]\n",
      "eval_pointwise:   0%|          | 0/3 [00:00<?, ?it/s]"
     ]
    },
    {
     "name": "stdout",
     "output_type": "stream",
     "text": [
      "\u001b[31mNo common interaction or similar neighbor for user 1728 and item 2899, proceed with default prediction\u001b[0m\n",
      "\u001b[31mNo common interaction or similar neighbor for user 1728 and item 2621, proceed with default prediction\u001b[0m\n",
      "\u001b[31mNo common interaction or similar neighbor for user 1932 and item 2012, proceed with default prediction\u001b[0m\n",
      "\u001b[31mNo common interaction or similar neighbor for user 35 and item 2067, proceed with default prediction\u001b[0m\n",
      "\u001b[31mNo common interaction or similar neighbor for user 192 and item 556, proceed with default prediction\u001b[0m\n",
      "\u001b[31mNo common interaction or similar neighbor for user 1957 and item 2741, proceed with default prediction\u001b[0m\n"
     ]
    },
    {
     "name": "stderr",
     "output_type": "stream",
     "text": [
      "eval_pointwise: 100%|██████████| 3/3 [00:00<00:00,  4.67it/s]\n",
      "/opt/homebrew/lib/python3.11/site-packages/sklearn/metrics/_classification.py:2845: FutureWarning: Setting the eps parameter is deprecated and will be removed in 1.5. Instead eps will always havea default value of `np.finfo(y_pred.dtype).eps`.\n",
      "  warnings.warn(\n",
      "eval_listwise: 100%|██████████| 1823/1823 [00:00<00:00, 4589.71it/s]\n"
     ]
    },
    {
     "name": "stdout",
     "output_type": "stream",
     "text": [
      "\t eval log_loss: 1.5141\n",
      "\t eval roc_auc: 0.7063\n",
      "\t eval precision@10: 0.0037\n",
      "\t eval recall@10: 0.0168\n",
      "\t eval ndcg@10: 0.0175\n",
      "==============================\n"
     ]
    },
    {
     "name": "stderr",
     "output_type": "stream",
     "text": [
      "eval_pointwise: 100%|██████████| 3/3 [00:00<00:00,  4.67it/s]\n"
     ]
    },
    {
     "name": "stdout",
     "output_type": "stream",
     "text": [
      "Training start time: \u001b[35m2023-10-07 23:43:45\u001b[0m\n",
      "Final block size and num: (3253, 1)\n",
      "sim_matrix elapsed: 0.043s\n",
      "sim_matrix, shape: (3253, 3253), num_elements: 1710008, density: 4.9224 %\n"
     ]
    },
    {
     "name": "stderr",
     "output_type": "stream",
     "text": [
      "top_k: 100%|██████████| 3253/3253 [00:00<00:00, 6818.26it/s] \n",
      "eval_pointwise:   0%|          | 0/3 [00:00<?, ?it/s]"
     ]
    },
    {
     "name": "stdout",
     "output_type": "stream",
     "text": [
      "\u001b[31mNo common interaction or similar neighbor for user 1728 and item 2899, proceed with default prediction\u001b[0m\n",
      "\u001b[31mNo common interaction or similar neighbor for user 1728 and item 2621, proceed with default prediction\u001b[0m\n",
      "\u001b[31mNo common interaction or similar neighbor for user 1932 and item 2012, proceed with default prediction\u001b[0m\n",
      "\u001b[31mNo common interaction or similar neighbor for user 35 and item 2067, proceed with default prediction\u001b[0m\n",
      "\u001b[31mNo common interaction or similar neighbor for user 192 and item 556, proceed with default prediction\u001b[0m\n",
      "\u001b[31mNo common interaction or similar neighbor for user 1957 and item 2741, proceed with default prediction\u001b[0m\n"
     ]
    },
    {
     "name": "stderr",
     "output_type": "stream",
     "text": [
      "eval_pointwise: 100%|██████████| 3/3 [00:00<00:00,  5.27it/s]\n",
      "/opt/homebrew/lib/python3.11/site-packages/sklearn/metrics/_classification.py:2845: FutureWarning: Setting the eps parameter is deprecated and will be removed in 1.5. Instead eps will always havea default value of `np.finfo(y_pred.dtype).eps`.\n",
      "  warnings.warn(\n",
      "eval_listwise: 100%|██████████| 1823/1823 [00:01<00:00, 1576.65it/s]\n"
     ]
    },
    {
     "name": "stdout",
     "output_type": "stream",
     "text": [
      "\t eval log_loss: 1.8001\n",
      "\t eval roc_auc: 0.5131\n",
      "\t eval precision@10: 0.0002\n",
      "\t eval recall@10: 0.0009\n",
      "\t eval ndcg@10: 0.0009\n",
      "==============================\n"
     ]
    },
    {
     "name": "stderr",
     "output_type": "stream",
     "text": [
      "eval_pointwise: 100%|██████████| 3/3 [00:00<00:00,  5.20it/s]\n"
     ]
    },
    {
     "name": "stdout",
     "output_type": "stream",
     "text": [
      "\u001b[31mWarning: pearson is not suitable for implicit data\u001b[0m\n",
      "Training start time: \u001b[35m2023-10-07 23:43:48\u001b[0m\n",
      "Final block size and num: (5894, 1)\n",
      "sim_matrix elapsed: 0.153s\n",
      "sim_matrix, shape: (5894, 5894), num_elements: 3855554, density: 11.0986 %\n"
     ]
    },
    {
     "name": "stderr",
     "output_type": "stream",
     "text": [
      "top_k: 100%|██████████| 5894/5894 [00:00<00:00, 12189.89it/s]\n",
      "eval_pointwise:   0%|          | 0/3 [00:00<?, ?it/s]"
     ]
    },
    {
     "name": "stdout",
     "output_type": "stream",
     "text": [
      "\u001b[31mNo common interaction or similar neighbor for user 5359 and item 2395, proceed with default prediction\u001b[0m\n",
      "\u001b[31mNo common interaction or similar neighbor for user 5773 and item 2930, proceed with default prediction\u001b[0m\n",
      "\u001b[31mNo common interaction or similar neighbor for user 5773 and item 282, proceed with default prediction\u001b[0m\n",
      "\u001b[31mNo common interaction or similar neighbor for user 4268 and item 1643, proceed with default prediction\u001b[0m\n",
      "\u001b[31mNo common interaction or similar neighbor for user 4440 and item 1772, proceed with default prediction\u001b[0m\n",
      "\u001b[31mNo common interaction or similar neighbor for user 1728 and item 2899, proceed with default prediction\u001b[0m\n"
     ]
    },
    {
     "name": "stderr",
     "output_type": "stream",
     "text": [
      "eval_pointwise: 100%|██████████| 3/3 [00:00<00:00,  5.05it/s]\n",
      "/opt/homebrew/lib/python3.11/site-packages/sklearn/metrics/_classification.py:2845: FutureWarning: Setting the eps parameter is deprecated and will be removed in 1.5. Instead eps will always havea default value of `np.finfo(y_pred.dtype).eps`.\n",
      "  warnings.warn(\n",
      "eval_listwise: 100%|██████████| 1823/1823 [00:00<00:00, 2685.00it/s]\n"
     ]
    },
    {
     "name": "stdout",
     "output_type": "stream",
     "text": [
      "\t eval log_loss: 2.0516\n",
      "\t eval roc_auc: 0.6746\n",
      "\t eval precision@10: 0.0033\n",
      "\t eval recall@10: 0.0134\n",
      "\t eval ndcg@10: 0.0213\n",
      "==============================\n"
     ]
    },
    {
     "name": "stderr",
     "output_type": "stream",
     "text": [
      "eval_pointwise: 100%|██████████| 3/3 [00:00<00:00,  4.85it/s]\n"
     ]
    },
    {
     "name": "stdout",
     "output_type": "stream",
     "text": [
      "\u001b[31mWarning: pearson is not suitable for implicit data\u001b[0m\n",
      "Training start time: \u001b[35m2023-10-07 23:43:51\u001b[0m\n",
      "Final block size and num: (3253, 1)\n",
      "sim_matrix elapsed: 0.057s\n",
      "sim_matrix, shape: (3253, 3253), num_elements: 1608184, density: 4.6293 %\n"
     ]
    },
    {
     "name": "stderr",
     "output_type": "stream",
     "text": [
      "top_k: 100%|██████████| 3253/3253 [00:00<00:00, 15689.12it/s]\n",
      "eval_pointwise:   0%|          | 0/3 [00:00<?, ?it/s]"
     ]
    },
    {
     "name": "stdout",
     "output_type": "stream",
     "text": [
      "\u001b[31mNo common interaction or similar neighbor for user 5359 and item 2395, proceed with default prediction\u001b[0m\n",
      "\u001b[31mNo common interaction or similar neighbor for user 5773 and item 2930, proceed with default prediction\u001b[0m\n",
      "\u001b[31mNo common interaction or similar neighbor for user 1141 and item 711, proceed with default prediction\u001b[0m\n",
      "\u001b[31mNo common interaction or similar neighbor for user 4862 and item 86, proceed with default prediction\u001b[0m\n",
      "\u001b[31mNo common interaction or similar neighbor for user 4440 and item 1772, proceed with default prediction\u001b[0m\n",
      "\u001b[31mNo common interaction or similar neighbor for user 1728 and item 2899, proceed with default prediction\u001b[0m\n"
     ]
    },
    {
     "name": "stderr",
     "output_type": "stream",
     "text": [
      "eval_pointwise: 100%|██████████| 3/3 [00:00<00:00,  5.64it/s]\n",
      "/opt/homebrew/lib/python3.11/site-packages/sklearn/metrics/_classification.py:2845: FutureWarning: Setting the eps parameter is deprecated and will be removed in 1.5. Instead eps will always havea default value of `np.finfo(y_pred.dtype).eps`.\n",
      "  warnings.warn(\n",
      "eval_listwise: 100%|██████████| 1823/1823 [00:01<00:00, 1561.93it/s]\n"
     ]
    },
    {
     "name": "stdout",
     "output_type": "stream",
     "text": [
      "\t eval log_loss: 2.3149\n",
      "\t eval roc_auc: 0.5674\n",
      "\t eval precision@10: 0.0004\n",
      "\t eval recall@10: 0.0014\n",
      "\t eval ndcg@10: 0.0016\n",
      "==============================\n"
     ]
    },
    {
     "name": "stderr",
     "output_type": "stream",
     "text": [
      "eval_pointwise: 100%|██████████| 3/3 [00:00<00:00,  5.71it/s]\n"
     ]
    },
    {
     "name": "stdout",
     "output_type": "stream",
     "text": [
      "Training start time: \u001b[35m2023-10-07 23:43:53\u001b[0m\n",
      "Final block size and num: (5894, 1)\n",
      "sim_matrix elapsed: 0.104s\n",
      "sim_matrix, shape: (5894, 5894), num_elements: 4222948, density: 12.1561 %\n"
     ]
    },
    {
     "name": "stderr",
     "output_type": "stream",
     "text": [
      "top_k: 100%|██████████| 5894/5894 [00:00<00:00, 11457.32it/s]\n",
      "eval_pointwise:   0%|          | 0/3 [00:00<?, ?it/s]"
     ]
    },
    {
     "name": "stdout",
     "output_type": "stream",
     "text": [
      "\u001b[31mNo common interaction or similar neighbor for user 1728 and item 2899, proceed with default prediction\u001b[0m\n",
      "\u001b[31mNo common interaction or similar neighbor for user 1728 and item 2621, proceed with default prediction\u001b[0m\n",
      "\u001b[31mNo common interaction or similar neighbor for user 1932 and item 2012, proceed with default prediction\u001b[0m\n",
      "\u001b[31mNo common interaction or similar neighbor for user 35 and item 2067, proceed with default prediction\u001b[0m\n",
      "\u001b[31mNo common interaction or similar neighbor for user 192 and item 556, proceed with default prediction\u001b[0m\n",
      "\u001b[31mNo common interaction or similar neighbor for user 1957 and item 2741, proceed with default prediction\u001b[0m\n"
     ]
    },
    {
     "name": "stderr",
     "output_type": "stream",
     "text": [
      "eval_pointwise: 100%|██████████| 3/3 [00:00<00:00,  4.63it/s]\n",
      "/opt/homebrew/lib/python3.11/site-packages/sklearn/metrics/_classification.py:2845: FutureWarning: Setting the eps parameter is deprecated and will be removed in 1.5. Instead eps will always havea default value of `np.finfo(y_pred.dtype).eps`.\n",
      "  warnings.warn(\n",
      "eval_listwise: 100%|██████████| 1823/1823 [00:00<00:00, 2269.39it/s]\n"
     ]
    },
    {
     "name": "stdout",
     "output_type": "stream",
     "text": [
      "\t eval log_loss: 1.9129\n",
      "\t eval roc_auc: 0.7278\n",
      "\t eval precision@10: 0.0038\n",
      "\t eval recall@10: 0.0170\n",
      "\t eval ndcg@10: 0.0179\n",
      "==============================\n"
     ]
    },
    {
     "name": "stderr",
     "output_type": "stream",
     "text": [
      "eval_pointwise: 100%|██████████| 3/3 [00:00<00:00,  4.70it/s]\n"
     ]
    },
    {
     "name": "stdout",
     "output_type": "stream",
     "text": [
      "Training start time: \u001b[35m2023-10-07 23:43:56\u001b[0m\n",
      "Final block size and num: (3253, 1)\n",
      "sim_matrix elapsed: 0.036s\n",
      "sim_matrix, shape: (3253, 3253), num_elements: 1710008, density: 4.9224 %\n"
     ]
    },
    {
     "name": "stderr",
     "output_type": "stream",
     "text": [
      "top_k: 100%|██████████| 3253/3253 [00:00<00:00, 15229.54it/s]\n",
      "eval_pointwise:   0%|          | 0/3 [00:00<?, ?it/s]"
     ]
    },
    {
     "name": "stdout",
     "output_type": "stream",
     "text": [
      "\u001b[31mNo common interaction or similar neighbor for user 1728 and item 2899, proceed with default prediction\u001b[0m\n",
      "\u001b[31mNo common interaction or similar neighbor for user 1728 and item 2621, proceed with default prediction\u001b[0m\n",
      "\u001b[31mNo common interaction or similar neighbor for user 1932 and item 2012, proceed with default prediction\u001b[0m\n",
      "\u001b[31mNo common interaction or similar neighbor for user 35 and item 2067, proceed with default prediction\u001b[0m\n",
      "\u001b[31mNo common interaction or similar neighbor for user 192 and item 556, proceed with default prediction\u001b[0m\n",
      "\u001b[31mNo common interaction or similar neighbor for user 1957 and item 2741, proceed with default prediction\u001b[0m\n"
     ]
    },
    {
     "name": "stderr",
     "output_type": "stream",
     "text": [
      "eval_pointwise: 100%|██████████| 3/3 [00:00<00:00,  5.14it/s]\n",
      "/opt/homebrew/lib/python3.11/site-packages/sklearn/metrics/_classification.py:2845: FutureWarning: Setting the eps parameter is deprecated and will be removed in 1.5. Instead eps will always havea default value of `np.finfo(y_pred.dtype).eps`.\n",
      "  warnings.warn(\n",
      "eval_listwise: 100%|██████████| 1823/1823 [00:01<00:00, 1556.59it/s]\n"
     ]
    },
    {
     "name": "stdout",
     "output_type": "stream",
     "text": [
      "\t eval log_loss: 2.1496\n",
      "\t eval roc_auc: 0.6196\n",
      "\t eval precision@10: 0.0018\n",
      "\t eval recall@10: 0.0092\n",
      "\t eval ndcg@10: 0.0080\n",
      "==============================\n"
     ]
    },
    {
     "name": "stderr",
     "output_type": "stream",
     "text": [
      "eval_pointwise: 100%|██████████| 3/3 [00:00<00:00,  5.32it/s]\n"
     ]
    },
    {
     "name": "stdout",
     "output_type": "stream",
     "text": [
      "14\n",
      "Training start time: \u001b[35m2023-10-07 23:43:58\u001b[0m\n",
      "Final block size and num: (5894, 1)\n",
      "sim_matrix elapsed: 0.117s\n",
      "sim_matrix, shape: (5894, 5894), num_elements: 4222948, density: 12.1561 %\n"
     ]
    },
    {
     "name": "stderr",
     "output_type": "stream",
     "text": [
      "top_k: 100%|██████████| 5894/5894 [00:00<00:00, 11098.07it/s]\n",
      "eval_pointwise:   0%|          | 0/3 [00:00<?, ?it/s]"
     ]
    },
    {
     "name": "stdout",
     "output_type": "stream",
     "text": [
      "\u001b[31mNo common interaction or similar neighbor for user 1728 and item 2899, proceed with default prediction\u001b[0m\n",
      "\u001b[31mNo common interaction or similar neighbor for user 1728 and item 2621, proceed with default prediction\u001b[0m\n",
      "\u001b[31mNo common interaction or similar neighbor for user 1932 and item 2012, proceed with default prediction\u001b[0m\n",
      "\u001b[31mNo common interaction or similar neighbor for user 35 and item 2067, proceed with default prediction\u001b[0m\n",
      "\u001b[31mNo common interaction or similar neighbor for user 192 and item 556, proceed with default prediction\u001b[0m\n",
      "\u001b[31mNo common interaction or similar neighbor for user 1957 and item 2741, proceed with default prediction\u001b[0m\n"
     ]
    },
    {
     "name": "stderr",
     "output_type": "stream",
     "text": [
      "eval_pointwise: 100%|██████████| 3/3 [00:00<00:00,  4.74it/s]\n",
      "/opt/homebrew/lib/python3.11/site-packages/sklearn/metrics/_classification.py:2845: FutureWarning: Setting the eps parameter is deprecated and will be removed in 1.5. Instead eps will always havea default value of `np.finfo(y_pred.dtype).eps`.\n",
      "  warnings.warn(\n",
      "eval_listwise: 100%|██████████| 1823/1823 [00:00<00:00, 4498.69it/s]\n"
     ]
    },
    {
     "name": "stdout",
     "output_type": "stream",
     "text": [
      "\t eval log_loss: 1.5224\n",
      "\t eval roc_auc: 0.7024\n",
      "\t eval precision@10: 0.0038\n",
      "\t eval recall@10: 0.0163\n",
      "\t eval ndcg@10: 0.0175\n",
      "==============================\n"
     ]
    },
    {
     "name": "stderr",
     "output_type": "stream",
     "text": [
      "eval_pointwise: 100%|██████████| 3/3 [00:00<00:00,  4.69it/s]\n"
     ]
    },
    {
     "name": "stdout",
     "output_type": "stream",
     "text": [
      "Training start time: \u001b[35m2023-10-07 23:44:01\u001b[0m\n",
      "Final block size and num: (3253, 1)\n",
      "sim_matrix elapsed: 0.041s\n",
      "sim_matrix, shape: (3253, 3253), num_elements: 1710008, density: 4.9224 %\n"
     ]
    },
    {
     "name": "stderr",
     "output_type": "stream",
     "text": [
      "top_k: 100%|██████████| 3253/3253 [00:00<00:00, 15157.15it/s]\n",
      "eval_pointwise:   0%|          | 0/3 [00:00<?, ?it/s]"
     ]
    },
    {
     "name": "stdout",
     "output_type": "stream",
     "text": [
      "\u001b[31mNo common interaction or similar neighbor for user 1728 and item 2899, proceed with default prediction\u001b[0m\n",
      "\u001b[31mNo common interaction or similar neighbor for user 1728 and item 2621, proceed with default prediction\u001b[0m\n",
      "\u001b[31mNo common interaction or similar neighbor for user 1932 and item 2012, proceed with default prediction\u001b[0m\n",
      "\u001b[31mNo common interaction or similar neighbor for user 35 and item 2067, proceed with default prediction\u001b[0m\n",
      "\u001b[31mNo common interaction or similar neighbor for user 192 and item 556, proceed with default prediction\u001b[0m\n",
      "\u001b[31mNo common interaction or similar neighbor for user 1957 and item 2741, proceed with default prediction\u001b[0m\n"
     ]
    },
    {
     "name": "stderr",
     "output_type": "stream",
     "text": [
      "eval_pointwise: 100%|██████████| 3/3 [00:00<00:00,  5.23it/s]\n",
      "/opt/homebrew/lib/python3.11/site-packages/sklearn/metrics/_classification.py:2845: FutureWarning: Setting the eps parameter is deprecated and will be removed in 1.5. Instead eps will always havea default value of `np.finfo(y_pred.dtype).eps`.\n",
      "  warnings.warn(\n",
      "eval_listwise: 100%|██████████| 1823/1823 [00:01<00:00, 1485.90it/s]\n"
     ]
    },
    {
     "name": "stdout",
     "output_type": "stream",
     "text": [
      "\t eval log_loss: 1.8076\n",
      "\t eval roc_auc: 0.5096\n",
      "\t eval precision@10: 0.0001\n",
      "\t eval recall@10: 0.0008\n",
      "\t eval ndcg@10: 0.0007\n",
      "==============================\n"
     ]
    },
    {
     "name": "stderr",
     "output_type": "stream",
     "text": [
      "eval_pointwise: 100%|██████████| 3/3 [00:00<00:00,  5.18it/s]\n"
     ]
    },
    {
     "name": "stdout",
     "output_type": "stream",
     "text": [
      "\u001b[31mWarning: pearson is not suitable for implicit data\u001b[0m\n",
      "Training start time: \u001b[35m2023-10-07 23:44:04\u001b[0m\n",
      "Final block size and num: (5894, 1)\n",
      "sim_matrix elapsed: 0.150s\n",
      "sim_matrix, shape: (5894, 5894), num_elements: 3855554, density: 11.0986 %\n"
     ]
    },
    {
     "name": "stderr",
     "output_type": "stream",
     "text": [
      "top_k: 100%|██████████| 5894/5894 [00:00<00:00, 11782.96it/s]\n",
      "eval_pointwise:   0%|          | 0/3 [00:00<?, ?it/s]"
     ]
    },
    {
     "name": "stdout",
     "output_type": "stream",
     "text": [
      "\u001b[31mNo common interaction or similar neighbor for user 5359 and item 2395, proceed with default prediction\u001b[0m\n",
      "\u001b[31mNo common interaction or similar neighbor for user 5773 and item 2930, proceed with default prediction\u001b[0m\n",
      "\u001b[31mNo common interaction or similar neighbor for user 5773 and item 282, proceed with default prediction\u001b[0m\n",
      "\u001b[31mNo common interaction or similar neighbor for user 4268 and item 1643, proceed with default prediction\u001b[0m\n",
      "\u001b[31mNo common interaction or similar neighbor for user 4440 and item 1772, proceed with default prediction\u001b[0m\n",
      "\u001b[31mNo common interaction or similar neighbor for user 1728 and item 2899, proceed with default prediction\u001b[0m\n"
     ]
    },
    {
     "name": "stderr",
     "output_type": "stream",
     "text": [
      "eval_pointwise: 100%|██████████| 3/3 [00:00<00:00,  4.88it/s]\n",
      "/opt/homebrew/lib/python3.11/site-packages/sklearn/metrics/_classification.py:2845: FutureWarning: Setting the eps parameter is deprecated and will be removed in 1.5. Instead eps will always havea default value of `np.finfo(y_pred.dtype).eps`.\n",
      "  warnings.warn(\n",
      "eval_listwise: 100%|██████████| 1823/1823 [00:00<00:00, 2488.78it/s]\n"
     ]
    },
    {
     "name": "stdout",
     "output_type": "stream",
     "text": [
      "\t eval log_loss: 2.0606\n",
      "\t eval roc_auc: 0.6716\n",
      "\t eval precision@10: 0.0032\n",
      "\t eval recall@10: 0.0142\n",
      "\t eval ndcg@10: 0.0211\n",
      "==============================\n"
     ]
    },
    {
     "name": "stderr",
     "output_type": "stream",
     "text": [
      "eval_pointwise: 100%|██████████| 3/3 [00:00<00:00,  4.92it/s]\n"
     ]
    },
    {
     "name": "stdout",
     "output_type": "stream",
     "text": [
      "\u001b[31mWarning: pearson is not suitable for implicit data\u001b[0m\n",
      "Training start time: \u001b[35m2023-10-07 23:44:06\u001b[0m\n",
      "Final block size and num: (3253, 1)\n",
      "sim_matrix elapsed: 0.059s\n",
      "sim_matrix, shape: (3253, 3253), num_elements: 1608184, density: 4.6293 %\n"
     ]
    },
    {
     "name": "stderr",
     "output_type": "stream",
     "text": [
      "top_k: 100%|██████████| 3253/3253 [00:00<00:00, 15985.18it/s]\n",
      "eval_pointwise:   0%|          | 0/3 [00:00<?, ?it/s]"
     ]
    },
    {
     "name": "stdout",
     "output_type": "stream",
     "text": [
      "\u001b[31mNo common interaction or similar neighbor for user 5359 and item 2395, proceed with default prediction\u001b[0m\n",
      "\u001b[31mNo common interaction or similar neighbor for user 5773 and item 2930, proceed with default prediction\u001b[0m\n",
      "\u001b[31mNo common interaction or similar neighbor for user 1141 and item 711, proceed with default prediction\u001b[0m\n",
      "\u001b[31mNo common interaction or similar neighbor for user 4862 and item 86, proceed with default prediction\u001b[0m\n",
      "\u001b[31mNo common interaction or similar neighbor for user 4440 and item 1772, proceed with default prediction\u001b[0m\n",
      "\u001b[31mNo common interaction or similar neighbor for user 1728 and item 2899, proceed with default prediction\u001b[0m\n"
     ]
    },
    {
     "name": "stderr",
     "output_type": "stream",
     "text": [
      "eval_pointwise: 100%|██████████| 3/3 [00:00<00:00,  5.56it/s]\n",
      "/opt/homebrew/lib/python3.11/site-packages/sklearn/metrics/_classification.py:2845: FutureWarning: Setting the eps parameter is deprecated and will be removed in 1.5. Instead eps will always havea default value of `np.finfo(y_pred.dtype).eps`.\n",
      "  warnings.warn(\n",
      "eval_listwise: 100%|██████████| 1823/1823 [00:01<00:00, 1462.35it/s]\n"
     ]
    },
    {
     "name": "stdout",
     "output_type": "stream",
     "text": [
      "\t eval log_loss: 2.3212\n",
      "\t eval roc_auc: 0.5656\n",
      "\t eval precision@10: 0.0004\n",
      "\t eval recall@10: 0.0014\n",
      "\t eval ndcg@10: 0.0017\n",
      "==============================\n"
     ]
    },
    {
     "name": "stderr",
     "output_type": "stream",
     "text": [
      "eval_pointwise: 100%|██████████| 3/3 [00:00<00:00,  5.80it/s]\n"
     ]
    },
    {
     "name": "stdout",
     "output_type": "stream",
     "text": [
      "Training start time: \u001b[35m2023-10-07 23:44:09\u001b[0m\n",
      "Final block size and num: (5894, 1)\n",
      "sim_matrix elapsed: 0.103s\n",
      "sim_matrix, shape: (5894, 5894), num_elements: 4222948, density: 12.1561 %\n"
     ]
    },
    {
     "name": "stderr",
     "output_type": "stream",
     "text": [
      "top_k: 100%|██████████| 5894/5894 [00:00<00:00, 11403.03it/s]\n",
      "eval_pointwise:   0%|          | 0/3 [00:00<?, ?it/s]"
     ]
    },
    {
     "name": "stdout",
     "output_type": "stream",
     "text": [
      "\u001b[31mNo common interaction or similar neighbor for user 1728 and item 2899, proceed with default prediction\u001b[0m\n",
      "\u001b[31mNo common interaction or similar neighbor for user 1728 and item 2621, proceed with default prediction\u001b[0m\n",
      "\u001b[31mNo common interaction or similar neighbor for user 1932 and item 2012, proceed with default prediction\u001b[0m\n",
      "\u001b[31mNo common interaction or similar neighbor for user 35 and item 2067, proceed with default prediction\u001b[0m\n",
      "\u001b[31mNo common interaction or similar neighbor for user 192 and item 556, proceed with default prediction\u001b[0m\n",
      "\u001b[31mNo common interaction or similar neighbor for user 1957 and item 2741, proceed with default prediction\u001b[0m\n"
     ]
    },
    {
     "name": "stderr",
     "output_type": "stream",
     "text": [
      "eval_pointwise: 100%|██████████| 3/3 [00:00<00:00,  4.55it/s]\n",
      "/opt/homebrew/lib/python3.11/site-packages/sklearn/metrics/_classification.py:2845: FutureWarning: Setting the eps parameter is deprecated and will be removed in 1.5. Instead eps will always havea default value of `np.finfo(y_pred.dtype).eps`.\n",
      "  warnings.warn(\n",
      "eval_listwise: 100%|██████████| 1823/1823 [00:00<00:00, 2137.42it/s]\n"
     ]
    },
    {
     "name": "stdout",
     "output_type": "stream",
     "text": [
      "\t eval log_loss: 1.9208\n",
      "\t eval roc_auc: 0.7246\n",
      "\t eval precision@10: 0.0041\n",
      "\t eval recall@10: 0.0184\n",
      "\t eval ndcg@10: 0.0184\n",
      "==============================\n"
     ]
    },
    {
     "name": "stderr",
     "output_type": "stream",
     "text": [
      "eval_pointwise: 100%|██████████| 3/3 [00:00<00:00,  4.49it/s]\n"
     ]
    },
    {
     "name": "stdout",
     "output_type": "stream",
     "text": [
      "Training start time: \u001b[35m2023-10-07 23:44:12\u001b[0m\n",
      "Final block size and num: (3253, 1)\n",
      "sim_matrix elapsed: 0.037s\n",
      "sim_matrix, shape: (3253, 3253), num_elements: 1710008, density: 4.9224 %\n"
     ]
    },
    {
     "name": "stderr",
     "output_type": "stream",
     "text": [
      "top_k: 100%|██████████| 3253/3253 [00:00<00:00, 15302.77it/s]\n",
      "eval_pointwise:   0%|          | 0/3 [00:00<?, ?it/s]"
     ]
    },
    {
     "name": "stdout",
     "output_type": "stream",
     "text": [
      "\u001b[31mNo common interaction or similar neighbor for user 1728 and item 2899, proceed with default prediction\u001b[0m\n",
      "\u001b[31mNo common interaction or similar neighbor for user 1728 and item 2621, proceed with default prediction\u001b[0m\n",
      "\u001b[31mNo common interaction or similar neighbor for user 1932 and item 2012, proceed with default prediction\u001b[0m\n",
      "\u001b[31mNo common interaction or similar neighbor for user 35 and item 2067, proceed with default prediction\u001b[0m\n",
      "\u001b[31mNo common interaction or similar neighbor for user 192 and item 556, proceed with default prediction\u001b[0m\n",
      "\u001b[31mNo common interaction or similar neighbor for user 1957 and item 2741, proceed with default prediction\u001b[0m\n"
     ]
    },
    {
     "name": "stderr",
     "output_type": "stream",
     "text": [
      "eval_pointwise: 100%|██████████| 3/3 [00:00<00:00,  5.12it/s]\n",
      "/opt/homebrew/lib/python3.11/site-packages/sklearn/metrics/_classification.py:2845: FutureWarning: Setting the eps parameter is deprecated and will be removed in 1.5. Instead eps will always havea default value of `np.finfo(y_pred.dtype).eps`.\n",
      "  warnings.warn(\n",
      "eval_listwise: 100%|██████████| 1823/1823 [00:01<00:00, 1492.67it/s]\n"
     ]
    },
    {
     "name": "stdout",
     "output_type": "stream",
     "text": [
      "\t eval log_loss: 2.1567\n",
      "\t eval roc_auc: 0.6165\n",
      "\t eval precision@10: 0.0019\n",
      "\t eval recall@10: 0.0094\n",
      "\t eval ndcg@10: 0.0086\n",
      "==============================\n"
     ]
    },
    {
     "name": "stderr",
     "output_type": "stream",
     "text": [
      "eval_pointwise: 100%|██████████| 3/3 [00:00<00:00,  5.12it/s]\n"
     ]
    },
    {
     "name": "stdout",
     "output_type": "stream",
     "text": [
      "15\n",
      "Training start time: \u001b[35m2023-10-07 23:44:14\u001b[0m\n",
      "Final block size and num: (5894, 1)\n",
      "sim_matrix elapsed: 0.124s\n",
      "sim_matrix, shape: (5894, 5894), num_elements: 4222948, density: 12.1561 %\n"
     ]
    },
    {
     "name": "stderr",
     "output_type": "stream",
     "text": [
      "top_k: 100%|██████████| 5894/5894 [00:00<00:00, 11091.37it/s]\n",
      "eval_pointwise:   0%|          | 0/3 [00:00<?, ?it/s]"
     ]
    },
    {
     "name": "stdout",
     "output_type": "stream",
     "text": [
      "\u001b[31mNo common interaction or similar neighbor for user 1728 and item 2899, proceed with default prediction\u001b[0m\n",
      "\u001b[31mNo common interaction or similar neighbor for user 1728 and item 2621, proceed with default prediction\u001b[0m\n",
      "\u001b[31mNo common interaction or similar neighbor for user 1932 and item 2012, proceed with default prediction\u001b[0m\n",
      "\u001b[31mNo common interaction or similar neighbor for user 35 and item 2067, proceed with default prediction\u001b[0m\n",
      "\u001b[31mNo common interaction or similar neighbor for user 192 and item 556, proceed with default prediction\u001b[0m\n",
      "\u001b[31mNo common interaction or similar neighbor for user 1957 and item 2741, proceed with default prediction\u001b[0m\n"
     ]
    },
    {
     "name": "stderr",
     "output_type": "stream",
     "text": [
      "eval_pointwise: 100%|██████████| 3/3 [00:00<00:00,  4.49it/s]\n",
      "/opt/homebrew/lib/python3.11/site-packages/sklearn/metrics/_classification.py:2845: FutureWarning: Setting the eps parameter is deprecated and will be removed in 1.5. Instead eps will always havea default value of `np.finfo(y_pred.dtype).eps`.\n",
      "  warnings.warn(\n",
      "eval_listwise: 100%|██████████| 1823/1823 [00:00<00:00, 4008.55it/s]\n"
     ]
    },
    {
     "name": "stdout",
     "output_type": "stream",
     "text": [
      "\t eval log_loss: 1.5300\n",
      "\t eval roc_auc: 0.6987\n",
      "\t eval precision@10: 0.0044\n",
      "\t eval recall@10: 0.0197\n",
      "\t eval ndcg@10: 0.0212\n",
      "==============================\n"
     ]
    },
    {
     "name": "stderr",
     "output_type": "stream",
     "text": [
      "eval_pointwise: 100%|██████████| 3/3 [00:00<00:00,  4.63it/s]\n"
     ]
    },
    {
     "name": "stdout",
     "output_type": "stream",
     "text": [
      "Training start time: \u001b[35m2023-10-07 23:44:17\u001b[0m\n",
      "Final block size and num: (3253, 1)\n",
      "sim_matrix elapsed: 0.039s\n",
      "sim_matrix, shape: (3253, 3253), num_elements: 1710008, density: 4.9224 %\n"
     ]
    },
    {
     "name": "stderr",
     "output_type": "stream",
     "text": [
      "top_k: 100%|██████████| 3253/3253 [00:00<00:00, 15611.87it/s]\n",
      "eval_pointwise:   0%|          | 0/3 [00:00<?, ?it/s]"
     ]
    },
    {
     "name": "stdout",
     "output_type": "stream",
     "text": [
      "\u001b[31mNo common interaction or similar neighbor for user 1728 and item 2899, proceed with default prediction\u001b[0m\n",
      "\u001b[31mNo common interaction or similar neighbor for user 1728 and item 2621, proceed with default prediction\u001b[0m\n",
      "\u001b[31mNo common interaction or similar neighbor for user 1932 and item 2012, proceed with default prediction\u001b[0m\n",
      "\u001b[31mNo common interaction or similar neighbor for user 35 and item 2067, proceed with default prediction\u001b[0m\n",
      "\u001b[31mNo common interaction or similar neighbor for user 192 and item 556, proceed with default prediction\u001b[0m\n",
      "\u001b[31mNo common interaction or similar neighbor for user 1957 and item 2741, proceed with default prediction\u001b[0m\n"
     ]
    },
    {
     "name": "stderr",
     "output_type": "stream",
     "text": [
      "eval_pointwise: 100%|██████████| 3/3 [00:00<00:00,  5.29it/s]\n",
      "/opt/homebrew/lib/python3.11/site-packages/sklearn/metrics/_classification.py:2845: FutureWarning: Setting the eps parameter is deprecated and will be removed in 1.5. Instead eps will always havea default value of `np.finfo(y_pred.dtype).eps`.\n",
      "  warnings.warn(\n",
      "eval_listwise: 100%|██████████| 1823/1823 [00:01<00:00, 1482.49it/s]\n"
     ]
    },
    {
     "name": "stdout",
     "output_type": "stream",
     "text": [
      "\t eval log_loss: 1.8144\n",
      "\t eval roc_auc: 0.5063\n",
      "\t eval precision@10: 0.0001\n",
      "\t eval recall@10: 0.0008\n",
      "\t eval ndcg@10: 0.0007\n",
      "==============================\n"
     ]
    },
    {
     "name": "stderr",
     "output_type": "stream",
     "text": [
      "eval_pointwise: 100%|██████████| 3/3 [00:00<00:00,  5.29it/s]\n"
     ]
    },
    {
     "name": "stdout",
     "output_type": "stream",
     "text": [
      "\u001b[31mWarning: pearson is not suitable for implicit data\u001b[0m\n",
      "Training start time: \u001b[35m2023-10-07 23:44:20\u001b[0m\n",
      "Final block size and num: (5894, 1)\n",
      "sim_matrix elapsed: 0.153s\n",
      "sim_matrix, shape: (5894, 5894), num_elements: 3855554, density: 11.0986 %\n"
     ]
    },
    {
     "name": "stderr",
     "output_type": "stream",
     "text": [
      "top_k: 100%|██████████| 5894/5894 [00:00<00:00, 12035.28it/s]\n",
      "eval_pointwise:   0%|          | 0/3 [00:00<?, ?it/s]"
     ]
    },
    {
     "name": "stdout",
     "output_type": "stream",
     "text": [
      "\u001b[31mNo common interaction or similar neighbor for user 5359 and item 2395, proceed with default prediction\u001b[0m\n",
      "\u001b[31mNo common interaction or similar neighbor for user 5773 and item 2930, proceed with default prediction\u001b[0m\n",
      "\u001b[31mNo common interaction or similar neighbor for user 5773 and item 282, proceed with default prediction\u001b[0m\n",
      "\u001b[31mNo common interaction or similar neighbor for user 4268 and item 1643, proceed with default prediction\u001b[0m\n",
      "\u001b[31mNo common interaction or similar neighbor for user 4440 and item 1772, proceed with default prediction\u001b[0m\n",
      "\u001b[31mNo common interaction or similar neighbor for user 1728 and item 2899, proceed with default prediction\u001b[0m\n"
     ]
    },
    {
     "name": "stderr",
     "output_type": "stream",
     "text": [
      "eval_pointwise: 100%|██████████| 3/3 [00:00<00:00,  4.97it/s]\n",
      "/opt/homebrew/lib/python3.11/site-packages/sklearn/metrics/_classification.py:2845: FutureWarning: Setting the eps parameter is deprecated and will be removed in 1.5. Instead eps will always havea default value of `np.finfo(y_pred.dtype).eps`.\n",
      "  warnings.warn(\n",
      "eval_listwise: 100%|██████████| 1823/1823 [00:00<00:00, 2462.11it/s]\n"
     ]
    },
    {
     "name": "stdout",
     "output_type": "stream",
     "text": [
      "\t eval log_loss: 2.0686\n",
      "\t eval roc_auc: 0.6688\n",
      "\t eval precision@10: 0.0030\n",
      "\t eval recall@10: 0.0124\n",
      "\t eval ndcg@10: 0.0194\n",
      "==============================\n"
     ]
    },
    {
     "name": "stderr",
     "output_type": "stream",
     "text": [
      "eval_pointwise: 100%|██████████| 3/3 [00:00<00:00,  4.97it/s]\n"
     ]
    },
    {
     "name": "stdout",
     "output_type": "stream",
     "text": [
      "\u001b[31mWarning: pearson is not suitable for implicit data\u001b[0m\n",
      "Training start time: \u001b[35m2023-10-07 23:44:22\u001b[0m\n",
      "Final block size and num: (3253, 1)\n",
      "sim_matrix elapsed: 0.054s\n",
      "sim_matrix, shape: (3253, 3253), num_elements: 1608184, density: 4.6293 %\n"
     ]
    },
    {
     "name": "stderr",
     "output_type": "stream",
     "text": [
      "top_k: 100%|██████████| 3253/3253 [00:00<00:00, 16605.84it/s]\n",
      "eval_pointwise:   0%|          | 0/3 [00:00<?, ?it/s]"
     ]
    },
    {
     "name": "stdout",
     "output_type": "stream",
     "text": [
      "\u001b[31mNo common interaction or similar neighbor for user 5359 and item 2395, proceed with default prediction\u001b[0m\n",
      "\u001b[31mNo common interaction or similar neighbor for user 5773 and item 2930, proceed with default prediction\u001b[0m\n",
      "\u001b[31mNo common interaction or similar neighbor for user 1141 and item 711, proceed with default prediction\u001b[0m\n",
      "\u001b[31mNo common interaction or similar neighbor for user 4862 and item 86, proceed with default prediction\u001b[0m\n",
      "\u001b[31mNo common interaction or similar neighbor for user 4440 and item 1772, proceed with default prediction\u001b[0m\n",
      "\u001b[31mNo common interaction or similar neighbor for user 1728 and item 2899, proceed with default prediction\u001b[0m\n"
     ]
    },
    {
     "name": "stderr",
     "output_type": "stream",
     "text": [
      "eval_pointwise: 100%|██████████| 3/3 [00:00<00:00,  5.91it/s]\n",
      "/opt/homebrew/lib/python3.11/site-packages/sklearn/metrics/_classification.py:2845: FutureWarning: Setting the eps parameter is deprecated and will be removed in 1.5. Instead eps will always havea default value of `np.finfo(y_pred.dtype).eps`.\n",
      "  warnings.warn(\n",
      "eval_listwise: 100%|██████████| 1823/1823 [00:01<00:00, 1553.97it/s]\n"
     ]
    },
    {
     "name": "stdout",
     "output_type": "stream",
     "text": [
      "\t eval log_loss: 2.3265\n",
      "\t eval roc_auc: 0.5642\n",
      "\t eval precision@10: 0.0004\n",
      "\t eval recall@10: 0.0014\n",
      "\t eval ndcg@10: 0.0016\n",
      "==============================\n"
     ]
    },
    {
     "name": "stderr",
     "output_type": "stream",
     "text": [
      "eval_pointwise: 100%|██████████| 3/3 [00:00<00:00,  5.97it/s]\n"
     ]
    },
    {
     "name": "stdout",
     "output_type": "stream",
     "text": [
      "Training start time: \u001b[35m2023-10-07 23:44:25\u001b[0m\n",
      "Final block size and num: (5894, 1)\n",
      "sim_matrix elapsed: 0.099s\n",
      "sim_matrix, shape: (5894, 5894), num_elements: 4222948, density: 12.1561 %\n"
     ]
    },
    {
     "name": "stderr",
     "output_type": "stream",
     "text": [
      "top_k: 100%|██████████| 5894/5894 [00:00<00:00, 11637.57it/s]\n",
      "eval_pointwise:   0%|          | 0/3 [00:00<?, ?it/s]"
     ]
    },
    {
     "name": "stdout",
     "output_type": "stream",
     "text": [
      "\u001b[31mNo common interaction or similar neighbor for user 1728 and item 2899, proceed with default prediction\u001b[0m\n",
      "\u001b[31mNo common interaction or similar neighbor for user 1728 and item 2621, proceed with default prediction\u001b[0m\n",
      "\u001b[31mNo common interaction or similar neighbor for user 1932 and item 2012, proceed with default prediction\u001b[0m\n",
      "\u001b[31mNo common interaction or similar neighbor for user 35 and item 2067, proceed with default prediction\u001b[0m\n",
      "\u001b[31mNo common interaction or similar neighbor for user 192 and item 556, proceed with default prediction\u001b[0m\n",
      "\u001b[31mNo common interaction or similar neighbor for user 1957 and item 2741, proceed with default prediction\u001b[0m\n"
     ]
    },
    {
     "name": "stderr",
     "output_type": "stream",
     "text": [
      "eval_pointwise: 100%|██████████| 3/3 [00:00<00:00,  4.61it/s]\n",
      "/opt/homebrew/lib/python3.11/site-packages/sklearn/metrics/_classification.py:2845: FutureWarning: Setting the eps parameter is deprecated and will be removed in 1.5. Instead eps will always havea default value of `np.finfo(y_pred.dtype).eps`.\n",
      "  warnings.warn(\n",
      "eval_listwise: 100%|██████████| 1823/1823 [00:00<00:00, 2014.81it/s]\n"
     ]
    },
    {
     "name": "stdout",
     "output_type": "stream",
     "text": [
      "\t eval log_loss: 1.9280\n",
      "\t eval roc_auc: 0.7213\n",
      "\t eval precision@10: 0.0036\n",
      "\t eval recall@10: 0.0158\n",
      "\t eval ndcg@10: 0.0171\n",
      "==============================\n"
     ]
    },
    {
     "name": "stderr",
     "output_type": "stream",
     "text": [
      "eval_pointwise: 100%|██████████| 3/3 [00:00<00:00,  4.55it/s]\n"
     ]
    },
    {
     "name": "stdout",
     "output_type": "stream",
     "text": [
      "Training start time: \u001b[35m2023-10-07 23:44:28\u001b[0m\n",
      "Final block size and num: (3253, 1)\n",
      "sim_matrix elapsed: 0.037s\n",
      "sim_matrix, shape: (3253, 3253), num_elements: 1710008, density: 4.9224 %\n"
     ]
    },
    {
     "name": "stderr",
     "output_type": "stream",
     "text": [
      "top_k: 100%|██████████| 3253/3253 [00:00<00:00, 14608.46it/s]\n",
      "eval_pointwise:   0%|          | 0/3 [00:00<?, ?it/s]"
     ]
    },
    {
     "name": "stdout",
     "output_type": "stream",
     "text": [
      "\u001b[31mNo common interaction or similar neighbor for user 1728 and item 2899, proceed with default prediction\u001b[0m\n",
      "\u001b[31mNo common interaction or similar neighbor for user 1728 and item 2621, proceed with default prediction\u001b[0m\n",
      "\u001b[31mNo common interaction or similar neighbor for user 1932 and item 2012, proceed with default prediction\u001b[0m\n",
      "\u001b[31mNo common interaction or similar neighbor for user 35 and item 2067, proceed with default prediction\u001b[0m\n",
      "\u001b[31mNo common interaction or similar neighbor for user 192 and item 556, proceed with default prediction\u001b[0m\n",
      "\u001b[31mNo common interaction or similar neighbor for user 1957 and item 2741, proceed with default prediction\u001b[0m\n"
     ]
    },
    {
     "name": "stderr",
     "output_type": "stream",
     "text": [
      "eval_pointwise: 100%|██████████| 3/3 [00:00<00:00,  5.37it/s]\n",
      "/opt/homebrew/lib/python3.11/site-packages/sklearn/metrics/_classification.py:2845: FutureWarning: Setting the eps parameter is deprecated and will be removed in 1.5. Instead eps will always havea default value of `np.finfo(y_pred.dtype).eps`.\n",
      "  warnings.warn(\n",
      "eval_listwise: 100%|██████████| 1823/1823 [00:01<00:00, 1479.15it/s]\n"
     ]
    },
    {
     "name": "stdout",
     "output_type": "stream",
     "text": [
      "\t eval log_loss: 2.1630\n",
      "\t eval roc_auc: 0.6135\n",
      "\t eval precision@10: 0.0019\n",
      "\t eval recall@10: 0.0094\n",
      "\t eval ndcg@10: 0.0086\n",
      "==============================\n"
     ]
    },
    {
     "name": "stderr",
     "output_type": "stream",
     "text": [
      "eval_pointwise: 100%|██████████| 3/3 [00:00<00:00,  5.17it/s]\n"
     ]
    },
    {
     "name": "stdout",
     "output_type": "stream",
     "text": [
      "16\n",
      "Training start time: \u001b[35m2023-10-07 23:44:30\u001b[0m\n",
      "Final block size and num: (5894, 1)\n",
      "sim_matrix elapsed: 0.116s\n",
      "sim_matrix, shape: (5894, 5894), num_elements: 4222948, density: 12.1561 %\n"
     ]
    },
    {
     "name": "stderr",
     "output_type": "stream",
     "text": [
      "top_k: 100%|██████████| 5894/5894 [00:00<00:00, 11195.61it/s]\n",
      "eval_pointwise:   0%|          | 0/3 [00:00<?, ?it/s]"
     ]
    },
    {
     "name": "stdout",
     "output_type": "stream",
     "text": [
      "\u001b[31mNo common interaction or similar neighbor for user 1728 and item 2899, proceed with default prediction\u001b[0m\n",
      "\u001b[31mNo common interaction or similar neighbor for user 1728 and item 2621, proceed with default prediction\u001b[0m\n",
      "\u001b[31mNo common interaction or similar neighbor for user 1932 and item 2012, proceed with default prediction\u001b[0m\n",
      "\u001b[31mNo common interaction or similar neighbor for user 35 and item 2067, proceed with default prediction\u001b[0m\n",
      "\u001b[31mNo common interaction or similar neighbor for user 192 and item 556, proceed with default prediction\u001b[0m\n",
      "\u001b[31mNo common interaction or similar neighbor for user 1957 and item 2741, proceed with default prediction\u001b[0m\n"
     ]
    },
    {
     "name": "stderr",
     "output_type": "stream",
     "text": [
      "eval_pointwise: 100%|██████████| 3/3 [00:00<00:00,  4.69it/s]\n",
      "/opt/homebrew/lib/python3.11/site-packages/sklearn/metrics/_classification.py:2845: FutureWarning: Setting the eps parameter is deprecated and will be removed in 1.5. Instead eps will always havea default value of `np.finfo(y_pred.dtype).eps`.\n",
      "  warnings.warn(\n",
      "eval_listwise: 100%|██████████| 1823/1823 [00:00<00:00, 3973.46it/s]\n"
     ]
    },
    {
     "name": "stdout",
     "output_type": "stream",
     "text": [
      "\t eval log_loss: 1.5369\n",
      "\t eval roc_auc: 0.6951\n",
      "\t eval precision@10: 0.0043\n",
      "\t eval recall@10: 0.0194\n",
      "\t eval ndcg@10: 0.0211\n",
      "==============================\n"
     ]
    },
    {
     "name": "stderr",
     "output_type": "stream",
     "text": [
      "eval_pointwise: 100%|██████████| 3/3 [00:00<00:00,  4.63it/s]\n"
     ]
    },
    {
     "name": "stdout",
     "output_type": "stream",
     "text": [
      "Training start time: \u001b[35m2023-10-07 23:44:33\u001b[0m\n",
      "Final block size and num: (3253, 1)\n",
      "sim_matrix elapsed: 0.040s\n",
      "sim_matrix, shape: (3253, 3253), num_elements: 1710008, density: 4.9224 %\n"
     ]
    },
    {
     "name": "stderr",
     "output_type": "stream",
     "text": [
      "top_k: 100%|██████████| 3253/3253 [00:00<00:00, 15441.51it/s]\n",
      "eval_pointwise:   0%|          | 0/3 [00:00<?, ?it/s]"
     ]
    },
    {
     "name": "stdout",
     "output_type": "stream",
     "text": [
      "\u001b[31mNo common interaction or similar neighbor for user 1728 and item 2899, proceed with default prediction\u001b[0m\n",
      "\u001b[31mNo common interaction or similar neighbor for user 1728 and item 2621, proceed with default prediction\u001b[0m\n",
      "\u001b[31mNo common interaction or similar neighbor for user 1932 and item 2012, proceed with default prediction\u001b[0m\n",
      "\u001b[31mNo common interaction or similar neighbor for user 35 and item 2067, proceed with default prediction\u001b[0m\n",
      "\u001b[31mNo common interaction or similar neighbor for user 192 and item 556, proceed with default prediction\u001b[0m\n",
      "\u001b[31mNo common interaction or similar neighbor for user 1957 and item 2741, proceed with default prediction\u001b[0m\n"
     ]
    },
    {
     "name": "stderr",
     "output_type": "stream",
     "text": [
      "eval_pointwise: 100%|██████████| 3/3 [00:00<00:00,  5.24it/s]\n",
      "/opt/homebrew/lib/python3.11/site-packages/sklearn/metrics/_classification.py:2845: FutureWarning: Setting the eps parameter is deprecated and will be removed in 1.5. Instead eps will always havea default value of `np.finfo(y_pred.dtype).eps`.\n",
      "  warnings.warn(\n",
      "eval_listwise: 100%|██████████| 1823/1823 [00:01<00:00, 1342.70it/s]\n"
     ]
    },
    {
     "name": "stdout",
     "output_type": "stream",
     "text": [
      "\t eval log_loss: 1.8204\n",
      "\t eval roc_auc: 0.5034\n",
      "\t eval precision@10: 0.0002\n",
      "\t eval recall@10: 0.0011\n",
      "\t eval ndcg@10: 0.0008\n",
      "==============================\n"
     ]
    },
    {
     "name": "stderr",
     "output_type": "stream",
     "text": [
      "eval_pointwise: 100%|██████████| 3/3 [00:00<00:00,  5.33it/s]\n"
     ]
    },
    {
     "name": "stdout",
     "output_type": "stream",
     "text": [
      "\u001b[31mWarning: pearson is not suitable for implicit data\u001b[0m\n",
      "Training start time: \u001b[35m2023-10-07 23:44:35\u001b[0m\n",
      "Final block size and num: (5894, 1)\n",
      "sim_matrix elapsed: 0.142s\n",
      "sim_matrix, shape: (5894, 5894), num_elements: 3855554, density: 11.0986 %\n"
     ]
    },
    {
     "name": "stderr",
     "output_type": "stream",
     "text": [
      "top_k: 100%|██████████| 5894/5894 [00:00<00:00, 8442.40it/s] \n",
      "eval_pointwise:   0%|          | 0/3 [00:00<?, ?it/s]"
     ]
    },
    {
     "name": "stdout",
     "output_type": "stream",
     "text": [
      "\u001b[31mNo common interaction or similar neighbor for user 5359 and item 2395, proceed with default prediction\u001b[0m\n",
      "\u001b[31mNo common interaction or similar neighbor for user 5773 and item 2930, proceed with default prediction\u001b[0m\n",
      "\u001b[31mNo common interaction or similar neighbor for user 5773 and item 282, proceed with default prediction\u001b[0m\n",
      "\u001b[31mNo common interaction or similar neighbor for user 4268 and item 1643, proceed with default prediction\u001b[0m\n",
      "\u001b[31mNo common interaction or similar neighbor for user 4440 and item 1772, proceed with default prediction\u001b[0m\n",
      "\u001b[31mNo common interaction or similar neighbor for user 1728 and item 2899, proceed with default prediction\u001b[0m\n"
     ]
    },
    {
     "name": "stderr",
     "output_type": "stream",
     "text": [
      "eval_pointwise: 100%|██████████| 3/3 [00:00<00:00,  5.06it/s]\n",
      "/opt/homebrew/lib/python3.11/site-packages/sklearn/metrics/_classification.py:2845: FutureWarning: Setting the eps parameter is deprecated and will be removed in 1.5. Instead eps will always havea default value of `np.finfo(y_pred.dtype).eps`.\n",
      "  warnings.warn(\n",
      "eval_listwise: 100%|██████████| 1823/1823 [00:00<00:00, 2258.56it/s]\n"
     ]
    },
    {
     "name": "stdout",
     "output_type": "stream",
     "text": [
      "\t eval log_loss: 2.0756\n",
      "\t eval roc_auc: 0.6662\n",
      "\t eval precision@10: 0.0033\n",
      "\t eval recall@10: 0.0136\n",
      "\t eval ndcg@10: 0.0223\n",
      "==============================\n"
     ]
    },
    {
     "name": "stderr",
     "output_type": "stream",
     "text": [
      "eval_pointwise: 100%|██████████| 3/3 [00:00<00:00,  4.97it/s]\n"
     ]
    },
    {
     "name": "stdout",
     "output_type": "stream",
     "text": [
      "\u001b[31mWarning: pearson is not suitable for implicit data\u001b[0m\n",
      "Training start time: \u001b[35m2023-10-07 23:44:38\u001b[0m\n",
      "Final block size and num: (3253, 1)\n",
      "sim_matrix elapsed: 0.054s\n",
      "sim_matrix, shape: (3253, 3253), num_elements: 1608184, density: 4.6293 %\n"
     ]
    },
    {
     "name": "stderr",
     "output_type": "stream",
     "text": [
      "top_k: 100%|██████████| 3253/3253 [00:00<00:00, 16021.71it/s]\n",
      "eval_pointwise:   0%|          | 0/3 [00:00<?, ?it/s]"
     ]
    },
    {
     "name": "stdout",
     "output_type": "stream",
     "text": [
      "\u001b[31mNo common interaction or similar neighbor for user 5359 and item 2395, proceed with default prediction\u001b[0m\n",
      "\u001b[31mNo common interaction or similar neighbor for user 5773 and item 2930, proceed with default prediction\u001b[0m\n",
      "\u001b[31mNo common interaction or similar neighbor for user 1141 and item 711, proceed with default prediction\u001b[0m\n",
      "\u001b[31mNo common interaction or similar neighbor for user 4862 and item 86, proceed with default prediction\u001b[0m\n",
      "\u001b[31mNo common interaction or similar neighbor for user 4440 and item 1772, proceed with default prediction\u001b[0m\n",
      "\u001b[31mNo common interaction or similar neighbor for user 1728 and item 2899, proceed with default prediction\u001b[0m\n"
     ]
    },
    {
     "name": "stderr",
     "output_type": "stream",
     "text": [
      "eval_pointwise: 100%|██████████| 3/3 [00:00<00:00,  5.78it/s]\n",
      "/opt/homebrew/lib/python3.11/site-packages/sklearn/metrics/_classification.py:2845: FutureWarning: Setting the eps parameter is deprecated and will be removed in 1.5. Instead eps will always havea default value of `np.finfo(y_pred.dtype).eps`.\n",
      "  warnings.warn(\n",
      "eval_listwise: 100%|██████████| 1823/1823 [00:01<00:00, 1419.43it/s]\n"
     ]
    },
    {
     "name": "stdout",
     "output_type": "stream",
     "text": [
      "\t eval log_loss: 2.3308\n",
      "\t eval roc_auc: 0.5629\n",
      "\t eval precision@10: 0.0003\n",
      "\t eval recall@10: 0.0013\n",
      "\t eval ndcg@10: 0.0015\n",
      "==============================\n"
     ]
    },
    {
     "name": "stderr",
     "output_type": "stream",
     "text": [
      "eval_pointwise: 100%|██████████| 3/3 [00:00<00:00,  5.58it/s]\n"
     ]
    },
    {
     "name": "stdout",
     "output_type": "stream",
     "text": [
      "Training start time: \u001b[35m2023-10-07 23:44:41\u001b[0m\n",
      "Final block size and num: (5894, 1)\n",
      "sim_matrix elapsed: 0.104s\n",
      "sim_matrix, shape: (5894, 5894), num_elements: 4222948, density: 12.1561 %\n"
     ]
    },
    {
     "name": "stderr",
     "output_type": "stream",
     "text": [
      "top_k: 100%|██████████| 5894/5894 [00:00<00:00, 11544.82it/s]\n",
      "eval_pointwise:   0%|          | 0/3 [00:00<?, ?it/s]"
     ]
    },
    {
     "name": "stdout",
     "output_type": "stream",
     "text": [
      "\u001b[31mNo common interaction or similar neighbor for user 1728 and item 2899, proceed with default prediction\u001b[0m\n",
      "\u001b[31mNo common interaction or similar neighbor for user 1728 and item 2621, proceed with default prediction\u001b[0m\n",
      "\u001b[31mNo common interaction or similar neighbor for user 1932 and item 2012, proceed with default prediction\u001b[0m\n",
      "\u001b[31mNo common interaction or similar neighbor for user 35 and item 2067, proceed with default prediction\u001b[0m\n",
      "\u001b[31mNo common interaction or similar neighbor for user 192 and item 556, proceed with default prediction\u001b[0m\n",
      "\u001b[31mNo common interaction or similar neighbor for user 1957 and item 2741, proceed with default prediction\u001b[0m\n"
     ]
    },
    {
     "name": "stderr",
     "output_type": "stream",
     "text": [
      "eval_pointwise: 100%|██████████| 3/3 [00:00<00:00,  4.71it/s]\n",
      "/opt/homebrew/lib/python3.11/site-packages/sklearn/metrics/_classification.py:2845: FutureWarning: Setting the eps parameter is deprecated and will be removed in 1.5. Instead eps will always havea default value of `np.finfo(y_pred.dtype).eps`.\n",
      "  warnings.warn(\n",
      "eval_listwise: 100%|██████████| 1823/1823 [00:00<00:00, 1954.73it/s]\n"
     ]
    },
    {
     "name": "stdout",
     "output_type": "stream",
     "text": [
      "\t eval log_loss: 1.9346\n",
      "\t eval roc_auc: 0.7183\n",
      "\t eval precision@10: 0.0039\n",
      "\t eval recall@10: 0.0170\n",
      "\t eval ndcg@10: 0.0177\n",
      "==============================\n"
     ]
    },
    {
     "name": "stderr",
     "output_type": "stream",
     "text": [
      "eval_pointwise: 100%|██████████| 3/3 [00:00<00:00,  4.72it/s]\n"
     ]
    },
    {
     "name": "stdout",
     "output_type": "stream",
     "text": [
      "Training start time: \u001b[35m2023-10-07 23:44:44\u001b[0m\n",
      "Final block size and num: (3253, 1)\n",
      "sim_matrix elapsed: 0.035s\n",
      "sim_matrix, shape: (3253, 3253), num_elements: 1710008, density: 4.9224 %\n"
     ]
    },
    {
     "name": "stderr",
     "output_type": "stream",
     "text": [
      "top_k: 100%|██████████| 3253/3253 [00:00<00:00, 15902.50it/s]\n",
      "eval_pointwise:   0%|          | 0/3 [00:00<?, ?it/s]"
     ]
    },
    {
     "name": "stdout",
     "output_type": "stream",
     "text": [
      "\u001b[31mNo common interaction or similar neighbor for user 1728 and item 2899, proceed with default prediction\u001b[0m\n",
      "\u001b[31mNo common interaction or similar neighbor for user 1728 and item 2621, proceed with default prediction\u001b[0m\n",
      "\u001b[31mNo common interaction or similar neighbor for user 1932 and item 2012, proceed with default prediction\u001b[0m\n",
      "\u001b[31mNo common interaction or similar neighbor for user 35 and item 2067, proceed with default prediction\u001b[0m\n",
      "\u001b[31mNo common interaction or similar neighbor for user 192 and item 556, proceed with default prediction\u001b[0m\n",
      "\u001b[31mNo common interaction or similar neighbor for user 1957 and item 2741, proceed with default prediction\u001b[0m\n"
     ]
    },
    {
     "name": "stderr",
     "output_type": "stream",
     "text": [
      "eval_pointwise: 100%|██████████| 3/3 [00:00<00:00,  5.39it/s]\n",
      "/opt/homebrew/lib/python3.11/site-packages/sklearn/metrics/_classification.py:2845: FutureWarning: Setting the eps parameter is deprecated and will be removed in 1.5. Instead eps will always havea default value of `np.finfo(y_pred.dtype).eps`.\n",
      "  warnings.warn(\n",
      "eval_listwise: 100%|██████████| 1823/1823 [00:01<00:00, 1439.52it/s]\n"
     ]
    },
    {
     "name": "stdout",
     "output_type": "stream",
     "text": [
      "\t eval log_loss: 2.1687\n",
      "\t eval roc_auc: 0.6107\n",
      "\t eval precision@10: 0.0019\n",
      "\t eval recall@10: 0.0094\n",
      "\t eval ndcg@10: 0.0088\n",
      "==============================\n"
     ]
    },
    {
     "name": "stderr",
     "output_type": "stream",
     "text": [
      "eval_pointwise: 100%|██████████| 3/3 [00:00<00:00,  5.20it/s]\n"
     ]
    },
    {
     "name": "stdout",
     "output_type": "stream",
     "text": [
      "17\n",
      "Training start time: \u001b[35m2023-10-07 23:44:47\u001b[0m\n",
      "Final block size and num: (5894, 1)\n",
      "sim_matrix elapsed: 0.128s\n",
      "sim_matrix, shape: (5894, 5894), num_elements: 4222948, density: 12.1561 %\n"
     ]
    },
    {
     "name": "stderr",
     "output_type": "stream",
     "text": [
      "top_k: 100%|██████████| 5894/5894 [00:00<00:00, 11092.37it/s]\n",
      "eval_pointwise:   0%|          | 0/3 [00:00<?, ?it/s]"
     ]
    },
    {
     "name": "stdout",
     "output_type": "stream",
     "text": [
      "\u001b[31mNo common interaction or similar neighbor for user 1728 and item 2899, proceed with default prediction\u001b[0m\n",
      "\u001b[31mNo common interaction or similar neighbor for user 1728 and item 2621, proceed with default prediction\u001b[0m\n",
      "\u001b[31mNo common interaction or similar neighbor for user 1932 and item 2012, proceed with default prediction\u001b[0m\n",
      "\u001b[31mNo common interaction or similar neighbor for user 35 and item 2067, proceed with default prediction\u001b[0m\n",
      "\u001b[31mNo common interaction or similar neighbor for user 192 and item 556, proceed with default prediction\u001b[0m\n",
      "\u001b[31mNo common interaction or similar neighbor for user 1957 and item 2741, proceed with default prediction\u001b[0m\n"
     ]
    },
    {
     "name": "stderr",
     "output_type": "stream",
     "text": [
      "eval_pointwise: 100%|██████████| 3/3 [00:00<00:00,  4.61it/s]\n",
      "/opt/homebrew/lib/python3.11/site-packages/sklearn/metrics/_classification.py:2845: FutureWarning: Setting the eps parameter is deprecated and will be removed in 1.5. Instead eps will always havea default value of `np.finfo(y_pred.dtype).eps`.\n",
      "  warnings.warn(\n",
      "eval_listwise: 100%|██████████| 1823/1823 [00:00<00:00, 3536.29it/s]\n"
     ]
    },
    {
     "name": "stdout",
     "output_type": "stream",
     "text": [
      "\t eval log_loss: 1.5433\n",
      "\t eval roc_auc: 0.6917\n",
      "\t eval precision@10: 0.0045\n",
      "\t eval recall@10: 0.0207\n",
      "\t eval ndcg@10: 0.0214\n",
      "==============================\n"
     ]
    },
    {
     "name": "stderr",
     "output_type": "stream",
     "text": [
      "eval_pointwise: 100%|██████████| 3/3 [00:00<00:00,  4.38it/s]\n"
     ]
    },
    {
     "name": "stdout",
     "output_type": "stream",
     "text": [
      "Training start time: \u001b[35m2023-10-07 23:44:49\u001b[0m\n",
      "Final block size and num: (3253, 1)\n",
      "sim_matrix elapsed: 0.039s\n",
      "sim_matrix, shape: (3253, 3253), num_elements: 1710008, density: 4.9224 %\n"
     ]
    },
    {
     "name": "stderr",
     "output_type": "stream",
     "text": [
      "top_k: 100%|██████████| 3253/3253 [00:00<00:00, 15372.91it/s]\n",
      "eval_pointwise:   0%|          | 0/3 [00:00<?, ?it/s]"
     ]
    },
    {
     "name": "stdout",
     "output_type": "stream",
     "text": [
      "\u001b[31mNo common interaction or similar neighbor for user 1728 and item 2899, proceed with default prediction\u001b[0m\n",
      "\u001b[31mNo common interaction or similar neighbor for user 1728 and item 2621, proceed with default prediction\u001b[0m\n",
      "\u001b[31mNo common interaction or similar neighbor for user 1932 and item 2012, proceed with default prediction\u001b[0m\n",
      "\u001b[31mNo common interaction or similar neighbor for user 35 and item 2067, proceed with default prediction\u001b[0m\n",
      "\u001b[31mNo common interaction or similar neighbor for user 192 and item 556, proceed with default prediction\u001b[0m\n",
      "\u001b[31mNo common interaction or similar neighbor for user 1957 and item 2741, proceed with default prediction\u001b[0m\n"
     ]
    },
    {
     "name": "stderr",
     "output_type": "stream",
     "text": [
      "eval_pointwise: 100%|██████████| 3/3 [00:00<00:00,  5.34it/s]\n",
      "/opt/homebrew/lib/python3.11/site-packages/sklearn/metrics/_classification.py:2845: FutureWarning: Setting the eps parameter is deprecated and will be removed in 1.5. Instead eps will always havea default value of `np.finfo(y_pred.dtype).eps`.\n",
      "  warnings.warn(\n",
      "eval_listwise: 100%|██████████| 1823/1823 [00:01<00:00, 1323.79it/s]\n"
     ]
    },
    {
     "name": "stdout",
     "output_type": "stream",
     "text": [
      "\t eval log_loss: 1.8258\n",
      "\t eval roc_auc: 0.5006\n",
      "\t eval precision@10: 0.0002\n",
      "\t eval recall@10: 0.0010\n",
      "\t eval ndcg@10: 0.0008\n",
      "==============================\n"
     ]
    },
    {
     "name": "stderr",
     "output_type": "stream",
     "text": [
      "eval_pointwise: 100%|██████████| 3/3 [00:00<00:00,  5.09it/s]\n"
     ]
    },
    {
     "name": "stdout",
     "output_type": "stream",
     "text": [
      "\u001b[31mWarning: pearson is not suitable for implicit data\u001b[0m\n",
      "Training start time: \u001b[35m2023-10-07 23:44:52\u001b[0m\n",
      "Final block size and num: (5894, 1)\n",
      "sim_matrix elapsed: 0.154s\n",
      "sim_matrix, shape: (5894, 5894), num_elements: 3855554, density: 11.0986 %\n"
     ]
    },
    {
     "name": "stderr",
     "output_type": "stream",
     "text": [
      "top_k: 100%|██████████| 5894/5894 [00:00<00:00, 11675.50it/s]\n",
      "eval_pointwise:   0%|          | 0/3 [00:00<?, ?it/s]"
     ]
    },
    {
     "name": "stdout",
     "output_type": "stream",
     "text": [
      "\u001b[31mNo common interaction or similar neighbor for user 5359 and item 2395, proceed with default prediction\u001b[0m\n",
      "\u001b[31mNo common interaction or similar neighbor for user 5773 and item 2930, proceed with default prediction\u001b[0m\n",
      "\u001b[31mNo common interaction or similar neighbor for user 5773 and item 282, proceed with default prediction\u001b[0m\n",
      "\u001b[31mNo common interaction or similar neighbor for user 4268 and item 1643, proceed with default prediction\u001b[0m\n",
      "\u001b[31mNo common interaction or similar neighbor for user 4440 and item 1772, proceed with default prediction\u001b[0m\n",
      "\u001b[31mNo common interaction or similar neighbor for user 1728 and item 2899, proceed with default prediction\u001b[0m\n"
     ]
    },
    {
     "name": "stderr",
     "output_type": "stream",
     "text": [
      "eval_pointwise: 100%|██████████| 3/3 [00:00<00:00,  4.78it/s]\n",
      "/opt/homebrew/lib/python3.11/site-packages/sklearn/metrics/_classification.py:2845: FutureWarning: Setting the eps parameter is deprecated and will be removed in 1.5. Instead eps will always havea default value of `np.finfo(y_pred.dtype).eps`.\n",
      "  warnings.warn(\n",
      "eval_listwise: 100%|██████████| 1823/1823 [00:00<00:00, 2122.20it/s]\n"
     ]
    },
    {
     "name": "stdout",
     "output_type": "stream",
     "text": [
      "\t eval log_loss: 2.0818\n",
      "\t eval roc_auc: 0.6639\n",
      "\t eval precision@10: 0.0032\n",
      "\t eval recall@10: 0.0149\n",
      "\t eval ndcg@10: 0.0211\n",
      "==============================\n"
     ]
    },
    {
     "name": "stderr",
     "output_type": "stream",
     "text": [
      "eval_pointwise: 100%|██████████| 3/3 [00:00<00:00,  4.85it/s]\n"
     ]
    },
    {
     "name": "stdout",
     "output_type": "stream",
     "text": [
      "\u001b[31mWarning: pearson is not suitable for implicit data\u001b[0m\n",
      "Training start time: \u001b[35m2023-10-07 23:44:55\u001b[0m\n",
      "Final block size and num: (3253, 1)\n",
      "sim_matrix elapsed: 0.058s\n",
      "sim_matrix, shape: (3253, 3253), num_elements: 1608184, density: 4.6293 %\n"
     ]
    },
    {
     "name": "stderr",
     "output_type": "stream",
     "text": [
      "top_k: 100%|██████████| 3253/3253 [00:00<00:00, 16127.76it/s]\n",
      "eval_pointwise:   0%|          | 0/3 [00:00<?, ?it/s]"
     ]
    },
    {
     "name": "stdout",
     "output_type": "stream",
     "text": [
      "\u001b[31mNo common interaction or similar neighbor for user 5359 and item 2395, proceed with default prediction\u001b[0m\n",
      "\u001b[31mNo common interaction or similar neighbor for user 5773 and item 2930, proceed with default prediction\u001b[0m\n",
      "\u001b[31mNo common interaction or similar neighbor for user 1141 and item 711, proceed with default prediction\u001b[0m\n",
      "\u001b[31mNo common interaction or similar neighbor for user 4862 and item 86, proceed with default prediction\u001b[0m\n",
      "\u001b[31mNo common interaction or similar neighbor for user 4440 and item 1772, proceed with default prediction\u001b[0m\n",
      "\u001b[31mNo common interaction or similar neighbor for user 1728 and item 2899, proceed with default prediction\u001b[0m\n"
     ]
    },
    {
     "name": "stderr",
     "output_type": "stream",
     "text": [
      "eval_pointwise: 100%|██████████| 3/3 [00:00<00:00,  5.38it/s]\n",
      "/opt/homebrew/lib/python3.11/site-packages/sklearn/metrics/_classification.py:2845: FutureWarning: Setting the eps parameter is deprecated and will be removed in 1.5. Instead eps will always havea default value of `np.finfo(y_pred.dtype).eps`.\n",
      "  warnings.warn(\n",
      "eval_listwise: 100%|██████████| 1823/1823 [00:01<00:00, 1280.46it/s]\n"
     ]
    },
    {
     "name": "stdout",
     "output_type": "stream",
     "text": [
      "\t eval log_loss: 2.3345\n",
      "\t eval roc_auc: 0.5619\n",
      "\t eval precision@10: 0.0003\n",
      "\t eval recall@10: 0.0012\n",
      "\t eval ndcg@10: 0.0014\n",
      "==============================\n"
     ]
    },
    {
     "name": "stderr",
     "output_type": "stream",
     "text": [
      "eval_pointwise: 100%|██████████| 3/3 [00:00<00:00,  5.79it/s]\n"
     ]
    },
    {
     "name": "stdout",
     "output_type": "stream",
     "text": [
      "Training start time: \u001b[35m2023-10-07 23:44:58\u001b[0m\n",
      "Final block size and num: (5894, 1)\n",
      "sim_matrix elapsed: 0.102s\n",
      "sim_matrix, shape: (5894, 5894), num_elements: 4222948, density: 12.1561 %\n"
     ]
    },
    {
     "name": "stderr",
     "output_type": "stream",
     "text": [
      "top_k: 100%|██████████| 5894/5894 [00:00<00:00, 11282.09it/s]\n",
      "eval_pointwise:   0%|          | 0/3 [00:00<?, ?it/s]"
     ]
    },
    {
     "name": "stdout",
     "output_type": "stream",
     "text": [
      "\u001b[31mNo common interaction or similar neighbor for user 1728 and item 2899, proceed with default prediction\u001b[0m\n",
      "\u001b[31mNo common interaction or similar neighbor for user 1728 and item 2621, proceed with default prediction\u001b[0m\n",
      "\u001b[31mNo common interaction or similar neighbor for user 1932 and item 2012, proceed with default prediction\u001b[0m\n",
      "\u001b[31mNo common interaction or similar neighbor for user 35 and item 2067, proceed with default prediction\u001b[0m\n",
      "\u001b[31mNo common interaction or similar neighbor for user 192 and item 556, proceed with default prediction\u001b[0m\n",
      "\u001b[31mNo common interaction or similar neighbor for user 1957 and item 2741, proceed with default prediction\u001b[0m\n"
     ]
    },
    {
     "name": "stderr",
     "output_type": "stream",
     "text": [
      "eval_pointwise: 100%|██████████| 3/3 [00:00<00:00,  4.38it/s]\n",
      "/opt/homebrew/lib/python3.11/site-packages/sklearn/metrics/_classification.py:2845: FutureWarning: Setting the eps parameter is deprecated and will be removed in 1.5. Instead eps will always havea default value of `np.finfo(y_pred.dtype).eps`.\n",
      "  warnings.warn(\n",
      "eval_listwise: 100%|██████████| 1823/1823 [00:00<00:00, 1845.91it/s]\n"
     ]
    },
    {
     "name": "stdout",
     "output_type": "stream",
     "text": [
      "\t eval log_loss: 1.9405\n",
      "\t eval roc_auc: 0.7153\n",
      "\t eval precision@10: 0.0038\n",
      "\t eval recall@10: 0.0165\n",
      "\t eval ndcg@10: 0.0176\n",
      "==============================\n"
     ]
    },
    {
     "name": "stderr",
     "output_type": "stream",
     "text": [
      "eval_pointwise: 100%|██████████| 3/3 [00:00<00:00,  4.46it/s]\n"
     ]
    },
    {
     "name": "stdout",
     "output_type": "stream",
     "text": [
      "Training start time: \u001b[35m2023-10-07 23:45:01\u001b[0m\n",
      "Final block size and num: (3253, 1)\n",
      "sim_matrix elapsed: 0.037s\n",
      "sim_matrix, shape: (3253, 3253), num_elements: 1710008, density: 4.9224 %\n"
     ]
    },
    {
     "name": "stderr",
     "output_type": "stream",
     "text": [
      "top_k: 100%|██████████| 3253/3253 [00:00<00:00, 15684.05it/s]\n",
      "eval_pointwise:   0%|          | 0/3 [00:00<?, ?it/s]"
     ]
    },
    {
     "name": "stdout",
     "output_type": "stream",
     "text": [
      "\u001b[31mNo common interaction or similar neighbor for user 1728 and item 2899, proceed with default prediction\u001b[0m\n",
      "\u001b[31mNo common interaction or similar neighbor for user 1728 and item 2621, proceed with default prediction\u001b[0m\n",
      "\u001b[31mNo common interaction or similar neighbor for user 1932 and item 2012, proceed with default prediction\u001b[0m\n",
      "\u001b[31mNo common interaction or similar neighbor for user 35 and item 2067, proceed with default prediction\u001b[0m\n",
      "\u001b[31mNo common interaction or similar neighbor for user 192 and item 556, proceed with default prediction\u001b[0m\n",
      "\u001b[31mNo common interaction or similar neighbor for user 1957 and item 2741, proceed with default prediction\u001b[0m\n"
     ]
    },
    {
     "name": "stderr",
     "output_type": "stream",
     "text": [
      "eval_pointwise: 100%|██████████| 3/3 [00:00<00:00,  5.34it/s]\n",
      "/opt/homebrew/lib/python3.11/site-packages/sklearn/metrics/_classification.py:2845: FutureWarning: Setting the eps parameter is deprecated and will be removed in 1.5. Instead eps will always havea default value of `np.finfo(y_pred.dtype).eps`.\n",
      "  warnings.warn(\n",
      "eval_listwise: 100%|██████████| 1823/1823 [00:01<00:00, 1253.31it/s]\n"
     ]
    },
    {
     "name": "stdout",
     "output_type": "stream",
     "text": [
      "\t eval log_loss: 2.1737\n",
      "\t eval roc_auc: 0.6081\n",
      "\t eval precision@10: 0.0020\n",
      "\t eval recall@10: 0.0103\n",
      "\t eval ndcg@10: 0.0098\n",
      "==============================\n"
     ]
    },
    {
     "name": "stderr",
     "output_type": "stream",
     "text": [
      "eval_pointwise: 100%|██████████| 3/3 [00:00<00:00,  5.22it/s]\n"
     ]
    },
    {
     "name": "stdout",
     "output_type": "stream",
     "text": [
      "18\n",
      "Training start time: \u001b[35m2023-10-07 23:45:04\u001b[0m\n",
      "Final block size and num: (5894, 1)\n",
      "sim_matrix elapsed: 0.115s\n",
      "sim_matrix, shape: (5894, 5894), num_elements: 4222948, density: 12.1561 %\n"
     ]
    },
    {
     "name": "stderr",
     "output_type": "stream",
     "text": [
      "top_k: 100%|██████████| 5894/5894 [00:00<00:00, 10927.52it/s]\n",
      "eval_pointwise:   0%|          | 0/3 [00:00<?, ?it/s]"
     ]
    },
    {
     "name": "stdout",
     "output_type": "stream",
     "text": [
      "\u001b[31mNo common interaction or similar neighbor for user 1728 and item 2899, proceed with default prediction\u001b[0m\n",
      "\u001b[31mNo common interaction or similar neighbor for user 1728 and item 2621, proceed with default prediction\u001b[0m\n",
      "\u001b[31mNo common interaction or similar neighbor for user 1932 and item 2012, proceed with default prediction\u001b[0m\n",
      "\u001b[31mNo common interaction or similar neighbor for user 35 and item 2067, proceed with default prediction\u001b[0m\n",
      "\u001b[31mNo common interaction or similar neighbor for user 192 and item 556, proceed with default prediction\u001b[0m\n",
      "\u001b[31mNo common interaction or similar neighbor for user 1957 and item 2741, proceed with default prediction\u001b[0m\n"
     ]
    },
    {
     "name": "stderr",
     "output_type": "stream",
     "text": [
      "eval_pointwise: 100%|██████████| 3/3 [00:00<00:00,  4.30it/s]\n",
      "/opt/homebrew/lib/python3.11/site-packages/sklearn/metrics/_classification.py:2845: FutureWarning: Setting the eps parameter is deprecated and will be removed in 1.5. Instead eps will always havea default value of `np.finfo(y_pred.dtype).eps`.\n",
      "  warnings.warn(\n",
      "eval_listwise: 100%|██████████| 1823/1823 [00:00<00:00, 3371.05it/s]\n"
     ]
    },
    {
     "name": "stdout",
     "output_type": "stream",
     "text": [
      "\t eval log_loss: 1.5491\n",
      "\t eval roc_auc: 0.6884\n",
      "\t eval precision@10: 0.0045\n",
      "\t eval recall@10: 0.0207\n",
      "\t eval ndcg@10: 0.0210\n",
      "==============================\n"
     ]
    },
    {
     "name": "stderr",
     "output_type": "stream",
     "text": [
      "eval_pointwise: 100%|██████████| 3/3 [00:00<00:00,  4.40it/s]\n"
     ]
    },
    {
     "name": "stdout",
     "output_type": "stream",
     "text": [
      "Training start time: \u001b[35m2023-10-07 23:45:06\u001b[0m\n",
      "Final block size and num: (3253, 1)\n",
      "sim_matrix elapsed: 0.040s\n",
      "sim_matrix, shape: (3253, 3253), num_elements: 1710008, density: 4.9224 %\n"
     ]
    },
    {
     "name": "stderr",
     "output_type": "stream",
     "text": [
      "top_k: 100%|██████████| 3253/3253 [00:00<00:00, 15211.39it/s]\n",
      "eval_pointwise:   0%|          | 0/3 [00:00<?, ?it/s]"
     ]
    },
    {
     "name": "stdout",
     "output_type": "stream",
     "text": [
      "\u001b[31mNo common interaction or similar neighbor for user 1728 and item 2899, proceed with default prediction\u001b[0m\n",
      "\u001b[31mNo common interaction or similar neighbor for user 1728 and item 2621, proceed with default prediction\u001b[0m\n",
      "\u001b[31mNo common interaction or similar neighbor for user 1932 and item 2012, proceed with default prediction\u001b[0m\n",
      "\u001b[31mNo common interaction or similar neighbor for user 35 and item 2067, proceed with default prediction\u001b[0m\n",
      "\u001b[31mNo common interaction or similar neighbor for user 192 and item 556, proceed with default prediction\u001b[0m\n",
      "\u001b[31mNo common interaction or similar neighbor for user 1957 and item 2741, proceed with default prediction\u001b[0m\n"
     ]
    },
    {
     "name": "stderr",
     "output_type": "stream",
     "text": [
      "eval_pointwise: 100%|██████████| 3/3 [00:00<00:00,  5.11it/s]\n",
      "/opt/homebrew/lib/python3.11/site-packages/sklearn/metrics/_classification.py:2845: FutureWarning: Setting the eps parameter is deprecated and will be removed in 1.5. Instead eps will always havea default value of `np.finfo(y_pred.dtype).eps`.\n",
      "  warnings.warn(\n",
      "eval_listwise: 100%|██████████| 1823/1823 [00:01<00:00, 1314.16it/s]\n"
     ]
    },
    {
     "name": "stdout",
     "output_type": "stream",
     "text": [
      "\t eval log_loss: 1.8306\n",
      "\t eval roc_auc: 0.4982\n",
      "\t eval precision@10: 0.0002\n",
      "\t eval recall@10: 0.0012\n",
      "\t eval ndcg@10: 0.0010\n",
      "==============================\n"
     ]
    },
    {
     "name": "stderr",
     "output_type": "stream",
     "text": [
      "eval_pointwise: 100%|██████████| 3/3 [00:00<00:00,  5.21it/s]\n"
     ]
    },
    {
     "name": "stdout",
     "output_type": "stream",
     "text": [
      "\u001b[31mWarning: pearson is not suitable for implicit data\u001b[0m\n",
      "Training start time: \u001b[35m2023-10-07 23:45:09\u001b[0m\n",
      "Final block size and num: (5894, 1)\n",
      "sim_matrix elapsed: 0.143s\n",
      "sim_matrix, shape: (5894, 5894), num_elements: 3855554, density: 11.0986 %\n"
     ]
    },
    {
     "name": "stderr",
     "output_type": "stream",
     "text": [
      "top_k: 100%|██████████| 5894/5894 [00:00<00:00, 12339.56it/s]\n",
      "eval_pointwise:   0%|          | 0/3 [00:00<?, ?it/s]"
     ]
    },
    {
     "name": "stdout",
     "output_type": "stream",
     "text": [
      "\u001b[31mNo common interaction or similar neighbor for user 5359 and item 2395, proceed with default prediction\u001b[0m\n",
      "\u001b[31mNo common interaction or similar neighbor for user 5773 and item 2930, proceed with default prediction\u001b[0m\n",
      "\u001b[31mNo common interaction or similar neighbor for user 5773 and item 282, proceed with default prediction\u001b[0m\n",
      "\u001b[31mNo common interaction or similar neighbor for user 4268 and item 1643, proceed with default prediction\u001b[0m\n",
      "\u001b[31mNo common interaction or similar neighbor for user 4440 and item 1772, proceed with default prediction\u001b[0m\n",
      "\u001b[31mNo common interaction or similar neighbor for user 1728 and item 2899, proceed with default prediction\u001b[0m\n"
     ]
    },
    {
     "name": "stderr",
     "output_type": "stream",
     "text": [
      "eval_pointwise: 100%|██████████| 3/3 [00:00<00:00,  5.04it/s]\n",
      "/opt/homebrew/lib/python3.11/site-packages/sklearn/metrics/_classification.py:2845: FutureWarning: Setting the eps parameter is deprecated and will be removed in 1.5. Instead eps will always havea default value of `np.finfo(y_pred.dtype).eps`.\n",
      "  warnings.warn(\n",
      "eval_listwise: 100%|██████████| 1823/1823 [00:00<00:00, 2103.55it/s]\n"
     ]
    },
    {
     "name": "stdout",
     "output_type": "stream",
     "text": [
      "\t eval log_loss: 2.0872\n",
      "\t eval roc_auc: 0.6618\n",
      "\t eval precision@10: 0.0033\n",
      "\t eval recall@10: 0.0137\n",
      "\t eval ndcg@10: 0.0224\n",
      "==============================\n"
     ]
    },
    {
     "name": "stderr",
     "output_type": "stream",
     "text": [
      "eval_pointwise: 100%|██████████| 3/3 [00:00<00:00,  5.04it/s]\n"
     ]
    },
    {
     "name": "stdout",
     "output_type": "stream",
     "text": [
      "\u001b[31mWarning: pearson is not suitable for implicit data\u001b[0m\n",
      "Training start time: \u001b[35m2023-10-07 23:45:12\u001b[0m\n",
      "Final block size and num: (3253, 1)\n",
      "sim_matrix elapsed: 0.057s\n",
      "sim_matrix, shape: (3253, 3253), num_elements: 1608184, density: 4.6293 %\n"
     ]
    },
    {
     "name": "stderr",
     "output_type": "stream",
     "text": [
      "top_k: 100%|██████████| 3253/3253 [00:00<00:00, 16105.49it/s]\n",
      "eval_pointwise:   0%|          | 0/3 [00:00<?, ?it/s]"
     ]
    },
    {
     "name": "stdout",
     "output_type": "stream",
     "text": [
      "\u001b[31mNo common interaction or similar neighbor for user 5359 and item 2395, proceed with default prediction\u001b[0m\n",
      "\u001b[31mNo common interaction or similar neighbor for user 5773 and item 2930, proceed with default prediction\u001b[0m\n",
      "\u001b[31mNo common interaction or similar neighbor for user 1141 and item 711, proceed with default prediction\u001b[0m\n",
      "\u001b[31mNo common interaction or similar neighbor for user 4862 and item 86, proceed with default prediction\u001b[0m\n",
      "\u001b[31mNo common interaction or similar neighbor for user 4440 and item 1772, proceed with default prediction\u001b[0m\n",
      "\u001b[31mNo common interaction or similar neighbor for user 1728 and item 2899, proceed with default prediction\u001b[0m\n"
     ]
    },
    {
     "name": "stderr",
     "output_type": "stream",
     "text": [
      "eval_pointwise: 100%|██████████| 3/3 [00:00<00:00,  5.71it/s]\n",
      "/opt/homebrew/lib/python3.11/site-packages/sklearn/metrics/_classification.py:2845: FutureWarning: Setting the eps parameter is deprecated and will be removed in 1.5. Instead eps will always havea default value of `np.finfo(y_pred.dtype).eps`.\n",
      "  warnings.warn(\n",
      "eval_listwise: 100%|██████████| 1823/1823 [00:01<00:00, 1051.72it/s]\n"
     ]
    },
    {
     "name": "stdout",
     "output_type": "stream",
     "text": [
      "\t eval log_loss: 2.3376\n",
      "\t eval roc_auc: 0.5610\n",
      "\t eval precision@10: 0.0004\n",
      "\t eval recall@10: 0.0013\n",
      "\t eval ndcg@10: 0.0018\n",
      "==============================\n"
     ]
    },
    {
     "name": "stderr",
     "output_type": "stream",
     "text": [
      "eval_pointwise: 100%|██████████| 3/3 [00:00<00:00,  5.57it/s]\n"
     ]
    },
    {
     "name": "stdout",
     "output_type": "stream",
     "text": [
      "Training start time: \u001b[35m2023-10-07 23:45:15\u001b[0m\n",
      "Final block size and num: (5894, 1)\n",
      "sim_matrix elapsed: 0.104s\n",
      "sim_matrix, shape: (5894, 5894), num_elements: 4222948, density: 12.1561 %\n"
     ]
    },
    {
     "name": "stderr",
     "output_type": "stream",
     "text": [
      "top_k: 100%|██████████| 5894/5894 [00:00<00:00, 11007.05it/s]\n",
      "eval_pointwise:   0%|          | 0/3 [00:00<?, ?it/s]"
     ]
    },
    {
     "name": "stdout",
     "output_type": "stream",
     "text": [
      "\u001b[31mNo common interaction or similar neighbor for user 1728 and item 2899, proceed with default prediction\u001b[0m\n",
      "\u001b[31mNo common interaction or similar neighbor for user 1728 and item 2621, proceed with default prediction\u001b[0m\n",
      "\u001b[31mNo common interaction or similar neighbor for user 1932 and item 2012, proceed with default prediction\u001b[0m\n",
      "\u001b[31mNo common interaction or similar neighbor for user 35 and item 2067, proceed with default prediction\u001b[0m\n",
      "\u001b[31mNo common interaction or similar neighbor for user 192 and item 556, proceed with default prediction\u001b[0m\n",
      "\u001b[31mNo common interaction or similar neighbor for user 1957 and item 2741, proceed with default prediction\u001b[0m\n"
     ]
    },
    {
     "name": "stderr",
     "output_type": "stream",
     "text": [
      "eval_pointwise: 100%|██████████| 3/3 [00:00<00:00,  4.42it/s]\n",
      "/opt/homebrew/lib/python3.11/site-packages/sklearn/metrics/_classification.py:2845: FutureWarning: Setting the eps parameter is deprecated and will be removed in 1.5. Instead eps will always havea default value of `np.finfo(y_pred.dtype).eps`.\n",
      "  warnings.warn(\n",
      "eval_listwise: 100%|██████████| 1823/1823 [00:01<00:00, 1701.34it/s]\n"
     ]
    },
    {
     "name": "stdout",
     "output_type": "stream",
     "text": [
      "\t eval log_loss: 1.9460\n",
      "\t eval roc_auc: 0.7125\n",
      "\t eval precision@10: 0.0040\n",
      "\t eval recall@10: 0.0176\n",
      "\t eval ndcg@10: 0.0192\n",
      "==============================\n"
     ]
    },
    {
     "name": "stderr",
     "output_type": "stream",
     "text": [
      "eval_pointwise: 100%|██████████| 3/3 [00:00<00:00,  4.34it/s]\n"
     ]
    },
    {
     "name": "stdout",
     "output_type": "stream",
     "text": [
      "Training start time: \u001b[35m2023-10-07 23:45:18\u001b[0m\n",
      "Final block size and num: (3253, 1)\n",
      "sim_matrix elapsed: 0.037s\n",
      "sim_matrix, shape: (3253, 3253), num_elements: 1710008, density: 4.9224 %\n"
     ]
    },
    {
     "name": "stderr",
     "output_type": "stream",
     "text": [
      "top_k: 100%|██████████| 3253/3253 [00:00<00:00, 15195.18it/s]\n",
      "eval_pointwise:   0%|          | 0/3 [00:00<?, ?it/s]"
     ]
    },
    {
     "name": "stdout",
     "output_type": "stream",
     "text": [
      "\u001b[31mNo common interaction or similar neighbor for user 1728 and item 2899, proceed with default prediction\u001b[0m\n",
      "\u001b[31mNo common interaction or similar neighbor for user 1728 and item 2621, proceed with default prediction\u001b[0m\n",
      "\u001b[31mNo common interaction or similar neighbor for user 1932 and item 2012, proceed with default prediction\u001b[0m\n",
      "\u001b[31mNo common interaction or similar neighbor for user 35 and item 2067, proceed with default prediction\u001b[0m\n",
      "\u001b[31mNo common interaction or similar neighbor for user 192 and item 556, proceed with default prediction\u001b[0m\n",
      "\u001b[31mNo common interaction or similar neighbor for user 1957 and item 2741, proceed with default prediction\u001b[0m\n"
     ]
    },
    {
     "name": "stderr",
     "output_type": "stream",
     "text": [
      "eval_pointwise: 100%|██████████| 3/3 [00:00<00:00,  5.19it/s]\n",
      "/opt/homebrew/lib/python3.11/site-packages/sklearn/metrics/_classification.py:2845: FutureWarning: Setting the eps parameter is deprecated and will be removed in 1.5. Instead eps will always havea default value of `np.finfo(y_pred.dtype).eps`.\n",
      "  warnings.warn(\n",
      "eval_listwise: 100%|██████████| 1823/1823 [00:01<00:00, 1310.45it/s]\n"
     ]
    },
    {
     "name": "stdout",
     "output_type": "stream",
     "text": [
      "\t eval log_loss: 2.1783\n",
      "\t eval roc_auc: 0.6056\n",
      "\t eval precision@10: 0.0021\n",
      "\t eval recall@10: 0.0106\n",
      "\t eval ndcg@10: 0.0102\n",
      "==============================\n"
     ]
    },
    {
     "name": "stderr",
     "output_type": "stream",
     "text": [
      "eval_pointwise: 100%|██████████| 3/3 [00:00<00:00,  5.31it/s]\n"
     ]
    },
    {
     "name": "stdout",
     "output_type": "stream",
     "text": [
      "19\n",
      "Training start time: \u001b[35m2023-10-07 23:45:21\u001b[0m\n",
      "Final block size and num: (5894, 1)\n",
      "sim_matrix elapsed: 0.113s\n",
      "sim_matrix, shape: (5894, 5894), num_elements: 4222948, density: 12.1561 %\n"
     ]
    },
    {
     "name": "stderr",
     "output_type": "stream",
     "text": [
      "top_k: 100%|██████████| 5894/5894 [00:00<00:00, 11196.32it/s]\n",
      "eval_pointwise:   0%|          | 0/3 [00:00<?, ?it/s]"
     ]
    },
    {
     "name": "stdout",
     "output_type": "stream",
     "text": [
      "\u001b[31mNo common interaction or similar neighbor for user 1728 and item 2899, proceed with default prediction\u001b[0m\n",
      "\u001b[31mNo common interaction or similar neighbor for user 1728 and item 2621, proceed with default prediction\u001b[0m\n",
      "\u001b[31mNo common interaction or similar neighbor for user 1932 and item 2012, proceed with default prediction\u001b[0m\n",
      "\u001b[31mNo common interaction or similar neighbor for user 35 and item 2067, proceed with default prediction\u001b[0m\n",
      "\u001b[31mNo common interaction or similar neighbor for user 192 and item 556, proceed with default prediction\u001b[0m\n",
      "\u001b[31mNo common interaction or similar neighbor for user 1957 and item 2741, proceed with default prediction\u001b[0m\n"
     ]
    },
    {
     "name": "stderr",
     "output_type": "stream",
     "text": [
      "eval_pointwise: 100%|██████████| 3/3 [00:00<00:00,  4.60it/s]\n",
      "/opt/homebrew/lib/python3.11/site-packages/sklearn/metrics/_classification.py:2845: FutureWarning: Setting the eps parameter is deprecated and will be removed in 1.5. Instead eps will always havea default value of `np.finfo(y_pred.dtype).eps`.\n",
      "  warnings.warn(\n",
      "eval_listwise: 100%|██████████| 1823/1823 [00:00<00:00, 3338.65it/s]\n"
     ]
    },
    {
     "name": "stdout",
     "output_type": "stream",
     "text": [
      "\t eval log_loss: 1.5545\n",
      "\t eval roc_auc: 0.6852\n",
      "\t eval precision@10: 0.0047\n",
      "\t eval recall@10: 0.0210\n",
      "\t eval ndcg@10: 0.0228\n",
      "==============================\n"
     ]
    },
    {
     "name": "stderr",
     "output_type": "stream",
     "text": [
      "eval_pointwise: 100%|██████████| 3/3 [00:00<00:00,  4.61it/s]\n"
     ]
    },
    {
     "name": "stdout",
     "output_type": "stream",
     "text": [
      "Training start time: \u001b[35m2023-10-07 23:45:23\u001b[0m\n",
      "Final block size and num: (3253, 1)\n",
      "sim_matrix elapsed: 0.038s\n",
      "sim_matrix, shape: (3253, 3253), num_elements: 1710008, density: 4.9224 %\n"
     ]
    },
    {
     "name": "stderr",
     "output_type": "stream",
     "text": [
      "top_k: 100%|██████████| 3253/3253 [00:00<00:00, 15681.79it/s]\n",
      "eval_pointwise:   0%|          | 0/3 [00:00<?, ?it/s]"
     ]
    },
    {
     "name": "stdout",
     "output_type": "stream",
     "text": [
      "\u001b[31mNo common interaction or similar neighbor for user 1728 and item 2899, proceed with default prediction\u001b[0m\n",
      "\u001b[31mNo common interaction or similar neighbor for user 1728 and item 2621, proceed with default prediction\u001b[0m\n",
      "\u001b[31mNo common interaction or similar neighbor for user 1932 and item 2012, proceed with default prediction\u001b[0m\n",
      "\u001b[31mNo common interaction or similar neighbor for user 35 and item 2067, proceed with default prediction\u001b[0m\n",
      "\u001b[31mNo common interaction or similar neighbor for user 192 and item 556, proceed with default prediction\u001b[0m\n",
      "\u001b[31mNo common interaction or similar neighbor for user 1957 and item 2741, proceed with default prediction\u001b[0m\n"
     ]
    },
    {
     "name": "stderr",
     "output_type": "stream",
     "text": [
      "eval_pointwise: 100%|██████████| 3/3 [00:00<00:00,  5.17it/s]\n",
      "/opt/homebrew/lib/python3.11/site-packages/sklearn/metrics/_classification.py:2845: FutureWarning: Setting the eps parameter is deprecated and will be removed in 1.5. Instead eps will always havea default value of `np.finfo(y_pred.dtype).eps`.\n",
      "  warnings.warn(\n",
      "eval_listwise: 100%|██████████| 1823/1823 [00:01<00:00, 1214.04it/s]\n"
     ]
    },
    {
     "name": "stdout",
     "output_type": "stream",
     "text": [
      "\t eval log_loss: 1.8350\n",
      "\t eval roc_auc: 0.4958\n",
      "\t eval precision@10: 0.0002\n",
      "\t eval recall@10: 0.0012\n",
      "\t eval ndcg@10: 0.0009\n",
      "==============================\n"
     ]
    },
    {
     "name": "stderr",
     "output_type": "stream",
     "text": [
      "eval_pointwise: 100%|██████████| 3/3 [00:00<00:00,  5.18it/s]\n"
     ]
    },
    {
     "name": "stdout",
     "output_type": "stream",
     "text": [
      "\u001b[31mWarning: pearson is not suitable for implicit data\u001b[0m\n",
      "Training start time: \u001b[35m2023-10-07 23:45:26\u001b[0m\n",
      "Final block size and num: (5894, 1)\n",
      "sim_matrix elapsed: 0.154s\n",
      "sim_matrix, shape: (5894, 5894), num_elements: 3855554, density: 11.0986 %\n"
     ]
    },
    {
     "name": "stderr",
     "output_type": "stream",
     "text": [
      "top_k: 100%|██████████| 5894/5894 [00:00<00:00, 11997.92it/s]\n",
      "eval_pointwise:   0%|          | 0/3 [00:00<?, ?it/s]"
     ]
    },
    {
     "name": "stdout",
     "output_type": "stream",
     "text": [
      "\u001b[31mNo common interaction or similar neighbor for user 5359 and item 2395, proceed with default prediction\u001b[0m\n",
      "\u001b[31mNo common interaction or similar neighbor for user 5773 and item 2930, proceed with default prediction\u001b[0m\n",
      "\u001b[31mNo common interaction or similar neighbor for user 5773 and item 282, proceed with default prediction\u001b[0m\n",
      "\u001b[31mNo common interaction or similar neighbor for user 4268 and item 1643, proceed with default prediction\u001b[0m\n",
      "\u001b[31mNo common interaction or similar neighbor for user 4440 and item 1772, proceed with default prediction\u001b[0m\n",
      "\u001b[31mNo common interaction or similar neighbor for user 1728 and item 2899, proceed with default prediction\u001b[0m\n"
     ]
    },
    {
     "name": "stderr",
     "output_type": "stream",
     "text": [
      "eval_pointwise: 100%|██████████| 3/3 [00:00<00:00,  5.03it/s]\n",
      "/opt/homebrew/lib/python3.11/site-packages/sklearn/metrics/_classification.py:2845: FutureWarning: Setting the eps parameter is deprecated and will be removed in 1.5. Instead eps will always havea default value of `np.finfo(y_pred.dtype).eps`.\n",
      "  warnings.warn(\n",
      "eval_listwise: 100%|██████████| 1823/1823 [00:00<00:00, 1996.32it/s]\n"
     ]
    },
    {
     "name": "stdout",
     "output_type": "stream",
     "text": [
      "\t eval log_loss: 2.0921\n",
      "\t eval roc_auc: 0.6599\n",
      "\t eval precision@10: 0.0032\n",
      "\t eval recall@10: 0.0128\n",
      "\t eval ndcg@10: 0.0208\n",
      "==============================\n"
     ]
    },
    {
     "name": "stderr",
     "output_type": "stream",
     "text": [
      "eval_pointwise: 100%|██████████| 3/3 [00:00<00:00,  5.01it/s]\n"
     ]
    },
    {
     "name": "stdout",
     "output_type": "stream",
     "text": [
      "\u001b[31mWarning: pearson is not suitable for implicit data\u001b[0m\n",
      "Training start time: \u001b[35m2023-10-07 23:45:29\u001b[0m\n",
      "Final block size and num: (3253, 1)\n",
      "sim_matrix elapsed: 0.054s\n",
      "sim_matrix, shape: (3253, 3253), num_elements: 1608184, density: 4.6293 %\n"
     ]
    },
    {
     "name": "stderr",
     "output_type": "stream",
     "text": [
      "top_k: 100%|██████████| 3253/3253 [00:00<00:00, 16158.84it/s]\n",
      "eval_pointwise:   0%|          | 0/3 [00:00<?, ?it/s]"
     ]
    },
    {
     "name": "stdout",
     "output_type": "stream",
     "text": [
      "\u001b[31mNo common interaction or similar neighbor for user 5359 and item 2395, proceed with default prediction\u001b[0m\n",
      "\u001b[31mNo common interaction or similar neighbor for user 5773 and item 2930, proceed with default prediction\u001b[0m\n",
      "\u001b[31mNo common interaction or similar neighbor for user 1141 and item 711, proceed with default prediction\u001b[0m\n",
      "\u001b[31mNo common interaction or similar neighbor for user 4862 and item 86, proceed with default prediction\u001b[0m\n",
      "\u001b[31mNo common interaction or similar neighbor for user 4440 and item 1772, proceed with default prediction\u001b[0m\n",
      "\u001b[31mNo common interaction or similar neighbor for user 1728 and item 2899, proceed with default prediction\u001b[0m\n"
     ]
    },
    {
     "name": "stderr",
     "output_type": "stream",
     "text": [
      "eval_pointwise: 100%|██████████| 3/3 [00:00<00:00,  5.87it/s]\n",
      "/opt/homebrew/lib/python3.11/site-packages/sklearn/metrics/_classification.py:2845: FutureWarning: Setting the eps parameter is deprecated and will be removed in 1.5. Instead eps will always havea default value of `np.finfo(y_pred.dtype).eps`.\n",
      "  warnings.warn(\n",
      "eval_listwise: 100%|██████████| 1823/1823 [00:01<00:00, 1266.20it/s]\n"
     ]
    },
    {
     "name": "stdout",
     "output_type": "stream",
     "text": [
      "\t eval log_loss: 2.3401\n",
      "\t eval roc_auc: 0.5602\n",
      "\t eval precision@10: 0.0004\n",
      "\t eval recall@10: 0.0013\n",
      "\t eval ndcg@10: 0.0018\n",
      "==============================\n"
     ]
    },
    {
     "name": "stderr",
     "output_type": "stream",
     "text": [
      "eval_pointwise: 100%|██████████| 3/3 [00:00<00:00,  5.69it/s]\n"
     ]
    },
    {
     "name": "stdout",
     "output_type": "stream",
     "text": [
      "Training start time: \u001b[35m2023-10-07 23:45:32\u001b[0m\n",
      "Final block size and num: (5894, 1)\n",
      "sim_matrix elapsed: 0.105s\n",
      "sim_matrix, shape: (5894, 5894), num_elements: 4222948, density: 12.1561 %\n"
     ]
    },
    {
     "name": "stderr",
     "output_type": "stream",
     "text": [
      "top_k: 100%|██████████| 5894/5894 [00:00<00:00, 10629.38it/s]\n",
      "eval_pointwise:   0%|          | 0/3 [00:00<?, ?it/s]"
     ]
    },
    {
     "name": "stdout",
     "output_type": "stream",
     "text": [
      "\u001b[31mNo common interaction or similar neighbor for user 1728 and item 2899, proceed with default prediction\u001b[0m\n",
      "\u001b[31mNo common interaction or similar neighbor for user 1728 and item 2621, proceed with default prediction\u001b[0m\n",
      "\u001b[31mNo common interaction or similar neighbor for user 1932 and item 2012, proceed with default prediction\u001b[0m\n",
      "\u001b[31mNo common interaction or similar neighbor for user 35 and item 2067, proceed with default prediction\u001b[0m\n",
      "\u001b[31mNo common interaction or similar neighbor for user 192 and item 556, proceed with default prediction\u001b[0m\n",
      "\u001b[31mNo common interaction or similar neighbor for user 1957 and item 2741, proceed with default prediction\u001b[0m\n"
     ]
    },
    {
     "name": "stderr",
     "output_type": "stream",
     "text": [
      "eval_pointwise: 100%|██████████| 3/3 [00:00<00:00,  4.40it/s]\n",
      "/opt/homebrew/lib/python3.11/site-packages/sklearn/metrics/_classification.py:2845: FutureWarning: Setting the eps parameter is deprecated and will be removed in 1.5. Instead eps will always havea default value of `np.finfo(y_pred.dtype).eps`.\n",
      "  warnings.warn(\n",
      "eval_listwise: 100%|██████████| 1823/1823 [00:01<00:00, 1605.76it/s]\n"
     ]
    },
    {
     "name": "stdout",
     "output_type": "stream",
     "text": [
      "\t eval log_loss: 1.9510\n",
      "\t eval roc_auc: 0.7097\n",
      "\t eval precision@10: 0.0040\n",
      "\t eval recall@10: 0.0181\n",
      "\t eval ndcg@10: 0.0193\n",
      "==============================\n"
     ]
    },
    {
     "name": "stderr",
     "output_type": "stream",
     "text": [
      "eval_pointwise: 100%|██████████| 3/3 [00:00<00:00,  4.58it/s]\n"
     ]
    },
    {
     "name": "stdout",
     "output_type": "stream",
     "text": [
      "Training start time: \u001b[35m2023-10-07 23:45:35\u001b[0m\n",
      "Final block size and num: (3253, 1)\n",
      "sim_matrix elapsed: 0.033s\n",
      "sim_matrix, shape: (3253, 3253), num_elements: 1710008, density: 4.9224 %\n"
     ]
    },
    {
     "name": "stderr",
     "output_type": "stream",
     "text": [
      "top_k: 100%|██████████| 3253/3253 [00:00<00:00, 15672.50it/s]\n",
      "eval_pointwise:   0%|          | 0/3 [00:00<?, ?it/s]"
     ]
    },
    {
     "name": "stdout",
     "output_type": "stream",
     "text": [
      "\u001b[31mNo common interaction or similar neighbor for user 1728 and item 2899, proceed with default prediction\u001b[0m\n",
      "\u001b[31mNo common interaction or similar neighbor for user 1728 and item 2621, proceed with default prediction\u001b[0m\n",
      "\u001b[31mNo common interaction or similar neighbor for user 1932 and item 2012, proceed with default prediction\u001b[0m\n",
      "\u001b[31mNo common interaction or similar neighbor for user 35 and item 2067, proceed with default prediction\u001b[0m\n",
      "\u001b[31mNo common interaction or similar neighbor for user 192 and item 556, proceed with default prediction\u001b[0m\n",
      "\u001b[31mNo common interaction or similar neighbor for user 1957 and item 2741, proceed with default prediction\u001b[0m\n"
     ]
    },
    {
     "name": "stderr",
     "output_type": "stream",
     "text": [
      "eval_pointwise: 100%|██████████| 3/3 [00:00<00:00,  5.24it/s]\n",
      "/opt/homebrew/lib/python3.11/site-packages/sklearn/metrics/_classification.py:2845: FutureWarning: Setting the eps parameter is deprecated and will be removed in 1.5. Instead eps will always havea default value of `np.finfo(y_pred.dtype).eps`.\n",
      "  warnings.warn(\n",
      "eval_listwise: 100%|██████████| 1823/1823 [00:01<00:00, 1161.97it/s]\n"
     ]
    },
    {
     "name": "stdout",
     "output_type": "stream",
     "text": [
      "\t eval log_loss: 2.1824\n",
      "\t eval roc_auc: 0.6031\n",
      "\t eval precision@10: 0.0022\n",
      "\t eval recall@10: 0.0108\n",
      "\t eval ndcg@10: 0.0103\n",
      "==============================\n"
     ]
    },
    {
     "name": "stderr",
     "output_type": "stream",
     "text": [
      "eval_pointwise: 100%|██████████| 3/3 [00:00<00:00,  5.12it/s]\n"
     ]
    },
    {
     "name": "stdout",
     "output_type": "stream",
     "text": [
      "20\n",
      "Training start time: \u001b[35m2023-10-07 23:45:38\u001b[0m\n",
      "Final block size and num: (5894, 1)\n",
      "sim_matrix elapsed: 0.119s\n",
      "sim_matrix, shape: (5894, 5894), num_elements: 4222948, density: 12.1561 %\n"
     ]
    },
    {
     "name": "stderr",
     "output_type": "stream",
     "text": [
      "top_k: 100%|██████████| 5894/5894 [00:00<00:00, 10923.19it/s]\n",
      "eval_pointwise:   0%|          | 0/3 [00:00<?, ?it/s]"
     ]
    },
    {
     "name": "stdout",
     "output_type": "stream",
     "text": [
      "\u001b[31mNo common interaction or similar neighbor for user 1728 and item 2899, proceed with default prediction\u001b[0m\n",
      "\u001b[31mNo common interaction or similar neighbor for user 1728 and item 2621, proceed with default prediction\u001b[0m\n",
      "\u001b[31mNo common interaction or similar neighbor for user 1932 and item 2012, proceed with default prediction\u001b[0m\n",
      "\u001b[31mNo common interaction or similar neighbor for user 35 and item 2067, proceed with default prediction\u001b[0m\n",
      "\u001b[31mNo common interaction or similar neighbor for user 192 and item 556, proceed with default prediction\u001b[0m\n",
      "\u001b[31mNo common interaction or similar neighbor for user 1957 and item 2741, proceed with default prediction\u001b[0m\n"
     ]
    },
    {
     "name": "stderr",
     "output_type": "stream",
     "text": [
      "eval_pointwise: 100%|██████████| 3/3 [00:00<00:00,  4.38it/s]\n",
      "/opt/homebrew/lib/python3.11/site-packages/sklearn/metrics/_classification.py:2845: FutureWarning: Setting the eps parameter is deprecated and will be removed in 1.5. Instead eps will always havea default value of `np.finfo(y_pred.dtype).eps`.\n",
      "  warnings.warn(\n",
      "eval_listwise: 100%|██████████| 1823/1823 [00:00<00:00, 3172.09it/s]\n"
     ]
    },
    {
     "name": "stdout",
     "output_type": "stream",
     "text": [
      "\t eval log_loss: 1.5595\n",
      "\t eval roc_auc: 0.6823\n",
      "\t eval precision@10: 0.0046\n",
      "\t eval recall@10: 0.0213\n",
      "\t eval ndcg@10: 0.0214\n",
      "==============================\n"
     ]
    },
    {
     "name": "stderr",
     "output_type": "stream",
     "text": [
      "eval_pointwise: 100%|██████████| 3/3 [00:00<00:00,  4.50it/s]\n"
     ]
    },
    {
     "name": "stdout",
     "output_type": "stream",
     "text": [
      "Training start time: \u001b[35m2023-10-07 23:45:41\u001b[0m\n",
      "Final block size and num: (3253, 1)\n",
      "sim_matrix elapsed: 0.039s\n",
      "sim_matrix, shape: (3253, 3253), num_elements: 1710008, density: 4.9224 %\n"
     ]
    },
    {
     "name": "stderr",
     "output_type": "stream",
     "text": [
      "top_k: 100%|██████████| 3253/3253 [00:00<00:00, 15463.45it/s]\n",
      "eval_pointwise:   0%|          | 0/3 [00:00<?, ?it/s]"
     ]
    },
    {
     "name": "stdout",
     "output_type": "stream",
     "text": [
      "\u001b[31mNo common interaction or similar neighbor for user 1728 and item 2899, proceed with default prediction\u001b[0m\n",
      "\u001b[31mNo common interaction or similar neighbor for user 1728 and item 2621, proceed with default prediction\u001b[0m\n",
      "\u001b[31mNo common interaction or similar neighbor for user 1932 and item 2012, proceed with default prediction\u001b[0m\n",
      "\u001b[31mNo common interaction or similar neighbor for user 35 and item 2067, proceed with default prediction\u001b[0m\n",
      "\u001b[31mNo common interaction or similar neighbor for user 192 and item 556, proceed with default prediction\u001b[0m\n",
      "\u001b[31mNo common interaction or similar neighbor for user 1957 and item 2741, proceed with default prediction\u001b[0m\n"
     ]
    },
    {
     "name": "stderr",
     "output_type": "stream",
     "text": [
      "eval_pointwise: 100%|██████████| 3/3 [00:00<00:00,  5.25it/s]\n",
      "/opt/homebrew/lib/python3.11/site-packages/sklearn/metrics/_classification.py:2845: FutureWarning: Setting the eps parameter is deprecated and will be removed in 1.5. Instead eps will always havea default value of `np.finfo(y_pred.dtype).eps`.\n",
      "  warnings.warn(\n",
      "eval_listwise: 100%|██████████| 1823/1823 [00:01<00:00, 1140.06it/s]\n"
     ]
    },
    {
     "name": "stdout",
     "output_type": "stream",
     "text": [
      "\t eval log_loss: 1.8389\n",
      "\t eval roc_auc: 0.4937\n",
      "\t eval precision@10: 0.0002\n",
      "\t eval recall@10: 0.0012\n",
      "\t eval ndcg@10: 0.0009\n",
      "==============================\n"
     ]
    },
    {
     "name": "stderr",
     "output_type": "stream",
     "text": [
      "eval_pointwise: 100%|██████████| 3/3 [00:00<00:00,  5.12it/s]\n"
     ]
    },
    {
     "name": "stdout",
     "output_type": "stream",
     "text": [
      "\u001b[31mWarning: pearson is not suitable for implicit data\u001b[0m\n",
      "Training start time: \u001b[35m2023-10-07 23:45:44\u001b[0m\n",
      "Final block size and num: (5894, 1)\n",
      "sim_matrix elapsed: 0.145s\n",
      "sim_matrix, shape: (5894, 5894), num_elements: 3855554, density: 11.0986 %\n"
     ]
    },
    {
     "name": "stderr",
     "output_type": "stream",
     "text": [
      "top_k: 100%|██████████| 5894/5894 [00:00<00:00, 12283.47it/s]\n",
      "eval_pointwise:   0%|          | 0/3 [00:00<?, ?it/s]"
     ]
    },
    {
     "name": "stdout",
     "output_type": "stream",
     "text": [
      "\u001b[31mNo common interaction or similar neighbor for user 5359 and item 2395, proceed with default prediction\u001b[0m\n",
      "\u001b[31mNo common interaction or similar neighbor for user 5773 and item 2930, proceed with default prediction\u001b[0m\n",
      "\u001b[31mNo common interaction or similar neighbor for user 5773 and item 282, proceed with default prediction\u001b[0m\n",
      "\u001b[31mNo common interaction or similar neighbor for user 4268 and item 1643, proceed with default prediction\u001b[0m\n",
      "\u001b[31mNo common interaction or similar neighbor for user 4440 and item 1772, proceed with default prediction\u001b[0m\n",
      "\u001b[31mNo common interaction or similar neighbor for user 1728 and item 2899, proceed with default prediction\u001b[0m\n"
     ]
    },
    {
     "name": "stderr",
     "output_type": "stream",
     "text": [
      "eval_pointwise: 100%|██████████| 3/3 [00:00<00:00,  4.96it/s]\n",
      "/opt/homebrew/lib/python3.11/site-packages/sklearn/metrics/_classification.py:2845: FutureWarning: Setting the eps parameter is deprecated and will be removed in 1.5. Instead eps will always havea default value of `np.finfo(y_pred.dtype).eps`.\n",
      "  warnings.warn(\n",
      "eval_listwise: 100%|██████████| 1823/1823 [00:00<00:00, 1851.04it/s]\n"
     ]
    },
    {
     "name": "stdout",
     "output_type": "stream",
     "text": [
      "\t eval log_loss: 2.0963\n",
      "\t eval roc_auc: 0.6580\n",
      "\t eval precision@10: 0.0032\n",
      "\t eval recall@10: 0.0128\n",
      "\t eval ndcg@10: 0.0218\n",
      "==============================\n"
     ]
    },
    {
     "name": "stderr",
     "output_type": "stream",
     "text": [
      "eval_pointwise: 100%|██████████| 3/3 [00:00<00:00,  5.00it/s]\n"
     ]
    },
    {
     "name": "stdout",
     "output_type": "stream",
     "text": [
      "\u001b[31mWarning: pearson is not suitable for implicit data\u001b[0m\n",
      "Training start time: \u001b[35m2023-10-07 23:45:47\u001b[0m\n",
      "Final block size and num: (3253, 1)\n",
      "sim_matrix elapsed: 0.052s\n",
      "sim_matrix, shape: (3253, 3253), num_elements: 1608184, density: 4.6293 %\n"
     ]
    },
    {
     "name": "stderr",
     "output_type": "stream",
     "text": [
      "top_k: 100%|██████████| 3253/3253 [00:00<00:00, 16668.65it/s]\n",
      "eval_pointwise:   0%|          | 0/3 [00:00<?, ?it/s]"
     ]
    },
    {
     "name": "stdout",
     "output_type": "stream",
     "text": [
      "\u001b[31mNo common interaction or similar neighbor for user 5359 and item 2395, proceed with default prediction\u001b[0m\n",
      "\u001b[31mNo common interaction or similar neighbor for user 5773 and item 2930, proceed with default prediction\u001b[0m\n",
      "\u001b[31mNo common interaction or similar neighbor for user 1141 and item 711, proceed with default prediction\u001b[0m\n",
      "\u001b[31mNo common interaction or similar neighbor for user 4862 and item 86, proceed with default prediction\u001b[0m\n",
      "\u001b[31mNo common interaction or similar neighbor for user 4440 and item 1772, proceed with default prediction\u001b[0m\n",
      "\u001b[31mNo common interaction or similar neighbor for user 1728 and item 2899, proceed with default prediction\u001b[0m\n"
     ]
    },
    {
     "name": "stderr",
     "output_type": "stream",
     "text": [
      "eval_pointwise: 100%|██████████| 3/3 [00:00<00:00,  5.84it/s]\n",
      "/opt/homebrew/lib/python3.11/site-packages/sklearn/metrics/_classification.py:2845: FutureWarning: Setting the eps parameter is deprecated and will be removed in 1.5. Instead eps will always havea default value of `np.finfo(y_pred.dtype).eps`.\n",
      "  warnings.warn(\n",
      "eval_listwise: 100%|██████████| 1823/1823 [00:01<00:00, 1055.87it/s]\n"
     ]
    },
    {
     "name": "stdout",
     "output_type": "stream",
     "text": [
      "\t eval log_loss: 2.3423\n",
      "\t eval roc_auc: 0.5596\n",
      "\t eval precision@10: 0.0004\n",
      "\t eval recall@10: 0.0014\n",
      "\t eval ndcg@10: 0.0019\n",
      "==============================\n"
     ]
    },
    {
     "name": "stderr",
     "output_type": "stream",
     "text": [
      "eval_pointwise: 100%|██████████| 3/3 [00:00<00:00,  5.84it/s]\n"
     ]
    },
    {
     "name": "stdout",
     "output_type": "stream",
     "text": [
      "Training start time: \u001b[35m2023-10-07 23:45:50\u001b[0m\n",
      "Final block size and num: (5894, 1)\n",
      "sim_matrix elapsed: 0.108s\n",
      "sim_matrix, shape: (5894, 5894), num_elements: 4222948, density: 12.1561 %\n"
     ]
    },
    {
     "name": "stderr",
     "output_type": "stream",
     "text": [
      "top_k: 100%|██████████| 5894/5894 [00:00<00:00, 11440.55it/s]\n",
      "eval_pointwise:   0%|          | 0/3 [00:00<?, ?it/s]"
     ]
    },
    {
     "name": "stdout",
     "output_type": "stream",
     "text": [
      "\u001b[31mNo common interaction or similar neighbor for user 1728 and item 2899, proceed with default prediction\u001b[0m\n",
      "\u001b[31mNo common interaction or similar neighbor for user 1728 and item 2621, proceed with default prediction\u001b[0m\n",
      "\u001b[31mNo common interaction or similar neighbor for user 1932 and item 2012, proceed with default prediction\u001b[0m\n",
      "\u001b[31mNo common interaction or similar neighbor for user 35 and item 2067, proceed with default prediction\u001b[0m\n",
      "\u001b[31mNo common interaction or similar neighbor for user 192 and item 556, proceed with default prediction\u001b[0m\n",
      "\u001b[31mNo common interaction or similar neighbor for user 1957 and item 2741, proceed with default prediction\u001b[0m\n"
     ]
    },
    {
     "name": "stderr",
     "output_type": "stream",
     "text": [
      "eval_pointwise: 100%|██████████| 3/3 [00:00<00:00,  4.53it/s]\n",
      "/opt/homebrew/lib/python3.11/site-packages/sklearn/metrics/_classification.py:2845: FutureWarning: Setting the eps parameter is deprecated and will be removed in 1.5. Instead eps will always havea default value of `np.finfo(y_pred.dtype).eps`.\n",
      "  warnings.warn(\n",
      "eval_listwise: 100%|██████████| 1823/1823 [00:01<00:00, 1594.01it/s]\n"
     ]
    },
    {
     "name": "stdout",
     "output_type": "stream",
     "text": [
      "\t eval log_loss: 1.9556\n",
      "\t eval roc_auc: 0.7072\n",
      "\t eval precision@10: 0.0041\n",
      "\t eval recall@10: 0.0189\n",
      "\t eval ndcg@10: 0.0180\n",
      "==============================\n"
     ]
    },
    {
     "name": "stderr",
     "output_type": "stream",
     "text": [
      "eval_pointwise: 100%|██████████| 3/3 [00:00<00:00,  4.52it/s]\n"
     ]
    },
    {
     "name": "stdout",
     "output_type": "stream",
     "text": [
      "Training start time: \u001b[35m2023-10-07 23:45:53\u001b[0m\n",
      "Final block size and num: (3253, 1)\n",
      "sim_matrix elapsed: 0.035s\n",
      "sim_matrix, shape: (3253, 3253), num_elements: 1710008, density: 4.9224 %\n"
     ]
    },
    {
     "name": "stderr",
     "output_type": "stream",
     "text": [
      "top_k: 100%|██████████| 3253/3253 [00:00<00:00, 15649.56it/s]\n",
      "eval_pointwise:   0%|          | 0/3 [00:00<?, ?it/s]"
     ]
    },
    {
     "name": "stdout",
     "output_type": "stream",
     "text": [
      "\u001b[31mNo common interaction or similar neighbor for user 1728 and item 2899, proceed with default prediction\u001b[0m\n",
      "\u001b[31mNo common interaction or similar neighbor for user 1728 and item 2621, proceed with default prediction\u001b[0m\n",
      "\u001b[31mNo common interaction or similar neighbor for user 1932 and item 2012, proceed with default prediction\u001b[0m\n",
      "\u001b[31mNo common interaction or similar neighbor for user 35 and item 2067, proceed with default prediction\u001b[0m\n",
      "\u001b[31mNo common interaction or similar neighbor for user 192 and item 556, proceed with default prediction\u001b[0m\n",
      "\u001b[31mNo common interaction or similar neighbor for user 1957 and item 2741, proceed with default prediction\u001b[0m\n"
     ]
    },
    {
     "name": "stderr",
     "output_type": "stream",
     "text": [
      "eval_pointwise: 100%|██████████| 3/3 [00:00<00:00,  5.18it/s]\n",
      "/opt/homebrew/lib/python3.11/site-packages/sklearn/metrics/_classification.py:2845: FutureWarning: Setting the eps parameter is deprecated and will be removed in 1.5. Instead eps will always havea default value of `np.finfo(y_pred.dtype).eps`.\n",
      "  warnings.warn(\n",
      "eval_listwise: 100%|██████████| 1823/1823 [00:01<00:00, 1162.44it/s]\n"
     ]
    },
    {
     "name": "stdout",
     "output_type": "stream",
     "text": [
      "\t eval log_loss: 2.1860\n",
      "\t eval roc_auc: 0.6009\n",
      "\t eval precision@10: 0.0022\n",
      "\t eval recall@10: 0.0108\n",
      "\t eval ndcg@10: 0.0106\n",
      "==============================\n"
     ]
    },
    {
     "name": "stderr",
     "output_type": "stream",
     "text": [
      "eval_pointwise: 100%|██████████| 3/3 [00:00<00:00,  5.22it/s]\n"
     ]
    },
    {
     "name": "stdout",
     "output_type": "stream",
     "text": [
      "21\n",
      "Training start time: \u001b[35m2023-10-07 23:45:56\u001b[0m\n",
      "Final block size and num: (5894, 1)\n",
      "sim_matrix elapsed: 0.115s\n",
      "sim_matrix, shape: (5894, 5894), num_elements: 4222948, density: 12.1561 %\n"
     ]
    },
    {
     "name": "stderr",
     "output_type": "stream",
     "text": [
      "top_k: 100%|██████████| 5894/5894 [00:00<00:00, 11038.53it/s]\n",
      "eval_pointwise:   0%|          | 0/3 [00:00<?, ?it/s]"
     ]
    },
    {
     "name": "stdout",
     "output_type": "stream",
     "text": [
      "\u001b[31mNo common interaction or similar neighbor for user 1728 and item 2899, proceed with default prediction\u001b[0m\n",
      "\u001b[31mNo common interaction or similar neighbor for user 1728 and item 2621, proceed with default prediction\u001b[0m\n",
      "\u001b[31mNo common interaction or similar neighbor for user 1932 and item 2012, proceed with default prediction\u001b[0m\n",
      "\u001b[31mNo common interaction or similar neighbor for user 35 and item 2067, proceed with default prediction\u001b[0m\n",
      "\u001b[31mNo common interaction or similar neighbor for user 192 and item 556, proceed with default prediction\u001b[0m\n",
      "\u001b[31mNo common interaction or similar neighbor for user 1957 and item 2741, proceed with default prediction\u001b[0m\n"
     ]
    },
    {
     "name": "stderr",
     "output_type": "stream",
     "text": [
      "eval_pointwise: 100%|██████████| 3/3 [00:00<00:00,  4.53it/s]\n",
      "/opt/homebrew/lib/python3.11/site-packages/sklearn/metrics/_classification.py:2845: FutureWarning: Setting the eps parameter is deprecated and will be removed in 1.5. Instead eps will always havea default value of `np.finfo(y_pred.dtype).eps`.\n",
      "  warnings.warn(\n",
      "eval_listwise: 100%|██████████| 1823/1823 [00:00<00:00, 3013.37it/s]\n"
     ]
    },
    {
     "name": "stdout",
     "output_type": "stream",
     "text": [
      "\t eval log_loss: 1.5641\n",
      "\t eval roc_auc: 0.6795\n",
      "\t eval precision@10: 0.0047\n",
      "\t eval recall@10: 0.0210\n",
      "\t eval ndcg@10: 0.0212\n",
      "==============================\n"
     ]
    },
    {
     "name": "stderr",
     "output_type": "stream",
     "text": [
      "eval_pointwise: 100%|██████████| 3/3 [00:00<00:00,  4.50it/s]\n"
     ]
    },
    {
     "name": "stdout",
     "output_type": "stream",
     "text": [
      "Training start time: \u001b[35m2023-10-07 23:45:59\u001b[0m\n",
      "Final block size and num: (3253, 1)\n",
      "sim_matrix elapsed: 0.038s\n",
      "sim_matrix, shape: (3253, 3253), num_elements: 1710008, density: 4.9224 %\n"
     ]
    },
    {
     "name": "stderr",
     "output_type": "stream",
     "text": [
      "top_k: 100%|██████████| 3253/3253 [00:00<00:00, 15488.56it/s]\n",
      "eval_pointwise:   0%|          | 0/3 [00:00<?, ?it/s]"
     ]
    },
    {
     "name": "stdout",
     "output_type": "stream",
     "text": [
      "\u001b[31mNo common interaction or similar neighbor for user 1728 and item 2899, proceed with default prediction\u001b[0m\n",
      "\u001b[31mNo common interaction or similar neighbor for user 1728 and item 2621, proceed with default prediction\u001b[0m\n",
      "\u001b[31mNo common interaction or similar neighbor for user 1932 and item 2012, proceed with default prediction\u001b[0m\n",
      "\u001b[31mNo common interaction or similar neighbor for user 35 and item 2067, proceed with default prediction\u001b[0m\n",
      "\u001b[31mNo common interaction or similar neighbor for user 192 and item 556, proceed with default prediction\u001b[0m\n",
      "\u001b[31mNo common interaction or similar neighbor for user 1957 and item 2741, proceed with default prediction\u001b[0m\n"
     ]
    },
    {
     "name": "stderr",
     "output_type": "stream",
     "text": [
      "eval_pointwise: 100%|██████████| 3/3 [00:00<00:00,  5.17it/s]\n",
      "/opt/homebrew/lib/python3.11/site-packages/sklearn/metrics/_classification.py:2845: FutureWarning: Setting the eps parameter is deprecated and will be removed in 1.5. Instead eps will always havea default value of `np.finfo(y_pred.dtype).eps`.\n",
      "  warnings.warn(\n",
      "eval_listwise: 100%|██████████| 1823/1823 [00:01<00:00, 1122.20it/s]\n"
     ]
    },
    {
     "name": "stdout",
     "output_type": "stream",
     "text": [
      "\t eval log_loss: 1.8424\n",
      "\t eval roc_auc: 0.4918\n",
      "\t eval precision@10: 0.0002\n",
      "\t eval recall@10: 0.0012\n",
      "\t eval ndcg@10: 0.0009\n",
      "==============================\n"
     ]
    },
    {
     "name": "stderr",
     "output_type": "stream",
     "text": [
      "eval_pointwise: 100%|██████████| 3/3 [00:00<00:00,  5.19it/s]\n"
     ]
    },
    {
     "name": "stdout",
     "output_type": "stream",
     "text": [
      "\u001b[31mWarning: pearson is not suitable for implicit data\u001b[0m\n",
      "Training start time: \u001b[35m2023-10-07 23:46:02\u001b[0m\n",
      "Final block size and num: (5894, 1)\n",
      "sim_matrix elapsed: 0.142s\n",
      "sim_matrix, shape: (5894, 5894), num_elements: 3855554, density: 11.0986 %\n"
     ]
    },
    {
     "name": "stderr",
     "output_type": "stream",
     "text": [
      "top_k: 100%|██████████| 5894/5894 [00:00<00:00, 12174.14it/s]\n",
      "eval_pointwise:   0%|          | 0/3 [00:00<?, ?it/s]"
     ]
    },
    {
     "name": "stdout",
     "output_type": "stream",
     "text": [
      "\u001b[31mNo common interaction or similar neighbor for user 5359 and item 2395, proceed with default prediction\u001b[0m\n",
      "\u001b[31mNo common interaction or similar neighbor for user 5773 and item 2930, proceed with default prediction\u001b[0m\n",
      "\u001b[31mNo common interaction or similar neighbor for user 5773 and item 282, proceed with default prediction\u001b[0m\n",
      "\u001b[31mNo common interaction or similar neighbor for user 4268 and item 1643, proceed with default prediction\u001b[0m\n",
      "\u001b[31mNo common interaction or similar neighbor for user 4440 and item 1772, proceed with default prediction\u001b[0m\n",
      "\u001b[31mNo common interaction or similar neighbor for user 1728 and item 2899, proceed with default prediction\u001b[0m\n"
     ]
    },
    {
     "name": "stderr",
     "output_type": "stream",
     "text": [
      "eval_pointwise: 100%|██████████| 3/3 [00:00<00:00,  4.84it/s]\n",
      "/opt/homebrew/lib/python3.11/site-packages/sklearn/metrics/_classification.py:2845: FutureWarning: Setting the eps parameter is deprecated and will be removed in 1.5. Instead eps will always havea default value of `np.finfo(y_pred.dtype).eps`.\n",
      "  warnings.warn(\n",
      "eval_listwise: 100%|██████████| 1823/1823 [00:01<00:00, 1749.19it/s]\n"
     ]
    },
    {
     "name": "stdout",
     "output_type": "stream",
     "text": [
      "\t eval log_loss: 2.1001\n",
      "\t eval roc_auc: 0.6565\n",
      "\t eval precision@10: 0.0030\n",
      "\t eval recall@10: 0.0137\n",
      "\t eval ndcg@10: 0.0207\n",
      "==============================\n"
     ]
    },
    {
     "name": "stderr",
     "output_type": "stream",
     "text": [
      "eval_pointwise: 100%|██████████| 3/3 [00:00<00:00,  4.90it/s]\n"
     ]
    },
    {
     "name": "stdout",
     "output_type": "stream",
     "text": [
      "\u001b[31mWarning: pearson is not suitable for implicit data\u001b[0m\n",
      "Training start time: \u001b[35m2023-10-07 23:46:05\u001b[0m\n",
      "Final block size and num: (3253, 1)\n",
      "sim_matrix elapsed: 0.053s\n",
      "sim_matrix, shape: (3253, 3253), num_elements: 1608184, density: 4.6293 %\n"
     ]
    },
    {
     "name": "stderr",
     "output_type": "stream",
     "text": [
      "top_k: 100%|██████████| 3253/3253 [00:00<00:00, 16529.89it/s]\n",
      "eval_pointwise:   0%|          | 0/3 [00:00<?, ?it/s]"
     ]
    },
    {
     "name": "stdout",
     "output_type": "stream",
     "text": [
      "\u001b[31mNo common interaction or similar neighbor for user 5359 and item 2395, proceed with default prediction\u001b[0m\n",
      "\u001b[31mNo common interaction or similar neighbor for user 5773 and item 2930, proceed with default prediction\u001b[0m\n",
      "\u001b[31mNo common interaction or similar neighbor for user 1141 and item 711, proceed with default prediction\u001b[0m\n",
      "\u001b[31mNo common interaction or similar neighbor for user 4862 and item 86, proceed with default prediction\u001b[0m\n",
      "\u001b[31mNo common interaction or similar neighbor for user 4440 and item 1772, proceed with default prediction\u001b[0m\n",
      "\u001b[31mNo common interaction or similar neighbor for user 1728 and item 2899, proceed with default prediction\u001b[0m\n"
     ]
    },
    {
     "name": "stderr",
     "output_type": "stream",
     "text": [
      "eval_pointwise: 100%|██████████| 3/3 [00:00<00:00,  5.71it/s]\n",
      "/opt/homebrew/lib/python3.11/site-packages/sklearn/metrics/_classification.py:2845: FutureWarning: Setting the eps parameter is deprecated and will be removed in 1.5. Instead eps will always havea default value of `np.finfo(y_pred.dtype).eps`.\n",
      "  warnings.warn(\n",
      "eval_listwise: 100%|██████████| 1823/1823 [00:01<00:00, 1095.09it/s]\n"
     ]
    },
    {
     "name": "stdout",
     "output_type": "stream",
     "text": [
      "\t eval log_loss: 2.3442\n",
      "\t eval roc_auc: 0.5590\n",
      "\t eval precision@10: 0.0004\n",
      "\t eval recall@10: 0.0012\n",
      "\t eval ndcg@10: 0.0019\n",
      "==============================\n"
     ]
    },
    {
     "name": "stderr",
     "output_type": "stream",
     "text": [
      "eval_pointwise: 100%|██████████| 3/3 [00:00<00:00,  5.80it/s]\n"
     ]
    },
    {
     "name": "stdout",
     "output_type": "stream",
     "text": [
      "Training start time: \u001b[35m2023-10-07 23:46:08\u001b[0m\n",
      "Final block size and num: (5894, 1)\n",
      "sim_matrix elapsed: 0.099s\n",
      "sim_matrix, shape: (5894, 5894), num_elements: 4222948, density: 12.1561 %\n"
     ]
    },
    {
     "name": "stderr",
     "output_type": "stream",
     "text": [
      "top_k: 100%|██████████| 5894/5894 [00:00<00:00, 11592.71it/s]\n",
      "eval_pointwise:   0%|          | 0/3 [00:00<?, ?it/s]"
     ]
    },
    {
     "name": "stdout",
     "output_type": "stream",
     "text": [
      "\u001b[31mNo common interaction or similar neighbor for user 1728 and item 2899, proceed with default prediction\u001b[0m\n",
      "\u001b[31mNo common interaction or similar neighbor for user 1728 and item 2621, proceed with default prediction\u001b[0m\n",
      "\u001b[31mNo common interaction or similar neighbor for user 1932 and item 2012, proceed with default prediction\u001b[0m\n",
      "\u001b[31mNo common interaction or similar neighbor for user 35 and item 2067, proceed with default prediction\u001b[0m\n",
      "\u001b[31mNo common interaction or similar neighbor for user 192 and item 556, proceed with default prediction\u001b[0m\n",
      "\u001b[31mNo common interaction or similar neighbor for user 1957 and item 2741, proceed with default prediction\u001b[0m\n"
     ]
    },
    {
     "name": "stderr",
     "output_type": "stream",
     "text": [
      "eval_pointwise: 100%|██████████| 3/3 [00:00<00:00,  4.47it/s]\n",
      "/opt/homebrew/lib/python3.11/site-packages/sklearn/metrics/_classification.py:2845: FutureWarning: Setting the eps parameter is deprecated and will be removed in 1.5. Instead eps will always havea default value of `np.finfo(y_pred.dtype).eps`.\n",
      "  warnings.warn(\n",
      "eval_listwise: 100%|██████████| 1823/1823 [00:01<00:00, 1520.08it/s]\n"
     ]
    },
    {
     "name": "stdout",
     "output_type": "stream",
     "text": [
      "\t eval log_loss: 1.9598\n",
      "\t eval roc_auc: 0.7047\n",
      "\t eval precision@10: 0.0041\n",
      "\t eval recall@10: 0.0193\n",
      "\t eval ndcg@10: 0.0185\n",
      "==============================\n"
     ]
    },
    {
     "name": "stderr",
     "output_type": "stream",
     "text": [
      "eval_pointwise: 100%|██████████| 3/3 [00:00<00:00,  4.37it/s]\n"
     ]
    },
    {
     "name": "stdout",
     "output_type": "stream",
     "text": [
      "Training start time: \u001b[35m2023-10-07 23:46:11\u001b[0m\n",
      "Final block size and num: (3253, 1)\n",
      "sim_matrix elapsed: 0.040s\n",
      "sim_matrix, shape: (3253, 3253), num_elements: 1710008, density: 4.9224 %\n"
     ]
    },
    {
     "name": "stderr",
     "output_type": "stream",
     "text": [
      "top_k: 100%|██████████| 3253/3253 [00:00<00:00, 14853.20it/s]\n",
      "eval_pointwise:   0%|          | 0/3 [00:00<?, ?it/s]"
     ]
    },
    {
     "name": "stdout",
     "output_type": "stream",
     "text": [
      "\u001b[31mNo common interaction or similar neighbor for user 1728 and item 2899, proceed with default prediction\u001b[0m\n",
      "\u001b[31mNo common interaction or similar neighbor for user 1728 and item 2621, proceed with default prediction\u001b[0m\n",
      "\u001b[31mNo common interaction or similar neighbor for user 1932 and item 2012, proceed with default prediction\u001b[0m\n",
      "\u001b[31mNo common interaction or similar neighbor for user 35 and item 2067, proceed with default prediction\u001b[0m\n",
      "\u001b[31mNo common interaction or similar neighbor for user 192 and item 556, proceed with default prediction\u001b[0m\n",
      "\u001b[31mNo common interaction or similar neighbor for user 1957 and item 2741, proceed with default prediction\u001b[0m\n"
     ]
    },
    {
     "name": "stderr",
     "output_type": "stream",
     "text": [
      "eval_pointwise: 100%|██████████| 3/3 [00:00<00:00,  5.10it/s]\n",
      "/opt/homebrew/lib/python3.11/site-packages/sklearn/metrics/_classification.py:2845: FutureWarning: Setting the eps parameter is deprecated and will be removed in 1.5. Instead eps will always havea default value of `np.finfo(y_pred.dtype).eps`.\n",
      "  warnings.warn(\n",
      "eval_listwise: 100%|██████████| 1823/1823 [00:01<00:00, 1063.44it/s]\n"
     ]
    },
    {
     "name": "stdout",
     "output_type": "stream",
     "text": [
      "\t eval log_loss: 2.1893\n",
      "\t eval roc_auc: 0.5989\n",
      "\t eval precision@10: 0.0022\n",
      "\t eval recall@10: 0.0110\n",
      "\t eval ndcg@10: 0.0105\n",
      "==============================\n"
     ]
    },
    {
     "name": "stderr",
     "output_type": "stream",
     "text": [
      "eval_pointwise: 100%|██████████| 3/3 [00:00<00:00,  5.13it/s]\n"
     ]
    },
    {
     "name": "stdout",
     "output_type": "stream",
     "text": [
      "22\n",
      "Training start time: \u001b[35m2023-10-07 23:46:14\u001b[0m\n",
      "Final block size and num: (5894, 1)\n",
      "sim_matrix elapsed: 0.117s\n",
      "sim_matrix, shape: (5894, 5894), num_elements: 4222948, density: 12.1561 %\n"
     ]
    },
    {
     "name": "stderr",
     "output_type": "stream",
     "text": [
      "top_k: 100%|██████████| 5894/5894 [00:00<00:00, 11181.62it/s]\n",
      "eval_pointwise:   0%|          | 0/3 [00:00<?, ?it/s]"
     ]
    },
    {
     "name": "stdout",
     "output_type": "stream",
     "text": [
      "\u001b[31mNo common interaction or similar neighbor for user 1728 and item 2899, proceed with default prediction\u001b[0m\n",
      "\u001b[31mNo common interaction or similar neighbor for user 1728 and item 2621, proceed with default prediction\u001b[0m\n",
      "\u001b[31mNo common interaction or similar neighbor for user 1932 and item 2012, proceed with default prediction\u001b[0m\n",
      "\u001b[31mNo common interaction or similar neighbor for user 35 and item 2067, proceed with default prediction\u001b[0m\n",
      "\u001b[31mNo common interaction or similar neighbor for user 192 and item 556, proceed with default prediction\u001b[0m\n",
      "\u001b[31mNo common interaction or similar neighbor for user 1957 and item 2741, proceed with default prediction\u001b[0m\n"
     ]
    },
    {
     "name": "stderr",
     "output_type": "stream",
     "text": [
      "eval_pointwise: 100%|██████████| 3/3 [00:00<00:00,  4.42it/s]\n",
      "/opt/homebrew/lib/python3.11/site-packages/sklearn/metrics/_classification.py:2845: FutureWarning: Setting the eps parameter is deprecated and will be removed in 1.5. Instead eps will always havea default value of `np.finfo(y_pred.dtype).eps`.\n",
      "  warnings.warn(\n",
      "eval_listwise: 100%|██████████| 1823/1823 [00:00<00:00, 2781.42it/s]\n"
     ]
    },
    {
     "name": "stdout",
     "output_type": "stream",
     "text": [
      "\t eval log_loss: 1.5683\n",
      "\t eval roc_auc: 0.6768\n",
      "\t eval precision@10: 0.0047\n",
      "\t eval recall@10: 0.0220\n",
      "\t eval ndcg@10: 0.0229\n",
      "==============================\n"
     ]
    },
    {
     "name": "stderr",
     "output_type": "stream",
     "text": [
      "eval_pointwise: 100%|██████████| 3/3 [00:00<00:00,  4.50it/s]\n"
     ]
    },
    {
     "name": "stdout",
     "output_type": "stream",
     "text": [
      "Training start time: \u001b[35m2023-10-07 23:46:17\u001b[0m\n",
      "Final block size and num: (3253, 1)\n",
      "sim_matrix elapsed: 0.038s\n",
      "sim_matrix, shape: (3253, 3253), num_elements: 1710008, density: 4.9224 %\n"
     ]
    },
    {
     "name": "stderr",
     "output_type": "stream",
     "text": [
      "top_k: 100%|██████████| 3253/3253 [00:00<00:00, 8372.99it/s] \n",
      "eval_pointwise:   0%|          | 0/3 [00:00<?, ?it/s]"
     ]
    },
    {
     "name": "stdout",
     "output_type": "stream",
     "text": [
      "\u001b[31mNo common interaction or similar neighbor for user 1728 and item 2899, proceed with default prediction\u001b[0m\n",
      "\u001b[31mNo common interaction or similar neighbor for user 1728 and item 2621, proceed with default prediction\u001b[0m\n",
      "\u001b[31mNo common interaction or similar neighbor for user 1932 and item 2012, proceed with default prediction\u001b[0m\n",
      "\u001b[31mNo common interaction or similar neighbor for user 35 and item 2067, proceed with default prediction\u001b[0m\n",
      "\u001b[31mNo common interaction or similar neighbor for user 192 and item 556, proceed with default prediction\u001b[0m\n",
      "\u001b[31mNo common interaction or similar neighbor for user 1957 and item 2741, proceed with default prediction\u001b[0m\n"
     ]
    },
    {
     "name": "stderr",
     "output_type": "stream",
     "text": [
      "eval_pointwise: 100%|██████████| 3/3 [00:00<00:00,  5.16it/s]\n",
      "/opt/homebrew/lib/python3.11/site-packages/sklearn/metrics/_classification.py:2845: FutureWarning: Setting the eps parameter is deprecated and will be removed in 1.5. Instead eps will always havea default value of `np.finfo(y_pred.dtype).eps`.\n",
      "  warnings.warn(\n",
      "eval_listwise: 100%|██████████| 1823/1823 [00:01<00:00, 1028.66it/s]\n"
     ]
    },
    {
     "name": "stdout",
     "output_type": "stream",
     "text": [
      "\t eval log_loss: 1.8456\n",
      "\t eval roc_auc: 0.4901\n",
      "\t eval precision@10: 0.0002\n",
      "\t eval recall@10: 0.0011\n",
      "\t eval ndcg@10: 0.0009\n",
      "==============================\n"
     ]
    },
    {
     "name": "stderr",
     "output_type": "stream",
     "text": [
      "eval_pointwise: 100%|██████████| 3/3 [00:00<00:00,  5.06it/s]\n"
     ]
    },
    {
     "name": "stdout",
     "output_type": "stream",
     "text": [
      "\u001b[31mWarning: pearson is not suitable for implicit data\u001b[0m\n",
      "Training start time: \u001b[35m2023-10-07 23:46:20\u001b[0m\n",
      "Final block size and num: (5894, 1)\n",
      "sim_matrix elapsed: 0.143s\n",
      "sim_matrix, shape: (5894, 5894), num_elements: 3855554, density: 11.0986 %\n"
     ]
    },
    {
     "name": "stderr",
     "output_type": "stream",
     "text": [
      "top_k: 100%|██████████| 5894/5894 [00:00<00:00, 12113.59it/s]\n",
      "eval_pointwise:   0%|          | 0/3 [00:00<?, ?it/s]"
     ]
    },
    {
     "name": "stdout",
     "output_type": "stream",
     "text": [
      "\u001b[31mNo common interaction or similar neighbor for user 5359 and item 2395, proceed with default prediction\u001b[0m\n",
      "\u001b[31mNo common interaction or similar neighbor for user 5773 and item 2930, proceed with default prediction\u001b[0m\n",
      "\u001b[31mNo common interaction or similar neighbor for user 5773 and item 282, proceed with default prediction\u001b[0m\n",
      "\u001b[31mNo common interaction or similar neighbor for user 4268 and item 1643, proceed with default prediction\u001b[0m\n",
      "\u001b[31mNo common interaction or similar neighbor for user 4440 and item 1772, proceed with default prediction\u001b[0m\n",
      "\u001b[31mNo common interaction or similar neighbor for user 1728 and item 2899, proceed with default prediction\u001b[0m\n"
     ]
    },
    {
     "name": "stderr",
     "output_type": "stream",
     "text": [
      "eval_pointwise: 100%|██████████| 3/3 [00:00<00:00,  4.89it/s]\n",
      "/opt/homebrew/lib/python3.11/site-packages/sklearn/metrics/_classification.py:2845: FutureWarning: Setting the eps parameter is deprecated and will be removed in 1.5. Instead eps will always havea default value of `np.finfo(y_pred.dtype).eps`.\n",
      "  warnings.warn(\n",
      "eval_listwise: 100%|██████████| 1823/1823 [00:01<00:00, 1671.12it/s]\n"
     ]
    },
    {
     "name": "stdout",
     "output_type": "stream",
     "text": [
      "\t eval log_loss: 2.1034\n",
      "\t eval roc_auc: 0.6551\n",
      "\t eval precision@10: 0.0032\n",
      "\t eval recall@10: 0.0131\n",
      "\t eval ndcg@10: 0.0216\n",
      "==============================\n"
     ]
    },
    {
     "name": "stderr",
     "output_type": "stream",
     "text": [
      "eval_pointwise: 100%|██████████| 3/3 [00:00<00:00,  4.90it/s]\n"
     ]
    },
    {
     "name": "stdout",
     "output_type": "stream",
     "text": [
      "\u001b[31mWarning: pearson is not suitable for implicit data\u001b[0m\n",
      "Training start time: \u001b[35m2023-10-07 23:46:23\u001b[0m\n",
      "Final block size and num: (3253, 1)\n",
      "sim_matrix elapsed: 0.053s\n",
      "sim_matrix, shape: (3253, 3253), num_elements: 1608184, density: 4.6293 %\n"
     ]
    },
    {
     "name": "stderr",
     "output_type": "stream",
     "text": [
      "top_k: 100%|██████████| 3253/3253 [00:00<00:00, 16439.33it/s]\n",
      "eval_pointwise:   0%|          | 0/3 [00:00<?, ?it/s]"
     ]
    },
    {
     "name": "stdout",
     "output_type": "stream",
     "text": [
      "\u001b[31mNo common interaction or similar neighbor for user 5359 and item 2395, proceed with default prediction\u001b[0m\n",
      "\u001b[31mNo common interaction or similar neighbor for user 5773 and item 2930, proceed with default prediction\u001b[0m\n",
      "\u001b[31mNo common interaction or similar neighbor for user 1141 and item 711, proceed with default prediction\u001b[0m\n",
      "\u001b[31mNo common interaction or similar neighbor for user 4862 and item 86, proceed with default prediction\u001b[0m\n",
      "\u001b[31mNo common interaction or similar neighbor for user 4440 and item 1772, proceed with default prediction\u001b[0m\n",
      "\u001b[31mNo common interaction or similar neighbor for user 1728 and item 2899, proceed with default prediction\u001b[0m\n"
     ]
    },
    {
     "name": "stderr",
     "output_type": "stream",
     "text": [
      "eval_pointwise: 100%|██████████| 3/3 [00:00<00:00,  5.74it/s]\n",
      "/opt/homebrew/lib/python3.11/site-packages/sklearn/metrics/_classification.py:2845: FutureWarning: Setting the eps parameter is deprecated and will be removed in 1.5. Instead eps will always havea default value of `np.finfo(y_pred.dtype).eps`.\n",
      "  warnings.warn(\n",
      "eval_listwise: 100%|██████████| 1823/1823 [00:01<00:00, 1090.23it/s]\n"
     ]
    },
    {
     "name": "stdout",
     "output_type": "stream",
     "text": [
      "\t eval log_loss: 2.3457\n",
      "\t eval roc_auc: 0.5585\n",
      "\t eval precision@10: 0.0004\n",
      "\t eval recall@10: 0.0012\n",
      "\t eval ndcg@10: 0.0019\n",
      "==============================\n"
     ]
    },
    {
     "name": "stderr",
     "output_type": "stream",
     "text": [
      "eval_pointwise: 100%|██████████| 3/3 [00:00<00:00,  5.77it/s]\n"
     ]
    },
    {
     "name": "stdout",
     "output_type": "stream",
     "text": [
      "Training start time: \u001b[35m2023-10-07 23:46:26\u001b[0m\n",
      "Final block size and num: (5894, 1)\n",
      "sim_matrix elapsed: 0.100s\n",
      "sim_matrix, shape: (5894, 5894), num_elements: 4222948, density: 12.1561 %\n"
     ]
    },
    {
     "name": "stderr",
     "output_type": "stream",
     "text": [
      "top_k: 100%|██████████| 5894/5894 [00:00<00:00, 11627.70it/s]\n",
      "eval_pointwise:   0%|          | 0/3 [00:00<?, ?it/s]"
     ]
    },
    {
     "name": "stdout",
     "output_type": "stream",
     "text": [
      "\u001b[31mNo common interaction or similar neighbor for user 1728 and item 2899, proceed with default prediction\u001b[0m\n",
      "\u001b[31mNo common interaction or similar neighbor for user 1728 and item 2621, proceed with default prediction\u001b[0m\n",
      "\u001b[31mNo common interaction or similar neighbor for user 1932 and item 2012, proceed with default prediction\u001b[0m\n",
      "\u001b[31mNo common interaction or similar neighbor for user 35 and item 2067, proceed with default prediction\u001b[0m\n",
      "\u001b[31mNo common interaction or similar neighbor for user 192 and item 556, proceed with default prediction\u001b[0m\n",
      "\u001b[31mNo common interaction or similar neighbor for user 1957 and item 2741, proceed with default prediction\u001b[0m\n"
     ]
    },
    {
     "name": "stderr",
     "output_type": "stream",
     "text": [
      "eval_pointwise: 100%|██████████| 3/3 [00:00<00:00,  4.47it/s]\n",
      "/opt/homebrew/lib/python3.11/site-packages/sklearn/metrics/_classification.py:2845: FutureWarning: Setting the eps parameter is deprecated and will be removed in 1.5. Instead eps will always havea default value of `np.finfo(y_pred.dtype).eps`.\n",
      "  warnings.warn(\n",
      "eval_listwise: 100%|██████████| 1823/1823 [00:01<00:00, 1474.77it/s]\n"
     ]
    },
    {
     "name": "stdout",
     "output_type": "stream",
     "text": [
      "\t eval log_loss: 1.9637\n",
      "\t eval roc_auc: 0.7023\n",
      "\t eval precision@10: 0.0039\n",
      "\t eval recall@10: 0.0181\n",
      "\t eval ndcg@10: 0.0178\n",
      "==============================\n"
     ]
    },
    {
     "name": "stderr",
     "output_type": "stream",
     "text": [
      "eval_pointwise: 100%|██████████| 3/3 [00:00<00:00,  4.42it/s]\n"
     ]
    },
    {
     "name": "stdout",
     "output_type": "stream",
     "text": [
      "Training start time: \u001b[35m2023-10-07 23:46:29\u001b[0m\n",
      "Final block size and num: (3253, 1)\n",
      "sim_matrix elapsed: 0.035s\n",
      "sim_matrix, shape: (3253, 3253), num_elements: 1710008, density: 4.9224 %\n"
     ]
    },
    {
     "name": "stderr",
     "output_type": "stream",
     "text": [
      "top_k: 100%|██████████| 3253/3253 [00:00<00:00, 15863.28it/s]\n",
      "eval_pointwise:   0%|          | 0/3 [00:00<?, ?it/s]"
     ]
    },
    {
     "name": "stdout",
     "output_type": "stream",
     "text": [
      "\u001b[31mNo common interaction or similar neighbor for user 1728 and item 2899, proceed with default prediction\u001b[0m\n",
      "\u001b[31mNo common interaction or similar neighbor for user 1728 and item 2621, proceed with default prediction\u001b[0m\n",
      "\u001b[31mNo common interaction or similar neighbor for user 1932 and item 2012, proceed with default prediction\u001b[0m\n",
      "\u001b[31mNo common interaction or similar neighbor for user 35 and item 2067, proceed with default prediction\u001b[0m\n",
      "\u001b[31mNo common interaction or similar neighbor for user 192 and item 556, proceed with default prediction\u001b[0m\n",
      "\u001b[31mNo common interaction or similar neighbor for user 1957 and item 2741, proceed with default prediction\u001b[0m\n"
     ]
    },
    {
     "name": "stderr",
     "output_type": "stream",
     "text": [
      "eval_pointwise: 100%|██████████| 3/3 [00:00<00:00,  5.17it/s]\n",
      "/opt/homebrew/lib/python3.11/site-packages/sklearn/metrics/_classification.py:2845: FutureWarning: Setting the eps parameter is deprecated and will be removed in 1.5. Instead eps will always havea default value of `np.finfo(y_pred.dtype).eps`.\n",
      "  warnings.warn(\n",
      "eval_listwise: 100%|██████████| 1823/1823 [00:01<00:00, 1102.31it/s]\n"
     ]
    },
    {
     "name": "stdout",
     "output_type": "stream",
     "text": [
      "\t eval log_loss: 2.1922\n",
      "\t eval roc_auc: 0.5970\n",
      "\t eval precision@10: 0.0023\n",
      "\t eval recall@10: 0.0111\n",
      "\t eval ndcg@10: 0.0107\n",
      "==============================\n"
     ]
    },
    {
     "name": "stderr",
     "output_type": "stream",
     "text": [
      "eval_pointwise: 100%|██████████| 3/3 [00:00<00:00,  5.15it/s]\n"
     ]
    },
    {
     "name": "stdout",
     "output_type": "stream",
     "text": [
      "23\n",
      "Training start time: \u001b[35m2023-10-07 23:46:33\u001b[0m\n",
      "Final block size and num: (5894, 1)\n",
      "sim_matrix elapsed: 0.115s\n",
      "sim_matrix, shape: (5894, 5894), num_elements: 4222948, density: 12.1561 %\n"
     ]
    },
    {
     "name": "stderr",
     "output_type": "stream",
     "text": [
      "top_k: 100%|██████████| 5894/5894 [00:00<00:00, 11218.19it/s]\n",
      "eval_pointwise:   0%|          | 0/3 [00:00<?, ?it/s]"
     ]
    },
    {
     "name": "stdout",
     "output_type": "stream",
     "text": [
      "\u001b[31mNo common interaction or similar neighbor for user 1728 and item 2899, proceed with default prediction\u001b[0m\n",
      "\u001b[31mNo common interaction or similar neighbor for user 1728 and item 2621, proceed with default prediction\u001b[0m\n",
      "\u001b[31mNo common interaction or similar neighbor for user 1932 and item 2012, proceed with default prediction\u001b[0m\n",
      "\u001b[31mNo common interaction or similar neighbor for user 35 and item 2067, proceed with default prediction\u001b[0m\n",
      "\u001b[31mNo common interaction or similar neighbor for user 192 and item 556, proceed with default prediction\u001b[0m\n",
      "\u001b[31mNo common interaction or similar neighbor for user 1957 and item 2741, proceed with default prediction\u001b[0m\n"
     ]
    },
    {
     "name": "stderr",
     "output_type": "stream",
     "text": [
      "eval_pointwise: 100%|██████████| 3/3 [00:00<00:00,  4.40it/s]\n",
      "/opt/homebrew/lib/python3.11/site-packages/sklearn/metrics/_classification.py:2845: FutureWarning: Setting the eps parameter is deprecated and will be removed in 1.5. Instead eps will always havea default value of `np.finfo(y_pred.dtype).eps`.\n",
      "  warnings.warn(\n",
      "eval_listwise: 100%|██████████| 1823/1823 [00:00<00:00, 2712.69it/s]\n"
     ]
    },
    {
     "name": "stdout",
     "output_type": "stream",
     "text": [
      "\t eval log_loss: 1.5722\n",
      "\t eval roc_auc: 0.6742\n",
      "\t eval precision@10: 0.0046\n",
      "\t eval recall@10: 0.0207\n",
      "\t eval ndcg@10: 0.0199\n",
      "==============================\n"
     ]
    },
    {
     "name": "stderr",
     "output_type": "stream",
     "text": [
      "eval_pointwise: 100%|██████████| 3/3 [00:00<00:00,  4.50it/s]\n"
     ]
    },
    {
     "name": "stdout",
     "output_type": "stream",
     "text": [
      "Training start time: \u001b[35m2023-10-07 23:46:35\u001b[0m\n",
      "Final block size and num: (3253, 1)\n",
      "sim_matrix elapsed: 0.040s\n",
      "sim_matrix, shape: (3253, 3253), num_elements: 1710008, density: 4.9224 %\n"
     ]
    },
    {
     "name": "stderr",
     "output_type": "stream",
     "text": [
      "top_k: 100%|██████████| 3253/3253 [00:00<00:00, 15529.99it/s]\n",
      "eval_pointwise:   0%|          | 0/3 [00:00<?, ?it/s]"
     ]
    },
    {
     "name": "stdout",
     "output_type": "stream",
     "text": [
      "\u001b[31mNo common interaction or similar neighbor for user 1728 and item 2899, proceed with default prediction\u001b[0m\n",
      "\u001b[31mNo common interaction or similar neighbor for user 1728 and item 2621, proceed with default prediction\u001b[0m\n",
      "\u001b[31mNo common interaction or similar neighbor for user 1932 and item 2012, proceed with default prediction\u001b[0m\n",
      "\u001b[31mNo common interaction or similar neighbor for user 35 and item 2067, proceed with default prediction\u001b[0m\n",
      "\u001b[31mNo common interaction or similar neighbor for user 192 and item 556, proceed with default prediction\u001b[0m\n",
      "\u001b[31mNo common interaction or similar neighbor for user 1957 and item 2741, proceed with default prediction\u001b[0m\n"
     ]
    },
    {
     "name": "stderr",
     "output_type": "stream",
     "text": [
      "eval_pointwise: 100%|██████████| 3/3 [00:00<00:00,  5.14it/s]\n",
      "/opt/homebrew/lib/python3.11/site-packages/sklearn/metrics/_classification.py:2845: FutureWarning: Setting the eps parameter is deprecated and will be removed in 1.5. Instead eps will always havea default value of `np.finfo(y_pred.dtype).eps`.\n",
      "  warnings.warn(\n",
      "eval_listwise: 100%|██████████| 1823/1823 [00:01<00:00, 1059.95it/s]\n"
     ]
    },
    {
     "name": "stdout",
     "output_type": "stream",
     "text": [
      "\t eval log_loss: 1.8485\n",
      "\t eval roc_auc: 0.4885\n",
      "\t eval precision@10: 0.0002\n",
      "\t eval recall@10: 0.0012\n",
      "\t eval ndcg@10: 0.0010\n",
      "==============================\n"
     ]
    },
    {
     "name": "stderr",
     "output_type": "stream",
     "text": [
      "eval_pointwise: 100%|██████████| 3/3 [00:00<00:00,  5.12it/s]\n"
     ]
    },
    {
     "name": "stdout",
     "output_type": "stream",
     "text": [
      "\u001b[31mWarning: pearson is not suitable for implicit data\u001b[0m\n",
      "Training start time: \u001b[35m2023-10-07 23:46:38\u001b[0m\n",
      "Final block size and num: (5894, 1)\n",
      "sim_matrix elapsed: 0.145s\n",
      "sim_matrix, shape: (5894, 5894), num_elements: 3855554, density: 11.0986 %\n"
     ]
    },
    {
     "name": "stderr",
     "output_type": "stream",
     "text": [
      "top_k: 100%|██████████| 5894/5894 [00:00<00:00, 12212.96it/s]\n",
      "eval_pointwise:   0%|          | 0/3 [00:00<?, ?it/s]"
     ]
    },
    {
     "name": "stdout",
     "output_type": "stream",
     "text": [
      "\u001b[31mNo common interaction or similar neighbor for user 5359 and item 2395, proceed with default prediction\u001b[0m\n",
      "\u001b[31mNo common interaction or similar neighbor for user 5773 and item 2930, proceed with default prediction\u001b[0m\n",
      "\u001b[31mNo common interaction or similar neighbor for user 5773 and item 282, proceed with default prediction\u001b[0m\n",
      "\u001b[31mNo common interaction or similar neighbor for user 4268 and item 1643, proceed with default prediction\u001b[0m\n",
      "\u001b[31mNo common interaction or similar neighbor for user 4440 and item 1772, proceed with default prediction\u001b[0m\n",
      "\u001b[31mNo common interaction or similar neighbor for user 1728 and item 2899, proceed with default prediction\u001b[0m\n"
     ]
    },
    {
     "name": "stderr",
     "output_type": "stream",
     "text": [
      "eval_pointwise: 100%|██████████| 3/3 [00:00<00:00,  4.92it/s]\n",
      "/opt/homebrew/lib/python3.11/site-packages/sklearn/metrics/_classification.py:2845: FutureWarning: Setting the eps parameter is deprecated and will be removed in 1.5. Instead eps will always havea default value of `np.finfo(y_pred.dtype).eps`.\n",
      "  warnings.warn(\n",
      "eval_listwise: 100%|██████████| 1823/1823 [00:01<00:00, 1620.54it/s]\n"
     ]
    },
    {
     "name": "stdout",
     "output_type": "stream",
     "text": [
      "\t eval log_loss: 2.1064\n",
      "\t eval roc_auc: 0.6538\n",
      "\t eval precision@10: 0.0030\n",
      "\t eval recall@10: 0.0127\n",
      "\t eval ndcg@10: 0.0210\n",
      "==============================\n"
     ]
    },
    {
     "name": "stderr",
     "output_type": "stream",
     "text": [
      "eval_pointwise: 100%|██████████| 3/3 [00:00<00:00,  4.90it/s]\n"
     ]
    },
    {
     "name": "stdout",
     "output_type": "stream",
     "text": [
      "\u001b[31mWarning: pearson is not suitable for implicit data\u001b[0m\n",
      "Training start time: \u001b[35m2023-10-07 23:46:41\u001b[0m\n",
      "Final block size and num: (3253, 1)\n",
      "sim_matrix elapsed: 0.053s\n",
      "sim_matrix, shape: (3253, 3253), num_elements: 1608184, density: 4.6293 %\n"
     ]
    },
    {
     "name": "stderr",
     "output_type": "stream",
     "text": [
      "top_k: 100%|██████████| 3253/3253 [00:00<00:00, 16673.25it/s]\n",
      "eval_pointwise:   0%|          | 0/3 [00:00<?, ?it/s]"
     ]
    },
    {
     "name": "stdout",
     "output_type": "stream",
     "text": [
      "\u001b[31mNo common interaction or similar neighbor for user 5359 and item 2395, proceed with default prediction\u001b[0m\n",
      "\u001b[31mNo common interaction or similar neighbor for user 5773 and item 2930, proceed with default prediction\u001b[0m\n",
      "\u001b[31mNo common interaction or similar neighbor for user 1141 and item 711, proceed with default prediction\u001b[0m\n",
      "\u001b[31mNo common interaction or similar neighbor for user 4862 and item 86, proceed with default prediction\u001b[0m\n",
      "\u001b[31mNo common interaction or similar neighbor for user 4440 and item 1772, proceed with default prediction\u001b[0m\n",
      "\u001b[31mNo common interaction or similar neighbor for user 1728 and item 2899, proceed with default prediction\u001b[0m\n"
     ]
    },
    {
     "name": "stderr",
     "output_type": "stream",
     "text": [
      "eval_pointwise: 100%|██████████| 3/3 [00:00<00:00,  5.87it/s]\n",
      "/opt/homebrew/lib/python3.11/site-packages/sklearn/metrics/_classification.py:2845: FutureWarning: Setting the eps parameter is deprecated and will be removed in 1.5. Instead eps will always havea default value of `np.finfo(y_pred.dtype).eps`.\n",
      "  warnings.warn(\n",
      "eval_listwise: 100%|██████████| 1823/1823 [00:01<00:00, 951.92it/s] \n"
     ]
    },
    {
     "name": "stdout",
     "output_type": "stream",
     "text": [
      "\t eval log_loss: 2.3470\n",
      "\t eval roc_auc: 0.5581\n",
      "\t eval precision@10: 0.0004\n",
      "\t eval recall@10: 0.0012\n",
      "\t eval ndcg@10: 0.0019\n",
      "==============================\n"
     ]
    },
    {
     "name": "stderr",
     "output_type": "stream",
     "text": [
      "eval_pointwise: 100%|██████████| 3/3 [00:00<00:00,  5.85it/s]\n"
     ]
    },
    {
     "name": "stdout",
     "output_type": "stream",
     "text": [
      "Training start time: \u001b[35m2023-10-07 23:46:45\u001b[0m\n",
      "Final block size and num: (5894, 1)\n",
      "sim_matrix elapsed: 0.098s\n",
      "sim_matrix, shape: (5894, 5894), num_elements: 4222948, density: 12.1561 %\n"
     ]
    },
    {
     "name": "stderr",
     "output_type": "stream",
     "text": [
      "top_k: 100%|██████████| 5894/5894 [00:00<00:00, 11523.31it/s]\n",
      "eval_pointwise:   0%|          | 0/3 [00:00<?, ?it/s]"
     ]
    },
    {
     "name": "stdout",
     "output_type": "stream",
     "text": [
      "\u001b[31mNo common interaction or similar neighbor for user 1728 and item 2899, proceed with default prediction\u001b[0m\n",
      "\u001b[31mNo common interaction or similar neighbor for user 1728 and item 2621, proceed with default prediction\u001b[0m\n",
      "\u001b[31mNo common interaction or similar neighbor for user 1932 and item 2012, proceed with default prediction\u001b[0m\n",
      "\u001b[31mNo common interaction or similar neighbor for user 35 and item 2067, proceed with default prediction\u001b[0m\n",
      "\u001b[31mNo common interaction or similar neighbor for user 192 and item 556, proceed with default prediction\u001b[0m\n",
      "\u001b[31mNo common interaction or similar neighbor for user 1957 and item 2741, proceed with default prediction\u001b[0m\n"
     ]
    },
    {
     "name": "stderr",
     "output_type": "stream",
     "text": [
      "eval_pointwise: 100%|██████████| 3/3 [00:00<00:00,  4.43it/s]\n",
      "/opt/homebrew/lib/python3.11/site-packages/sklearn/metrics/_classification.py:2845: FutureWarning: Setting the eps parameter is deprecated and will be removed in 1.5. Instead eps will always havea default value of `np.finfo(y_pred.dtype).eps`.\n",
      "  warnings.warn(\n",
      "eval_listwise: 100%|██████████| 1823/1823 [00:01<00:00, 1405.31it/s]\n"
     ]
    },
    {
     "name": "stdout",
     "output_type": "stream",
     "text": [
      "\t eval log_loss: 1.9673\n",
      "\t eval roc_auc: 0.7000\n",
      "\t eval precision@10: 0.0037\n",
      "\t eval recall@10: 0.0177\n",
      "\t eval ndcg@10: 0.0171\n",
      "==============================\n"
     ]
    },
    {
     "name": "stderr",
     "output_type": "stream",
     "text": [
      "eval_pointwise: 100%|██████████| 3/3 [00:00<00:00,  4.46it/s]\n"
     ]
    },
    {
     "name": "stdout",
     "output_type": "stream",
     "text": [
      "Training start time: \u001b[35m2023-10-07 23:46:48\u001b[0m\n",
      "Final block size and num: (3253, 1)\n",
      "sim_matrix elapsed: 0.034s\n",
      "sim_matrix, shape: (3253, 3253), num_elements: 1710008, density: 4.9224 %\n"
     ]
    },
    {
     "name": "stderr",
     "output_type": "stream",
     "text": [
      "top_k: 100%|██████████| 3253/3253 [00:00<00:00, 15509.14it/s]\n",
      "eval_pointwise:   0%|          | 0/3 [00:00<?, ?it/s]"
     ]
    },
    {
     "name": "stdout",
     "output_type": "stream",
     "text": [
      "\u001b[31mNo common interaction or similar neighbor for user 1728 and item 2899, proceed with default prediction\u001b[0m\n",
      "\u001b[31mNo common interaction or similar neighbor for user 1728 and item 2621, proceed with default prediction\u001b[0m\n",
      "\u001b[31mNo common interaction or similar neighbor for user 1932 and item 2012, proceed with default prediction\u001b[0m\n",
      "\u001b[31mNo common interaction or similar neighbor for user 35 and item 2067, proceed with default prediction\u001b[0m\n",
      "\u001b[31mNo common interaction or similar neighbor for user 192 and item 556, proceed with default prediction\u001b[0m\n",
      "\u001b[31mNo common interaction or similar neighbor for user 1957 and item 2741, proceed with default prediction\u001b[0m\n"
     ]
    },
    {
     "name": "stderr",
     "output_type": "stream",
     "text": [
      "eval_pointwise: 100%|██████████| 3/3 [00:00<00:00,  5.07it/s]\n",
      "/opt/homebrew/lib/python3.11/site-packages/sklearn/metrics/_classification.py:2845: FutureWarning: Setting the eps parameter is deprecated and will be removed in 1.5. Instead eps will always havea default value of `np.finfo(y_pred.dtype).eps`.\n",
      "  warnings.warn(\n",
      "eval_listwise: 100%|██████████| 1823/1823 [00:01<00:00, 1051.08it/s]\n"
     ]
    },
    {
     "name": "stdout",
     "output_type": "stream",
     "text": [
      "\t eval log_loss: 2.1948\n",
      "\t eval roc_auc: 0.5954\n",
      "\t eval precision@10: 0.0023\n",
      "\t eval recall@10: 0.0108\n",
      "\t eval ndcg@10: 0.0109\n",
      "==============================\n"
     ]
    },
    {
     "name": "stderr",
     "output_type": "stream",
     "text": [
      "eval_pointwise: 100%|██████████| 3/3 [00:00<00:00,  5.15it/s]\n"
     ]
    },
    {
     "name": "stdout",
     "output_type": "stream",
     "text": [
      "24\n",
      "Training start time: \u001b[35m2023-10-07 23:46:51\u001b[0m\n",
      "Final block size and num: (5894, 1)\n",
      "sim_matrix elapsed: 0.116s\n",
      "sim_matrix, shape: (5894, 5894), num_elements: 4222948, density: 12.1561 %\n"
     ]
    },
    {
     "name": "stderr",
     "output_type": "stream",
     "text": [
      "top_k: 100%|██████████| 5894/5894 [00:00<00:00, 11193.79it/s]\n",
      "eval_pointwise:   0%|          | 0/3 [00:00<?, ?it/s]"
     ]
    },
    {
     "name": "stdout",
     "output_type": "stream",
     "text": [
      "\u001b[31mNo common interaction or similar neighbor for user 1728 and item 2899, proceed with default prediction\u001b[0m\n",
      "\u001b[31mNo common interaction or similar neighbor for user 1728 and item 2621, proceed with default prediction\u001b[0m\n",
      "\u001b[31mNo common interaction or similar neighbor for user 1932 and item 2012, proceed with default prediction\u001b[0m\n",
      "\u001b[31mNo common interaction or similar neighbor for user 35 and item 2067, proceed with default prediction\u001b[0m\n",
      "\u001b[31mNo common interaction or similar neighbor for user 192 and item 556, proceed with default prediction\u001b[0m\n",
      "\u001b[31mNo common interaction or similar neighbor for user 1957 and item 2741, proceed with default prediction\u001b[0m\n"
     ]
    },
    {
     "name": "stderr",
     "output_type": "stream",
     "text": [
      "eval_pointwise: 100%|██████████| 3/3 [00:00<00:00,  4.40it/s]\n",
      "/opt/homebrew/lib/python3.11/site-packages/sklearn/metrics/_classification.py:2845: FutureWarning: Setting the eps parameter is deprecated and will be removed in 1.5. Instead eps will always havea default value of `np.finfo(y_pred.dtype).eps`.\n",
      "  warnings.warn(\n",
      "eval_listwise: 100%|██████████| 1823/1823 [00:00<00:00, 2633.78it/s]\n"
     ]
    },
    {
     "name": "stdout",
     "output_type": "stream",
     "text": [
      "\t eval log_loss: 1.5759\n",
      "\t eval roc_auc: 0.6718\n",
      "\t eval precision@10: 0.0044\n",
      "\t eval recall@10: 0.0191\n",
      "\t eval ndcg@10: 0.0199\n",
      "==============================\n"
     ]
    },
    {
     "name": "stderr",
     "output_type": "stream",
     "text": [
      "eval_pointwise: 100%|██████████| 3/3 [00:00<00:00,  4.39it/s]\n"
     ]
    },
    {
     "name": "stdout",
     "output_type": "stream",
     "text": [
      "Training start time: \u001b[35m2023-10-07 23:46:54\u001b[0m\n",
      "Final block size and num: (3253, 1)\n",
      "sim_matrix elapsed: 0.040s\n",
      "sim_matrix, shape: (3253, 3253), num_elements: 1710008, density: 4.9224 %\n"
     ]
    },
    {
     "name": "stderr",
     "output_type": "stream",
     "text": [
      "top_k: 100%|██████████| 3253/3253 [00:00<00:00, 15531.81it/s]\n",
      "eval_pointwise:   0%|          | 0/3 [00:00<?, ?it/s]"
     ]
    },
    {
     "name": "stdout",
     "output_type": "stream",
     "text": [
      "\u001b[31mNo common interaction or similar neighbor for user 1728 and item 2899, proceed with default prediction\u001b[0m\n",
      "\u001b[31mNo common interaction or similar neighbor for user 1728 and item 2621, proceed with default prediction\u001b[0m\n",
      "\u001b[31mNo common interaction or similar neighbor for user 1932 and item 2012, proceed with default prediction\u001b[0m\n",
      "\u001b[31mNo common interaction or similar neighbor for user 35 and item 2067, proceed with default prediction\u001b[0m\n",
      "\u001b[31mNo common interaction or similar neighbor for user 192 and item 556, proceed with default prediction\u001b[0m\n",
      "\u001b[31mNo common interaction or similar neighbor for user 1957 and item 2741, proceed with default prediction\u001b[0m\n"
     ]
    },
    {
     "name": "stderr",
     "output_type": "stream",
     "text": [
      "eval_pointwise: 100%|██████████| 3/3 [00:00<00:00,  5.15it/s]\n",
      "/opt/homebrew/lib/python3.11/site-packages/sklearn/metrics/_classification.py:2845: FutureWarning: Setting the eps parameter is deprecated and will be removed in 1.5. Instead eps will always havea default value of `np.finfo(y_pred.dtype).eps`.\n",
      "  warnings.warn(\n",
      "eval_listwise: 100%|██████████| 1823/1823 [00:01<00:00, 1020.42it/s]\n"
     ]
    },
    {
     "name": "stdout",
     "output_type": "stream",
     "text": [
      "\t eval log_loss: 1.8511\n",
      "\t eval roc_auc: 0.4870\n",
      "\t eval precision@10: 0.0002\n",
      "\t eval recall@10: 0.0012\n",
      "\t eval ndcg@10: 0.0010\n",
      "==============================\n"
     ]
    },
    {
     "name": "stderr",
     "output_type": "stream",
     "text": [
      "eval_pointwise: 100%|██████████| 3/3 [00:00<00:00,  5.16it/s]\n"
     ]
    },
    {
     "name": "stdout",
     "output_type": "stream",
     "text": [
      "\u001b[31mWarning: pearson is not suitable for implicit data\u001b[0m\n",
      "Training start time: \u001b[35m2023-10-07 23:46:57\u001b[0m\n",
      "Final block size and num: (5894, 1)\n",
      "sim_matrix elapsed: 0.142s\n",
      "sim_matrix, shape: (5894, 5894), num_elements: 3855554, density: 11.0986 %\n"
     ]
    },
    {
     "name": "stderr",
     "output_type": "stream",
     "text": [
      "top_k: 100%|██████████| 5894/5894 [00:00<00:00, 12271.38it/s]\n",
      "eval_pointwise:   0%|          | 0/3 [00:00<?, ?it/s]"
     ]
    },
    {
     "name": "stdout",
     "output_type": "stream",
     "text": [
      "\u001b[31mNo common interaction or similar neighbor for user 5359 and item 2395, proceed with default prediction\u001b[0m\n",
      "\u001b[31mNo common interaction or similar neighbor for user 5773 and item 2930, proceed with default prediction\u001b[0m\n",
      "\u001b[31mNo common interaction or similar neighbor for user 5773 and item 282, proceed with default prediction\u001b[0m\n",
      "\u001b[31mNo common interaction or similar neighbor for user 4268 and item 1643, proceed with default prediction\u001b[0m\n",
      "\u001b[31mNo common interaction or similar neighbor for user 4440 and item 1772, proceed with default prediction\u001b[0m\n",
      "\u001b[31mNo common interaction or similar neighbor for user 1728 and item 2899, proceed with default prediction\u001b[0m\n"
     ]
    },
    {
     "name": "stderr",
     "output_type": "stream",
     "text": [
      "eval_pointwise: 100%|██████████| 3/3 [00:00<00:00,  4.90it/s]\n",
      "/opt/homebrew/lib/python3.11/site-packages/sklearn/metrics/_classification.py:2845: FutureWarning: Setting the eps parameter is deprecated and will be removed in 1.5. Instead eps will always havea default value of `np.finfo(y_pred.dtype).eps`.\n",
      "  warnings.warn(\n",
      "eval_listwise: 100%|██████████| 1823/1823 [00:01<00:00, 1533.12it/s]\n"
     ]
    },
    {
     "name": "stdout",
     "output_type": "stream",
     "text": [
      "\t eval log_loss: 2.1091\n",
      "\t eval roc_auc: 0.6526\n",
      "\t eval precision@10: 0.0031\n",
      "\t eval recall@10: 0.0122\n",
      "\t eval ndcg@10: 0.0213\n",
      "==============================\n"
     ]
    },
    {
     "name": "stderr",
     "output_type": "stream",
     "text": [
      "eval_pointwise: 100%|██████████| 3/3 [00:00<00:00,  4.96it/s]\n"
     ]
    },
    {
     "name": "stdout",
     "output_type": "stream",
     "text": [
      "\u001b[31mWarning: pearson is not suitable for implicit data\u001b[0m\n",
      "Training start time: \u001b[35m2023-10-07 23:47:00\u001b[0m\n",
      "Final block size and num: (3253, 1)\n",
      "sim_matrix elapsed: 0.053s\n",
      "sim_matrix, shape: (3253, 3253), num_elements: 1608184, density: 4.6293 %\n"
     ]
    },
    {
     "name": "stderr",
     "output_type": "stream",
     "text": [
      "top_k: 100%|██████████| 3253/3253 [00:00<00:00, 16553.68it/s]\n",
      "eval_pointwise:   0%|          | 0/3 [00:00<?, ?it/s]"
     ]
    },
    {
     "name": "stdout",
     "output_type": "stream",
     "text": [
      "\u001b[31mNo common interaction or similar neighbor for user 5359 and item 2395, proceed with default prediction\u001b[0m\n",
      "\u001b[31mNo common interaction or similar neighbor for user 5773 and item 2930, proceed with default prediction\u001b[0m\n",
      "\u001b[31mNo common interaction or similar neighbor for user 1141 and item 711, proceed with default prediction\u001b[0m\n",
      "\u001b[31mNo common interaction or similar neighbor for user 4862 and item 86, proceed with default prediction\u001b[0m\n",
      "\u001b[31mNo common interaction or similar neighbor for user 4440 and item 1772, proceed with default prediction\u001b[0m\n",
      "\u001b[31mNo common interaction or similar neighbor for user 1728 and item 2899, proceed with default prediction\u001b[0m\n"
     ]
    },
    {
     "name": "stderr",
     "output_type": "stream",
     "text": [
      "eval_pointwise: 100%|██████████| 3/3 [00:00<00:00,  5.80it/s]\n",
      "/opt/homebrew/lib/python3.11/site-packages/sklearn/metrics/_classification.py:2845: FutureWarning: Setting the eps parameter is deprecated and will be removed in 1.5. Instead eps will always havea default value of `np.finfo(y_pred.dtype).eps`.\n",
      "  warnings.warn(\n",
      "eval_listwise: 100%|██████████| 1823/1823 [00:01<00:00, 1016.12it/s]\n"
     ]
    },
    {
     "name": "stdout",
     "output_type": "stream",
     "text": [
      "\t eval log_loss: 2.3480\n",
      "\t eval roc_auc: 0.5578\n",
      "\t eval precision@10: 0.0004\n",
      "\t eval recall@10: 0.0012\n",
      "\t eval ndcg@10: 0.0019\n",
      "==============================\n"
     ]
    },
    {
     "name": "stderr",
     "output_type": "stream",
     "text": [
      "eval_pointwise: 100%|██████████| 3/3 [00:00<00:00,  5.87it/s]\n"
     ]
    },
    {
     "name": "stdout",
     "output_type": "stream",
     "text": [
      "Training start time: \u001b[35m2023-10-07 23:47:03\u001b[0m\n",
      "Final block size and num: (5894, 1)\n",
      "sim_matrix elapsed: 0.098s\n",
      "sim_matrix, shape: (5894, 5894), num_elements: 4222948, density: 12.1561 %\n"
     ]
    },
    {
     "name": "stderr",
     "output_type": "stream",
     "text": [
      "top_k: 100%|██████████| 5894/5894 [00:00<00:00, 11553.97it/s]\n",
      "eval_pointwise:   0%|          | 0/3 [00:00<?, ?it/s]"
     ]
    },
    {
     "name": "stdout",
     "output_type": "stream",
     "text": [
      "\u001b[31mNo common interaction or similar neighbor for user 1728 and item 2899, proceed with default prediction\u001b[0m\n",
      "\u001b[31mNo common interaction or similar neighbor for user 1728 and item 2621, proceed with default prediction\u001b[0m\n",
      "\u001b[31mNo common interaction or similar neighbor for user 1932 and item 2012, proceed with default prediction\u001b[0m\n",
      "\u001b[31mNo common interaction or similar neighbor for user 35 and item 2067, proceed with default prediction\u001b[0m\n",
      "\u001b[31mNo common interaction or similar neighbor for user 192 and item 556, proceed with default prediction\u001b[0m\n",
      "\u001b[31mNo common interaction or similar neighbor for user 1957 and item 2741, proceed with default prediction\u001b[0m\n"
     ]
    },
    {
     "name": "stderr",
     "output_type": "stream",
     "text": [
      "eval_pointwise: 100%|██████████| 3/3 [00:00<00:00,  4.37it/s]\n",
      "/opt/homebrew/lib/python3.11/site-packages/sklearn/metrics/_classification.py:2845: FutureWarning: Setting the eps parameter is deprecated and will be removed in 1.5. Instead eps will always havea default value of `np.finfo(y_pred.dtype).eps`.\n",
      "  warnings.warn(\n",
      "eval_listwise: 100%|██████████| 1823/1823 [00:01<00:00, 1362.17it/s]\n"
     ]
    },
    {
     "name": "stdout",
     "output_type": "stream",
     "text": [
      "\t eval log_loss: 1.9706\n",
      "\t eval roc_auc: 0.6979\n",
      "\t eval precision@10: 0.0042\n",
      "\t eval recall@10: 0.0200\n",
      "\t eval ndcg@10: 0.0193\n",
      "==============================\n"
     ]
    },
    {
     "name": "stderr",
     "output_type": "stream",
     "text": [
      "eval_pointwise: 100%|██████████| 3/3 [00:00<00:00,  4.44it/s]\n"
     ]
    },
    {
     "name": "stdout",
     "output_type": "stream",
     "text": [
      "Training start time: \u001b[35m2023-10-07 23:47:07\u001b[0m\n",
      "Final block size and num: (3253, 1)\n",
      "sim_matrix elapsed: 0.035s\n",
      "sim_matrix, shape: (3253, 3253), num_elements: 1710008, density: 4.9224 %\n"
     ]
    },
    {
     "name": "stderr",
     "output_type": "stream",
     "text": [
      "top_k: 100%|██████████| 3253/3253 [00:00<00:00, 15874.95it/s]\n",
      "eval_pointwise:   0%|          | 0/3 [00:00<?, ?it/s]"
     ]
    },
    {
     "name": "stdout",
     "output_type": "stream",
     "text": [
      "\u001b[31mNo common interaction or similar neighbor for user 1728 and item 2899, proceed with default prediction\u001b[0m\n",
      "\u001b[31mNo common interaction or similar neighbor for user 1728 and item 2621, proceed with default prediction\u001b[0m\n",
      "\u001b[31mNo common interaction or similar neighbor for user 1932 and item 2012, proceed with default prediction\u001b[0m\n",
      "\u001b[31mNo common interaction or similar neighbor for user 35 and item 2067, proceed with default prediction\u001b[0m\n",
      "\u001b[31mNo common interaction or similar neighbor for user 192 and item 556, proceed with default prediction\u001b[0m\n",
      "\u001b[31mNo common interaction or similar neighbor for user 1957 and item 2741, proceed with default prediction\u001b[0m\n"
     ]
    },
    {
     "name": "stderr",
     "output_type": "stream",
     "text": [
      "eval_pointwise: 100%|██████████| 3/3 [00:00<00:00,  5.10it/s]\n",
      "/opt/homebrew/lib/python3.11/site-packages/sklearn/metrics/_classification.py:2845: FutureWarning: Setting the eps parameter is deprecated and will be removed in 1.5. Instead eps will always havea default value of `np.finfo(y_pred.dtype).eps`.\n",
      "  warnings.warn(\n",
      "eval_listwise: 100%|██████████| 1823/1823 [00:02<00:00, 905.86it/s] \n"
     ]
    },
    {
     "name": "stdout",
     "output_type": "stream",
     "text": [
      "\t eval log_loss: 2.1972\n",
      "\t eval roc_auc: 0.5938\n",
      "\t eval precision@10: 0.0024\n",
      "\t eval recall@10: 0.0110\n",
      "\t eval ndcg@10: 0.0112\n",
      "==============================\n"
     ]
    },
    {
     "name": "stderr",
     "output_type": "stream",
     "text": [
      "eval_pointwise: 100%|██████████| 3/3 [00:00<00:00,  5.09it/s]\n"
     ]
    },
    {
     "name": "stdout",
     "output_type": "stream",
     "text": [
      "25\n",
      "Training start time: \u001b[35m2023-10-07 23:47:10\u001b[0m\n",
      "Final block size and num: (5894, 1)\n",
      "sim_matrix elapsed: 0.113s\n",
      "sim_matrix, shape: (5894, 5894), num_elements: 4222948, density: 12.1561 %\n"
     ]
    },
    {
     "name": "stderr",
     "output_type": "stream",
     "text": [
      "top_k: 100%|██████████| 5894/5894 [00:00<00:00, 11026.55it/s]\n",
      "eval_pointwise:   0%|          | 0/3 [00:00<?, ?it/s]"
     ]
    },
    {
     "name": "stdout",
     "output_type": "stream",
     "text": [
      "\u001b[31mNo common interaction or similar neighbor for user 1728 and item 2899, proceed with default prediction\u001b[0m\n",
      "\u001b[31mNo common interaction or similar neighbor for user 1728 and item 2621, proceed with default prediction\u001b[0m\n",
      "\u001b[31mNo common interaction or similar neighbor for user 1932 and item 2012, proceed with default prediction\u001b[0m\n",
      "\u001b[31mNo common interaction or similar neighbor for user 35 and item 2067, proceed with default prediction\u001b[0m\n",
      "\u001b[31mNo common interaction or similar neighbor for user 192 and item 556, proceed with default prediction\u001b[0m\n",
      "\u001b[31mNo common interaction or similar neighbor for user 1957 and item 2741, proceed with default prediction\u001b[0m\n"
     ]
    },
    {
     "name": "stderr",
     "output_type": "stream",
     "text": [
      "eval_pointwise: 100%|██████████| 3/3 [00:00<00:00,  4.37it/s]\n",
      "/opt/homebrew/lib/python3.11/site-packages/sklearn/metrics/_classification.py:2845: FutureWarning: Setting the eps parameter is deprecated and will be removed in 1.5. Instead eps will always havea default value of `np.finfo(y_pred.dtype).eps`.\n",
      "  warnings.warn(\n",
      "eval_listwise: 100%|██████████| 1823/1823 [00:00<00:00, 2484.10it/s]\n"
     ]
    },
    {
     "name": "stdout",
     "output_type": "stream",
     "text": [
      "\t eval log_loss: 1.5792\n",
      "\t eval roc_auc: 0.6695\n",
      "\t eval precision@10: 0.0039\n",
      "\t eval recall@10: 0.0181\n",
      "\t eval ndcg@10: 0.0178\n",
      "==============================\n"
     ]
    },
    {
     "name": "stderr",
     "output_type": "stream",
     "text": [
      "eval_pointwise: 100%|██████████| 3/3 [00:00<00:00,  4.43it/s]\n"
     ]
    },
    {
     "name": "stdout",
     "output_type": "stream",
     "text": [
      "Training start time: \u001b[35m2023-10-07 23:47:13\u001b[0m\n",
      "Final block size and num: (3253, 1)\n",
      "sim_matrix elapsed: 0.038s\n",
      "sim_matrix, shape: (3253, 3253), num_elements: 1710008, density: 4.9224 %\n"
     ]
    },
    {
     "name": "stderr",
     "output_type": "stream",
     "text": [
      "top_k: 100%|██████████| 3253/3253 [00:00<00:00, 15207.41it/s]\n",
      "eval_pointwise:   0%|          | 0/3 [00:00<?, ?it/s]"
     ]
    },
    {
     "name": "stdout",
     "output_type": "stream",
     "text": [
      "\u001b[31mNo common interaction or similar neighbor for user 1728 and item 2899, proceed with default prediction\u001b[0m\n",
      "\u001b[31mNo common interaction or similar neighbor for user 1728 and item 2621, proceed with default prediction\u001b[0m\n",
      "\u001b[31mNo common interaction or similar neighbor for user 1932 and item 2012, proceed with default prediction\u001b[0m\n",
      "\u001b[31mNo common interaction or similar neighbor for user 35 and item 2067, proceed with default prediction\u001b[0m\n",
      "\u001b[31mNo common interaction or similar neighbor for user 192 and item 556, proceed with default prediction\u001b[0m\n",
      "\u001b[31mNo common interaction or similar neighbor for user 1957 and item 2741, proceed with default prediction\u001b[0m\n"
     ]
    },
    {
     "name": "stderr",
     "output_type": "stream",
     "text": [
      "eval_pointwise: 100%|██████████| 3/3 [00:00<00:00,  5.13it/s]\n",
      "/opt/homebrew/lib/python3.11/site-packages/sklearn/metrics/_classification.py:2845: FutureWarning: Setting the eps parameter is deprecated and will be removed in 1.5. Instead eps will always havea default value of `np.finfo(y_pred.dtype).eps`.\n",
      "  warnings.warn(\n",
      "eval_listwise: 100%|██████████| 1823/1823 [00:01<00:00, 967.85it/s] \n"
     ]
    },
    {
     "name": "stdout",
     "output_type": "stream",
     "text": [
      "\t eval log_loss: 1.8534\n",
      "\t eval roc_auc: 0.4856\n",
      "\t eval precision@10: 0.0002\n",
      "\t eval recall@10: 0.0012\n",
      "\t eval ndcg@10: 0.0010\n",
      "==============================\n"
     ]
    },
    {
     "name": "stderr",
     "output_type": "stream",
     "text": [
      "eval_pointwise: 100%|██████████| 3/3 [00:00<00:00,  5.09it/s]\n"
     ]
    },
    {
     "name": "stdout",
     "output_type": "stream",
     "text": [
      "\u001b[31mWarning: pearson is not suitable for implicit data\u001b[0m\n",
      "Training start time: \u001b[35m2023-10-07 23:47:16\u001b[0m\n",
      "Final block size and num: (5894, 1)\n",
      "sim_matrix elapsed: 0.143s\n",
      "sim_matrix, shape: (5894, 5894), num_elements: 3855554, density: 11.0986 %\n"
     ]
    },
    {
     "name": "stderr",
     "output_type": "stream",
     "text": [
      "top_k: 100%|██████████| 5894/5894 [00:00<00:00, 12277.48it/s]\n",
      "eval_pointwise:   0%|          | 0/3 [00:00<?, ?it/s]"
     ]
    },
    {
     "name": "stdout",
     "output_type": "stream",
     "text": [
      "\u001b[31mNo common interaction or similar neighbor for user 5359 and item 2395, proceed with default prediction\u001b[0m\n",
      "\u001b[31mNo common interaction or similar neighbor for user 5773 and item 2930, proceed with default prediction\u001b[0m\n",
      "\u001b[31mNo common interaction or similar neighbor for user 5773 and item 282, proceed with default prediction\u001b[0m\n",
      "\u001b[31mNo common interaction or similar neighbor for user 4268 and item 1643, proceed with default prediction\u001b[0m\n",
      "\u001b[31mNo common interaction or similar neighbor for user 4440 and item 1772, proceed with default prediction\u001b[0m\n",
      "\u001b[31mNo common interaction or similar neighbor for user 1728 and item 2899, proceed with default prediction\u001b[0m\n"
     ]
    },
    {
     "name": "stderr",
     "output_type": "stream",
     "text": [
      "eval_pointwise: 100%|██████████| 3/3 [00:00<00:00,  4.86it/s]\n",
      "/opt/homebrew/lib/python3.11/site-packages/sklearn/metrics/_classification.py:2845: FutureWarning: Setting the eps parameter is deprecated and will be removed in 1.5. Instead eps will always havea default value of `np.finfo(y_pred.dtype).eps`.\n",
      "  warnings.warn(\n",
      "eval_listwise: 100%|██████████| 1823/1823 [00:01<00:00, 1472.90it/s]\n"
     ]
    },
    {
     "name": "stdout",
     "output_type": "stream",
     "text": [
      "\t eval log_loss: 2.1114\n",
      "\t eval roc_auc: 0.6515\n",
      "\t eval precision@10: 0.0032\n",
      "\t eval recall@10: 0.0133\n",
      "\t eval ndcg@10: 0.0225\n",
      "==============================\n"
     ]
    },
    {
     "name": "stderr",
     "output_type": "stream",
     "text": [
      "eval_pointwise: 100%|██████████| 3/3 [00:00<00:00,  4.93it/s]\n"
     ]
    },
    {
     "name": "stdout",
     "output_type": "stream",
     "text": [
      "\u001b[31mWarning: pearson is not suitable for implicit data\u001b[0m\n",
      "Training start time: \u001b[35m2023-10-07 23:47:20\u001b[0m\n",
      "Final block size and num: (3253, 1)\n",
      "sim_matrix elapsed: 0.053s\n",
      "sim_matrix, shape: (3253, 3253), num_elements: 1608184, density: 4.6293 %\n"
     ]
    },
    {
     "name": "stderr",
     "output_type": "stream",
     "text": [
      "top_k: 100%|██████████| 3253/3253 [00:00<00:00, 16622.71it/s]\n",
      "eval_pointwise:   0%|          | 0/3 [00:00<?, ?it/s]"
     ]
    },
    {
     "name": "stdout",
     "output_type": "stream",
     "text": [
      "\u001b[31mNo common interaction or similar neighbor for user 5359 and item 2395, proceed with default prediction\u001b[0m\n",
      "\u001b[31mNo common interaction or similar neighbor for user 5773 and item 2930, proceed with default prediction\u001b[0m\n",
      "\u001b[31mNo common interaction or similar neighbor for user 1141 and item 711, proceed with default prediction\u001b[0m\n",
      "\u001b[31mNo common interaction or similar neighbor for user 4862 and item 86, proceed with default prediction\u001b[0m\n",
      "\u001b[31mNo common interaction or similar neighbor for user 4440 and item 1772, proceed with default prediction\u001b[0m\n",
      "\u001b[31mNo common interaction or similar neighbor for user 1728 and item 2899, proceed with default prediction\u001b[0m\n"
     ]
    },
    {
     "name": "stderr",
     "output_type": "stream",
     "text": [
      "eval_pointwise: 100%|██████████| 3/3 [00:00<00:00,  5.86it/s]\n",
      "/opt/homebrew/lib/python3.11/site-packages/sklearn/metrics/_classification.py:2845: FutureWarning: Setting the eps parameter is deprecated and will be removed in 1.5. Instead eps will always havea default value of `np.finfo(y_pred.dtype).eps`.\n",
      "  warnings.warn(\n",
      "eval_listwise: 100%|██████████| 1823/1823 [00:01<00:00, 990.43it/s] \n"
     ]
    },
    {
     "name": "stdout",
     "output_type": "stream",
     "text": [
      "\t eval log_loss: 2.3488\n",
      "\t eval roc_auc: 0.5575\n",
      "\t eval precision@10: 0.0004\n",
      "\t eval recall@10: 0.0011\n",
      "\t eval ndcg@10: 0.0018\n",
      "==============================\n"
     ]
    },
    {
     "name": "stderr",
     "output_type": "stream",
     "text": [
      "eval_pointwise: 100%|██████████| 3/3 [00:00<00:00,  5.75it/s]\n"
     ]
    },
    {
     "name": "stdout",
     "output_type": "stream",
     "text": [
      "Training start time: \u001b[35m2023-10-07 23:47:23\u001b[0m\n",
      "Final block size and num: (5894, 1)\n",
      "sim_matrix elapsed: 0.098s\n",
      "sim_matrix, shape: (5894, 5894), num_elements: 4222948, density: 12.1561 %\n"
     ]
    },
    {
     "name": "stderr",
     "output_type": "stream",
     "text": [
      "top_k: 100%|██████████| 5894/5894 [00:00<00:00, 11612.93it/s]\n",
      "eval_pointwise:   0%|          | 0/3 [00:00<?, ?it/s]"
     ]
    },
    {
     "name": "stdout",
     "output_type": "stream",
     "text": [
      "\u001b[31mNo common interaction or similar neighbor for user 1728 and item 2899, proceed with default prediction\u001b[0m\n",
      "\u001b[31mNo common interaction or similar neighbor for user 1728 and item 2621, proceed with default prediction\u001b[0m\n",
      "\u001b[31mNo common interaction or similar neighbor for user 1932 and item 2012, proceed with default prediction\u001b[0m\n",
      "\u001b[31mNo common interaction or similar neighbor for user 35 and item 2067, proceed with default prediction\u001b[0m\n",
      "\u001b[31mNo common interaction or similar neighbor for user 192 and item 556, proceed with default prediction\u001b[0m\n",
      "\u001b[31mNo common interaction or similar neighbor for user 1957 and item 2741, proceed with default prediction\u001b[0m\n"
     ]
    },
    {
     "name": "stderr",
     "output_type": "stream",
     "text": [
      "eval_pointwise: 100%|██████████| 3/3 [00:00<00:00,  4.33it/s]\n",
      "/opt/homebrew/lib/python3.11/site-packages/sklearn/metrics/_classification.py:2845: FutureWarning: Setting the eps parameter is deprecated and will be removed in 1.5. Instead eps will always havea default value of `np.finfo(y_pred.dtype).eps`.\n",
      "  warnings.warn(\n",
      "eval_listwise: 100%|██████████| 1823/1823 [00:01<00:00, 1305.70it/s]\n"
     ]
    },
    {
     "name": "stdout",
     "output_type": "stream",
     "text": [
      "\t eval log_loss: 1.9736\n",
      "\t eval roc_auc: 0.6958\n",
      "\t eval precision@10: 0.0039\n",
      "\t eval recall@10: 0.0170\n",
      "\t eval ndcg@10: 0.0178\n",
      "==============================\n"
     ]
    },
    {
     "name": "stderr",
     "output_type": "stream",
     "text": [
      "eval_pointwise: 100%|██████████| 3/3 [00:00<00:00,  4.43it/s]\n"
     ]
    },
    {
     "name": "stdout",
     "output_type": "stream",
     "text": [
      "Training start time: \u001b[35m2023-10-07 23:47:26\u001b[0m\n",
      "Final block size and num: (3253, 1)\n",
      "sim_matrix elapsed: 0.034s\n",
      "sim_matrix, shape: (3253, 3253), num_elements: 1710008, density: 4.9224 %\n"
     ]
    },
    {
     "name": "stderr",
     "output_type": "stream",
     "text": [
      "top_k: 100%|██████████| 3253/3253 [00:00<00:00, 15734.66it/s]\n",
      "eval_pointwise:   0%|          | 0/3 [00:00<?, ?it/s]"
     ]
    },
    {
     "name": "stdout",
     "output_type": "stream",
     "text": [
      "\u001b[31mNo common interaction or similar neighbor for user 1728 and item 2899, proceed with default prediction\u001b[0m\n",
      "\u001b[31mNo common interaction or similar neighbor for user 1728 and item 2621, proceed with default prediction\u001b[0m\n",
      "\u001b[31mNo common interaction or similar neighbor for user 1932 and item 2012, proceed with default prediction\u001b[0m\n",
      "\u001b[31mNo common interaction or similar neighbor for user 35 and item 2067, proceed with default prediction\u001b[0m\n",
      "\u001b[31mNo common interaction or similar neighbor for user 192 and item 556, proceed with default prediction\u001b[0m\n",
      "\u001b[31mNo common interaction or similar neighbor for user 1957 and item 2741, proceed with default prediction\u001b[0m\n"
     ]
    },
    {
     "name": "stderr",
     "output_type": "stream",
     "text": [
      "eval_pointwise: 100%|██████████| 3/3 [00:00<00:00,  5.11it/s]\n",
      "/opt/homebrew/lib/python3.11/site-packages/sklearn/metrics/_classification.py:2845: FutureWarning: Setting the eps parameter is deprecated and will be removed in 1.5. Instead eps will always havea default value of `np.finfo(y_pred.dtype).eps`.\n",
      "  warnings.warn(\n",
      "eval_listwise: 100%|██████████| 1823/1823 [00:02<00:00, 886.41it/s] \n"
     ]
    },
    {
     "name": "stdout",
     "output_type": "stream",
     "text": [
      "\t eval log_loss: 2.1993\n",
      "\t eval roc_auc: 0.5924\n",
      "\t eval precision@10: 0.0024\n",
      "\t eval recall@10: 0.0110\n",
      "\t eval ndcg@10: 0.0114\n",
      "==============================\n"
     ]
    },
    {
     "name": "stderr",
     "output_type": "stream",
     "text": [
      "eval_pointwise: 100%|██████████| 3/3 [00:00<00:00,  5.09it/s]\n"
     ]
    },
    {
     "name": "stdout",
     "output_type": "stream",
     "text": [
      "26\n",
      "Training start time: \u001b[35m2023-10-07 23:47:30\u001b[0m\n",
      "Final block size and num: (5894, 1)\n",
      "sim_matrix elapsed: 0.115s\n",
      "sim_matrix, shape: (5894, 5894), num_elements: 4222948, density: 12.1561 %\n"
     ]
    },
    {
     "name": "stderr",
     "output_type": "stream",
     "text": [
      "top_k: 100%|██████████| 5894/5894 [00:00<00:00, 10932.73it/s]\n",
      "eval_pointwise:   0%|          | 0/3 [00:00<?, ?it/s]"
     ]
    },
    {
     "name": "stdout",
     "output_type": "stream",
     "text": [
      "\u001b[31mNo common interaction or similar neighbor for user 1728 and item 2899, proceed with default prediction\u001b[0m\n",
      "\u001b[31mNo common interaction or similar neighbor for user 1728 and item 2621, proceed with default prediction\u001b[0m\n",
      "\u001b[31mNo common interaction or similar neighbor for user 1932 and item 2012, proceed with default prediction\u001b[0m\n",
      "\u001b[31mNo common interaction or similar neighbor for user 35 and item 2067, proceed with default prediction\u001b[0m\n",
      "\u001b[31mNo common interaction or similar neighbor for user 192 and item 556, proceed with default prediction\u001b[0m\n",
      "\u001b[31mNo common interaction or similar neighbor for user 1957 and item 2741, proceed with default prediction\u001b[0m\n"
     ]
    },
    {
     "name": "stderr",
     "output_type": "stream",
     "text": [
      "eval_pointwise: 100%|██████████| 3/3 [00:00<00:00,  4.41it/s]\n",
      "/opt/homebrew/lib/python3.11/site-packages/sklearn/metrics/_classification.py:2845: FutureWarning: Setting the eps parameter is deprecated and will be removed in 1.5. Instead eps will always havea default value of `np.finfo(y_pred.dtype).eps`.\n",
      "  warnings.warn(\n",
      "eval_listwise: 100%|██████████| 1823/1823 [00:00<00:00, 2374.69it/s]\n"
     ]
    },
    {
     "name": "stdout",
     "output_type": "stream",
     "text": [
      "\t eval log_loss: 1.5823\n",
      "\t eval roc_auc: 0.6674\n",
      "\t eval precision@10: 0.0041\n",
      "\t eval recall@10: 0.0185\n",
      "\t eval ndcg@10: 0.0191\n",
      "==============================\n"
     ]
    },
    {
     "name": "stderr",
     "output_type": "stream",
     "text": [
      "eval_pointwise: 100%|██████████| 3/3 [00:00<00:00,  4.38it/s]\n"
     ]
    },
    {
     "name": "stdout",
     "output_type": "stream",
     "text": [
      "Training start time: \u001b[35m2023-10-07 23:47:33\u001b[0m\n",
      "Final block size and num: (3253, 1)\n",
      "sim_matrix elapsed: 0.041s\n",
      "sim_matrix, shape: (3253, 3253), num_elements: 1710008, density: 4.9224 %\n"
     ]
    },
    {
     "name": "stderr",
     "output_type": "stream",
     "text": [
      "top_k: 100%|██████████| 3253/3253 [00:00<00:00, 15345.66it/s]\n",
      "eval_pointwise:   0%|          | 0/3 [00:00<?, ?it/s]"
     ]
    },
    {
     "name": "stdout",
     "output_type": "stream",
     "text": [
      "\u001b[31mNo common interaction or similar neighbor for user 1728 and item 2899, proceed with default prediction\u001b[0m\n",
      "\u001b[31mNo common interaction or similar neighbor for user 1728 and item 2621, proceed with default prediction\u001b[0m\n",
      "\u001b[31mNo common interaction or similar neighbor for user 1932 and item 2012, proceed with default prediction\u001b[0m\n",
      "\u001b[31mNo common interaction or similar neighbor for user 35 and item 2067, proceed with default prediction\u001b[0m\n",
      "\u001b[31mNo common interaction or similar neighbor for user 192 and item 556, proceed with default prediction\u001b[0m\n",
      "\u001b[31mNo common interaction or similar neighbor for user 1957 and item 2741, proceed with default prediction\u001b[0m\n"
     ]
    },
    {
     "name": "stderr",
     "output_type": "stream",
     "text": [
      "eval_pointwise: 100%|██████████| 3/3 [00:00<00:00,  5.09it/s]\n",
      "/opt/homebrew/lib/python3.11/site-packages/sklearn/metrics/_classification.py:2845: FutureWarning: Setting the eps parameter is deprecated and will be removed in 1.5. Instead eps will always havea default value of `np.finfo(y_pred.dtype).eps`.\n",
      "  warnings.warn(\n",
      "eval_listwise: 100%|██████████| 1823/1823 [00:01<00:00, 920.97it/s] \n"
     ]
    },
    {
     "name": "stdout",
     "output_type": "stream",
     "text": [
      "\t eval log_loss: 1.8555\n",
      "\t eval roc_auc: 0.4843\n",
      "\t eval precision@10: 0.0002\n",
      "\t eval recall@10: 0.0012\n",
      "\t eval ndcg@10: 0.0011\n",
      "==============================\n"
     ]
    },
    {
     "name": "stderr",
     "output_type": "stream",
     "text": [
      "eval_pointwise: 100%|██████████| 3/3 [00:00<00:00,  5.09it/s]\n"
     ]
    },
    {
     "name": "stdout",
     "output_type": "stream",
     "text": [
      "\u001b[31mWarning: pearson is not suitable for implicit data\u001b[0m\n",
      "Training start time: \u001b[35m2023-10-07 23:47:36\u001b[0m\n",
      "Final block size and num: (5894, 1)\n",
      "sim_matrix elapsed: 0.141s\n",
      "sim_matrix, shape: (5894, 5894), num_elements: 3855554, density: 11.0986 %\n"
     ]
    },
    {
     "name": "stderr",
     "output_type": "stream",
     "text": [
      "top_k: 100%|██████████| 5894/5894 [00:00<00:00, 12058.32it/s]\n",
      "eval_pointwise:   0%|          | 0/3 [00:00<?, ?it/s]"
     ]
    },
    {
     "name": "stdout",
     "output_type": "stream",
     "text": [
      "\u001b[31mNo common interaction or similar neighbor for user 5359 and item 2395, proceed with default prediction\u001b[0m\n",
      "\u001b[31mNo common interaction or similar neighbor for user 5773 and item 2930, proceed with default prediction\u001b[0m\n",
      "\u001b[31mNo common interaction or similar neighbor for user 5773 and item 282, proceed with default prediction\u001b[0m\n",
      "\u001b[31mNo common interaction or similar neighbor for user 4268 and item 1643, proceed with default prediction\u001b[0m\n",
      "\u001b[31mNo common interaction or similar neighbor for user 4440 and item 1772, proceed with default prediction\u001b[0m\n",
      "\u001b[31mNo common interaction or similar neighbor for user 1728 and item 2899, proceed with default prediction\u001b[0m\n"
     ]
    },
    {
     "name": "stderr",
     "output_type": "stream",
     "text": [
      "eval_pointwise: 100%|██████████| 3/3 [00:00<00:00,  4.90it/s]\n",
      "/opt/homebrew/lib/python3.11/site-packages/sklearn/metrics/_classification.py:2845: FutureWarning: Setting the eps parameter is deprecated and will be removed in 1.5. Instead eps will always havea default value of `np.finfo(y_pred.dtype).eps`.\n",
      "  warnings.warn(\n",
      "eval_listwise: 100%|██████████| 1823/1823 [00:01<00:00, 1421.76it/s]\n"
     ]
    },
    {
     "name": "stdout",
     "output_type": "stream",
     "text": [
      "\t eval log_loss: 2.1136\n",
      "\t eval roc_auc: 0.6505\n",
      "\t eval precision@10: 0.0028\n",
      "\t eval recall@10: 0.0116\n",
      "\t eval ndcg@10: 0.0181\n",
      "==============================\n"
     ]
    },
    {
     "name": "stderr",
     "output_type": "stream",
     "text": [
      "eval_pointwise: 100%|██████████| 3/3 [00:00<00:00,  4.81it/s]\n"
     ]
    },
    {
     "name": "stdout",
     "output_type": "stream",
     "text": [
      "\u001b[31mWarning: pearson is not suitable for implicit data\u001b[0m\n",
      "Training start time: \u001b[35m2023-10-07 23:47:39\u001b[0m\n",
      "Final block size and num: (3253, 1)\n",
      "sim_matrix elapsed: 0.053s\n",
      "sim_matrix, shape: (3253, 3253), num_elements: 1608184, density: 4.6293 %\n"
     ]
    },
    {
     "name": "stderr",
     "output_type": "stream",
     "text": [
      "top_k: 100%|██████████| 3253/3253 [00:00<00:00, 16527.45it/s]\n",
      "eval_pointwise:   0%|          | 0/3 [00:00<?, ?it/s]"
     ]
    },
    {
     "name": "stdout",
     "output_type": "stream",
     "text": [
      "\u001b[31mNo common interaction or similar neighbor for user 5359 and item 2395, proceed with default prediction\u001b[0m\n",
      "\u001b[31mNo common interaction or similar neighbor for user 5773 and item 2930, proceed with default prediction\u001b[0m\n",
      "\u001b[31mNo common interaction or similar neighbor for user 1141 and item 711, proceed with default prediction\u001b[0m\n",
      "\u001b[31mNo common interaction or similar neighbor for user 4862 and item 86, proceed with default prediction\u001b[0m\n",
      "\u001b[31mNo common interaction or similar neighbor for user 4440 and item 1772, proceed with default prediction\u001b[0m\n",
      "\u001b[31mNo common interaction or similar neighbor for user 1728 and item 2899, proceed with default prediction\u001b[0m\n"
     ]
    },
    {
     "name": "stderr",
     "output_type": "stream",
     "text": [
      "eval_pointwise: 100%|██████████| 3/3 [00:00<00:00,  5.85it/s]\n",
      "/opt/homebrew/lib/python3.11/site-packages/sklearn/metrics/_classification.py:2845: FutureWarning: Setting the eps parameter is deprecated and will be removed in 1.5. Instead eps will always havea default value of `np.finfo(y_pred.dtype).eps`.\n",
      "  warnings.warn(\n",
      "eval_listwise: 100%|██████████| 1823/1823 [00:01<00:00, 948.07it/s] \n"
     ]
    },
    {
     "name": "stdout",
     "output_type": "stream",
     "text": [
      "\t eval log_loss: 2.3495\n",
      "\t eval roc_auc: 0.5573\n",
      "\t eval precision@10: 0.0004\n",
      "\t eval recall@10: 0.0014\n",
      "\t eval ndcg@10: 0.0019\n",
      "==============================\n"
     ]
    },
    {
     "name": "stderr",
     "output_type": "stream",
     "text": [
      "eval_pointwise: 100%|██████████| 3/3 [00:00<00:00,  5.78it/s]\n"
     ]
    },
    {
     "name": "stdout",
     "output_type": "stream",
     "text": [
      "Training start time: \u001b[35m2023-10-07 23:47:42\u001b[0m\n",
      "Final block size and num: (5894, 1)\n",
      "sim_matrix elapsed: 0.101s\n",
      "sim_matrix, shape: (5894, 5894), num_elements: 4222948, density: 12.1561 %\n"
     ]
    },
    {
     "name": "stderr",
     "output_type": "stream",
     "text": [
      "top_k: 100%|██████████| 5894/5894 [00:00<00:00, 11427.28it/s]\n",
      "eval_pointwise:   0%|          | 0/3 [00:00<?, ?it/s]"
     ]
    },
    {
     "name": "stdout",
     "output_type": "stream",
     "text": [
      "\u001b[31mNo common interaction or similar neighbor for user 1728 and item 2899, proceed with default prediction\u001b[0m\n",
      "\u001b[31mNo common interaction or similar neighbor for user 1728 and item 2621, proceed with default prediction\u001b[0m\n",
      "\u001b[31mNo common interaction or similar neighbor for user 1932 and item 2012, proceed with default prediction\u001b[0m\n",
      "\u001b[31mNo common interaction or similar neighbor for user 35 and item 2067, proceed with default prediction\u001b[0m\n",
      "\u001b[31mNo common interaction or similar neighbor for user 192 and item 556, proceed with default prediction\u001b[0m\n",
      "\u001b[31mNo common interaction or similar neighbor for user 1957 and item 2741, proceed with default prediction\u001b[0m\n"
     ]
    },
    {
     "name": "stderr",
     "output_type": "stream",
     "text": [
      "eval_pointwise: 100%|██████████| 3/3 [00:00<00:00,  4.39it/s]\n",
      "/opt/homebrew/lib/python3.11/site-packages/sklearn/metrics/_classification.py:2845: FutureWarning: Setting the eps parameter is deprecated and will be removed in 1.5. Instead eps will always havea default value of `np.finfo(y_pred.dtype).eps`.\n",
      "  warnings.warn(\n",
      "eval_listwise: 100%|██████████| 1823/1823 [00:01<00:00, 1256.48it/s]\n"
     ]
    },
    {
     "name": "stdout",
     "output_type": "stream",
     "text": [
      "\t eval log_loss: 1.9764\n",
      "\t eval roc_auc: 0.6938\n",
      "\t eval precision@10: 0.0041\n",
      "\t eval recall@10: 0.0205\n",
      "\t eval ndcg@10: 0.0189\n",
      "==============================\n"
     ]
    },
    {
     "name": "stderr",
     "output_type": "stream",
     "text": [
      "eval_pointwise: 100%|██████████| 3/3 [00:00<00:00,  4.41it/s]\n"
     ]
    },
    {
     "name": "stdout",
     "output_type": "stream",
     "text": [
      "Training start time: \u001b[35m2023-10-07 23:47:46\u001b[0m\n",
      "Final block size and num: (3253, 1)\n",
      "sim_matrix elapsed: 0.034s\n",
      "sim_matrix, shape: (3253, 3253), num_elements: 1710008, density: 4.9224 %\n"
     ]
    },
    {
     "name": "stderr",
     "output_type": "stream",
     "text": [
      "top_k: 100%|██████████| 3253/3253 [00:00<00:00, 15764.11it/s]\n",
      "eval_pointwise:   0%|          | 0/3 [00:00<?, ?it/s]"
     ]
    },
    {
     "name": "stdout",
     "output_type": "stream",
     "text": [
      "\u001b[31mNo common interaction or similar neighbor for user 1728 and item 2899, proceed with default prediction\u001b[0m\n",
      "\u001b[31mNo common interaction or similar neighbor for user 1728 and item 2621, proceed with default prediction\u001b[0m\n",
      "\u001b[31mNo common interaction or similar neighbor for user 1932 and item 2012, proceed with default prediction\u001b[0m\n",
      "\u001b[31mNo common interaction or similar neighbor for user 35 and item 2067, proceed with default prediction\u001b[0m\n",
      "\u001b[31mNo common interaction or similar neighbor for user 192 and item 556, proceed with default prediction\u001b[0m\n",
      "\u001b[31mNo common interaction or similar neighbor for user 1957 and item 2741, proceed with default prediction\u001b[0m\n"
     ]
    },
    {
     "name": "stderr",
     "output_type": "stream",
     "text": [
      "eval_pointwise: 100%|██████████| 3/3 [00:00<00:00,  5.04it/s]\n",
      "/opt/homebrew/lib/python3.11/site-packages/sklearn/metrics/_classification.py:2845: FutureWarning: Setting the eps parameter is deprecated and will be removed in 1.5. Instead eps will always havea default value of `np.finfo(y_pred.dtype).eps`.\n",
      "  warnings.warn(\n",
      "eval_listwise: 100%|██████████| 1823/1823 [00:01<00:00, 942.79it/s] \n"
     ]
    },
    {
     "name": "stdout",
     "output_type": "stream",
     "text": [
      "\t eval log_loss: 2.2012\n",
      "\t eval roc_auc: 0.5910\n",
      "\t eval precision@10: 0.0023\n",
      "\t eval recall@10: 0.0115\n",
      "\t eval ndcg@10: 0.0116\n",
      "==============================\n"
     ]
    },
    {
     "name": "stderr",
     "output_type": "stream",
     "text": [
      "eval_pointwise: 100%|██████████| 3/3 [00:00<00:00,  4.97it/s]\n"
     ]
    },
    {
     "name": "stdout",
     "output_type": "stream",
     "text": [
      "27\n",
      "Training start time: \u001b[35m2023-10-07 23:47:49\u001b[0m\n",
      "Final block size and num: (5894, 1)\n",
      "sim_matrix elapsed: 0.114s\n",
      "sim_matrix, shape: (5894, 5894), num_elements: 4222948, density: 12.1561 %\n"
     ]
    },
    {
     "name": "stderr",
     "output_type": "stream",
     "text": [
      "top_k: 100%|██████████| 5894/5894 [00:00<00:00, 8408.35it/s] \n",
      "eval_pointwise:   0%|          | 0/3 [00:00<?, ?it/s]"
     ]
    },
    {
     "name": "stdout",
     "output_type": "stream",
     "text": [
      "\u001b[31mNo common interaction or similar neighbor for user 1728 and item 2899, proceed with default prediction\u001b[0m\n",
      "\u001b[31mNo common interaction or similar neighbor for user 1728 and item 2621, proceed with default prediction\u001b[0m\n",
      "\u001b[31mNo common interaction or similar neighbor for user 1932 and item 2012, proceed with default prediction\u001b[0m\n",
      "\u001b[31mNo common interaction or similar neighbor for user 35 and item 2067, proceed with default prediction\u001b[0m\n",
      "\u001b[31mNo common interaction or similar neighbor for user 192 and item 556, proceed with default prediction\u001b[0m\n",
      "\u001b[31mNo common interaction or similar neighbor for user 1957 and item 2741, proceed with default prediction\u001b[0m\n"
     ]
    },
    {
     "name": "stderr",
     "output_type": "stream",
     "text": [
      "eval_pointwise: 100%|██████████| 3/3 [00:00<00:00,  4.39it/s]\n",
      "/opt/homebrew/lib/python3.11/site-packages/sklearn/metrics/_classification.py:2845: FutureWarning: Setting the eps parameter is deprecated and will be removed in 1.5. Instead eps will always havea default value of `np.finfo(y_pred.dtype).eps`.\n",
      "  warnings.warn(\n",
      "eval_listwise: 100%|██████████| 1823/1823 [00:00<00:00, 2266.50it/s]\n"
     ]
    },
    {
     "name": "stdout",
     "output_type": "stream",
     "text": [
      "\t eval log_loss: 1.5852\n",
      "\t eval roc_auc: 0.6653\n",
      "\t eval precision@10: 0.0042\n",
      "\t eval recall@10: 0.0190\n",
      "\t eval ndcg@10: 0.0188\n",
      "==============================\n"
     ]
    },
    {
     "name": "stderr",
     "output_type": "stream",
     "text": [
      "eval_pointwise: 100%|██████████| 3/3 [00:00<00:00,  4.37it/s]\n"
     ]
    },
    {
     "name": "stdout",
     "output_type": "stream",
     "text": [
      "Training start time: \u001b[35m2023-10-07 23:47:52\u001b[0m\n",
      "Final block size and num: (3253, 1)\n",
      "sim_matrix elapsed: 0.038s\n",
      "sim_matrix, shape: (3253, 3253), num_elements: 1710008, density: 4.9224 %\n"
     ]
    },
    {
     "name": "stderr",
     "output_type": "stream",
     "text": [
      "top_k: 100%|██████████| 3253/3253 [00:00<00:00, 15289.46it/s]\n",
      "eval_pointwise:   0%|          | 0/3 [00:00<?, ?it/s]"
     ]
    },
    {
     "name": "stdout",
     "output_type": "stream",
     "text": [
      "\u001b[31mNo common interaction or similar neighbor for user 1728 and item 2899, proceed with default prediction\u001b[0m\n",
      "\u001b[31mNo common interaction or similar neighbor for user 1728 and item 2621, proceed with default prediction\u001b[0m\n",
      "\u001b[31mNo common interaction or similar neighbor for user 1932 and item 2012, proceed with default prediction\u001b[0m\n",
      "\u001b[31mNo common interaction or similar neighbor for user 35 and item 2067, proceed with default prediction\u001b[0m\n",
      "\u001b[31mNo common interaction or similar neighbor for user 192 and item 556, proceed with default prediction\u001b[0m\n",
      "\u001b[31mNo common interaction or similar neighbor for user 1957 and item 2741, proceed with default prediction\u001b[0m\n"
     ]
    },
    {
     "name": "stderr",
     "output_type": "stream",
     "text": [
      "eval_pointwise: 100%|██████████| 3/3 [00:00<00:00,  5.06it/s]\n",
      "/opt/homebrew/lib/python3.11/site-packages/sklearn/metrics/_classification.py:2845: FutureWarning: Setting the eps parameter is deprecated and will be removed in 1.5. Instead eps will always havea default value of `np.finfo(y_pred.dtype).eps`.\n",
      "  warnings.warn(\n",
      "eval_listwise: 100%|██████████| 1823/1823 [00:02<00:00, 884.08it/s] \n"
     ]
    },
    {
     "name": "stdout",
     "output_type": "stream",
     "text": [
      "\t eval log_loss: 1.8573\n",
      "\t eval roc_auc: 0.4831\n",
      "\t eval precision@10: 0.0002\n",
      "\t eval recall@10: 0.0009\n",
      "\t eval ndcg@10: 0.0010\n",
      "==============================\n"
     ]
    },
    {
     "name": "stderr",
     "output_type": "stream",
     "text": [
      "eval_pointwise: 100%|██████████| 3/3 [00:00<00:00,  5.10it/s]\n"
     ]
    },
    {
     "name": "stdout",
     "output_type": "stream",
     "text": [
      "\u001b[31mWarning: pearson is not suitable for implicit data\u001b[0m\n",
      "Training start time: \u001b[35m2023-10-07 23:47:56\u001b[0m\n",
      "Final block size and num: (5894, 1)\n",
      "sim_matrix elapsed: 0.142s\n",
      "sim_matrix, shape: (5894, 5894), num_elements: 3855554, density: 11.0986 %\n"
     ]
    },
    {
     "name": "stderr",
     "output_type": "stream",
     "text": [
      "top_k: 100%|██████████| 5894/5894 [00:00<00:00, 12170.17it/s]\n",
      "eval_pointwise:   0%|          | 0/3 [00:00<?, ?it/s]"
     ]
    },
    {
     "name": "stdout",
     "output_type": "stream",
     "text": [
      "\u001b[31mNo common interaction or similar neighbor for user 5359 and item 2395, proceed with default prediction\u001b[0m\n",
      "\u001b[31mNo common interaction or similar neighbor for user 5773 and item 2930, proceed with default prediction\u001b[0m\n",
      "\u001b[31mNo common interaction or similar neighbor for user 5773 and item 282, proceed with default prediction\u001b[0m\n",
      "\u001b[31mNo common interaction or similar neighbor for user 4268 and item 1643, proceed with default prediction\u001b[0m\n",
      "\u001b[31mNo common interaction or similar neighbor for user 4440 and item 1772, proceed with default prediction\u001b[0m\n",
      "\u001b[31mNo common interaction or similar neighbor for user 1728 and item 2899, proceed with default prediction\u001b[0m\n"
     ]
    },
    {
     "name": "stderr",
     "output_type": "stream",
     "text": [
      "eval_pointwise: 100%|██████████| 3/3 [00:00<00:00,  4.85it/s]\n",
      "/opt/homebrew/lib/python3.11/site-packages/sklearn/metrics/_classification.py:2845: FutureWarning: Setting the eps parameter is deprecated and will be removed in 1.5. Instead eps will always havea default value of `np.finfo(y_pred.dtype).eps`.\n",
      "  warnings.warn(\n",
      "eval_listwise: 100%|██████████| 1823/1823 [00:01<00:00, 1357.48it/s]\n"
     ]
    },
    {
     "name": "stdout",
     "output_type": "stream",
     "text": [
      "\t eval log_loss: 2.1154\n",
      "\t eval roc_auc: 0.6496\n",
      "\t eval precision@10: 0.0030\n",
      "\t eval recall@10: 0.0133\n",
      "\t eval ndcg@10: 0.0211\n",
      "==============================\n"
     ]
    },
    {
     "name": "stderr",
     "output_type": "stream",
     "text": [
      "eval_pointwise: 100%|██████████| 3/3 [00:00<00:00,  4.80it/s]\n"
     ]
    },
    {
     "name": "stdout",
     "output_type": "stream",
     "text": [
      "\u001b[31mWarning: pearson is not suitable for implicit data\u001b[0m\n",
      "Training start time: \u001b[35m2023-10-07 23:47:59\u001b[0m\n",
      "Final block size and num: (3253, 1)\n",
      "sim_matrix elapsed: 0.053s\n",
      "sim_matrix, shape: (3253, 3253), num_elements: 1608184, density: 4.6293 %\n"
     ]
    },
    {
     "name": "stderr",
     "output_type": "stream",
     "text": [
      "top_k: 100%|██████████| 3253/3253 [00:00<00:00, 16553.76it/s]\n",
      "eval_pointwise:   0%|          | 0/3 [00:00<?, ?it/s]"
     ]
    },
    {
     "name": "stdout",
     "output_type": "stream",
     "text": [
      "\u001b[31mNo common interaction or similar neighbor for user 5359 and item 2395, proceed with default prediction\u001b[0m\n",
      "\u001b[31mNo common interaction or similar neighbor for user 5773 and item 2930, proceed with default prediction\u001b[0m\n",
      "\u001b[31mNo common interaction or similar neighbor for user 1141 and item 711, proceed with default prediction\u001b[0m\n",
      "\u001b[31mNo common interaction or similar neighbor for user 4862 and item 86, proceed with default prediction\u001b[0m\n",
      "\u001b[31mNo common interaction or similar neighbor for user 4440 and item 1772, proceed with default prediction\u001b[0m\n",
      "\u001b[31mNo common interaction or similar neighbor for user 1728 and item 2899, proceed with default prediction\u001b[0m\n"
     ]
    },
    {
     "name": "stderr",
     "output_type": "stream",
     "text": [
      "eval_pointwise: 100%|██████████| 3/3 [00:00<00:00,  5.76it/s]\n",
      "/opt/homebrew/lib/python3.11/site-packages/sklearn/metrics/_classification.py:2845: FutureWarning: Setting the eps parameter is deprecated and will be removed in 1.5. Instead eps will always havea default value of `np.finfo(y_pred.dtype).eps`.\n",
      "  warnings.warn(\n",
      "eval_listwise: 100%|██████████| 1823/1823 [00:02<00:00, 899.97it/s] \n"
     ]
    },
    {
     "name": "stdout",
     "output_type": "stream",
     "text": [
      "\t eval log_loss: 2.3501\n",
      "\t eval roc_auc: 0.5572\n",
      "\t eval precision@10: 0.0004\n",
      "\t eval recall@10: 0.0014\n",
      "\t eval ndcg@10: 0.0019\n",
      "==============================\n"
     ]
    },
    {
     "name": "stderr",
     "output_type": "stream",
     "text": [
      "eval_pointwise: 100%|██████████| 3/3 [00:00<00:00,  5.80it/s]\n"
     ]
    },
    {
     "name": "stdout",
     "output_type": "stream",
     "text": [
      "Training start time: \u001b[35m2023-10-07 23:48:03\u001b[0m\n",
      "Final block size and num: (5894, 1)\n",
      "sim_matrix elapsed: 0.099s\n",
      "sim_matrix, shape: (5894, 5894), num_elements: 4222948, density: 12.1561 %\n"
     ]
    },
    {
     "name": "stderr",
     "output_type": "stream",
     "text": [
      "top_k: 100%|██████████| 5894/5894 [00:00<00:00, 11392.52it/s]\n",
      "eval_pointwise:   0%|          | 0/3 [00:00<?, ?it/s]"
     ]
    },
    {
     "name": "stdout",
     "output_type": "stream",
     "text": [
      "\u001b[31mNo common interaction or similar neighbor for user 1728 and item 2899, proceed with default prediction\u001b[0m\n",
      "\u001b[31mNo common interaction or similar neighbor for user 1728 and item 2621, proceed with default prediction\u001b[0m\n",
      "\u001b[31mNo common interaction or similar neighbor for user 1932 and item 2012, proceed with default prediction\u001b[0m\n",
      "\u001b[31mNo common interaction or similar neighbor for user 35 and item 2067, proceed with default prediction\u001b[0m\n",
      "\u001b[31mNo common interaction or similar neighbor for user 192 and item 556, proceed with default prediction\u001b[0m\n",
      "\u001b[31mNo common interaction or similar neighbor for user 1957 and item 2741, proceed with default prediction\u001b[0m\n"
     ]
    },
    {
     "name": "stderr",
     "output_type": "stream",
     "text": [
      "eval_pointwise: 100%|██████████| 3/3 [00:00<00:00,  4.33it/s]\n",
      "/opt/homebrew/lib/python3.11/site-packages/sklearn/metrics/_classification.py:2845: FutureWarning: Setting the eps parameter is deprecated and will be removed in 1.5. Instead eps will always havea default value of `np.finfo(y_pred.dtype).eps`.\n",
      "  warnings.warn(\n",
      "eval_listwise: 100%|██████████| 1823/1823 [00:01<00:00, 1227.70it/s]\n"
     ]
    },
    {
     "name": "stdout",
     "output_type": "stream",
     "text": [
      "\t eval log_loss: 1.9790\n",
      "\t eval roc_auc: 0.6920\n",
      "\t eval precision@10: 0.0044\n",
      "\t eval recall@10: 0.0201\n",
      "\t eval ndcg@10: 0.0211\n",
      "==============================\n"
     ]
    },
    {
     "name": "stderr",
     "output_type": "stream",
     "text": [
      "eval_pointwise: 100%|██████████| 3/3 [00:00<00:00,  4.39it/s]\n"
     ]
    },
    {
     "name": "stdout",
     "output_type": "stream",
     "text": [
      "Training start time: \u001b[35m2023-10-07 23:48:06\u001b[0m\n",
      "Final block size and num: (3253, 1)\n",
      "sim_matrix elapsed: 0.036s\n",
      "sim_matrix, shape: (3253, 3253), num_elements: 1710008, density: 4.9224 %\n"
     ]
    },
    {
     "name": "stderr",
     "output_type": "stream",
     "text": [
      "top_k: 100%|██████████| 3253/3253 [00:00<00:00, 15511.01it/s]\n",
      "eval_pointwise:   0%|          | 0/3 [00:00<?, ?it/s]"
     ]
    },
    {
     "name": "stdout",
     "output_type": "stream",
     "text": [
      "\u001b[31mNo common interaction or similar neighbor for user 1728 and item 2899, proceed with default prediction\u001b[0m\n",
      "\u001b[31mNo common interaction or similar neighbor for user 1728 and item 2621, proceed with default prediction\u001b[0m\n",
      "\u001b[31mNo common interaction or similar neighbor for user 1932 and item 2012, proceed with default prediction\u001b[0m\n",
      "\u001b[31mNo common interaction or similar neighbor for user 35 and item 2067, proceed with default prediction\u001b[0m\n",
      "\u001b[31mNo common interaction or similar neighbor for user 192 and item 556, proceed with default prediction\u001b[0m\n",
      "\u001b[31mNo common interaction or similar neighbor for user 1957 and item 2741, proceed with default prediction\u001b[0m\n"
     ]
    },
    {
     "name": "stderr",
     "output_type": "stream",
     "text": [
      "eval_pointwise: 100%|██████████| 3/3 [00:00<00:00,  5.07it/s]\n",
      "/opt/homebrew/lib/python3.11/site-packages/sklearn/metrics/_classification.py:2845: FutureWarning: Setting the eps parameter is deprecated and will be removed in 1.5. Instead eps will always havea default value of `np.finfo(y_pred.dtype).eps`.\n",
      "  warnings.warn(\n",
      "eval_listwise: 100%|██████████| 1823/1823 [00:02<00:00, 910.42it/s] \n"
     ]
    },
    {
     "name": "stdout",
     "output_type": "stream",
     "text": [
      "\t eval log_loss: 2.2029\n",
      "\t eval roc_auc: 0.5897\n",
      "\t eval precision@10: 0.0023\n",
      "\t eval recall@10: 0.0114\n",
      "\t eval ndcg@10: 0.0117\n",
      "==============================\n"
     ]
    },
    {
     "name": "stderr",
     "output_type": "stream",
     "text": [
      "eval_pointwise: 100%|██████████| 3/3 [00:00<00:00,  5.02it/s]\n"
     ]
    },
    {
     "name": "stdout",
     "output_type": "stream",
     "text": [
      "28\n",
      "Training start time: \u001b[35m2023-10-07 23:48:10\u001b[0m\n",
      "Final block size and num: (5894, 1)\n",
      "sim_matrix elapsed: 0.115s\n",
      "sim_matrix, shape: (5894, 5894), num_elements: 4222948, density: 12.1561 %\n"
     ]
    },
    {
     "name": "stderr",
     "output_type": "stream",
     "text": [
      "top_k: 100%|██████████| 5894/5894 [00:00<00:00, 8537.05it/s] \n",
      "eval_pointwise:   0%|          | 0/3 [00:00<?, ?it/s]"
     ]
    },
    {
     "name": "stdout",
     "output_type": "stream",
     "text": [
      "\u001b[31mNo common interaction or similar neighbor for user 1728 and item 2899, proceed with default prediction\u001b[0m\n",
      "\u001b[31mNo common interaction or similar neighbor for user 1728 and item 2621, proceed with default prediction\u001b[0m\n",
      "\u001b[31mNo common interaction or similar neighbor for user 1932 and item 2012, proceed with default prediction\u001b[0m\n",
      "\u001b[31mNo common interaction or similar neighbor for user 35 and item 2067, proceed with default prediction\u001b[0m\n",
      "\u001b[31mNo common interaction or similar neighbor for user 192 and item 556, proceed with default prediction\u001b[0m\n",
      "\u001b[31mNo common interaction or similar neighbor for user 1957 and item 2741, proceed with default prediction\u001b[0m\n"
     ]
    },
    {
     "name": "stderr",
     "output_type": "stream",
     "text": [
      "eval_pointwise: 100%|██████████| 3/3 [00:00<00:00,  4.34it/s]\n",
      "/opt/homebrew/lib/python3.11/site-packages/sklearn/metrics/_classification.py:2845: FutureWarning: Setting the eps parameter is deprecated and will be removed in 1.5. Instead eps will always havea default value of `np.finfo(y_pred.dtype).eps`.\n",
      "  warnings.warn(\n",
      "eval_listwise: 100%|██████████| 1823/1823 [00:00<00:00, 2175.39it/s]\n"
     ]
    },
    {
     "name": "stdout",
     "output_type": "stream",
     "text": [
      "\t eval log_loss: 1.5878\n",
      "\t eval roc_auc: 0.6634\n",
      "\t eval precision@10: 0.0041\n",
      "\t eval recall@10: 0.0187\n",
      "\t eval ndcg@10: 0.0184\n",
      "==============================\n"
     ]
    },
    {
     "name": "stderr",
     "output_type": "stream",
     "text": [
      "eval_pointwise: 100%|██████████| 3/3 [00:00<00:00,  4.34it/s]\n"
     ]
    },
    {
     "name": "stdout",
     "output_type": "stream",
     "text": [
      "Training start time: \u001b[35m2023-10-07 23:48:13\u001b[0m\n",
      "Final block size and num: (3253, 1)\n",
      "sim_matrix elapsed: 0.039s\n",
      "sim_matrix, shape: (3253, 3253), num_elements: 1710008, density: 4.9224 %\n"
     ]
    },
    {
     "name": "stderr",
     "output_type": "stream",
     "text": [
      "top_k: 100%|██████████| 3253/3253 [00:00<00:00, 15151.64it/s]\n",
      "eval_pointwise:   0%|          | 0/3 [00:00<?, ?it/s]"
     ]
    },
    {
     "name": "stdout",
     "output_type": "stream",
     "text": [
      "\u001b[31mNo common interaction or similar neighbor for user 1728 and item 2899, proceed with default prediction\u001b[0m\n",
      "\u001b[31mNo common interaction or similar neighbor for user 1728 and item 2621, proceed with default prediction\u001b[0m\n",
      "\u001b[31mNo common interaction or similar neighbor for user 1932 and item 2012, proceed with default prediction\u001b[0m\n",
      "\u001b[31mNo common interaction or similar neighbor for user 35 and item 2067, proceed with default prediction\u001b[0m\n",
      "\u001b[31mNo common interaction or similar neighbor for user 192 and item 556, proceed with default prediction\u001b[0m\n",
      "\u001b[31mNo common interaction or similar neighbor for user 1957 and item 2741, proceed with default prediction\u001b[0m\n"
     ]
    },
    {
     "name": "stderr",
     "output_type": "stream",
     "text": [
      "eval_pointwise: 100%|██████████| 3/3 [00:00<00:00,  4.97it/s]\n",
      "/opt/homebrew/lib/python3.11/site-packages/sklearn/metrics/_classification.py:2845: FutureWarning: Setting the eps parameter is deprecated and will be removed in 1.5. Instead eps will always havea default value of `np.finfo(y_pred.dtype).eps`.\n",
      "  warnings.warn(\n",
      "eval_listwise: 100%|██████████| 1823/1823 [00:02<00:00, 857.05it/s] \n"
     ]
    },
    {
     "name": "stdout",
     "output_type": "stream",
     "text": [
      "\t eval log_loss: 1.8590\n",
      "\t eval roc_auc: 0.4820\n",
      "\t eval precision@10: 0.0002\n",
      "\t eval recall@10: 0.0009\n",
      "\t eval ndcg@10: 0.0010\n",
      "==============================\n"
     ]
    },
    {
     "name": "stderr",
     "output_type": "stream",
     "text": [
      "eval_pointwise: 100%|██████████| 3/3 [00:00<00:00,  5.02it/s]\n"
     ]
    },
    {
     "name": "stdout",
     "output_type": "stream",
     "text": [
      "\u001b[31mWarning: pearson is not suitable for implicit data\u001b[0m\n",
      "Training start time: \u001b[35m2023-10-07 23:48:16\u001b[0m\n",
      "Final block size and num: (5894, 1)\n",
      "sim_matrix elapsed: 0.144s\n",
      "sim_matrix, shape: (5894, 5894), num_elements: 3855554, density: 11.0986 %\n"
     ]
    },
    {
     "name": "stderr",
     "output_type": "stream",
     "text": [
      "top_k: 100%|██████████| 5894/5894 [00:00<00:00, 12147.52it/s]\n",
      "eval_pointwise:   0%|          | 0/3 [00:00<?, ?it/s]"
     ]
    },
    {
     "name": "stdout",
     "output_type": "stream",
     "text": [
      "\u001b[31mNo common interaction or similar neighbor for user 5359 and item 2395, proceed with default prediction\u001b[0m\n",
      "\u001b[31mNo common interaction or similar neighbor for user 5773 and item 2930, proceed with default prediction\u001b[0m\n",
      "\u001b[31mNo common interaction or similar neighbor for user 5773 and item 282, proceed with default prediction\u001b[0m\n",
      "\u001b[31mNo common interaction or similar neighbor for user 4268 and item 1643, proceed with default prediction\u001b[0m\n",
      "\u001b[31mNo common interaction or similar neighbor for user 4440 and item 1772, proceed with default prediction\u001b[0m\n",
      "\u001b[31mNo common interaction or similar neighbor for user 1728 and item 2899, proceed with default prediction\u001b[0m\n"
     ]
    },
    {
     "name": "stderr",
     "output_type": "stream",
     "text": [
      "eval_pointwise: 100%|██████████| 3/3 [00:00<00:00,  4.87it/s]\n",
      "/opt/homebrew/lib/python3.11/site-packages/sklearn/metrics/_classification.py:2845: FutureWarning: Setting the eps parameter is deprecated and will be removed in 1.5. Instead eps will always havea default value of `np.finfo(y_pred.dtype).eps`.\n",
      "  warnings.warn(\n",
      "eval_listwise: 100%|██████████| 1823/1823 [00:01<00:00, 1300.09it/s]\n"
     ]
    },
    {
     "name": "stdout",
     "output_type": "stream",
     "text": [
      "\t eval log_loss: 2.1171\n",
      "\t eval roc_auc: 0.6488\n",
      "\t eval precision@10: 0.0032\n",
      "\t eval recall@10: 0.0153\n",
      "\t eval ndcg@10: 0.0229\n",
      "==============================\n"
     ]
    },
    {
     "name": "stderr",
     "output_type": "stream",
     "text": [
      "eval_pointwise: 100%|██████████| 3/3 [00:00<00:00,  4.85it/s]\n"
     ]
    },
    {
     "name": "stdout",
     "output_type": "stream",
     "text": [
      "\u001b[31mWarning: pearson is not suitable for implicit data\u001b[0m\n",
      "Training start time: \u001b[35m2023-10-07 23:48:20\u001b[0m\n",
      "Final block size and num: (3253, 1)\n",
      "sim_matrix elapsed: 0.054s\n",
      "sim_matrix, shape: (3253, 3253), num_elements: 1608184, density: 4.6293 %\n"
     ]
    },
    {
     "name": "stderr",
     "output_type": "stream",
     "text": [
      "top_k: 100%|██████████| 3253/3253 [00:00<00:00, 16461.05it/s]\n",
      "eval_pointwise:   0%|          | 0/3 [00:00<?, ?it/s]"
     ]
    },
    {
     "name": "stdout",
     "output_type": "stream",
     "text": [
      "\u001b[31mNo common interaction or similar neighbor for user 5359 and item 2395, proceed with default prediction\u001b[0m\n",
      "\u001b[31mNo common interaction or similar neighbor for user 5773 and item 2930, proceed with default prediction\u001b[0m\n",
      "\u001b[31mNo common interaction or similar neighbor for user 1141 and item 711, proceed with default prediction\u001b[0m\n",
      "\u001b[31mNo common interaction or similar neighbor for user 4862 and item 86, proceed with default prediction\u001b[0m\n",
      "\u001b[31mNo common interaction or similar neighbor for user 4440 and item 1772, proceed with default prediction\u001b[0m\n",
      "\u001b[31mNo common interaction or similar neighbor for user 1728 and item 2899, proceed with default prediction\u001b[0m\n"
     ]
    },
    {
     "name": "stderr",
     "output_type": "stream",
     "text": [
      "eval_pointwise: 100%|██████████| 3/3 [00:00<00:00,  5.72it/s]\n",
      "/opt/homebrew/lib/python3.11/site-packages/sklearn/metrics/_classification.py:2845: FutureWarning: Setting the eps parameter is deprecated and will be removed in 1.5. Instead eps will always havea default value of `np.finfo(y_pred.dtype).eps`.\n",
      "  warnings.warn(\n",
      "eval_listwise: 100%|██████████| 1823/1823 [00:02<00:00, 877.39it/s] \n"
     ]
    },
    {
     "name": "stdout",
     "output_type": "stream",
     "text": [
      "\t eval log_loss: 2.3506\n",
      "\t eval roc_auc: 0.5571\n",
      "\t eval precision@10: 0.0004\n",
      "\t eval recall@10: 0.0014\n",
      "\t eval ndcg@10: 0.0021\n",
      "==============================\n"
     ]
    },
    {
     "name": "stderr",
     "output_type": "stream",
     "text": [
      "eval_pointwise: 100%|██████████| 3/3 [00:00<00:00,  5.75it/s]\n"
     ]
    },
    {
     "name": "stdout",
     "output_type": "stream",
     "text": [
      "Training start time: \u001b[35m2023-10-07 23:48:23\u001b[0m\n",
      "Final block size and num: (5894, 1)\n",
      "sim_matrix elapsed: 0.097s\n",
      "sim_matrix, shape: (5894, 5894), num_elements: 4222948, density: 12.1561 %\n"
     ]
    },
    {
     "name": "stderr",
     "output_type": "stream",
     "text": [
      "top_k: 100%|██████████| 5894/5894 [00:00<00:00, 11592.66it/s]\n",
      "eval_pointwise:   0%|          | 0/3 [00:00<?, ?it/s]"
     ]
    },
    {
     "name": "stdout",
     "output_type": "stream",
     "text": [
      "\u001b[31mNo common interaction or similar neighbor for user 1728 and item 2899, proceed with default prediction\u001b[0m\n",
      "\u001b[31mNo common interaction or similar neighbor for user 1728 and item 2621, proceed with default prediction\u001b[0m\n",
      "\u001b[31mNo common interaction or similar neighbor for user 1932 and item 2012, proceed with default prediction\u001b[0m\n",
      "\u001b[31mNo common interaction or similar neighbor for user 35 and item 2067, proceed with default prediction\u001b[0m\n",
      "\u001b[31mNo common interaction or similar neighbor for user 192 and item 556, proceed with default prediction\u001b[0m\n",
      "\u001b[31mNo common interaction or similar neighbor for user 1957 and item 2741, proceed with default prediction\u001b[0m\n"
     ]
    },
    {
     "name": "stderr",
     "output_type": "stream",
     "text": [
      "eval_pointwise: 100%|██████████| 3/3 [00:00<00:00,  4.29it/s]\n",
      "/opt/homebrew/lib/python3.11/site-packages/sklearn/metrics/_classification.py:2845: FutureWarning: Setting the eps parameter is deprecated and will be removed in 1.5. Instead eps will always havea default value of `np.finfo(y_pred.dtype).eps`.\n",
      "  warnings.warn(\n",
      "eval_listwise: 100%|██████████| 1823/1823 [00:01<00:00, 1188.38it/s]\n"
     ]
    },
    {
     "name": "stdout",
     "output_type": "stream",
     "text": [
      "\t eval log_loss: 1.9813\n",
      "\t eval roc_auc: 0.6903\n",
      "\t eval precision@10: 0.0038\n",
      "\t eval recall@10: 0.0173\n",
      "\t eval ndcg@10: 0.0168\n",
      "==============================\n"
     ]
    },
    {
     "name": "stderr",
     "output_type": "stream",
     "text": [
      "eval_pointwise: 100%|██████████| 3/3 [00:00<00:00,  4.37it/s]\n"
     ]
    },
    {
     "name": "stdout",
     "output_type": "stream",
     "text": [
      "Training start time: \u001b[35m2023-10-07 23:48:27\u001b[0m\n",
      "Final block size and num: (3253, 1)\n",
      "sim_matrix elapsed: 0.034s\n",
      "sim_matrix, shape: (3253, 3253), num_elements: 1710008, density: 4.9224 %\n"
     ]
    },
    {
     "name": "stderr",
     "output_type": "stream",
     "text": [
      "top_k: 100%|██████████| 3253/3253 [00:00<00:00, 15693.54it/s]\n",
      "eval_pointwise:   0%|          | 0/3 [00:00<?, ?it/s]"
     ]
    },
    {
     "name": "stdout",
     "output_type": "stream",
     "text": [
      "\u001b[31mNo common interaction or similar neighbor for user 1728 and item 2899, proceed with default prediction\u001b[0m\n",
      "\u001b[31mNo common interaction or similar neighbor for user 1728 and item 2621, proceed with default prediction\u001b[0m\n",
      "\u001b[31mNo common interaction or similar neighbor for user 1932 and item 2012, proceed with default prediction\u001b[0m\n",
      "\u001b[31mNo common interaction or similar neighbor for user 35 and item 2067, proceed with default prediction\u001b[0m\n",
      "\u001b[31mNo common interaction or similar neighbor for user 192 and item 556, proceed with default prediction\u001b[0m\n",
      "\u001b[31mNo common interaction or similar neighbor for user 1957 and item 2741, proceed with default prediction\u001b[0m\n"
     ]
    },
    {
     "name": "stderr",
     "output_type": "stream",
     "text": [
      "eval_pointwise: 100%|██████████| 3/3 [00:00<00:00,  4.98it/s]\n",
      "/opt/homebrew/lib/python3.11/site-packages/sklearn/metrics/_classification.py:2845: FutureWarning: Setting the eps parameter is deprecated and will be removed in 1.5. Instead eps will always havea default value of `np.finfo(y_pred.dtype).eps`.\n",
      "  warnings.warn(\n",
      "eval_listwise: 100%|██████████| 1823/1823 [00:02<00:00, 807.76it/s] \n"
     ]
    },
    {
     "name": "stdout",
     "output_type": "stream",
     "text": [
      "\t eval log_loss: 2.2044\n",
      "\t eval roc_auc: 0.5885\n",
      "\t eval precision@10: 0.0023\n",
      "\t eval recall@10: 0.0116\n",
      "\t eval ndcg@10: 0.0115\n",
      "==============================\n"
     ]
    },
    {
     "name": "stderr",
     "output_type": "stream",
     "text": [
      "eval_pointwise: 100%|██████████| 3/3 [00:00<00:00,  4.98it/s]\n"
     ]
    },
    {
     "name": "stdout",
     "output_type": "stream",
     "text": [
      "29\n",
      "Training start time: \u001b[35m2023-10-07 23:48:30\u001b[0m\n",
      "Final block size and num: (5894, 1)\n",
      "sim_matrix elapsed: 0.114s\n",
      "sim_matrix, shape: (5894, 5894), num_elements: 4222948, density: 12.1561 %\n"
     ]
    },
    {
     "name": "stderr",
     "output_type": "stream",
     "text": [
      "top_k: 100%|██████████| 5894/5894 [00:00<00:00, 10985.91it/s]\n",
      "eval_pointwise:   0%|          | 0/3 [00:00<?, ?it/s]"
     ]
    },
    {
     "name": "stdout",
     "output_type": "stream",
     "text": [
      "\u001b[31mNo common interaction or similar neighbor for user 1728 and item 2899, proceed with default prediction\u001b[0m\n",
      "\u001b[31mNo common interaction or similar neighbor for user 1728 and item 2621, proceed with default prediction\u001b[0m\n",
      "\u001b[31mNo common interaction or similar neighbor for user 1932 and item 2012, proceed with default prediction\u001b[0m\n",
      "\u001b[31mNo common interaction or similar neighbor for user 35 and item 2067, proceed with default prediction\u001b[0m\n",
      "\u001b[31mNo common interaction or similar neighbor for user 192 and item 556, proceed with default prediction\u001b[0m\n",
      "\u001b[31mNo common interaction or similar neighbor for user 1957 and item 2741, proceed with default prediction\u001b[0m\n"
     ]
    },
    {
     "name": "stderr",
     "output_type": "stream",
     "text": [
      "eval_pointwise: 100%|██████████| 3/3 [00:00<00:00,  4.33it/s]\n",
      "/opt/homebrew/lib/python3.11/site-packages/sklearn/metrics/_classification.py:2845: FutureWarning: Setting the eps parameter is deprecated and will be removed in 1.5. Instead eps will always havea default value of `np.finfo(y_pred.dtype).eps`.\n",
      "  warnings.warn(\n",
      "eval_listwise: 100%|██████████| 1823/1823 [00:00<00:00, 2081.64it/s]\n"
     ]
    },
    {
     "name": "stdout",
     "output_type": "stream",
     "text": [
      "\t eval log_loss: 1.5903\n",
      "\t eval roc_auc: 0.6616\n",
      "\t eval precision@10: 0.0036\n",
      "\t eval recall@10: 0.0171\n",
      "\t eval ndcg@10: 0.0166\n",
      "==============================\n"
     ]
    },
    {
     "name": "stderr",
     "output_type": "stream",
     "text": [
      "eval_pointwise: 100%|██████████| 3/3 [00:00<00:00,  4.32it/s]\n"
     ]
    },
    {
     "name": "stdout",
     "output_type": "stream",
     "text": [
      "Training start time: \u001b[35m2023-10-07 23:48:33\u001b[0m\n",
      "Final block size and num: (3253, 1)\n",
      "sim_matrix elapsed: 0.039s\n",
      "sim_matrix, shape: (3253, 3253), num_elements: 1710008, density: 4.9224 %\n"
     ]
    },
    {
     "name": "stderr",
     "output_type": "stream",
     "text": [
      "top_k: 100%|██████████| 3253/3253 [00:00<00:00, 15273.30it/s]\n",
      "eval_pointwise:   0%|          | 0/3 [00:00<?, ?it/s]"
     ]
    },
    {
     "name": "stdout",
     "output_type": "stream",
     "text": [
      "\u001b[31mNo common interaction or similar neighbor for user 1728 and item 2899, proceed with default prediction\u001b[0m\n",
      "\u001b[31mNo common interaction or similar neighbor for user 1728 and item 2621, proceed with default prediction\u001b[0m\n",
      "\u001b[31mNo common interaction or similar neighbor for user 1932 and item 2012, proceed with default prediction\u001b[0m\n",
      "\u001b[31mNo common interaction or similar neighbor for user 35 and item 2067, proceed with default prediction\u001b[0m\n",
      "\u001b[31mNo common interaction or similar neighbor for user 192 and item 556, proceed with default prediction\u001b[0m\n",
      "\u001b[31mNo common interaction or similar neighbor for user 1957 and item 2741, proceed with default prediction\u001b[0m\n"
     ]
    },
    {
     "name": "stderr",
     "output_type": "stream",
     "text": [
      "eval_pointwise: 100%|██████████| 3/3 [00:00<00:00,  5.02it/s]\n",
      "/opt/homebrew/lib/python3.11/site-packages/sklearn/metrics/_classification.py:2845: FutureWarning: Setting the eps parameter is deprecated and will be removed in 1.5. Instead eps will always havea default value of `np.finfo(y_pred.dtype).eps`.\n",
      "  warnings.warn(\n",
      "eval_listwise: 100%|██████████| 1823/1823 [00:02<00:00, 845.05it/s] \n"
     ]
    },
    {
     "name": "stdout",
     "output_type": "stream",
     "text": [
      "\t eval log_loss: 1.8606\n",
      "\t eval roc_auc: 0.4810\n",
      "\t eval precision@10: 0.0002\n",
      "\t eval recall@10: 0.0009\n",
      "\t eval ndcg@10: 0.0011\n",
      "==============================\n"
     ]
    },
    {
     "name": "stderr",
     "output_type": "stream",
     "text": [
      "eval_pointwise: 100%|██████████| 3/3 [00:00<00:00,  5.00it/s]\n"
     ]
    },
    {
     "name": "stdout",
     "output_type": "stream",
     "text": [
      "\u001b[31mWarning: pearson is not suitable for implicit data\u001b[0m\n",
      "Training start time: \u001b[35m2023-10-07 23:48:37\u001b[0m\n",
      "Final block size and num: (5894, 1)\n",
      "sim_matrix elapsed: 0.146s\n",
      "sim_matrix, shape: (5894, 5894), num_elements: 3855554, density: 11.0986 %\n"
     ]
    },
    {
     "name": "stderr",
     "output_type": "stream",
     "text": [
      "top_k: 100%|██████████| 5894/5894 [00:00<00:00, 12148.14it/s]\n",
      "eval_pointwise:   0%|          | 0/3 [00:00<?, ?it/s]"
     ]
    },
    {
     "name": "stdout",
     "output_type": "stream",
     "text": [
      "\u001b[31mNo common interaction or similar neighbor for user 5359 and item 2395, proceed with default prediction\u001b[0m\n",
      "\u001b[31mNo common interaction or similar neighbor for user 5773 and item 2930, proceed with default prediction\u001b[0m\n",
      "\u001b[31mNo common interaction or similar neighbor for user 5773 and item 282, proceed with default prediction\u001b[0m\n",
      "\u001b[31mNo common interaction or similar neighbor for user 4268 and item 1643, proceed with default prediction\u001b[0m\n",
      "\u001b[31mNo common interaction or similar neighbor for user 4440 and item 1772, proceed with default prediction\u001b[0m\n",
      "\u001b[31mNo common interaction or similar neighbor for user 1728 and item 2899, proceed with default prediction\u001b[0m\n"
     ]
    },
    {
     "name": "stderr",
     "output_type": "stream",
     "text": [
      "eval_pointwise: 100%|██████████| 3/3 [00:00<00:00,  4.79it/s]\n",
      "/opt/homebrew/lib/python3.11/site-packages/sklearn/metrics/_classification.py:2845: FutureWarning: Setting the eps parameter is deprecated and will be removed in 1.5. Instead eps will always havea default value of `np.finfo(y_pred.dtype).eps`.\n",
      "  warnings.warn(\n",
      "eval_listwise: 100%|██████████| 1823/1823 [00:01<00:00, 1254.01it/s]\n"
     ]
    },
    {
     "name": "stdout",
     "output_type": "stream",
     "text": [
      "\t eval log_loss: 2.1185\n",
      "\t eval roc_auc: 0.6481\n",
      "\t eval precision@10: 0.0030\n",
      "\t eval recall@10: 0.0137\n",
      "\t eval ndcg@10: 0.0206\n",
      "==============================\n"
     ]
    },
    {
     "name": "stderr",
     "output_type": "stream",
     "text": [
      "eval_pointwise: 100%|██████████| 3/3 [00:00<00:00,  4.86it/s]\n"
     ]
    },
    {
     "name": "stdout",
     "output_type": "stream",
     "text": [
      "\u001b[31mWarning: pearson is not suitable for implicit data\u001b[0m\n",
      "Training start time: \u001b[35m2023-10-07 23:48:40\u001b[0m\n",
      "Final block size and num: (3253, 1)\n",
      "sim_matrix elapsed: 0.054s\n",
      "sim_matrix, shape: (3253, 3253), num_elements: 1608184, density: 4.6293 %\n"
     ]
    },
    {
     "name": "stderr",
     "output_type": "stream",
     "text": [
      "top_k: 100%|██████████| 3253/3253 [00:00<00:00, 16513.71it/s]\n",
      "eval_pointwise:   0%|          | 0/3 [00:00<?, ?it/s]"
     ]
    },
    {
     "name": "stdout",
     "output_type": "stream",
     "text": [
      "\u001b[31mNo common interaction or similar neighbor for user 5359 and item 2395, proceed with default prediction\u001b[0m\n",
      "\u001b[31mNo common interaction or similar neighbor for user 5773 and item 2930, proceed with default prediction\u001b[0m\n",
      "\u001b[31mNo common interaction or similar neighbor for user 1141 and item 711, proceed with default prediction\u001b[0m\n",
      "\u001b[31mNo common interaction or similar neighbor for user 4862 and item 86, proceed with default prediction\u001b[0m\n",
      "\u001b[31mNo common interaction or similar neighbor for user 4440 and item 1772, proceed with default prediction\u001b[0m\n",
      "\u001b[31mNo common interaction or similar neighbor for user 1728 and item 2899, proceed with default prediction\u001b[0m\n"
     ]
    },
    {
     "name": "stderr",
     "output_type": "stream",
     "text": [
      "eval_pointwise: 100%|██████████| 3/3 [00:00<00:00,  5.73it/s]\n",
      "/opt/homebrew/lib/python3.11/site-packages/sklearn/metrics/_classification.py:2845: FutureWarning: Setting the eps parameter is deprecated and will be removed in 1.5. Instead eps will always havea default value of `np.finfo(y_pred.dtype).eps`.\n",
      "  warnings.warn(\n",
      "eval_listwise: 100%|██████████| 1823/1823 [00:02<00:00, 862.86it/s] \n"
     ]
    },
    {
     "name": "stdout",
     "output_type": "stream",
     "text": [
      "\t eval log_loss: 2.3510\n",
      "\t eval roc_auc: 0.5570\n",
      "\t eval precision@10: 0.0004\n",
      "\t eval recall@10: 0.0014\n",
      "\t eval ndcg@10: 0.0021\n",
      "==============================\n"
     ]
    },
    {
     "name": "stderr",
     "output_type": "stream",
     "text": [
      "eval_pointwise: 100%|██████████| 3/3 [00:00<00:00,  5.65it/s]\n"
     ]
    },
    {
     "name": "stdout",
     "output_type": "stream",
     "text": [
      "Training start time: \u001b[35m2023-10-07 23:48:44\u001b[0m\n",
      "Final block size and num: (5894, 1)\n",
      "sim_matrix elapsed: 0.100s\n",
      "sim_matrix, shape: (5894, 5894), num_elements: 4222948, density: 12.1561 %\n"
     ]
    },
    {
     "name": "stderr",
     "output_type": "stream",
     "text": [
      "top_k: 100%|██████████| 5894/5894 [00:00<00:00, 11402.52it/s]\n",
      "eval_pointwise:   0%|          | 0/3 [00:00<?, ?it/s]"
     ]
    },
    {
     "name": "stdout",
     "output_type": "stream",
     "text": [
      "\u001b[31mNo common interaction or similar neighbor for user 1728 and item 2899, proceed with default prediction\u001b[0m\n",
      "\u001b[31mNo common interaction or similar neighbor for user 1728 and item 2621, proceed with default prediction\u001b[0m\n",
      "\u001b[31mNo common interaction or similar neighbor for user 1932 and item 2012, proceed with default prediction\u001b[0m\n",
      "\u001b[31mNo common interaction or similar neighbor for user 35 and item 2067, proceed with default prediction\u001b[0m\n",
      "\u001b[31mNo common interaction or similar neighbor for user 192 and item 556, proceed with default prediction\u001b[0m\n",
      "\u001b[31mNo common interaction or similar neighbor for user 1957 and item 2741, proceed with default prediction\u001b[0m\n"
     ]
    },
    {
     "name": "stderr",
     "output_type": "stream",
     "text": [
      "eval_pointwise: 100%|██████████| 3/3 [00:00<00:00,  4.32it/s]\n",
      "/opt/homebrew/lib/python3.11/site-packages/sklearn/metrics/_classification.py:2845: FutureWarning: Setting the eps parameter is deprecated and will be removed in 1.5. Instead eps will always havea default value of `np.finfo(y_pred.dtype).eps`.\n",
      "  warnings.warn(\n",
      "eval_listwise: 100%|██████████| 1823/1823 [00:01<00:00, 1139.69it/s]\n"
     ]
    },
    {
     "name": "stdout",
     "output_type": "stream",
     "text": [
      "\t eval log_loss: 1.9835\n",
      "\t eval roc_auc: 0.6886\n",
      "\t eval precision@10: 0.0037\n",
      "\t eval recall@10: 0.0168\n",
      "\t eval ndcg@10: 0.0157\n",
      "==============================\n"
     ]
    },
    {
     "name": "stderr",
     "output_type": "stream",
     "text": [
      "eval_pointwise: 100%|██████████| 3/3 [00:00<00:00,  4.34it/s]\n"
     ]
    },
    {
     "name": "stdout",
     "output_type": "stream",
     "text": [
      "Training start time: \u001b[35m2023-10-07 23:48:48\u001b[0m\n",
      "Final block size and num: (3253, 1)\n",
      "sim_matrix elapsed: 0.035s\n",
      "sim_matrix, shape: (3253, 3253), num_elements: 1710008, density: 4.9224 %\n"
     ]
    },
    {
     "name": "stderr",
     "output_type": "stream",
     "text": [
      "top_k: 100%|██████████| 3253/3253 [00:00<00:00, 15715.97it/s]\n",
      "eval_pointwise:   0%|          | 0/3 [00:00<?, ?it/s]"
     ]
    },
    {
     "name": "stdout",
     "output_type": "stream",
     "text": [
      "\u001b[31mNo common interaction or similar neighbor for user 1728 and item 2899, proceed with default prediction\u001b[0m\n",
      "\u001b[31mNo common interaction or similar neighbor for user 1728 and item 2621, proceed with default prediction\u001b[0m\n",
      "\u001b[31mNo common interaction or similar neighbor for user 1932 and item 2012, proceed with default prediction\u001b[0m\n",
      "\u001b[31mNo common interaction or similar neighbor for user 35 and item 2067, proceed with default prediction\u001b[0m\n",
      "\u001b[31mNo common interaction or similar neighbor for user 192 and item 556, proceed with default prediction\u001b[0m\n",
      "\u001b[31mNo common interaction or similar neighbor for user 1957 and item 2741, proceed with default prediction\u001b[0m\n"
     ]
    },
    {
     "name": "stderr",
     "output_type": "stream",
     "text": [
      "eval_pointwise: 100%|██████████| 3/3 [00:00<00:00,  5.02it/s]\n",
      "/opt/homebrew/lib/python3.11/site-packages/sklearn/metrics/_classification.py:2845: FutureWarning: Setting the eps parameter is deprecated and will be removed in 1.5. Instead eps will always havea default value of `np.finfo(y_pred.dtype).eps`.\n",
      "  warnings.warn(\n",
      "eval_listwise: 100%|██████████| 1823/1823 [00:02<00:00, 779.10it/s] \n"
     ]
    },
    {
     "name": "stdout",
     "output_type": "stream",
     "text": [
      "\t eval log_loss: 2.2058\n",
      "\t eval roc_auc: 0.5874\n",
      "\t eval precision@10: 0.0022\n",
      "\t eval recall@10: 0.0115\n",
      "\t eval ndcg@10: 0.0113\n",
      "==============================\n"
     ]
    },
    {
     "name": "stderr",
     "output_type": "stream",
     "text": [
      "eval_pointwise: 100%|██████████| 3/3 [00:00<00:00,  5.00it/s]\n"
     ]
    },
    {
     "name": "stdout",
     "output_type": "stream",
     "text": [
      "30\n",
      "Training start time: \u001b[35m2023-10-07 23:48:51\u001b[0m\n",
      "Final block size and num: (5894, 1)\n",
      "sim_matrix elapsed: 0.118s\n",
      "sim_matrix, shape: (5894, 5894), num_elements: 4222948, density: 12.1561 %\n"
     ]
    },
    {
     "name": "stderr",
     "output_type": "stream",
     "text": [
      "top_k: 100%|██████████| 5894/5894 [00:00<00:00, 10921.63it/s]\n",
      "eval_pointwise:   0%|          | 0/3 [00:00<?, ?it/s]"
     ]
    },
    {
     "name": "stdout",
     "output_type": "stream",
     "text": [
      "\u001b[31mNo common interaction or similar neighbor for user 1728 and item 2899, proceed with default prediction\u001b[0m\n",
      "\u001b[31mNo common interaction or similar neighbor for user 1728 and item 2621, proceed with default prediction\u001b[0m\n",
      "\u001b[31mNo common interaction or similar neighbor for user 1932 and item 2012, proceed with default prediction\u001b[0m\n",
      "\u001b[31mNo common interaction or similar neighbor for user 35 and item 2067, proceed with default prediction\u001b[0m\n",
      "\u001b[31mNo common interaction or similar neighbor for user 192 and item 556, proceed with default prediction\u001b[0m\n",
      "\u001b[31mNo common interaction or similar neighbor for user 1957 and item 2741, proceed with default prediction\u001b[0m\n"
     ]
    },
    {
     "name": "stderr",
     "output_type": "stream",
     "text": [
      "eval_pointwise: 100%|██████████| 3/3 [00:00<00:00,  4.31it/s]\n",
      "/opt/homebrew/lib/python3.11/site-packages/sklearn/metrics/_classification.py:2845: FutureWarning: Setting the eps parameter is deprecated and will be removed in 1.5. Instead eps will always havea default value of `np.finfo(y_pred.dtype).eps`.\n",
      "  warnings.warn(\n",
      "eval_listwise: 100%|██████████| 1823/1823 [00:00<00:00, 2006.45it/s]\n"
     ]
    },
    {
     "name": "stdout",
     "output_type": "stream",
     "text": [
      "\t eval log_loss: 1.5925\n",
      "\t eval roc_auc: 0.6599\n",
      "\t eval precision@10: 0.0040\n",
      "\t eval recall@10: 0.0187\n",
      "\t eval ndcg@10: 0.0176\n",
      "==============================\n"
     ]
    },
    {
     "name": "stderr",
     "output_type": "stream",
     "text": [
      "eval_pointwise: 100%|██████████| 3/3 [00:00<00:00,  4.23it/s]\n"
     ]
    },
    {
     "name": "stdout",
     "output_type": "stream",
     "text": [
      "Training start time: \u001b[35m2023-10-07 23:48:54\u001b[0m\n",
      "Final block size and num: (3253, 1)\n",
      "sim_matrix elapsed: 0.039s\n",
      "sim_matrix, shape: (3253, 3253), num_elements: 1710008, density: 4.9224 %\n"
     ]
    },
    {
     "name": "stderr",
     "output_type": "stream",
     "text": [
      "top_k: 100%|██████████| 3253/3253 [00:00<00:00, 15344.42it/s]\n",
      "eval_pointwise:   0%|          | 0/3 [00:00<?, ?it/s]"
     ]
    },
    {
     "name": "stdout",
     "output_type": "stream",
     "text": [
      "\u001b[31mNo common interaction or similar neighbor for user 1728 and item 2899, proceed with default prediction\u001b[0m\n",
      "\u001b[31mNo common interaction or similar neighbor for user 1728 and item 2621, proceed with default prediction\u001b[0m\n",
      "\u001b[31mNo common interaction or similar neighbor for user 1932 and item 2012, proceed with default prediction\u001b[0m\n",
      "\u001b[31mNo common interaction or similar neighbor for user 35 and item 2067, proceed with default prediction\u001b[0m\n",
      "\u001b[31mNo common interaction or similar neighbor for user 192 and item 556, proceed with default prediction\u001b[0m\n",
      "\u001b[31mNo common interaction or similar neighbor for user 1957 and item 2741, proceed with default prediction\u001b[0m\n"
     ]
    },
    {
     "name": "stderr",
     "output_type": "stream",
     "text": [
      "eval_pointwise: 100%|██████████| 3/3 [00:00<00:00,  5.03it/s]\n",
      "/opt/homebrew/lib/python3.11/site-packages/sklearn/metrics/_classification.py:2845: FutureWarning: Setting the eps parameter is deprecated and will be removed in 1.5. Instead eps will always havea default value of `np.finfo(y_pred.dtype).eps`.\n",
      "  warnings.warn(\n",
      "eval_listwise: 100%|██████████| 1823/1823 [00:02<00:00, 807.37it/s] \n"
     ]
    },
    {
     "name": "stdout",
     "output_type": "stream",
     "text": [
      "\t eval log_loss: 1.8619\n",
      "\t eval roc_auc: 0.4802\n",
      "\t eval precision@10: 0.0003\n",
      "\t eval recall@10: 0.0010\n",
      "\t eval ndcg@10: 0.0012\n",
      "==============================\n"
     ]
    },
    {
     "name": "stderr",
     "output_type": "stream",
     "text": [
      "eval_pointwise: 100%|██████████| 3/3 [00:00<00:00,  4.98it/s]\n"
     ]
    },
    {
     "name": "stdout",
     "output_type": "stream",
     "text": [
      "\u001b[31mWarning: pearson is not suitable for implicit data\u001b[0m\n",
      "Training start time: \u001b[35m2023-10-07 23:48:58\u001b[0m\n",
      "Final block size and num: (5894, 1)\n",
      "sim_matrix elapsed: 0.147s\n",
      "sim_matrix, shape: (5894, 5894), num_elements: 3855554, density: 11.0986 %\n"
     ]
    },
    {
     "name": "stderr",
     "output_type": "stream",
     "text": [
      "top_k: 100%|██████████| 5894/5894 [00:00<00:00, 12151.38it/s]\n",
      "eval_pointwise:   0%|          | 0/3 [00:00<?, ?it/s]"
     ]
    },
    {
     "name": "stdout",
     "output_type": "stream",
     "text": [
      "\u001b[31mNo common interaction or similar neighbor for user 5359 and item 2395, proceed with default prediction\u001b[0m\n",
      "\u001b[31mNo common interaction or similar neighbor for user 5773 and item 2930, proceed with default prediction\u001b[0m\n",
      "\u001b[31mNo common interaction or similar neighbor for user 5773 and item 282, proceed with default prediction\u001b[0m\n",
      "\u001b[31mNo common interaction or similar neighbor for user 4268 and item 1643, proceed with default prediction\u001b[0m\n",
      "\u001b[31mNo common interaction or similar neighbor for user 4440 and item 1772, proceed with default prediction\u001b[0m\n",
      "\u001b[31mNo common interaction or similar neighbor for user 1728 and item 2899, proceed with default prediction\u001b[0m\n"
     ]
    },
    {
     "name": "stderr",
     "output_type": "stream",
     "text": [
      "eval_pointwise: 100%|██████████| 3/3 [00:00<00:00,  4.83it/s]\n",
      "/opt/homebrew/lib/python3.11/site-packages/sklearn/metrics/_classification.py:2845: FutureWarning: Setting the eps parameter is deprecated and will be removed in 1.5. Instead eps will always havea default value of `np.finfo(y_pred.dtype).eps`.\n",
      "  warnings.warn(\n",
      "eval_listwise: 100%|██████████| 1823/1823 [00:01<00:00, 1203.32it/s]\n"
     ]
    },
    {
     "name": "stdout",
     "output_type": "stream",
     "text": [
      "\t eval log_loss: 2.1199\n",
      "\t eval roc_auc: 0.6474\n",
      "\t eval precision@10: 0.0027\n",
      "\t eval recall@10: 0.0119\n",
      "\t eval ndcg@10: 0.0194\n",
      "==============================\n"
     ]
    },
    {
     "name": "stderr",
     "output_type": "stream",
     "text": [
      "eval_pointwise: 100%|██████████| 3/3 [00:00<00:00,  4.85it/s]\n"
     ]
    },
    {
     "name": "stdout",
     "output_type": "stream",
     "text": [
      "\u001b[31mWarning: pearson is not suitable for implicit data\u001b[0m\n",
      "Training start time: \u001b[35m2023-10-07 23:49:02\u001b[0m\n",
      "Final block size and num: (3253, 1)\n",
      "sim_matrix elapsed: 0.053s\n",
      "sim_matrix, shape: (3253, 3253), num_elements: 1608184, density: 4.6293 %\n"
     ]
    },
    {
     "name": "stderr",
     "output_type": "stream",
     "text": [
      "top_k: 100%|██████████| 3253/3253 [00:00<00:00, 16062.90it/s]\n",
      "eval_pointwise:   0%|          | 0/3 [00:00<?, ?it/s]"
     ]
    },
    {
     "name": "stdout",
     "output_type": "stream",
     "text": [
      "\u001b[31mNo common interaction or similar neighbor for user 5359 and item 2395, proceed with default prediction\u001b[0m\n",
      "\u001b[31mNo common interaction or similar neighbor for user 5773 and item 2930, proceed with default prediction\u001b[0m\n",
      "\u001b[31mNo common interaction or similar neighbor for user 1141 and item 711, proceed with default prediction\u001b[0m\n",
      "\u001b[31mNo common interaction or similar neighbor for user 4862 and item 86, proceed with default prediction\u001b[0m\n",
      "\u001b[31mNo common interaction or similar neighbor for user 4440 and item 1772, proceed with default prediction\u001b[0m\n",
      "\u001b[31mNo common interaction or similar neighbor for user 1728 and item 2899, proceed with default prediction\u001b[0m\n"
     ]
    },
    {
     "name": "stderr",
     "output_type": "stream",
     "text": [
      "eval_pointwise: 100%|██████████| 3/3 [00:00<00:00,  5.81it/s]\n",
      "/opt/homebrew/lib/python3.11/site-packages/sklearn/metrics/_classification.py:2845: FutureWarning: Setting the eps parameter is deprecated and will be removed in 1.5. Instead eps will always havea default value of `np.finfo(y_pred.dtype).eps`.\n",
      "  warnings.warn(\n",
      "eval_listwise: 100%|██████████| 1823/1823 [00:02<00:00, 821.28it/s] \n"
     ]
    },
    {
     "name": "stdout",
     "output_type": "stream",
     "text": [
      "\t eval log_loss: 2.3513\n",
      "\t eval roc_auc: 0.5569\n",
      "\t eval precision@10: 0.0004\n",
      "\t eval recall@10: 0.0014\n",
      "\t eval ndcg@10: 0.0021\n",
      "==============================\n"
     ]
    },
    {
     "name": "stderr",
     "output_type": "stream",
     "text": [
      "eval_pointwise: 100%|██████████| 3/3 [00:00<00:00,  5.75it/s]\n"
     ]
    },
    {
     "name": "stdout",
     "output_type": "stream",
     "text": [
      "Training start time: \u001b[35m2023-10-07 23:49:05\u001b[0m\n",
      "Final block size and num: (5894, 1)\n",
      "sim_matrix elapsed: 0.097s\n",
      "sim_matrix, shape: (5894, 5894), num_elements: 4222948, density: 12.1561 %\n"
     ]
    },
    {
     "name": "stderr",
     "output_type": "stream",
     "text": [
      "top_k: 100%|██████████| 5894/5894 [00:00<00:00, 8797.46it/s] \n",
      "eval_pointwise:   0%|          | 0/3 [00:00<?, ?it/s]"
     ]
    },
    {
     "name": "stdout",
     "output_type": "stream",
     "text": [
      "\u001b[31mNo common interaction or similar neighbor for user 1728 and item 2899, proceed with default prediction\u001b[0m\n",
      "\u001b[31mNo common interaction or similar neighbor for user 1728 and item 2621, proceed with default prediction\u001b[0m\n",
      "\u001b[31mNo common interaction or similar neighbor for user 1932 and item 2012, proceed with default prediction\u001b[0m\n",
      "\u001b[31mNo common interaction or similar neighbor for user 35 and item 2067, proceed with default prediction\u001b[0m\n",
      "\u001b[31mNo common interaction or similar neighbor for user 192 and item 556, proceed with default prediction\u001b[0m\n",
      "\u001b[31mNo common interaction or similar neighbor for user 1957 and item 2741, proceed with default prediction\u001b[0m\n"
     ]
    },
    {
     "name": "stderr",
     "output_type": "stream",
     "text": [
      "eval_pointwise: 100%|██████████| 3/3 [00:00<00:00,  4.31it/s]\n",
      "/opt/homebrew/lib/python3.11/site-packages/sklearn/metrics/_classification.py:2845: FutureWarning: Setting the eps parameter is deprecated and will be removed in 1.5. Instead eps will always havea default value of `np.finfo(y_pred.dtype).eps`.\n",
      "  warnings.warn(\n",
      "eval_listwise: 100%|██████████| 1823/1823 [00:01<00:00, 1084.57it/s]\n"
     ]
    },
    {
     "name": "stdout",
     "output_type": "stream",
     "text": [
      "\t eval log_loss: 1.9855\n",
      "\t eval roc_auc: 0.6871\n",
      "\t eval precision@10: 0.0034\n",
      "\t eval recall@10: 0.0147\n",
      "\t eval ndcg@10: 0.0154\n",
      "==============================\n"
     ]
    },
    {
     "name": "stderr",
     "output_type": "stream",
     "text": [
      "eval_pointwise: 100%|██████████| 3/3 [00:00<00:00,  4.24it/s]\n"
     ]
    },
    {
     "name": "stdout",
     "output_type": "stream",
     "text": [
      "Training start time: \u001b[35m2023-10-07 23:49:09\u001b[0m\n",
      "Final block size and num: (3253, 1)\n",
      "sim_matrix elapsed: 0.034s\n",
      "sim_matrix, shape: (3253, 3253), num_elements: 1710008, density: 4.9224 %\n"
     ]
    },
    {
     "name": "stderr",
     "output_type": "stream",
     "text": [
      "top_k: 100%|██████████| 3253/3253 [00:00<00:00, 15433.67it/s]\n",
      "eval_pointwise:   0%|          | 0/3 [00:00<?, ?it/s]"
     ]
    },
    {
     "name": "stdout",
     "output_type": "stream",
     "text": [
      "\u001b[31mNo common interaction or similar neighbor for user 1728 and item 2899, proceed with default prediction\u001b[0m\n",
      "\u001b[31mNo common interaction or similar neighbor for user 1728 and item 2621, proceed with default prediction\u001b[0m\n",
      "\u001b[31mNo common interaction or similar neighbor for user 1932 and item 2012, proceed with default prediction\u001b[0m\n",
      "\u001b[31mNo common interaction or similar neighbor for user 35 and item 2067, proceed with default prediction\u001b[0m\n",
      "\u001b[31mNo common interaction or similar neighbor for user 192 and item 556, proceed with default prediction\u001b[0m\n",
      "\u001b[31mNo common interaction or similar neighbor for user 1957 and item 2741, proceed with default prediction\u001b[0m\n"
     ]
    },
    {
     "name": "stderr",
     "output_type": "stream",
     "text": [
      "eval_pointwise: 100%|██████████| 3/3 [00:00<00:00,  4.99it/s]\n",
      "/opt/homebrew/lib/python3.11/site-packages/sklearn/metrics/_classification.py:2845: FutureWarning: Setting the eps parameter is deprecated and will be removed in 1.5. Instead eps will always havea default value of `np.finfo(y_pred.dtype).eps`.\n",
      "  warnings.warn(\n",
      "eval_listwise: 100%|██████████| 1823/1823 [00:02<00:00, 800.43it/s] \n"
     ]
    },
    {
     "name": "stdout",
     "output_type": "stream",
     "text": [
      "\t eval log_loss: 2.2071\n",
      "\t eval roc_auc: 0.5864\n",
      "\t eval precision@10: 0.0023\n",
      "\t eval recall@10: 0.0119\n",
      "\t eval ndcg@10: 0.0114\n",
      "==============================\n"
     ]
    },
    {
     "name": "stderr",
     "output_type": "stream",
     "text": [
      "eval_pointwise: 100%|██████████| 3/3 [00:00<00:00,  5.02it/s]\n"
     ]
    }
   ],
   "source": [
    "from libreco.data import random_split, DatasetPure\n",
    "import numpy as np\n",
    "from libreco.evaluation import evaluate\n",
    "import time\n",
    "\n",
    "from libreco.algorithms import UserCF, ItemCF\n",
    "\n",
    "trainData, evalData, testData = random_split(data, multi_ratios=[0.8, 0.1, 0.1])\n",
    "\n",
    "trainData, dataInfo = DatasetPure.build_trainset(trainData)\n",
    "evalData = DatasetPure.build_evalset(evalData)\n",
    "testData = DatasetPure.build_testset(testData)\n",
    "\n",
    "times = [{\"cosine\": [], \"pearson\": [], \"jaccard\": []}, {\"cosine\": [], \"pearson\": [], \"jaccard\": []}, {\"cosine\": [], \"pearson\": [], \"jaccard\": []}, {\"cosine\": [], \"pearson\": [], \"jaccard\": []}]\n",
    "\n",
    "x = [i for i in np.arange(1, 31, 1)]\n",
    "\n",
    "for i in np.arange(1, 31, 1):\n",
    "    print(i)\n",
    "\n",
    "    for simType in [\"cosine\", \"pearson\", \"jaccard\"]:\n",
    "        userCf = UserCF(\n",
    "            task=\"ranking\",\n",
    "            data_info=dataInfo,\n",
    "            sim_type=simType,\n",
    "            k_sim=i\n",
    "        )\n",
    "        start = time.time()\n",
    "        userCf.fit(\n",
    "            trainData,\n",
    "            neg_sampling=True,\n",
    "            verbose=2,\n",
    "            eval_data=evalData,\n",
    "            metrics=[\"loss\", \"roc_auc\", \"precision\", \"recall\", \"ndcg\"]\n",
    "        )\n",
    "        end = time.time()\n",
    "\n",
    "        times[0][simType].append(end - start)\n",
    "\n",
    "        evaluation = evaluate(\n",
    "            model=userCf,\n",
    "            data=testData,\n",
    "            neg_sampling=True,\n",
    "            metrics=[\"roc_auc\"]\n",
    "        )\n",
    "\n",
    "        times[1][simType].append(evaluation[\"roc_auc\"])\n",
    "        \n",
    "        itemCf = ItemCF(\n",
    "            task=\"ranking\",\n",
    "            data_info=dataInfo,\n",
    "            sim_type=simType,\n",
    "            k_sim=i\n",
    "        )\n",
    "        start = time.time()\n",
    "        itemCf.fit(\n",
    "            trainData,\n",
    "            neg_sampling=True,\n",
    "            verbose=2,\n",
    "            eval_data=evalData,\n",
    "            metrics=[\"loss\", \"roc_auc\", \"precision\", \"recall\", \"ndcg\"]\n",
    "        )\n",
    "        end = time.time()\n",
    "\n",
    "        times[2][simType].append(end - start)\n",
    "\n",
    "        evaluation = evaluate(\n",
    "            model=itemCf,\n",
    "            data=testData,\n",
    "            neg_sampling=True,\n",
    "            metrics=[\"roc_auc\"]\n",
    "        )\n",
    "\n",
    "        times[3][simType].append(evaluation[\"roc_auc\"])"
   ]
  },
  {
   "cell_type": "code",
   "execution_count": 23,
   "metadata": {},
   "outputs": [
    {
     "data": {
      "image/png": "[encoded data removed]",
      "text/plain": [
       "<Figure size 640x480 with 1 Axes>"
      ]
     },
     "metadata": {},
     "output_type": "display_data"
    }
   ],
   "source": [
    "\n",
    "import matplotlib.pyplot as plt\n",
    "\n",
    "plt.plot(x, times[0][\"cosine\"], label=\"Cosine\")\n",
    "plt.plot(x, times[0][\"pearson\"], label=\"Pearson\")\n",
    "plt.plot(x, times[0][\"jaccard\"], label=\"jaccard\")\n",
    "plt.legend()\n",
    "plt.ylabel(\"Время обучения модели, сек\")\n",
    "plt.xlabel(\"Значение параметра количества используемых похожих объектов\")\n",
    "plt.show()"
   ]
  },
  {
   "cell_type": "code",
   "execution_count": 24,
   "metadata": {},
   "outputs": [
    {
     "data": {
      "image/png": "[encoded data removed]",
      "text/plain": [
       "<Figure size 640x480 with 1 Axes>"
      ]
     },
     "metadata": {},
     "output_type": "display_data"
    }
   ],
   "source": [
    "\n",
    "import matplotlib.pyplot as plt\n",
    "\n",
    "plt.plot(x, times[1][\"cosine\"], label=\"Cosine ROC-AUC\")\n",
    "plt.plot(x, times[1][\"pearson\"], label=\"Pearson ROC-AUC\")\n",
    "plt.plot(x, times[1][\"jaccard\"], label=\"jaccard ROC-AUC\")\n",
    "plt.legend()\n",
    "plt.ylabel(\"Значение ROC-AUC полученной модели\")\n",
    "plt.xlabel(\"Значение параметра количества используемых похожих объектов\")\n",
    "plt.show()"
   ]
  },
  {
   "cell_type": "code",
   "execution_count": 25,
   "metadata": {},
   "outputs": [
    {
     "data": {
      "image/png": "[encoded data removed]",
      "text/plain": [
       "<Figure size 640x480 with 1 Axes>"
      ]
     },
     "metadata": {},
     "output_type": "display_data"
    }
   ],
   "source": [
    "\n",
    "import matplotlib.pyplot as plt\n",
    "\n",
    "plt.plot(x, times[2][\"cosine\"], label=\"Cosine\")\n",
    "plt.plot(x, times[2][\"pearson\"], label=\"Pearson\")\n",
    "plt.plot(x, times[2][\"jaccard\"], label=\"jaccard\")\n",
    "plt.legend()\n",
    "plt.ylabel(\"Время обучения модели, сек\")\n",
    "plt.xlabel(\"Значение параметра количества используемых похожих объектов\")\n",
    "plt.show()"
   ]
  },
  {
   "cell_type": "code",
   "execution_count": 26,
   "metadata": {},
   "outputs": [
    {
     "data": {
      "image/png": "[encoded data removed]",
      "text/plain": [
       "<Figure size 640x480 with 1 Axes>"
      ]
     },
     "metadata": {},
     "output_type": "display_data"
    }
   ],
   "source": [
    "import matplotlib.pyplot as plt\n",
    "\n",
    "plt.plot(x, times[3][\"cosine\"], label=\"Cosine ROC-AUC\")\n",
    "plt.plot(x, times[3][\"pearson\"], label=\"Pearson ROC-AUC\")\n",
    "plt.plot(x, times[3][\"jaccard\"], label=\"jaccard ROC-AUC\")\n",
    "plt.legend()\n",
    "plt.ylabel(\"Значение ROC-AUC полученной модели\")\n",
    "plt.xlabel(\"Значение параметра количества используемых похожих объектов\")\n",
    "plt.show()"
   ]
  },
  {
   "cell_type": "code",
   "execution_count": null,
   "metadata": {},
   "outputs": [],
   "source": []
  }
 ],
 "metadata": {
  "kernelspec": {
   "display_name": "Python 3",
   "language": "python",
   "name": "python3"
  },
  "language_info": {
   "codemirror_mode": {
    "name": "ipython",
    "version": 3
   },
   "file_extension": ".py",
   "mimetype": "text/x-python",
   "name": "python",
   "nbconvert_exporter": "python",
   "pygments_lexer": "ipython3",
   "version": "3.11.5"
  },
  "orig_nbformat": 4
 },
 "nbformat": 4,
 "nbformat_minor": 2
}
