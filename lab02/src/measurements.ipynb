{
 "cells": [
  {
   "cell_type": "code",
   "execution_count": null,
   "metadata": {},
   "outputs": [],
   "source": [
    "import pandas as pd\n",
    "\n",
    "data = pd.read_csv(\"sample_movielens_rating.dat\", sep=\"::\", names=[\"user\", \"item\", \"label\", \"time\"])"
   ]
  },
  {
   "cell_type": "code",
   "execution_count": 15,
   "metadata": {},
   "outputs": [
    {
     "name": "stdout",
     "output_type": "stream",
     "text": [
      "1\n",
      "Training start time: \u001b[35m2023-10-07 21:19:20\u001b[0m\n",
      "Final block size and num: (5894, 1)\n",
      "sim_matrix elapsed: 0.113s\n",
      "sim_matrix, shape: (5894, 5894), num_elements: 4222948, density: 12.1561 %\n"
     ]
    },
    {
     "name": "stderr",
     "output_type": "stream",
     "text": [
      "top_k: 100%|██████████| 5894/5894 [00:00<00:00, 11588.70it/s]\n",
      "eval_pointwise:   0%|          | 0/3 [00:00<?, ?it/s]"
     ]
    },
    {
     "name": "stdout",
     "output_type": "stream",
     "text": [
      "\u001b[31mNo common interaction or similar neighbor for user 1728 and item 2899, proceed with default prediction\u001b[0m\n",
      "\u001b[31mNo common interaction or similar neighbor for user 1728 and item 2621, proceed with default prediction\u001b[0m\n",
      "\u001b[31mNo common interaction or similar neighbor for user 1932 and item 2012, proceed with default prediction\u001b[0m\n",
      "\u001b[31mNo common interaction or similar neighbor for user 35 and item 2067, proceed with default prediction\u001b[0m\n",
      "\u001b[31mNo common interaction or similar neighbor for user 192 and item 556, proceed with default prediction\u001b[0m\n",
      "\u001b[31mNo common interaction or similar neighbor for user 1957 and item 2741, proceed with default prediction\u001b[0m\n"
     ]
    },
    {
     "name": "stderr",
     "output_type": "stream",
     "text": [
      "eval_pointwise: 100%|██████████| 3/3 [00:00<00:00,  6.11it/s]\n",
      "/opt/homebrew/lib/python3.11/site-packages/sklearn/metrics/_classification.py:2845: FutureWarning: Setting the eps parameter is deprecated and will be removed in 1.5. Instead eps will always havea default value of `np.finfo(y_pred.dtype).eps`.\n",
      "  warnings.warn(\n",
      "eval_listwise: 100%|██████████| 1823/1823 [00:00<00:00, 13162.48it/s]\n"
     ]
    },
    {
     "name": "stdout",
     "output_type": "stream",
     "text": [
      "\t eval log_loss: 1.2638\n",
      "\t eval roc_auc: 0.7303\n",
      "\t eval precision@10: 0.0041\n",
      "\t eval recall@10: 0.0184\n",
      "\t eval ndcg@10: 0.0935\n",
      "==============================\n"
     ]
    },
    {
     "name": "stderr",
     "output_type": "stream",
     "text": [
      "eval_pointwise: 100%|██████████| 3/3 [00:00<00:00,  6.17it/s]\n"
     ]
    },
    {
     "name": "stdout",
     "output_type": "stream",
     "text": [
      "Training start time: \u001b[35m2023-10-07 21:19:22\u001b[0m\n",
      "Final block size and num: (3253, 1)\n",
      "sim_matrix elapsed: 0.038s\n",
      "sim_matrix, shape: (3253, 3253), num_elements: 1710008, density: 4.9224 %\n"
     ]
    },
    {
     "name": "stderr",
     "output_type": "stream",
     "text": [
      "top_k: 100%|██████████| 3253/3253 [00:00<00:00, 16220.87it/s]\n",
      "eval_pointwise:  33%|███▎      | 1/3 [00:00<00:00,  5.86it/s]"
     ]
    },
    {
     "name": "stdout",
     "output_type": "stream",
     "text": [
      "\u001b[31mNo common interaction or similar neighbor for user 1728 and item 2899, proceed with default prediction\u001b[0m\n",
      "\u001b[31mNo common interaction or similar neighbor for user 1728 and item 2621, proceed with default prediction\u001b[0m\n",
      "\u001b[31mNo common interaction or similar neighbor for user 1932 and item 2012, proceed with default prediction\u001b[0m\n",
      "\u001b[31mNo common interaction or similar neighbor for user 35 and item 2067, proceed with default prediction\u001b[0m\n",
      "\u001b[31mNo common interaction or similar neighbor for user 192 and item 556, proceed with default prediction\u001b[0m\n",
      "\u001b[31mNo common interaction or similar neighbor for user 1957 and item 2741, proceed with default prediction\u001b[0m\n"
     ]
    },
    {
     "name": "stderr",
     "output_type": "stream",
     "text": [
      "eval_pointwise: 100%|██████████| 3/3 [00:00<00:00,  7.23it/s]\n",
      "/opt/homebrew/lib/python3.11/site-packages/sklearn/metrics/_classification.py:2845: FutureWarning: Setting the eps parameter is deprecated and will be removed in 1.5. Instead eps will always havea default value of `np.finfo(y_pred.dtype).eps`.\n",
      "  warnings.warn(\n",
      "eval_listwise: 100%|██████████| 1823/1823 [00:00<00:00, 8662.18it/s]\n"
     ]
    },
    {
     "name": "stdout",
     "output_type": "stream",
     "text": [
      "\t eval log_loss: 1.5361\n",
      "\t eval roc_auc: 0.5440\n",
      "\t eval precision@10: 0.0002\n",
      "\t eval recall@10: 0.0007\n",
      "\t eval ndcg@10: 0.0011\n",
      "==============================\n"
     ]
    },
    {
     "name": "stderr",
     "output_type": "stream",
     "text": [
      "eval_pointwise: 100%|██████████| 3/3 [00:00<00:00,  7.28it/s]\n"
     ]
    },
    {
     "name": "stdout",
     "output_type": "stream",
     "text": [
      "\u001b[31mWarning: pearson is not suitable for implicit data\u001b[0m\n",
      "Training start time: \u001b[35m2023-10-07 21:19:24\u001b[0m\n",
      "Final block size and num: (5894, 1)\n",
      "sim_matrix elapsed: 0.143s\n",
      "sim_matrix, shape: (5894, 5894), num_elements: 3855554, density: 11.0986 %\n"
     ]
    },
    {
     "name": "stderr",
     "output_type": "stream",
     "text": [
      "top_k: 100%|██████████| 5894/5894 [00:00<00:00, 12721.37it/s]\n",
      "eval_pointwise:  33%|███▎      | 1/3 [00:00<00:00,  5.19it/s]"
     ]
    },
    {
     "name": "stdout",
     "output_type": "stream",
     "text": [
      "\u001b[31mNo common interaction or similar neighbor for user 5359 and item 2395, proceed with default prediction\u001b[0m\n",
      "\u001b[31mNo common interaction or similar neighbor for user 5773 and item 2930, proceed with default prediction\u001b[0m\n",
      "\u001b[31mNo common interaction or similar neighbor for user 5773 and item 282, proceed with default prediction\u001b[0m\n",
      "\u001b[31mNo common interaction or similar neighbor for user 4268 and item 1643, proceed with default prediction\u001b[0m\n",
      "\u001b[31mNo common interaction or similar neighbor for user 4440 and item 1772, proceed with default prediction\u001b[0m\n",
      "\u001b[31mNo common interaction or similar neighbor for user 1728 and item 2899, proceed with default prediction\u001b[0m\n"
     ]
    },
    {
     "name": "stderr",
     "output_type": "stream",
     "text": [
      "eval_pointwise: 100%|██████████| 3/3 [00:00<00:00,  6.44it/s]\n",
      "/opt/homebrew/lib/python3.11/site-packages/sklearn/metrics/_classification.py:2845: FutureWarning: Setting the eps parameter is deprecated and will be removed in 1.5. Instead eps will always havea default value of `np.finfo(y_pred.dtype).eps`.\n",
      "  warnings.warn(\n",
      "eval_listwise: 100%|██████████| 1823/1823 [00:00<00:00, 14942.54it/s]\n"
     ]
    },
    {
     "name": "stdout",
     "output_type": "stream",
     "text": [
      "\t eval log_loss: 1.6875\n",
      "\t eval roc_auc: 0.7128\n",
      "\t eval precision@10: 0.0013\n",
      "\t eval recall@10: 0.0067\n",
      "\t eval ndcg@10: 0.0151\n",
      "==============================\n"
     ]
    },
    {
     "name": "stderr",
     "output_type": "stream",
     "text": [
      "eval_pointwise: 100%|██████████| 3/3 [00:00<00:00,  6.45it/s]\n"
     ]
    },
    {
     "name": "stdout",
     "output_type": "stream",
     "text": [
      "\u001b[31mWarning: pearson is not suitable for implicit data\u001b[0m\n",
      "Training start time: \u001b[35m2023-10-07 21:19:25\u001b[0m\n",
      "Final block size and num: (3253, 1)\n",
      "sim_matrix elapsed: 0.052s\n",
      "sim_matrix, shape: (3253, 3253), num_elements: 1608184, density: 4.6293 %\n"
     ]
    },
    {
     "name": "stderr",
     "output_type": "stream",
     "text": [
      "top_k: 100%|██████████| 3253/3253 [00:00<00:00, 17303.74it/s]\n",
      "eval_pointwise:  33%|███▎      | 1/3 [00:00<00:00,  6.04it/s]"
     ]
    },
    {
     "name": "stdout",
     "output_type": "stream",
     "text": [
      "\u001b[31mNo common interaction or similar neighbor for user 5359 and item 2395, proceed with default prediction\u001b[0m\n",
      "\u001b[31mNo common interaction or similar neighbor for user 5773 and item 2930, proceed with default prediction\u001b[0m\n",
      "\u001b[31mNo common interaction or similar neighbor for user 1141 and item 711, proceed with default prediction\u001b[0m\n",
      "\u001b[31mNo common interaction or similar neighbor for user 4862 and item 86, proceed with default prediction\u001b[0m\n",
      "\u001b[31mNo common interaction or similar neighbor for user 4440 and item 1772, proceed with default prediction\u001b[0m\n",
      "\u001b[31mNo common interaction or similar neighbor for user 1728 and item 2899, proceed with default prediction\u001b[0m\n"
     ]
    },
    {
     "name": "stderr",
     "output_type": "stream",
     "text": [
      "eval_pointwise: 100%|██████████| 3/3 [00:00<00:00,  7.49it/s]\n",
      "/opt/homebrew/lib/python3.11/site-packages/sklearn/metrics/_classification.py:2845: FutureWarning: Setting the eps parameter is deprecated and will be removed in 1.5. Instead eps will always havea default value of `np.finfo(y_pred.dtype).eps`.\n",
      "  warnings.warn(\n",
      "eval_listwise: 100%|██████████| 1823/1823 [00:00<00:00, 8673.68it/s]\n"
     ]
    },
    {
     "name": "stdout",
     "output_type": "stream",
     "text": [
      "\t eval log_loss: 1.9346\n",
      "\t eval roc_auc: 0.6053\n",
      "\t eval precision@10: 0.0003\n",
      "\t eval recall@10: 0.0008\n",
      "\t eval ndcg@10: 0.0011\n",
      "==============================\n"
     ]
    },
    {
     "name": "stderr",
     "output_type": "stream",
     "text": [
      "eval_pointwise: 100%|██████████| 3/3 [00:00<00:00,  7.62it/s]\n"
     ]
    },
    {
     "name": "stdout",
     "output_type": "stream",
     "text": [
      "Training start time: \u001b[35m2023-10-07 21:19:27\u001b[0m\n",
      "Final block size and num: (5894, 1)\n",
      "sim_matrix elapsed: 0.098s\n",
      "sim_matrix, shape: (5894, 5894), num_elements: 4222948, density: 12.1561 %\n"
     ]
    },
    {
     "name": "stderr",
     "output_type": "stream",
     "text": [
      "top_k: 100%|██████████| 5894/5894 [00:00<00:00, 12011.19it/s]\n",
      "eval_pointwise:  33%|███▎      | 1/3 [00:00<00:00,  5.00it/s]"
     ]
    },
    {
     "name": "stdout",
     "output_type": "stream",
     "text": [
      "\u001b[31mNo common interaction or similar neighbor for user 1728 and item 2899, proceed with default prediction\u001b[0m\n",
      "\u001b[31mNo common interaction or similar neighbor for user 1728 and item 2621, proceed with default prediction\u001b[0m\n",
      "\u001b[31mNo common interaction or similar neighbor for user 1932 and item 2012, proceed with default prediction\u001b[0m\n",
      "\u001b[31mNo common interaction or similar neighbor for user 35 and item 2067, proceed with default prediction\u001b[0m\n",
      "\u001b[31mNo common interaction or similar neighbor for user 192 and item 556, proceed with default prediction\u001b[0m\n",
      "\u001b[31mNo common interaction or similar neighbor for user 1957 and item 2741, proceed with default prediction\u001b[0m\n"
     ]
    },
    {
     "name": "stderr",
     "output_type": "stream",
     "text": [
      "eval_pointwise: 100%|██████████| 3/3 [00:00<00:00,  6.17it/s]\n",
      "/opt/homebrew/lib/python3.11/site-packages/sklearn/metrics/_classification.py:2845: FutureWarning: Setting the eps parameter is deprecated and will be removed in 1.5. Instead eps will always havea default value of `np.finfo(y_pred.dtype).eps`.\n",
      "  warnings.warn(\n",
      "eval_listwise: 100%|██████████| 1823/1823 [00:00<00:00, 11643.50it/s]\n"
     ]
    },
    {
     "name": "stdout",
     "output_type": "stream",
     "text": [
      "\t eval log_loss: 1.6535\n",
      "\t eval roc_auc: 0.7408\n",
      "\t eval precision@10: 0.0027\n",
      "\t eval recall@10: 0.0096\n",
      "\t eval ndcg@10: 0.0359\n",
      "==============================\n"
     ]
    },
    {
     "name": "stderr",
     "output_type": "stream",
     "text": [
      "eval_pointwise: 100%|██████████| 3/3 [00:00<00:00,  6.15it/s]\n"
     ]
    },
    {
     "name": "stdout",
     "output_type": "stream",
     "text": [
      "Training start time: \u001b[35m2023-10-07 21:19:28\u001b[0m\n",
      "Final block size and num: (3253, 1)\n",
      "sim_matrix elapsed: 0.037s\n",
      "sim_matrix, shape: (3253, 3253), num_elements: 1710008, density: 4.9224 %\n"
     ]
    },
    {
     "name": "stderr",
     "output_type": "stream",
     "text": [
      "top_k: 100%|██████████| 3253/3253 [00:00<00:00, 16068.88it/s]\n",
      "eval_pointwise:  33%|███▎      | 1/3 [00:00<00:00,  5.78it/s]"
     ]
    },
    {
     "name": "stdout",
     "output_type": "stream",
     "text": [
      "\u001b[31mNo common interaction or similar neighbor for user 1728 and item 2899, proceed with default prediction\u001b[0m\n",
      "\u001b[31mNo common interaction or similar neighbor for user 1728 and item 2621, proceed with default prediction\u001b[0m\n",
      "\u001b[31mNo common interaction or similar neighbor for user 1932 and item 2012, proceed with default prediction\u001b[0m\n",
      "\u001b[31mNo common interaction or similar neighbor for user 35 and item 2067, proceed with default prediction\u001b[0m\n",
      "\u001b[31mNo common interaction or similar neighbor for user 192 and item 556, proceed with default prediction\u001b[0m\n",
      "\u001b[31mNo common interaction or similar neighbor for user 1957 and item 2741, proceed with default prediction\u001b[0m\n"
     ]
    },
    {
     "name": "stderr",
     "output_type": "stream",
     "text": [
      "eval_pointwise: 100%|██████████| 3/3 [00:00<00:00,  7.10it/s]\n",
      "/opt/homebrew/lib/python3.11/site-packages/sklearn/metrics/_classification.py:2845: FutureWarning: Setting the eps parameter is deprecated and will be removed in 1.5. Instead eps will always havea default value of `np.finfo(y_pred.dtype).eps`.\n",
      "  warnings.warn(\n",
      "eval_listwise: 100%|██████████| 1823/1823 [00:00<00:00, 8630.81it/s]\n"
     ]
    },
    {
     "name": "stdout",
     "output_type": "stream",
     "text": [
      "\t eval log_loss: 1.8866\n",
      "\t eval roc_auc: 0.6214\n",
      "\t eval precision@10: 0.0015\n",
      "\t eval recall@10: 0.0056\n",
      "\t eval ndcg@10: 0.0057\n",
      "==============================\n"
     ]
    },
    {
     "name": "stderr",
     "output_type": "stream",
     "text": [
      "eval_pointwise: 100%|██████████| 3/3 [00:00<00:00,  7.26it/s]\n"
     ]
    },
    {
     "name": "stdout",
     "output_type": "stream",
     "text": [
      "2\n",
      "Training start time: \u001b[35m2023-10-07 21:19:30\u001b[0m\n",
      "Final block size and num: (5894, 1)\n",
      "sim_matrix elapsed: 0.114s\n",
      "sim_matrix, shape: (5894, 5894), num_elements: 4222948, density: 12.1561 %\n"
     ]
    },
    {
     "name": "stderr",
     "output_type": "stream",
     "text": [
      "top_k: 100%|██████████| 5894/5894 [00:00<00:00, 11652.09it/s]\n",
      "eval_pointwise:   0%|          | 0/3 [00:00<?, ?it/s]"
     ]
    },
    {
     "name": "stdout",
     "output_type": "stream",
     "text": [
      "\u001b[31mNo common interaction or similar neighbor for user 1728 and item 2899, proceed with default prediction\u001b[0m\n",
      "\u001b[31mNo common interaction or similar neighbor for user 1728 and item 2621, proceed with default prediction\u001b[0m\n",
      "\u001b[31mNo common interaction or similar neighbor for user 1932 and item 2012, proceed with default prediction\u001b[0m\n",
      "\u001b[31mNo common interaction or similar neighbor for user 35 and item 2067, proceed with default prediction\u001b[0m\n",
      "\u001b[31mNo common interaction or similar neighbor for user 192 and item 556, proceed with default prediction\u001b[0m\n",
      "\u001b[31mNo common interaction or similar neighbor for user 1957 and item 2741, proceed with default prediction\u001b[0m\n"
     ]
    },
    {
     "name": "stderr",
     "output_type": "stream",
     "text": [
      "eval_pointwise: 100%|██████████| 3/3 [00:00<00:00,  5.96it/s]\n",
      "/opt/homebrew/lib/python3.11/site-packages/sklearn/metrics/_classification.py:2845: FutureWarning: Setting the eps parameter is deprecated and will be removed in 1.5. Instead eps will always havea default value of `np.finfo(y_pred.dtype).eps`.\n",
      "  warnings.warn(\n",
      "eval_listwise: 100%|██████████| 1823/1823 [00:00<00:00, 12887.13it/s]\n"
     ]
    },
    {
     "name": "stdout",
     "output_type": "stream",
     "text": [
      "\t eval log_loss: 1.3109\n",
      "\t eval roc_auc: 0.7409\n",
      "\t eval precision@10: 0.0024\n",
      "\t eval recall@10: 0.0087\n",
      "\t eval ndcg@10: 0.0581\n",
      "==============================\n"
     ]
    },
    {
     "name": "stderr",
     "output_type": "stream",
     "text": [
      "eval_pointwise: 100%|██████████| 3/3 [00:00<00:00,  5.96it/s]\n"
     ]
    },
    {
     "name": "stdout",
     "output_type": "stream",
     "text": [
      "Training start time: \u001b[35m2023-10-07 21:19:32\u001b[0m\n",
      "Final block size and num: (3253, 1)\n",
      "sim_matrix elapsed: 0.038s\n",
      "sim_matrix, shape: (3253, 3253), num_elements: 1710008, density: 4.9224 %\n"
     ]
    },
    {
     "name": "stderr",
     "output_type": "stream",
     "text": [
      "top_k: 100%|██████████| 3253/3253 [00:00<00:00, 16175.22it/s]\n",
      "eval_pointwise:  33%|███▎      | 1/3 [00:00<00:00,  5.51it/s]"
     ]
    },
    {
     "name": "stdout",
     "output_type": "stream",
     "text": [
      "\u001b[31mNo common interaction or similar neighbor for user 1728 and item 2899, proceed with default prediction\u001b[0m\n",
      "\u001b[31mNo common interaction or similar neighbor for user 1728 and item 2621, proceed with default prediction\u001b[0m\n",
      "\u001b[31mNo common interaction or similar neighbor for user 1932 and item 2012, proceed with default prediction\u001b[0m\n",
      "\u001b[31mNo common interaction or similar neighbor for user 35 and item 2067, proceed with default prediction\u001b[0m\n",
      "\u001b[31mNo common interaction or similar neighbor for user 192 and item 556, proceed with default prediction\u001b[0m\n",
      "\u001b[31mNo common interaction or similar neighbor for user 1957 and item 2741, proceed with default prediction\u001b[0m\n"
     ]
    },
    {
     "name": "stderr",
     "output_type": "stream",
     "text": [
      "eval_pointwise: 100%|██████████| 3/3 [00:00<00:00,  6.87it/s]\n",
      "/opt/homebrew/lib/python3.11/site-packages/sklearn/metrics/_classification.py:2845: FutureWarning: Setting the eps parameter is deprecated and will be removed in 1.5. Instead eps will always havea default value of `np.finfo(y_pred.dtype).eps`.\n",
      "  warnings.warn(\n",
      "eval_listwise: 100%|██████████| 1823/1823 [00:00<00:00, 6628.61it/s]\n"
     ]
    },
    {
     "name": "stdout",
     "output_type": "stream",
     "text": [
      "\t eval log_loss: 1.5888\n",
      "\t eval roc_auc: 0.5505\n",
      "\t eval precision@10: 0.0003\n",
      "\t eval recall@10: 0.0010\n",
      "\t eval ndcg@10: 0.0011\n",
      "==============================\n"
     ]
    },
    {
     "name": "stderr",
     "output_type": "stream",
     "text": [
      "eval_pointwise: 100%|██████████| 3/3 [00:00<00:00,  7.02it/s]\n"
     ]
    },
    {
     "name": "stdout",
     "output_type": "stream",
     "text": [
      "\u001b[31mWarning: pearson is not suitable for implicit data\u001b[0m\n",
      "Training start time: \u001b[35m2023-10-07 21:19:33\u001b[0m\n",
      "Final block size and num: (5894, 1)\n",
      "sim_matrix elapsed: 0.141s\n",
      "sim_matrix, shape: (5894, 5894), num_elements: 3855554, density: 11.0986 %\n"
     ]
    },
    {
     "name": "stderr",
     "output_type": "stream",
     "text": [
      "top_k: 100%|██████████| 5894/5894 [00:00<00:00, 12797.15it/s]\n",
      "eval_pointwise:  33%|███▎      | 1/3 [00:00<00:00,  5.01it/s]"
     ]
    },
    {
     "name": "stdout",
     "output_type": "stream",
     "text": [
      "\u001b[31mNo common interaction or similar neighbor for user 5359 and item 2395, proceed with default prediction\u001b[0m\n",
      "\u001b[31mNo common interaction or similar neighbor for user 5773 and item 2930, proceed with default prediction\u001b[0m\n",
      "\u001b[31mNo common interaction or similar neighbor for user 5773 and item 282, proceed with default prediction\u001b[0m\n",
      "\u001b[31mNo common interaction or similar neighbor for user 4268 and item 1643, proceed with default prediction\u001b[0m\n",
      "\u001b[31mNo common interaction or similar neighbor for user 4440 and item 1772, proceed with default prediction\u001b[0m\n",
      "\u001b[31mNo common interaction or similar neighbor for user 1728 and item 2899, proceed with default prediction\u001b[0m\n"
     ]
    },
    {
     "name": "stderr",
     "output_type": "stream",
     "text": [
      "eval_pointwise: 100%|██████████| 3/3 [00:00<00:00,  6.20it/s]\n",
      "/opt/homebrew/lib/python3.11/site-packages/sklearn/metrics/_classification.py:2845: FutureWarning: Setting the eps parameter is deprecated and will be removed in 1.5. Instead eps will always havea default value of `np.finfo(y_pred.dtype).eps`.\n",
      "  warnings.warn(\n",
      "eval_listwise: 100%|██████████| 1823/1823 [00:00<00:00, 11189.00it/s]\n"
     ]
    },
    {
     "name": "stdout",
     "output_type": "stream",
     "text": [
      "\t eval log_loss: 1.7648\n",
      "\t eval roc_auc: 0.7188\n",
      "\t eval precision@10: 0.0024\n",
      "\t eval recall@10: 0.0116\n",
      "\t eval ndcg@10: 0.0216\n",
      "==============================\n"
     ]
    },
    {
     "name": "stderr",
     "output_type": "stream",
     "text": [
      "eval_pointwise: 100%|██████████| 3/3 [00:00<00:00,  6.20it/s]\n"
     ]
    },
    {
     "name": "stdout",
     "output_type": "stream",
     "text": [
      "\u001b[31mWarning: pearson is not suitable for implicit data\u001b[0m\n",
      "Training start time: \u001b[35m2023-10-07 21:19:35\u001b[0m\n",
      "Final block size and num: (3253, 1)\n",
      "sim_matrix elapsed: 0.054s\n",
      "sim_matrix, shape: (3253, 3253), num_elements: 1608184, density: 4.6293 %\n"
     ]
    },
    {
     "name": "stderr",
     "output_type": "stream",
     "text": [
      "top_k: 100%|██████████| 3253/3253 [00:00<00:00, 17271.50it/s]\n",
      "eval_pointwise:  33%|███▎      | 1/3 [00:00<00:00,  5.84it/s]"
     ]
    },
    {
     "name": "stdout",
     "output_type": "stream",
     "text": [
      "\u001b[31mNo common interaction or similar neighbor for user 5359 and item 2395, proceed with default prediction\u001b[0m\n",
      "\u001b[31mNo common interaction or similar neighbor for user 5773 and item 2930, proceed with default prediction\u001b[0m\n",
      "\u001b[31mNo common interaction or similar neighbor for user 1141 and item 711, proceed with default prediction\u001b[0m\n",
      "\u001b[31mNo common interaction or similar neighbor for user 4862 and item 86, proceed with default prediction\u001b[0m\n",
      "\u001b[31mNo common interaction or similar neighbor for user 4440 and item 1772, proceed with default prediction\u001b[0m\n",
      "\u001b[31mNo common interaction or similar neighbor for user 1728 and item 2899, proceed with default prediction\u001b[0m\n"
     ]
    },
    {
     "name": "stderr",
     "output_type": "stream",
     "text": [
      "eval_pointwise: 100%|██████████| 3/3 [00:00<00:00,  7.18it/s]\n",
      "/opt/homebrew/lib/python3.11/site-packages/sklearn/metrics/_classification.py:2845: FutureWarning: Setting the eps parameter is deprecated and will be removed in 1.5. Instead eps will always havea default value of `np.finfo(y_pred.dtype).eps`.\n",
      "  warnings.warn(\n",
      "eval_listwise: 100%|██████████| 1823/1823 [00:00<00:00, 6422.13it/s]\n"
     ]
    },
    {
     "name": "stdout",
     "output_type": "stream",
     "text": [
      "\t eval log_loss: 2.0255\n",
      "\t eval roc_auc: 0.6071\n",
      "\t eval precision@10: 0.0003\n",
      "\t eval recall@10: 0.0013\n",
      "\t eval ndcg@10: 0.0011\n",
      "==============================\n"
     ]
    },
    {
     "name": "stderr",
     "output_type": "stream",
     "text": [
      "eval_pointwise: 100%|██████████| 3/3 [00:00<00:00,  7.23it/s]\n"
     ]
    },
    {
     "name": "stdout",
     "output_type": "stream",
     "text": [
      "Training start time: \u001b[35m2023-10-07 21:19:36\u001b[0m\n",
      "Final block size and num: (5894, 1)\n",
      "sim_matrix elapsed: 0.098s\n",
      "sim_matrix, shape: (5894, 5894), num_elements: 4222948, density: 12.1561 %\n"
     ]
    },
    {
     "name": "stderr",
     "output_type": "stream",
     "text": [
      "top_k: 100%|██████████| 5894/5894 [00:00<00:00, 12097.67it/s]\n",
      "eval_pointwise:   0%|          | 0/3 [00:00<?, ?it/s]"
     ]
    },
    {
     "name": "stdout",
     "output_type": "stream",
     "text": [
      "\u001b[31mNo common interaction or similar neighbor for user 1728 and item 2899, proceed with default prediction\u001b[0m\n",
      "\u001b[31mNo common interaction or similar neighbor for user 1728 and item 2621, proceed with default prediction\u001b[0m\n",
      "\u001b[31mNo common interaction or similar neighbor for user 1932 and item 2012, proceed with default prediction\u001b[0m\n",
      "\u001b[31mNo common interaction or similar neighbor for user 35 and item 2067, proceed with default prediction\u001b[0m\n",
      "\u001b[31mNo common interaction or similar neighbor for user 192 and item 556, proceed with default prediction\u001b[0m\n",
      "\u001b[31mNo common interaction or similar neighbor for user 1957 and item 2741, proceed with default prediction\u001b[0m\n"
     ]
    },
    {
     "name": "stderr",
     "output_type": "stream",
     "text": [
      "eval_pointwise: 100%|██████████| 3/3 [00:00<00:00,  6.02it/s]\n",
      "/opt/homebrew/lib/python3.11/site-packages/sklearn/metrics/_classification.py:2845: FutureWarning: Setting the eps parameter is deprecated and will be removed in 1.5. Instead eps will always havea default value of `np.finfo(y_pred.dtype).eps`.\n",
      "  warnings.warn(\n",
      "eval_listwise: 100%|██████████| 1823/1823 [00:00<00:00, 8938.07it/s]\n"
     ]
    },
    {
     "name": "stdout",
     "output_type": "stream",
     "text": [
      "\t eval log_loss: 1.7059\n",
      "\t eval roc_auc: 0.7517\n",
      "\t eval precision@10: 0.0033\n",
      "\t eval recall@10: 0.0115\n",
      "\t eval ndcg@10: 0.0283\n",
      "==============================\n"
     ]
    },
    {
     "name": "stderr",
     "output_type": "stream",
     "text": [
      "eval_pointwise: 100%|██████████| 3/3 [00:00<00:00,  5.99it/s]\n"
     ]
    },
    {
     "name": "stdout",
     "output_type": "stream",
     "text": [
      "Training start time: \u001b[35m2023-10-07 21:19:38\u001b[0m\n",
      "Final block size and num: (3253, 1)\n",
      "sim_matrix elapsed: 0.034s\n",
      "sim_matrix, shape: (3253, 3253), num_elements: 1710008, density: 4.9224 %\n"
     ]
    },
    {
     "name": "stderr",
     "output_type": "stream",
     "text": [
      "top_k: 100%|██████████| 3253/3253 [00:00<00:00, 16482.73it/s]\n",
      "eval_pointwise:  33%|███▎      | 1/3 [00:00<00:00,  5.65it/s]"
     ]
    },
    {
     "name": "stdout",
     "output_type": "stream",
     "text": [
      "\u001b[31mNo common interaction or similar neighbor for user 1728 and item 2899, proceed with default prediction\u001b[0m\n",
      "\u001b[31mNo common interaction or similar neighbor for user 1728 and item 2621, proceed with default prediction\u001b[0m\n",
      "\u001b[31mNo common interaction or similar neighbor for user 1932 and item 2012, proceed with default prediction\u001b[0m\n",
      "\u001b[31mNo common interaction or similar neighbor for user 35 and item 2067, proceed with default prediction\u001b[0m\n",
      "\u001b[31mNo common interaction or similar neighbor for user 192 and item 556, proceed with default prediction\u001b[0m\n",
      "\u001b[31mNo common interaction or similar neighbor for user 1957 and item 2741, proceed with default prediction\u001b[0m\n"
     ]
    },
    {
     "name": "stderr",
     "output_type": "stream",
     "text": [
      "eval_pointwise: 100%|██████████| 3/3 [00:00<00:00,  6.97it/s]\n",
      "/opt/homebrew/lib/python3.11/site-packages/sklearn/metrics/_classification.py:2845: FutureWarning: Setting the eps parameter is deprecated and will be removed in 1.5. Instead eps will always havea default value of `np.finfo(y_pred.dtype).eps`.\n",
      "  warnings.warn(\n",
      "eval_listwise: 100%|██████████| 1823/1823 [00:00<00:00, 6320.69it/s]\n"
     ]
    },
    {
     "name": "stdout",
     "output_type": "stream",
     "text": [
      "\t eval log_loss: 1.9412\n",
      "\t eval roc_auc: 0.6351\n",
      "\t eval precision@10: 0.0012\n",
      "\t eval recall@10: 0.0057\n",
      "\t eval ndcg@10: 0.0048\n",
      "==============================\n"
     ]
    },
    {
     "name": "stderr",
     "output_type": "stream",
     "text": [
      "eval_pointwise: 100%|██████████| 3/3 [00:00<00:00,  6.96it/s]\n"
     ]
    },
    {
     "name": "stdout",
     "output_type": "stream",
     "text": [
      "3\n",
      "Training start time: \u001b[35m2023-10-07 21:19:39\u001b[0m\n",
      "Final block size and num: (5894, 1)\n",
      "sim_matrix elapsed: 0.115s\n",
      "sim_matrix, shape: (5894, 5894), num_elements: 4222948, density: 12.1561 %\n"
     ]
    },
    {
     "name": "stderr",
     "output_type": "stream",
     "text": [
      "top_k: 100%|██████████| 5894/5894 [00:00<00:00, 11579.62it/s]\n",
      "eval_pointwise:   0%|          | 0/3 [00:00<?, ?it/s]"
     ]
    },
    {
     "name": "stdout",
     "output_type": "stream",
     "text": [
      "\u001b[31mNo common interaction or similar neighbor for user 1728 and item 2899, proceed with default prediction\u001b[0m\n",
      "\u001b[31mNo common interaction or similar neighbor for user 1728 and item 2621, proceed with default prediction\u001b[0m\n",
      "\u001b[31mNo common interaction or similar neighbor for user 1932 and item 2012, proceed with default prediction\u001b[0m\n",
      "\u001b[31mNo common interaction or similar neighbor for user 35 and item 2067, proceed with default prediction\u001b[0m\n",
      "\u001b[31mNo common interaction or similar neighbor for user 192 and item 556, proceed with default prediction\u001b[0m\n",
      "\u001b[31mNo common interaction or similar neighbor for user 1957 and item 2741, proceed with default prediction\u001b[0m\n"
     ]
    },
    {
     "name": "stderr",
     "output_type": "stream",
     "text": [
      "eval_pointwise: 100%|██████████| 3/3 [00:00<00:00,  5.78it/s]\n",
      "/opt/homebrew/lib/python3.11/site-packages/sklearn/metrics/_classification.py:2845: FutureWarning: Setting the eps parameter is deprecated and will be removed in 1.5. Instead eps will always havea default value of `np.finfo(y_pred.dtype).eps`.\n",
      "  warnings.warn(\n",
      "eval_listwise: 100%|██████████| 1823/1823 [00:00<00:00, 11737.97it/s]\n"
     ]
    },
    {
     "name": "stdout",
     "output_type": "stream",
     "text": [
      "\t eval log_loss: 1.3475\n",
      "\t eval roc_auc: 0.7424\n",
      "\t eval precision@10: 0.0025\n",
      "\t eval recall@10: 0.0094\n",
      "\t eval ndcg@10: 0.0374\n",
      "==============================\n"
     ]
    },
    {
     "name": "stderr",
     "output_type": "stream",
     "text": [
      "eval_pointwise: 100%|██████████| 3/3 [00:00<00:00,  5.85it/s]\n"
     ]
    },
    {
     "name": "stdout",
     "output_type": "stream",
     "text": [
      "Training start time: \u001b[35m2023-10-07 21:19:41\u001b[0m\n",
      "Final block size and num: (3253, 1)\n",
      "sim_matrix elapsed: 0.039s\n",
      "sim_matrix, shape: (3253, 3253), num_elements: 1710008, density: 4.9224 %\n"
     ]
    },
    {
     "name": "stderr",
     "output_type": "stream",
     "text": [
      "top_k: 100%|██████████| 3253/3253 [00:00<00:00, 16178.82it/s]\n",
      "eval_pointwise:  33%|███▎      | 1/3 [00:00<00:00,  5.49it/s]"
     ]
    },
    {
     "name": "stdout",
     "output_type": "stream",
     "text": [
      "\u001b[31mNo common interaction or similar neighbor for user 1728 and item 2899, proceed with default prediction\u001b[0m\n",
      "\u001b[31mNo common interaction or similar neighbor for user 1728 and item 2621, proceed with default prediction\u001b[0m\n",
      "\u001b[31mNo common interaction or similar neighbor for user 1932 and item 2012, proceed with default prediction\u001b[0m\n",
      "\u001b[31mNo common interaction or similar neighbor for user 35 and item 2067, proceed with default prediction\u001b[0m\n",
      "\u001b[31mNo common interaction or similar neighbor for user 192 and item 556, proceed with default prediction\u001b[0m\n",
      "\u001b[31mNo common interaction or similar neighbor for user 1957 and item 2741, proceed with default prediction\u001b[0m\n"
     ]
    },
    {
     "name": "stderr",
     "output_type": "stream",
     "text": [
      "eval_pointwise: 100%|██████████| 3/3 [00:00<00:00,  6.77it/s]\n",
      "/opt/homebrew/lib/python3.11/site-packages/sklearn/metrics/_classification.py:2845: FutureWarning: Setting the eps parameter is deprecated and will be removed in 1.5. Instead eps will always havea default value of `np.finfo(y_pred.dtype).eps`.\n",
      "  warnings.warn(\n",
      "eval_listwise: 100%|██████████| 1823/1823 [00:00<00:00, 5226.36it/s]\n"
     ]
    },
    {
     "name": "stdout",
     "output_type": "stream",
     "text": [
      "\t eval log_loss: 1.6289\n",
      "\t eval roc_auc: 0.5521\n",
      "\t eval precision@10: 0.0002\n",
      "\t eval recall@10: 0.0004\n",
      "\t eval ndcg@10: 0.0006\n",
      "==============================\n"
     ]
    },
    {
     "name": "stderr",
     "output_type": "stream",
     "text": [
      "eval_pointwise: 100%|██████████| 3/3 [00:00<00:00,  6.69it/s]\n"
     ]
    },
    {
     "name": "stdout",
     "output_type": "stream",
     "text": [
      "\u001b[31mWarning: pearson is not suitable for implicit data\u001b[0m\n",
      "Training start time: \u001b[35m2023-10-07 21:19:43\u001b[0m\n",
      "Final block size and num: (5894, 1)\n",
      "sim_matrix elapsed: 0.145s\n",
      "sim_matrix, shape: (5894, 5894), num_elements: 3855554, density: 11.0986 %\n"
     ]
    },
    {
     "name": "stderr",
     "output_type": "stream",
     "text": [
      "top_k: 100%|██████████| 5894/5894 [00:00<00:00, 12770.40it/s]\n",
      "eval_pointwise:   0%|          | 0/3 [00:00<?, ?it/s]"
     ]
    },
    {
     "name": "stdout",
     "output_type": "stream",
     "text": [
      "\u001b[31mNo common interaction or similar neighbor for user 5359 and item 2395, proceed with default prediction\u001b[0m\n",
      "\u001b[31mNo common interaction or similar neighbor for user 5773 and item 2930, proceed with default prediction\u001b[0m\n",
      "\u001b[31mNo common interaction or similar neighbor for user 5773 and item 282, proceed with default prediction\u001b[0m\n",
      "\u001b[31mNo common interaction or similar neighbor for user 4268 and item 1643, proceed with default prediction\u001b[0m\n",
      "\u001b[31mNo common interaction or similar neighbor for user 4440 and item 1772, proceed with default prediction\u001b[0m\n",
      "\u001b[31mNo common interaction or similar neighbor for user 1728 and item 2899, proceed with default prediction\u001b[0m\n"
     ]
    },
    {
     "name": "stderr",
     "output_type": "stream",
     "text": [
      "eval_pointwise: 100%|██████████| 3/3 [00:00<00:00,  5.99it/s]\n",
      "/opt/homebrew/lib/python3.11/site-packages/sklearn/metrics/_classification.py:2845: FutureWarning: Setting the eps parameter is deprecated and will be removed in 1.5. Instead eps will always havea default value of `np.finfo(y_pred.dtype).eps`.\n",
      "  warnings.warn(\n",
      "eval_listwise: 100%|██████████| 1823/1823 [00:00<00:00, 9507.85it/s]\n"
     ]
    },
    {
     "name": "stdout",
     "output_type": "stream",
     "text": [
      "\t eval log_loss: 1.8230\n",
      "\t eval roc_auc: 0.7176\n",
      "\t eval precision@10: 0.0030\n",
      "\t eval recall@10: 0.0137\n",
      "\t eval ndcg@10: 0.0215\n",
      "==============================\n"
     ]
    },
    {
     "name": "stderr",
     "output_type": "stream",
     "text": [
      "eval_pointwise: 100%|██████████| 3/3 [00:00<00:00,  6.10it/s]\n"
     ]
    },
    {
     "name": "stdout",
     "output_type": "stream",
     "text": [
      "\u001b[31mWarning: pearson is not suitable for implicit data\u001b[0m\n",
      "Training start time: \u001b[35m2023-10-07 21:19:45\u001b[0m\n",
      "Final block size and num: (3253, 1)\n",
      "sim_matrix elapsed: 0.052s\n",
      "sim_matrix, shape: (3253, 3253), num_elements: 1608184, density: 4.6293 %\n"
     ]
    },
    {
     "name": "stderr",
     "output_type": "stream",
     "text": [
      "top_k: 100%|██████████| 3253/3253 [00:00<00:00, 17331.22it/s]\n",
      "eval_pointwise:  33%|███▎      | 1/3 [00:00<00:00,  5.57it/s]"
     ]
    },
    {
     "name": "stdout",
     "output_type": "stream",
     "text": [
      "\u001b[31mNo common interaction or similar neighbor for user 5359 and item 2395, proceed with default prediction\u001b[0m\n",
      "\u001b[31mNo common interaction or similar neighbor for user 5773 and item 2930, proceed with default prediction\u001b[0m\n",
      "\u001b[31mNo common interaction or similar neighbor for user 1141 and item 711, proceed with default prediction\u001b[0m\n",
      "\u001b[31mNo common interaction or similar neighbor for user 4862 and item 86, proceed with default prediction\u001b[0m\n",
      "\u001b[31mNo common interaction or similar neighbor for user 4440 and item 1772, proceed with default prediction\u001b[0m\n",
      "\u001b[31mNo common interaction or similar neighbor for user 1728 and item 2899, proceed with default prediction\u001b[0m\n"
     ]
    },
    {
     "name": "stderr",
     "output_type": "stream",
     "text": [
      "eval_pointwise: 100%|██████████| 3/3 [00:00<00:00,  6.98it/s]\n",
      "/opt/homebrew/lib/python3.11/site-packages/sklearn/metrics/_classification.py:2845: FutureWarning: Setting the eps parameter is deprecated and will be removed in 1.5. Instead eps will always havea default value of `np.finfo(y_pred.dtype).eps`.\n",
      "  warnings.warn(\n",
      "eval_listwise: 100%|██████████| 1823/1823 [00:00<00:00, 5057.53it/s]\n"
     ]
    },
    {
     "name": "stdout",
     "output_type": "stream",
     "text": [
      "\t eval log_loss: 2.0923\n",
      "\t eval roc_auc: 0.6043\n",
      "\t eval precision@10: 0.0002\n",
      "\t eval recall@10: 0.0009\n",
      "\t eval ndcg@10: 0.0008\n",
      "==============================\n"
     ]
    },
    {
     "name": "stderr",
     "output_type": "stream",
     "text": [
      "eval_pointwise: 100%|██████████| 3/3 [00:00<00:00,  6.85it/s]\n"
     ]
    },
    {
     "name": "stdout",
     "output_type": "stream",
     "text": [
      "Training start time: \u001b[35m2023-10-07 21:19:46\u001b[0m\n",
      "Final block size and num: (5894, 1)\n",
      "sim_matrix elapsed: 0.104s\n",
      "sim_matrix, shape: (5894, 5894), num_elements: 4222948, density: 12.1561 %\n"
     ]
    },
    {
     "name": "stderr",
     "output_type": "stream",
     "text": [
      "top_k: 100%|██████████| 5894/5894 [00:00<00:00, 12022.24it/s]\n",
      "eval_pointwise:   0%|          | 0/3 [00:00<?, ?it/s]"
     ]
    },
    {
     "name": "stdout",
     "output_type": "stream",
     "text": [
      "\u001b[31mNo common interaction or similar neighbor for user 1728 and item 2899, proceed with default prediction\u001b[0m\n",
      "\u001b[31mNo common interaction or similar neighbor for user 1728 and item 2621, proceed with default prediction\u001b[0m\n",
      "\u001b[31mNo common interaction or similar neighbor for user 1932 and item 2012, proceed with default prediction\u001b[0m\n",
      "\u001b[31mNo common interaction or similar neighbor for user 35 and item 2067, proceed with default prediction\u001b[0m\n",
      "\u001b[31mNo common interaction or similar neighbor for user 192 and item 556, proceed with default prediction\u001b[0m\n",
      "\u001b[31mNo common interaction or similar neighbor for user 1957 and item 2741, proceed with default prediction\u001b[0m\n"
     ]
    },
    {
     "name": "stderr",
     "output_type": "stream",
     "text": [
      "eval_pointwise: 100%|██████████| 3/3 [00:00<00:00,  5.67it/s]\n",
      "/opt/homebrew/lib/python3.11/site-packages/sklearn/metrics/_classification.py:2845: FutureWarning: Setting the eps parameter is deprecated and will be removed in 1.5. Instead eps will always havea default value of `np.finfo(y_pred.dtype).eps`.\n",
      "  warnings.warn(\n",
      "eval_listwise: 100%|██████████| 1823/1823 [00:00<00:00, 6873.02it/s]\n"
     ]
    },
    {
     "name": "stdout",
     "output_type": "stream",
     "text": [
      "\t eval log_loss: 1.7449\n",
      "\t eval roc_auc: 0.7546\n",
      "\t eval precision@10: 0.0035\n",
      "\t eval recall@10: 0.0131\n",
      "\t eval ndcg@10: 0.0232\n",
      "==============================\n"
     ]
    },
    {
     "name": "stderr",
     "output_type": "stream",
     "text": [
      "eval_pointwise: 100%|██████████| 3/3 [00:00<00:00,  5.63it/s]\n"
     ]
    },
    {
     "name": "stdout",
     "output_type": "stream",
     "text": [
      "Training start time: \u001b[35m2023-10-07 21:19:48\u001b[0m\n",
      "Final block size and num: (3253, 1)\n",
      "sim_matrix elapsed: 0.034s\n",
      "sim_matrix, shape: (3253, 3253), num_elements: 1710008, density: 4.9224 %\n"
     ]
    },
    {
     "name": "stderr",
     "output_type": "stream",
     "text": [
      "top_k: 100%|██████████| 3253/3253 [00:00<00:00, 16015.63it/s]\n",
      "eval_pointwise:  33%|███▎      | 1/3 [00:00<00:00,  5.26it/s]"
     ]
    },
    {
     "name": "stdout",
     "output_type": "stream",
     "text": [
      "\u001b[31mNo common interaction or similar neighbor for user 1728 and item 2899, proceed with default prediction\u001b[0m\n",
      "\u001b[31mNo common interaction or similar neighbor for user 1728 and item 2621, proceed with default prediction\u001b[0m\n",
      "\u001b[31mNo common interaction or similar neighbor for user 1932 and item 2012, proceed with default prediction\u001b[0m\n",
      "\u001b[31mNo common interaction or similar neighbor for user 35 and item 2067, proceed with default prediction\u001b[0m\n",
      "\u001b[31mNo common interaction or similar neighbor for user 192 and item 556, proceed with default prediction\u001b[0m\n",
      "\u001b[31mNo common interaction or similar neighbor for user 1957 and item 2741, proceed with default prediction\u001b[0m\n"
     ]
    },
    {
     "name": "stderr",
     "output_type": "stream",
     "text": [
      "eval_pointwise: 100%|██████████| 3/3 [00:00<00:00,  6.42it/s]\n",
      "/opt/homebrew/lib/python3.11/site-packages/sklearn/metrics/_classification.py:2845: FutureWarning: Setting the eps parameter is deprecated and will be removed in 1.5. Instead eps will always havea default value of `np.finfo(y_pred.dtype).eps`.\n",
      "  warnings.warn(\n",
      "eval_listwise: 100%|██████████| 1823/1823 [00:00<00:00, 4468.62it/s]\n"
     ]
    },
    {
     "name": "stdout",
     "output_type": "stream",
     "text": [
      "\t eval log_loss: 1.9820\n",
      "\t eval roc_auc: 0.6413\n",
      "\t eval precision@10: 0.0010\n",
      "\t eval recall@10: 0.0057\n",
      "\t eval ndcg@10: 0.0045\n",
      "==============================\n"
     ]
    },
    {
     "name": "stderr",
     "output_type": "stream",
     "text": [
      "eval_pointwise: 100%|██████████| 3/3 [00:00<00:00,  6.31it/s]\n"
     ]
    },
    {
     "name": "stdout",
     "output_type": "stream",
     "text": [
      "4\n",
      "Training start time: \u001b[35m2023-10-07 21:19:50\u001b[0m\n",
      "Final block size and num: (5894, 1)\n",
      "sim_matrix elapsed: 0.118s\n",
      "sim_matrix, shape: (5894, 5894), num_elements: 4222948, density: 12.1561 %\n"
     ]
    },
    {
     "name": "stderr",
     "output_type": "stream",
     "text": [
      "top_k: 100%|██████████| 5894/5894 [00:00<00:00, 11443.68it/s]\n",
      "eval_pointwise:   0%|          | 0/3 [00:00<?, ?it/s]"
     ]
    },
    {
     "name": "stdout",
     "output_type": "stream",
     "text": [
      "\u001b[31mNo common interaction or similar neighbor for user 1728 and item 2899, proceed with default prediction\u001b[0m\n",
      "\u001b[31mNo common interaction or similar neighbor for user 1728 and item 2621, proceed with default prediction\u001b[0m\n",
      "\u001b[31mNo common interaction or similar neighbor for user 1932 and item 2012, proceed with default prediction\u001b[0m\n",
      "\u001b[31mNo common interaction or similar neighbor for user 35 and item 2067, proceed with default prediction\u001b[0m\n",
      "\u001b[31mNo common interaction or similar neighbor for user 192 and item 556, proceed with default prediction\u001b[0m\n",
      "\u001b[31mNo common interaction or similar neighbor for user 1957 and item 2741, proceed with default prediction\u001b[0m\n"
     ]
    },
    {
     "name": "stderr",
     "output_type": "stream",
     "text": [
      "eval_pointwise: 100%|██████████| 3/3 [00:00<00:00,  5.37it/s]\n",
      "/opt/homebrew/lib/python3.11/site-packages/sklearn/metrics/_classification.py:2845: FutureWarning: Setting the eps parameter is deprecated and will be removed in 1.5. Instead eps will always havea default value of `np.finfo(y_pred.dtype).eps`.\n",
      "  warnings.warn(\n",
      "eval_listwise: 100%|██████████| 1823/1823 [00:00<00:00, 9749.08it/s]\n"
     ]
    },
    {
     "name": "stdout",
     "output_type": "stream",
     "text": [
      "\t eval log_loss: 1.3768\n",
      "\t eval roc_auc: 0.7415\n",
      "\t eval precision@10: 0.0026\n",
      "\t eval recall@10: 0.0101\n",
      "\t eval ndcg@10: 0.0297\n",
      "==============================\n"
     ]
    },
    {
     "name": "stderr",
     "output_type": "stream",
     "text": [
      "eval_pointwise: 100%|██████████| 3/3 [00:00<00:00,  5.43it/s]\n"
     ]
    },
    {
     "name": "stdout",
     "output_type": "stream",
     "text": [
      "Training start time: \u001b[35m2023-10-07 21:19:52\u001b[0m\n",
      "Final block size and num: (3253, 1)\n",
      "sim_matrix elapsed: 0.040s\n",
      "sim_matrix, shape: (3253, 3253), num_elements: 1710008, density: 4.9224 %\n"
     ]
    },
    {
     "name": "stderr",
     "output_type": "stream",
     "text": [
      "top_k: 100%|██████████| 3253/3253 [00:00<00:00, 15762.27it/s]\n",
      "eval_pointwise:  33%|███▎      | 1/3 [00:00<00:00,  5.02it/s]"
     ]
    },
    {
     "name": "stdout",
     "output_type": "stream",
     "text": [
      "\u001b[31mNo common interaction or similar neighbor for user 1728 and item 2899, proceed with default prediction\u001b[0m\n",
      "\u001b[31mNo common interaction or similar neighbor for user 1728 and item 2621, proceed with default prediction\u001b[0m\n",
      "\u001b[31mNo common interaction or similar neighbor for user 1932 and item 2012, proceed with default prediction\u001b[0m\n",
      "\u001b[31mNo common interaction or similar neighbor for user 35 and item 2067, proceed with default prediction\u001b[0m\n",
      "\u001b[31mNo common interaction or similar neighbor for user 192 and item 556, proceed with default prediction\u001b[0m\n",
      "\u001b[31mNo common interaction or similar neighbor for user 1957 and item 2741, proceed with default prediction\u001b[0m\n"
     ]
    },
    {
     "name": "stderr",
     "output_type": "stream",
     "text": [
      "eval_pointwise: 100%|██████████| 3/3 [00:00<00:00,  6.27it/s]\n",
      "/opt/homebrew/lib/python3.11/site-packages/sklearn/metrics/_classification.py:2845: FutureWarning: Setting the eps parameter is deprecated and will be removed in 1.5. Instead eps will always havea default value of `np.finfo(y_pred.dtype).eps`.\n",
      "  warnings.warn(\n",
      "eval_listwise: 100%|██████████| 1823/1823 [00:00<00:00, 3857.16it/s]\n"
     ]
    },
    {
     "name": "stdout",
     "output_type": "stream",
     "text": [
      "\t eval log_loss: 1.6609\n",
      "\t eval roc_auc: 0.5507\n",
      "\t eval precision@10: 0.0002\n",
      "\t eval recall@10: 0.0007\n",
      "\t eval ndcg@10: 0.0009\n",
      "==============================\n"
     ]
    },
    {
     "name": "stderr",
     "output_type": "stream",
     "text": [
      "eval_pointwise: 100%|██████████| 3/3 [00:00<00:00,  6.25it/s]\n"
     ]
    },
    {
     "name": "stdout",
     "output_type": "stream",
     "text": [
      "\u001b[31mWarning: pearson is not suitable for implicit data\u001b[0m\n",
      "Training start time: \u001b[35m2023-10-07 21:19:54\u001b[0m\n",
      "Final block size and num: (5894, 1)\n",
      "sim_matrix elapsed: 0.156s\n",
      "sim_matrix, shape: (5894, 5894), num_elements: 3855554, density: 11.0986 %\n"
     ]
    },
    {
     "name": "stderr",
     "output_type": "stream",
     "text": [
      "top_k: 100%|██████████| 5894/5894 [00:00<00:00, 12325.26it/s]\n",
      "eval_pointwise:   0%|          | 0/3 [00:00<?, ?it/s]"
     ]
    },
    {
     "name": "stdout",
     "output_type": "stream",
     "text": [
      "\u001b[31mNo common interaction or similar neighbor for user 5359 and item 2395, proceed with default prediction\u001b[0m\n",
      "\u001b[31mNo common interaction or similar neighbor for user 5773 and item 2930, proceed with default prediction\u001b[0m\n",
      "\u001b[31mNo common interaction or similar neighbor for user 5773 and item 282, proceed with default prediction\u001b[0m\n",
      "\u001b[31mNo common interaction or similar neighbor for user 4268 and item 1643, proceed with default prediction\u001b[0m\n",
      "\u001b[31mNo common interaction or similar neighbor for user 4440 and item 1772, proceed with default prediction\u001b[0m\n",
      "\u001b[31mNo common interaction or similar neighbor for user 1728 and item 2899, proceed with default prediction\u001b[0m\n"
     ]
    },
    {
     "name": "stderr",
     "output_type": "stream",
     "text": [
      "eval_pointwise: 100%|██████████| 3/3 [00:00<00:00,  5.54it/s]\n",
      "/opt/homebrew/lib/python3.11/site-packages/sklearn/metrics/_classification.py:2845: FutureWarning: Setting the eps parameter is deprecated and will be removed in 1.5. Instead eps will always havea default value of `np.finfo(y_pred.dtype).eps`.\n",
      "  warnings.warn(\n",
      "eval_listwise: 100%|██████████| 1823/1823 [00:00<00:00, 6969.67it/s]\n"
     ]
    },
    {
     "name": "stdout",
     "output_type": "stream",
     "text": [
      "\t eval log_loss: 1.8685\n",
      "\t eval roc_auc: 0.7139\n",
      "\t eval precision@10: 0.0034\n",
      "\t eval recall@10: 0.0164\n",
      "\t eval ndcg@10: 0.0246\n",
      "==============================\n"
     ]
    },
    {
     "name": "stderr",
     "output_type": "stream",
     "text": [
      "eval_pointwise: 100%|██████████| 3/3 [00:00<00:00,  5.58it/s]\n"
     ]
    },
    {
     "name": "stdout",
     "output_type": "stream",
     "text": [
      "\u001b[31mWarning: pearson is not suitable for implicit data\u001b[0m\n",
      "Training start time: \u001b[35m2023-10-07 21:19:56\u001b[0m\n",
      "Final block size and num: (3253, 1)\n",
      "sim_matrix elapsed: 0.060s\n",
      "sim_matrix, shape: (3253, 3253), num_elements: 1608184, density: 4.6293 %\n"
     ]
    },
    {
     "name": "stderr",
     "output_type": "stream",
     "text": [
      "top_k: 100%|██████████| 3253/3253 [00:00<00:00, 15926.87it/s]\n",
      "eval_pointwise:  33%|███▎      | 1/3 [00:00<00:00,  5.23it/s]"
     ]
    },
    {
     "name": "stdout",
     "output_type": "stream",
     "text": [
      "\u001b[31mNo common interaction or similar neighbor for user 5359 and item 2395, proceed with default prediction\u001b[0m\n",
      "\u001b[31mNo common interaction or similar neighbor for user 5773 and item 2930, proceed with default prediction\u001b[0m\n",
      "\u001b[31mNo common interaction or similar neighbor for user 1141 and item 711, proceed with default prediction\u001b[0m\n",
      "\u001b[31mNo common interaction or similar neighbor for user 4862 and item 86, proceed with default prediction\u001b[0m\n",
      "\u001b[31mNo common interaction or similar neighbor for user 4440 and item 1772, proceed with default prediction\u001b[0m\n",
      "\u001b[31mNo common interaction or similar neighbor for user 1728 and item 2899, proceed with default prediction\u001b[0m\n"
     ]
    },
    {
     "name": "stderr",
     "output_type": "stream",
     "text": [
      "eval_pointwise: 100%|██████████| 3/3 [00:00<00:00,  6.47it/s]\n",
      "/opt/homebrew/lib/python3.11/site-packages/sklearn/metrics/_classification.py:2845: FutureWarning: Setting the eps parameter is deprecated and will be removed in 1.5. Instead eps will always havea default value of `np.finfo(y_pred.dtype).eps`.\n",
      "  warnings.warn(\n",
      "eval_listwise: 100%|██████████| 1823/1823 [00:00<00:00, 3865.03it/s]\n"
     ]
    },
    {
     "name": "stdout",
     "output_type": "stream",
     "text": [
      "\t eval log_loss: 2.1430\n",
      "\t eval roc_auc: 0.6000\n",
      "\t eval precision@10: 0.0003\n",
      "\t eval recall@10: 0.0013\n",
      "\t eval ndcg@10: 0.0012\n",
      "==============================\n"
     ]
    },
    {
     "name": "stderr",
     "output_type": "stream",
     "text": [
      "eval_pointwise: 100%|██████████| 3/3 [00:00<00:00,  6.41it/s]\n"
     ]
    },
    {
     "name": "stdout",
     "output_type": "stream",
     "text": [
      "Training start time: \u001b[35m2023-10-07 21:19:57\u001b[0m\n",
      "Final block size and num: (5894, 1)\n",
      "sim_matrix elapsed: 0.112s\n",
      "sim_matrix, shape: (5894, 5894), num_elements: 4222948, density: 12.1561 %\n"
     ]
    },
    {
     "name": "stderr",
     "output_type": "stream",
     "text": [
      "top_k: 100%|██████████| 5894/5894 [00:00<00:00, 11267.04it/s]\n",
      "eval_pointwise:   0%|          | 0/3 [00:00<?, ?it/s]"
     ]
    },
    {
     "name": "stdout",
     "output_type": "stream",
     "text": [
      "\u001b[31mNo common interaction or similar neighbor for user 1728 and item 2899, proceed with default prediction\u001b[0m\n",
      "\u001b[31mNo common interaction or similar neighbor for user 1728 and item 2621, proceed with default prediction\u001b[0m\n",
      "\u001b[31mNo common interaction or similar neighbor for user 1932 and item 2012, proceed with default prediction\u001b[0m\n",
      "\u001b[31mNo common interaction or similar neighbor for user 35 and item 2067, proceed with default prediction\u001b[0m\n",
      "\u001b[31mNo common interaction or similar neighbor for user 192 and item 556, proceed with default prediction\u001b[0m\n",
      "\u001b[31mNo common interaction or similar neighbor for user 1957 and item 2741, proceed with default prediction\u001b[0m\n"
     ]
    },
    {
     "name": "stderr",
     "output_type": "stream",
     "text": [
      "eval_pointwise: 100%|██████████| 3/3 [00:00<00:00,  5.27it/s]\n",
      "/opt/homebrew/lib/python3.11/site-packages/sklearn/metrics/_classification.py:2845: FutureWarning: Setting the eps parameter is deprecated and will be removed in 1.5. Instead eps will always havea default value of `np.finfo(y_pred.dtype).eps`.\n",
      "  warnings.warn(\n",
      "eval_listwise: 100%|██████████| 1823/1823 [00:00<00:00, 5374.32it/s]\n"
     ]
    },
    {
     "name": "stdout",
     "output_type": "stream",
     "text": [
      "\t eval log_loss: 1.7757\n",
      "\t eval roc_auc: 0.7550\n",
      "\t eval precision@10: 0.0033\n",
      "\t eval recall@10: 0.0120\n",
      "\t eval ndcg@10: 0.0193\n",
      "==============================\n"
     ]
    },
    {
     "name": "stderr",
     "output_type": "stream",
     "text": [
      "eval_pointwise: 100%|██████████| 3/3 [00:00<00:00,  5.37it/s]\n"
     ]
    },
    {
     "name": "stdout",
     "output_type": "stream",
     "text": [
      "Training start time: \u001b[35m2023-10-07 21:19:59\u001b[0m\n",
      "Final block size and num: (3253, 1)\n",
      "sim_matrix elapsed: 0.036s\n",
      "sim_matrix, shape: (3253, 3253), num_elements: 1710008, density: 4.9224 %\n"
     ]
    },
    {
     "name": "stderr",
     "output_type": "stream",
     "text": [
      "top_k: 100%|██████████| 3253/3253 [00:00<00:00, 7903.81it/s]\n",
      "eval_pointwise:   0%|          | 0/3 [00:00<?, ?it/s]"
     ]
    },
    {
     "name": "stdout",
     "output_type": "stream",
     "text": [
      "\u001b[31mNo common interaction or similar neighbor for user 1728 and item 2899, proceed with default prediction\u001b[0m\n",
      "\u001b[31mNo common interaction or similar neighbor for user 1728 and item 2621, proceed with default prediction\u001b[0m\n",
      "\u001b[31mNo common interaction or similar neighbor for user 1932 and item 2012, proceed with default prediction\u001b[0m\n",
      "\u001b[31mNo common interaction or similar neighbor for user 35 and item 2067, proceed with default prediction\u001b[0m\n",
      "\u001b[31mNo common interaction or similar neighbor for user 192 and item 556, proceed with default prediction\u001b[0m\n",
      "\u001b[31mNo common interaction or similar neighbor for user 1957 and item 2741, proceed with default prediction\u001b[0m\n"
     ]
    },
    {
     "name": "stderr",
     "output_type": "stream",
     "text": [
      "eval_pointwise: 100%|██████████| 3/3 [00:00<00:00,  6.12it/s]\n",
      "/opt/homebrew/lib/python3.11/site-packages/sklearn/metrics/_classification.py:2845: FutureWarning: Setting the eps parameter is deprecated and will be removed in 1.5. Instead eps will always havea default value of `np.finfo(y_pred.dtype).eps`.\n",
      "  warnings.warn(\n",
      "eval_listwise: 100%|██████████| 1823/1823 [00:00<00:00, 3876.08it/s]\n"
     ]
    },
    {
     "name": "stdout",
     "output_type": "stream",
     "text": [
      "\t eval log_loss: 2.0141\n",
      "\t eval roc_auc: 0.6438\n",
      "\t eval precision@10: 0.0011\n",
      "\t eval recall@10: 0.0062\n",
      "\t eval ndcg@10: 0.0047\n",
      "==============================\n"
     ]
    },
    {
     "name": "stderr",
     "output_type": "stream",
     "text": [
      "eval_pointwise: 100%|██████████| 3/3 [00:00<00:00,  6.24it/s]\n"
     ]
    },
    {
     "name": "stdout",
     "output_type": "stream",
     "text": [
      "5\n",
      "Training start time: \u001b[35m2023-10-07 21:20:01\u001b[0m\n",
      "Final block size and num: (5894, 1)\n",
      "sim_matrix elapsed: 0.126s\n",
      "sim_matrix, shape: (5894, 5894), num_elements: 4222948, density: 12.1561 %\n"
     ]
    },
    {
     "name": "stderr",
     "output_type": "stream",
     "text": [
      "top_k: 100%|██████████| 5894/5894 [00:00<00:00, 10991.27it/s]\n",
      "eval_pointwise:   0%|          | 0/3 [00:00<?, ?it/s]"
     ]
    },
    {
     "name": "stdout",
     "output_type": "stream",
     "text": [
      "\u001b[31mNo common interaction or similar neighbor for user 1728 and item 2899, proceed with default prediction\u001b[0m\n",
      "\u001b[31mNo common interaction or similar neighbor for user 1728 and item 2621, proceed with default prediction\u001b[0m\n",
      "\u001b[31mNo common interaction or similar neighbor for user 1932 and item 2012, proceed with default prediction\u001b[0m\n",
      "\u001b[31mNo common interaction or similar neighbor for user 35 and item 2067, proceed with default prediction\u001b[0m\n",
      "\u001b[31mNo common interaction or similar neighbor for user 192 and item 556, proceed with default prediction\u001b[0m\n",
      "\u001b[31mNo common interaction or similar neighbor for user 1957 and item 2741, proceed with default prediction\u001b[0m\n"
     ]
    },
    {
     "name": "stderr",
     "output_type": "stream",
     "text": [
      "eval_pointwise: 100%|██████████| 3/3 [00:00<00:00,  5.27it/s]\n",
      "/opt/homebrew/lib/python3.11/site-packages/sklearn/metrics/_classification.py:2845: FutureWarning: Setting the eps parameter is deprecated and will be removed in 1.5. Instead eps will always havea default value of `np.finfo(y_pred.dtype).eps`.\n",
      "  warnings.warn(\n",
      "eval_listwise: 100%|██████████| 1823/1823 [00:00<00:00, 8975.44it/s]\n"
     ]
    },
    {
     "name": "stdout",
     "output_type": "stream",
     "text": [
      "\t eval log_loss: 1.4015\n",
      "\t eval roc_auc: 0.7387\n",
      "\t eval precision@10: 0.0026\n",
      "\t eval recall@10: 0.0111\n",
      "\t eval ndcg@10: 0.0250\n",
      "==============================\n"
     ]
    },
    {
     "name": "stderr",
     "output_type": "stream",
     "text": [
      "eval_pointwise: 100%|██████████| 3/3 [00:00<00:00,  5.36it/s]\n"
     ]
    },
    {
     "name": "stdout",
     "output_type": "stream",
     "text": [
      "Training start time: \u001b[35m2023-10-07 21:20:03\u001b[0m\n",
      "Final block size and num: (3253, 1)\n",
      "sim_matrix elapsed: 0.041s\n",
      "sim_matrix, shape: (3253, 3253), num_elements: 1710008, density: 4.9224 %\n"
     ]
    },
    {
     "name": "stderr",
     "output_type": "stream",
     "text": [
      "top_k: 100%|██████████| 3253/3253 [00:00<00:00, 15243.32it/s]\n",
      "eval_pointwise:  33%|███▎      | 1/3 [00:00<00:00,  4.97it/s]"
     ]
    },
    {
     "name": "stdout",
     "output_type": "stream",
     "text": [
      "\u001b[31mNo common interaction or similar neighbor for user 1728 and item 2899, proceed with default prediction\u001b[0m\n",
      "\u001b[31mNo common interaction or similar neighbor for user 1728 and item 2621, proceed with default prediction\u001b[0m\n",
      "\u001b[31mNo common interaction or similar neighbor for user 1932 and item 2012, proceed with default prediction\u001b[0m\n",
      "\u001b[31mNo common interaction or similar neighbor for user 35 and item 2067, proceed with default prediction\u001b[0m\n",
      "\u001b[31mNo common interaction or similar neighbor for user 192 and item 556, proceed with default prediction\u001b[0m\n",
      "\u001b[31mNo common interaction or similar neighbor for user 1957 and item 2741, proceed with default prediction\u001b[0m\n"
     ]
    },
    {
     "name": "stderr",
     "output_type": "stream",
     "text": [
      "eval_pointwise: 100%|██████████| 3/3 [00:00<00:00,  6.18it/s]\n",
      "/opt/homebrew/lib/python3.11/site-packages/sklearn/metrics/_classification.py:2845: FutureWarning: Setting the eps parameter is deprecated and will be removed in 1.5. Instead eps will always havea default value of `np.finfo(y_pred.dtype).eps`.\n",
      "  warnings.warn(\n",
      "eval_listwise: 100%|██████████| 1823/1823 [00:00<00:00, 3525.79it/s]\n"
     ]
    },
    {
     "name": "stdout",
     "output_type": "stream",
     "text": [
      "\t eval log_loss: 1.6874\n",
      "\t eval roc_auc: 0.5476\n",
      "\t eval precision@10: 0.0002\n",
      "\t eval recall@10: 0.0009\n",
      "\t eval ndcg@10: 0.0009\n",
      "==============================\n"
     ]
    },
    {
     "name": "stderr",
     "output_type": "stream",
     "text": [
      "eval_pointwise: 100%|██████████| 3/3 [00:00<00:00,  6.25it/s]\n"
     ]
    },
    {
     "name": "stdout",
     "output_type": "stream",
     "text": [
      "\u001b[31mWarning: pearson is not suitable for implicit data\u001b[0m\n",
      "Training start time: \u001b[35m2023-10-07 21:20:05\u001b[0m\n",
      "Final block size and num: (5894, 1)\n",
      "sim_matrix elapsed: 0.148s\n",
      "sim_matrix, shape: (5894, 5894), num_elements: 3855554, density: 11.0986 %\n"
     ]
    },
    {
     "name": "stderr",
     "output_type": "stream",
     "text": [
      "top_k: 100%|██████████| 5894/5894 [00:00<00:00, 12510.72it/s]\n",
      "eval_pointwise:   0%|          | 0/3 [00:00<?, ?it/s]"
     ]
    },
    {
     "name": "stdout",
     "output_type": "stream",
     "text": [
      "\u001b[31mNo common interaction or similar neighbor for user 5359 and item 2395, proceed with default prediction\u001b[0m\n",
      "\u001b[31mNo common interaction or similar neighbor for user 5773 and item 2930, proceed with default prediction\u001b[0m\n",
      "\u001b[31mNo common interaction or similar neighbor for user 5773 and item 282, proceed with default prediction\u001b[0m\n",
      "\u001b[31mNo common interaction or similar neighbor for user 4268 and item 1643, proceed with default prediction\u001b[0m\n",
      "\u001b[31mNo common interaction or similar neighbor for user 4440 and item 1772, proceed with default prediction\u001b[0m\n",
      "\u001b[31mNo common interaction or similar neighbor for user 1728 and item 2899, proceed with default prediction\u001b[0m\n"
     ]
    },
    {
     "name": "stderr",
     "output_type": "stream",
     "text": [
      "eval_pointwise: 100%|██████████| 3/3 [00:00<00:00,  5.60it/s]\n",
      "/opt/homebrew/lib/python3.11/site-packages/sklearn/metrics/_classification.py:2845: FutureWarning: Setting the eps parameter is deprecated and will be removed in 1.5. Instead eps will always havea default value of `np.finfo(y_pred.dtype).eps`.\n",
      "  warnings.warn(\n",
      "eval_listwise: 100%|██████████| 1823/1823 [00:00<00:00, 6440.69it/s]\n"
     ]
    },
    {
     "name": "stdout",
     "output_type": "stream",
     "text": [
      "\t eval log_loss: 1.9051\n",
      "\t eval roc_auc: 0.7094\n",
      "\t eval precision@10: 0.0033\n",
      "\t eval recall@10: 0.0156\n",
      "\t eval ndcg@10: 0.0213\n",
      "==============================\n"
     ]
    },
    {
     "name": "stderr",
     "output_type": "stream",
     "text": [
      "eval_pointwise: 100%|██████████| 3/3 [00:00<00:00,  5.62it/s]\n"
     ]
    },
    {
     "name": "stdout",
     "output_type": "stream",
     "text": [
      "\u001b[31mWarning: pearson is not suitable for implicit data\u001b[0m\n",
      "Training start time: \u001b[35m2023-10-07 21:20:07\u001b[0m\n",
      "Final block size and num: (3253, 1)\n",
      "sim_matrix elapsed: 0.053s\n",
      "sim_matrix, shape: (3253, 3253), num_elements: 1608184, density: 4.6293 %\n"
     ]
    },
    {
     "name": "stderr",
     "output_type": "stream",
     "text": [
      "top_k: 100%|██████████| 3253/3253 [00:00<00:00, 16982.95it/s]\n",
      "eval_pointwise:  33%|███▎      | 1/3 [00:00<00:00,  5.46it/s]"
     ]
    },
    {
     "name": "stdout",
     "output_type": "stream",
     "text": [
      "\u001b[31mNo common interaction or similar neighbor for user 5359 and item 2395, proceed with default prediction\u001b[0m\n",
      "\u001b[31mNo common interaction or similar neighbor for user 5773 and item 2930, proceed with default prediction\u001b[0m\n",
      "\u001b[31mNo common interaction or similar neighbor for user 1141 and item 711, proceed with default prediction\u001b[0m\n",
      "\u001b[31mNo common interaction or similar neighbor for user 4862 and item 86, proceed with default prediction\u001b[0m\n",
      "\u001b[31mNo common interaction or similar neighbor for user 4440 and item 1772, proceed with default prediction\u001b[0m\n",
      "\u001b[31mNo common interaction or similar neighbor for user 1728 and item 2899, proceed with default prediction\u001b[0m\n"
     ]
    },
    {
     "name": "stderr",
     "output_type": "stream",
     "text": [
      "eval_pointwise: 100%|██████████| 3/3 [00:00<00:00,  6.68it/s]\n",
      "/opt/homebrew/lib/python3.11/site-packages/sklearn/metrics/_classification.py:2845: FutureWarning: Setting the eps parameter is deprecated and will be removed in 1.5. Instead eps will always havea default value of `np.finfo(y_pred.dtype).eps`.\n",
      "  warnings.warn(\n",
      "eval_listwise: 100%|██████████| 1823/1823 [00:00<00:00, 3656.23it/s]\n"
     ]
    },
    {
     "name": "stdout",
     "output_type": "stream",
     "text": [
      "\t eval log_loss: 2.1822\n",
      "\t eval roc_auc: 0.5949\n",
      "\t eval precision@10: 0.0004\n",
      "\t eval recall@10: 0.0014\n",
      "\t eval ndcg@10: 0.0014\n",
      "==============================\n"
     ]
    },
    {
     "name": "stderr",
     "output_type": "stream",
     "text": [
      "eval_pointwise: 100%|██████████| 3/3 [00:00<00:00,  6.49it/s]\n"
     ]
    },
    {
     "name": "stdout",
     "output_type": "stream",
     "text": [
      "Training start time: \u001b[35m2023-10-07 21:20:09\u001b[0m\n",
      "Final block size and num: (5894, 1)\n",
      "sim_matrix elapsed: 0.103s\n",
      "sim_matrix, shape: (5894, 5894), num_elements: 4222948, density: 12.1561 %\n"
     ]
    },
    {
     "name": "stderr",
     "output_type": "stream",
     "text": [
      "top_k: 100%|██████████| 5894/5894 [00:00<00:00, 11896.52it/s]\n",
      "eval_pointwise:   0%|          | 0/3 [00:00<?, ?it/s]"
     ]
    },
    {
     "name": "stdout",
     "output_type": "stream",
     "text": [
      "\u001b[31mNo common interaction or similar neighbor for user 1728 and item 2899, proceed with default prediction\u001b[0m\n",
      "\u001b[31mNo common interaction or similar neighbor for user 1728 and item 2621, proceed with default prediction\u001b[0m\n",
      "\u001b[31mNo common interaction or similar neighbor for user 1932 and item 2012, proceed with default prediction\u001b[0m\n",
      "\u001b[31mNo common interaction or similar neighbor for user 35 and item 2067, proceed with default prediction\u001b[0m\n",
      "\u001b[31mNo common interaction or similar neighbor for user 192 and item 556, proceed with default prediction\u001b[0m\n",
      "\u001b[31mNo common interaction or similar neighbor for user 1957 and item 2741, proceed with default prediction\u001b[0m\n"
     ]
    },
    {
     "name": "stderr",
     "output_type": "stream",
     "text": [
      "eval_pointwise: 100%|██████████| 3/3 [00:00<00:00,  5.33it/s]\n",
      "/opt/homebrew/lib/python3.11/site-packages/sklearn/metrics/_classification.py:2845: FutureWarning: Setting the eps parameter is deprecated and will be removed in 1.5. Instead eps will always havea default value of `np.finfo(y_pred.dtype).eps`.\n",
      "  warnings.warn(\n",
      "eval_listwise: 100%|██████████| 1823/1823 [00:00<00:00, 4932.38it/s]\n"
     ]
    },
    {
     "name": "stdout",
     "output_type": "stream",
     "text": [
      "\t eval log_loss: 1.8012\n",
      "\t eval roc_auc: 0.7535\n",
      "\t eval precision@10: 0.0034\n",
      "\t eval recall@10: 0.0135\n",
      "\t eval ndcg@10: 0.0176\n",
      "==============================\n"
     ]
    },
    {
     "name": "stderr",
     "output_type": "stream",
     "text": [
      "eval_pointwise: 100%|██████████| 3/3 [00:00<00:00,  5.26it/s]\n"
     ]
    },
    {
     "name": "stdout",
     "output_type": "stream",
     "text": [
      "Training start time: \u001b[35m2023-10-07 21:20:11\u001b[0m\n",
      "Final block size and num: (3253, 1)\n",
      "sim_matrix elapsed: 0.035s\n",
      "sim_matrix, shape: (3253, 3253), num_elements: 1710008, density: 4.9224 %\n"
     ]
    },
    {
     "name": "stderr",
     "output_type": "stream",
     "text": [
      "top_k: 100%|██████████| 3253/3253 [00:00<00:00, 16167.21it/s]\n",
      "eval_pointwise:   0%|          | 0/3 [00:00<?, ?it/s]"
     ]
    },
    {
     "name": "stdout",
     "output_type": "stream",
     "text": [
      "\u001b[31mNo common interaction or similar neighbor for user 1728 and item 2899, proceed with default prediction\u001b[0m\n",
      "\u001b[31mNo common interaction or similar neighbor for user 1728 and item 2621, proceed with default prediction\u001b[0m\n",
      "\u001b[31mNo common interaction or similar neighbor for user 1932 and item 2012, proceed with default prediction\u001b[0m\n",
      "\u001b[31mNo common interaction or similar neighbor for user 35 and item 2067, proceed with default prediction\u001b[0m\n",
      "\u001b[31mNo common interaction or similar neighbor for user 192 and item 556, proceed with default prediction\u001b[0m\n",
      "\u001b[31mNo common interaction or similar neighbor for user 1957 and item 2741, proceed with default prediction\u001b[0m\n"
     ]
    },
    {
     "name": "stderr",
     "output_type": "stream",
     "text": [
      "eval_pointwise: 100%|██████████| 3/3 [00:00<00:00,  6.04it/s]\n",
      "/opt/homebrew/lib/python3.11/site-packages/sklearn/metrics/_classification.py:2845: FutureWarning: Setting the eps parameter is deprecated and will be removed in 1.5. Instead eps will always havea default value of `np.finfo(y_pred.dtype).eps`.\n",
      "  warnings.warn(\n",
      "eval_listwise: 100%|██████████| 1823/1823 [00:00<00:00, 3486.39it/s]\n"
     ]
    },
    {
     "name": "stdout",
     "output_type": "stream",
     "text": [
      "\t eval log_loss: 2.0405\n",
      "\t eval roc_auc: 0.6437\n",
      "\t eval precision@10: 0.0013\n",
      "\t eval recall@10: 0.0068\n",
      "\t eval ndcg@10: 0.0057\n",
      "==============================\n"
     ]
    },
    {
     "name": "stderr",
     "output_type": "stream",
     "text": [
      "eval_pointwise: 100%|██████████| 3/3 [00:00<00:00,  6.00it/s]\n"
     ]
    },
    {
     "name": "stdout",
     "output_type": "stream",
     "text": [
      "6\n",
      "Training start time: \u001b[35m2023-10-07 21:20:13\u001b[0m\n",
      "Final block size and num: (5894, 1)\n",
      "sim_matrix elapsed: 0.126s\n",
      "sim_matrix, shape: (5894, 5894), num_elements: 4222948, density: 12.1561 %\n"
     ]
    },
    {
     "name": "stderr",
     "output_type": "stream",
     "text": [
      "top_k: 100%|██████████| 5894/5894 [00:00<00:00, 11162.54it/s]\n",
      "eval_pointwise:   0%|          | 0/3 [00:00<?, ?it/s]"
     ]
    },
    {
     "name": "stdout",
     "output_type": "stream",
     "text": [
      "\u001b[31mNo common interaction or similar neighbor for user 1728 and item 2899, proceed with default prediction\u001b[0m\n",
      "\u001b[31mNo common interaction or similar neighbor for user 1728 and item 2621, proceed with default prediction\u001b[0m\n",
      "\u001b[31mNo common interaction or similar neighbor for user 1932 and item 2012, proceed with default prediction\u001b[0m\n",
      "\u001b[31mNo common interaction or similar neighbor for user 35 and item 2067, proceed with default prediction\u001b[0m\n",
      "\u001b[31mNo common interaction or similar neighbor for user 192 and item 556, proceed with default prediction\u001b[0m\n",
      "\u001b[31mNo common interaction or similar neighbor for user 1957 and item 2741, proceed with default prediction\u001b[0m\n"
     ]
    },
    {
     "name": "stderr",
     "output_type": "stream",
     "text": [
      "eval_pointwise: 100%|██████████| 3/3 [00:00<00:00,  5.12it/s]\n",
      "/opt/homebrew/lib/python3.11/site-packages/sklearn/metrics/_classification.py:2845: FutureWarning: Setting the eps parameter is deprecated and will be removed in 1.5. Instead eps will always havea default value of `np.finfo(y_pred.dtype).eps`.\n",
      "  warnings.warn(\n",
      "eval_listwise: 100%|██████████| 1823/1823 [00:00<00:00, 8041.89it/s]\n"
     ]
    },
    {
     "name": "stdout",
     "output_type": "stream",
     "text": [
      "\t eval log_loss: 1.4226\n",
      "\t eval roc_auc: 0.7352\n",
      "\t eval precision@10: 0.0029\n",
      "\t eval recall@10: 0.0118\n",
      "\t eval ndcg@10: 0.0207\n",
      "==============================\n"
     ]
    },
    {
     "name": "stderr",
     "output_type": "stream",
     "text": [
      "eval_pointwise: 100%|██████████| 3/3 [00:00<00:00,  5.27it/s]\n"
     ]
    },
    {
     "name": "stdout",
     "output_type": "stream",
     "text": [
      "Training start time: \u001b[35m2023-10-07 21:20:15\u001b[0m\n",
      "Final block size and num: (3253, 1)\n",
      "sim_matrix elapsed: 0.039s\n",
      "sim_matrix, shape: (3253, 3253), num_elements: 1710008, density: 4.9224 %\n"
     ]
    },
    {
     "name": "stderr",
     "output_type": "stream",
     "text": [
      "top_k: 100%|██████████| 3253/3253 [00:00<00:00, 16055.55it/s]\n",
      "eval_pointwise:  33%|███▎      | 1/3 [00:00<00:00,  4.97it/s]"
     ]
    },
    {
     "name": "stdout",
     "output_type": "stream",
     "text": [
      "\u001b[31mNo common interaction or similar neighbor for user 1728 and item 2899, proceed with default prediction\u001b[0m\n",
      "\u001b[31mNo common interaction or similar neighbor for user 1728 and item 2621, proceed with default prediction\u001b[0m\n",
      "\u001b[31mNo common interaction or similar neighbor for user 1932 and item 2012, proceed with default prediction\u001b[0m\n",
      "\u001b[31mNo common interaction or similar neighbor for user 35 and item 2067, proceed with default prediction\u001b[0m\n",
      "\u001b[31mNo common interaction or similar neighbor for user 192 and item 556, proceed with default prediction\u001b[0m\n",
      "\u001b[31mNo common interaction or similar neighbor for user 1957 and item 2741, proceed with default prediction\u001b[0m\n"
     ]
    },
    {
     "name": "stderr",
     "output_type": "stream",
     "text": [
      "eval_pointwise: 100%|██████████| 3/3 [00:00<00:00,  6.18it/s]\n",
      "/opt/homebrew/lib/python3.11/site-packages/sklearn/metrics/_classification.py:2845: FutureWarning: Setting the eps parameter is deprecated and will be removed in 1.5. Instead eps will always havea default value of `np.finfo(y_pred.dtype).eps`.\n",
      "  warnings.warn(\n",
      "eval_listwise: 100%|██████████| 1823/1823 [00:00<00:00, 3139.09it/s]\n"
     ]
    },
    {
     "name": "stdout",
     "output_type": "stream",
     "text": [
      "\t eval log_loss: 1.7096\n",
      "\t eval roc_auc: 0.5433\n",
      "\t eval precision@10: 0.0002\n",
      "\t eval recall@10: 0.0005\n",
      "\t eval ndcg@10: 0.0008\n",
      "==============================\n"
     ]
    },
    {
     "name": "stderr",
     "output_type": "stream",
     "text": [
      "eval_pointwise: 100%|██████████| 3/3 [00:00<00:00,  6.00it/s]\n"
     ]
    },
    {
     "name": "stdout",
     "output_type": "stream",
     "text": [
      "\u001b[31mWarning: pearson is not suitable for implicit data\u001b[0m\n",
      "Training start time: \u001b[35m2023-10-07 21:20:17\u001b[0m\n",
      "Final block size and num: (5894, 1)\n",
      "sim_matrix elapsed: 0.149s\n",
      "sim_matrix, shape: (5894, 5894), num_elements: 3855554, density: 11.0986 %\n"
     ]
    },
    {
     "name": "stderr",
     "output_type": "stream",
     "text": [
      "top_k: 100%|██████████| 5894/5894 [00:00<00:00, 12540.18it/s]\n",
      "eval_pointwise:   0%|          | 0/3 [00:00<?, ?it/s]"
     ]
    },
    {
     "name": "stdout",
     "output_type": "stream",
     "text": [
      "\u001b[31mNo common interaction or similar neighbor for user 5359 and item 2395, proceed with default prediction\u001b[0m\n",
      "\u001b[31mNo common interaction or similar neighbor for user 5773 and item 2930, proceed with default prediction\u001b[0m\n",
      "\u001b[31mNo common interaction or similar neighbor for user 5773 and item 282, proceed with default prediction\u001b[0m\n",
      "\u001b[31mNo common interaction or similar neighbor for user 4268 and item 1643, proceed with default prediction\u001b[0m\n",
      "\u001b[31mNo common interaction or similar neighbor for user 4440 and item 1772, proceed with default prediction\u001b[0m\n",
      "\u001b[31mNo common interaction or similar neighbor for user 1728 and item 2899, proceed with default prediction\u001b[0m\n"
     ]
    },
    {
     "name": "stderr",
     "output_type": "stream",
     "text": [
      "eval_pointwise: 100%|██████████| 3/3 [00:00<00:00,  5.57it/s]\n",
      "/opt/homebrew/lib/python3.11/site-packages/sklearn/metrics/_classification.py:2845: FutureWarning: Setting the eps parameter is deprecated and will be removed in 1.5. Instead eps will always havea default value of `np.finfo(y_pred.dtype).eps`.\n",
      "  warnings.warn(\n",
      "eval_listwise: 100%|██████████| 1823/1823 [00:00<00:00, 5575.36it/s]\n"
     ]
    },
    {
     "name": "stdout",
     "output_type": "stream",
     "text": [
      "\t eval log_loss: 1.9350\n",
      "\t eval roc_auc: 0.7046\n",
      "\t eval precision@10: 0.0034\n",
      "\t eval recall@10: 0.0154\n",
      "\t eval ndcg@10: 0.0233\n",
      "==============================\n"
     ]
    },
    {
     "name": "stderr",
     "output_type": "stream",
     "text": [
      "eval_pointwise: 100%|██████████| 3/3 [00:00<00:00,  5.55it/s]\n"
     ]
    },
    {
     "name": "stdout",
     "output_type": "stream",
     "text": [
      "\u001b[31mWarning: pearson is not suitable for implicit data\u001b[0m\n",
      "Training start time: \u001b[35m2023-10-07 21:20:19\u001b[0m\n",
      "Final block size and num: (3253, 1)\n",
      "sim_matrix elapsed: 0.060s\n",
      "sim_matrix, shape: (3253, 3253), num_elements: 1608184, density: 4.6293 %\n"
     ]
    },
    {
     "name": "stderr",
     "output_type": "stream",
     "text": [
      "top_k: 100%|██████████| 3253/3253 [00:00<00:00, 16310.42it/s]\n",
      "eval_pointwise:  33%|███▎      | 1/3 [00:00<00:00,  5.30it/s]"
     ]
    },
    {
     "name": "stdout",
     "output_type": "stream",
     "text": [
      "\u001b[31mNo common interaction or similar neighbor for user 5359 and item 2395, proceed with default prediction\u001b[0m\n",
      "\u001b[31mNo common interaction or similar neighbor for user 5773 and item 2930, proceed with default prediction\u001b[0m\n",
      "\u001b[31mNo common interaction or similar neighbor for user 1141 and item 711, proceed with default prediction\u001b[0m\n",
      "\u001b[31mNo common interaction or similar neighbor for user 4862 and item 86, proceed with default prediction\u001b[0m\n",
      "\u001b[31mNo common interaction or similar neighbor for user 4440 and item 1772, proceed with default prediction\u001b[0m\n",
      "\u001b[31mNo common interaction or similar neighbor for user 1728 and item 2899, proceed with default prediction\u001b[0m\n"
     ]
    },
    {
     "name": "stderr",
     "output_type": "stream",
     "text": [
      "eval_pointwise: 100%|██████████| 3/3 [00:00<00:00,  6.57it/s]\n",
      "/opt/homebrew/lib/python3.11/site-packages/sklearn/metrics/_classification.py:2845: FutureWarning: Setting the eps parameter is deprecated and will be removed in 1.5. Instead eps will always havea default value of `np.finfo(y_pred.dtype).eps`.\n",
      "  warnings.warn(\n",
      "eval_listwise: 100%|██████████| 1823/1823 [00:00<00:00, 3066.23it/s]\n"
     ]
    },
    {
     "name": "stdout",
     "output_type": "stream",
     "text": [
      "\t eval log_loss: 2.2131\n",
      "\t eval roc_auc: 0.5899\n",
      "\t eval precision@10: 0.0004\n",
      "\t eval recall@10: 0.0016\n",
      "\t eval ndcg@10: 0.0015\n",
      "==============================\n"
     ]
    },
    {
     "name": "stderr",
     "output_type": "stream",
     "text": [
      "eval_pointwise: 100%|██████████| 3/3 [00:00<00:00,  6.48it/s]\n"
     ]
    },
    {
     "name": "stdout",
     "output_type": "stream",
     "text": [
      "Training start time: \u001b[35m2023-10-07 21:20:21\u001b[0m\n",
      "Final block size and num: (5894, 1)\n",
      "sim_matrix elapsed: 0.104s\n",
      "sim_matrix, shape: (5894, 5894), num_elements: 4222948, density: 12.1561 %\n"
     ]
    },
    {
     "name": "stderr",
     "output_type": "stream",
     "text": [
      "top_k: 100%|██████████| 5894/5894 [00:00<00:00, 11789.98it/s]\n",
      "eval_pointwise:   0%|          | 0/3 [00:00<?, ?it/s]"
     ]
    },
    {
     "name": "stdout",
     "output_type": "stream",
     "text": [
      "\u001b[31mNo common interaction or similar neighbor for user 1728 and item 2899, proceed with default prediction\u001b[0m\n",
      "\u001b[31mNo common interaction or similar neighbor for user 1728 and item 2621, proceed with default prediction\u001b[0m\n",
      "\u001b[31mNo common interaction or similar neighbor for user 1932 and item 2012, proceed with default prediction\u001b[0m\n",
      "\u001b[31mNo common interaction or similar neighbor for user 35 and item 2067, proceed with default prediction\u001b[0m\n",
      "\u001b[31mNo common interaction or similar neighbor for user 192 and item 556, proceed with default prediction\u001b[0m\n",
      "\u001b[31mNo common interaction or similar neighbor for user 1957 and item 2741, proceed with default prediction\u001b[0m\n"
     ]
    },
    {
     "name": "stderr",
     "output_type": "stream",
     "text": [
      "eval_pointwise: 100%|██████████| 3/3 [00:00<00:00,  5.43it/s]\n",
      "/opt/homebrew/lib/python3.11/site-packages/sklearn/metrics/_classification.py:2845: FutureWarning: Setting the eps parameter is deprecated and will be removed in 1.5. Instead eps will always havea default value of `np.finfo(y_pred.dtype).eps`.\n",
      "  warnings.warn(\n",
      "eval_listwise: 100%|██████████| 1823/1823 [00:00<00:00, 4217.86it/s]\n"
     ]
    },
    {
     "name": "stdout",
     "output_type": "stream",
     "text": [
      "\t eval log_loss: 1.8226\n",
      "\t eval roc_auc: 0.7512\n",
      "\t eval precision@10: 0.0034\n",
      "\t eval recall@10: 0.0133\n",
      "\t eval ndcg@10: 0.0166\n",
      "==============================\n"
     ]
    },
    {
     "name": "stderr",
     "output_type": "stream",
     "text": [
      "eval_pointwise: 100%|██████████| 3/3 [00:00<00:00,  5.15it/s]\n"
     ]
    },
    {
     "name": "stdout",
     "output_type": "stream",
     "text": [
      "Training start time: \u001b[35m2023-10-07 21:20:23\u001b[0m\n",
      "Final block size and num: (3253, 1)\n",
      "sim_matrix elapsed: 0.037s\n",
      "sim_matrix, shape: (3253, 3253), num_elements: 1710008, density: 4.9224 %\n"
     ]
    },
    {
     "name": "stderr",
     "output_type": "stream",
     "text": [
      "top_k: 100%|██████████| 3253/3253 [00:00<00:00, 14976.71it/s]\n",
      "eval_pointwise:   0%|          | 0/3 [00:00<?, ?it/s]"
     ]
    },
    {
     "name": "stdout",
     "output_type": "stream",
     "text": [
      "\u001b[31mNo common interaction or similar neighbor for user 1728 and item 2899, proceed with default prediction\u001b[0m\n",
      "\u001b[31mNo common interaction or similar neighbor for user 1728 and item 2621, proceed with default prediction\u001b[0m\n",
      "\u001b[31mNo common interaction or similar neighbor for user 1932 and item 2012, proceed with default prediction\u001b[0m\n",
      "\u001b[31mNo common interaction or similar neighbor for user 35 and item 2067, proceed with default prediction\u001b[0m\n",
      "\u001b[31mNo common interaction or similar neighbor for user 192 and item 556, proceed with default prediction\u001b[0m\n",
      "\u001b[31mNo common interaction or similar neighbor for user 1957 and item 2741, proceed with default prediction\u001b[0m\n"
     ]
    },
    {
     "name": "stderr",
     "output_type": "stream",
     "text": [
      "eval_pointwise: 100%|██████████| 3/3 [00:00<00:00,  5.86it/s]\n",
      "/opt/homebrew/lib/python3.11/site-packages/sklearn/metrics/_classification.py:2845: FutureWarning: Setting the eps parameter is deprecated and will be removed in 1.5. Instead eps will always havea default value of `np.finfo(y_pred.dtype).eps`.\n",
      "  warnings.warn(\n",
      "eval_listwise: 100%|██████████| 1823/1823 [00:00<00:00, 2985.10it/s]\n"
     ]
    },
    {
     "name": "stdout",
     "output_type": "stream",
     "text": [
      "\t eval log_loss: 2.0624\n",
      "\t eval roc_auc: 0.6419\n",
      "\t eval precision@10: 0.0012\n",
      "\t eval recall@10: 0.0064\n",
      "\t eval ndcg@10: 0.0055\n",
      "==============================\n"
     ]
    },
    {
     "name": "stderr",
     "output_type": "stream",
     "text": [
      "eval_pointwise: 100%|██████████| 3/3 [00:00<00:00,  5.80it/s]\n"
     ]
    },
    {
     "name": "stdout",
     "output_type": "stream",
     "text": [
      "7\n",
      "Training start time: \u001b[35m2023-10-07 21:20:25\u001b[0m\n",
      "Final block size and num: (5894, 1)\n",
      "sim_matrix elapsed: 0.122s\n",
      "sim_matrix, shape: (5894, 5894), num_elements: 4222948, density: 12.1561 %\n"
     ]
    },
    {
     "name": "stderr",
     "output_type": "stream",
     "text": [
      "top_k: 100%|██████████| 5894/5894 [00:00<00:00, 11258.42it/s]\n",
      "eval_pointwise:   0%|          | 0/3 [00:00<?, ?it/s]"
     ]
    },
    {
     "name": "stdout",
     "output_type": "stream",
     "text": [
      "\u001b[31mNo common interaction or similar neighbor for user 1728 and item 2899, proceed with default prediction\u001b[0m\n",
      "\u001b[31mNo common interaction or similar neighbor for user 1728 and item 2621, proceed with default prediction\u001b[0m\n",
      "\u001b[31mNo common interaction or similar neighbor for user 1932 and item 2012, proceed with default prediction\u001b[0m\n",
      "\u001b[31mNo common interaction or similar neighbor for user 35 and item 2067, proceed with default prediction\u001b[0m\n",
      "\u001b[31mNo common interaction or similar neighbor for user 192 and item 556, proceed with default prediction\u001b[0m\n",
      "\u001b[31mNo common interaction or similar neighbor for user 1957 and item 2741, proceed with default prediction\u001b[0m\n"
     ]
    },
    {
     "name": "stderr",
     "output_type": "stream",
     "text": [
      "eval_pointwise: 100%|██████████| 3/3 [00:00<00:00,  5.07it/s]\n",
      "/opt/homebrew/lib/python3.11/site-packages/sklearn/metrics/_classification.py:2845: FutureWarning: Setting the eps parameter is deprecated and will be removed in 1.5. Instead eps will always havea default value of `np.finfo(y_pred.dtype).eps`.\n",
      "  warnings.warn(\n",
      "eval_listwise: 100%|██████████| 1823/1823 [00:00<00:00, 7606.54it/s]\n"
     ]
    },
    {
     "name": "stdout",
     "output_type": "stream",
     "text": [
      "\t eval log_loss: 1.4408\n",
      "\t eval roc_auc: 0.7314\n",
      "\t eval precision@10: 0.0032\n",
      "\t eval recall@10: 0.0132\n",
      "\t eval ndcg@10: 0.0207\n",
      "==============================\n"
     ]
    },
    {
     "name": "stderr",
     "output_type": "stream",
     "text": [
      "eval_pointwise: 100%|██████████| 3/3 [00:00<00:00,  5.13it/s]\n"
     ]
    },
    {
     "name": "stdout",
     "output_type": "stream",
     "text": [
      "Training start time: \u001b[35m2023-10-07 21:20:27\u001b[0m\n",
      "Final block size and num: (3253, 1)\n",
      "sim_matrix elapsed: 0.041s\n",
      "sim_matrix, shape: (3253, 3253), num_elements: 1710008, density: 4.9224 %\n"
     ]
    },
    {
     "name": "stderr",
     "output_type": "stream",
     "text": [
      "top_k: 100%|██████████| 3253/3253 [00:00<00:00, 15712.33it/s]\n",
      "eval_pointwise:   0%|          | 0/3 [00:00<?, ?it/s]"
     ]
    },
    {
     "name": "stdout",
     "output_type": "stream",
     "text": [
      "\u001b[31mNo common interaction or similar neighbor for user 1728 and item 2899, proceed with default prediction\u001b[0m\n",
      "\u001b[31mNo common interaction or similar neighbor for user 1728 and item 2621, proceed with default prediction\u001b[0m\n",
      "\u001b[31mNo common interaction or similar neighbor for user 1932 and item 2012, proceed with default prediction\u001b[0m\n",
      "\u001b[31mNo common interaction or similar neighbor for user 35 and item 2067, proceed with default prediction\u001b[0m\n",
      "\u001b[31mNo common interaction or similar neighbor for user 192 and item 556, proceed with default prediction\u001b[0m\n",
      "\u001b[31mNo common interaction or similar neighbor for user 1957 and item 2741, proceed with default prediction\u001b[0m\n"
     ]
    },
    {
     "name": "stderr",
     "output_type": "stream",
     "text": [
      "eval_pointwise: 100%|██████████| 3/3 [00:00<00:00,  5.81it/s]\n",
      "/opt/homebrew/lib/python3.11/site-packages/sklearn/metrics/_classification.py:2845: FutureWarning: Setting the eps parameter is deprecated and will be removed in 1.5. Instead eps will always havea default value of `np.finfo(y_pred.dtype).eps`.\n",
      "  warnings.warn(\n",
      "eval_listwise: 100%|██████████| 1823/1823 [00:00<00:00, 2681.75it/s]\n"
     ]
    },
    {
     "name": "stdout",
     "output_type": "stream",
     "text": [
      "\t eval log_loss: 1.7285\n",
      "\t eval roc_auc: 0.5387\n",
      "\t eval precision@10: 0.0002\n",
      "\t eval recall@10: 0.0006\n",
      "\t eval ndcg@10: 0.0008\n",
      "==============================\n"
     ]
    },
    {
     "name": "stderr",
     "output_type": "stream",
     "text": [
      "eval_pointwise: 100%|██████████| 3/3 [00:00<00:00,  5.83it/s]\n"
     ]
    },
    {
     "name": "stdout",
     "output_type": "stream",
     "text": [
      "\u001b[31mWarning: pearson is not suitable for implicit data\u001b[0m\n",
      "Training start time: \u001b[35m2023-10-07 21:20:29\u001b[0m\n",
      "Final block size and num: (5894, 1)\n",
      "sim_matrix elapsed: 0.149s\n",
      "sim_matrix, shape: (5894, 5894), num_elements: 3855554, density: 11.0986 %\n"
     ]
    },
    {
     "name": "stderr",
     "output_type": "stream",
     "text": [
      "top_k: 100%|██████████| 5894/5894 [00:00<00:00, 12384.88it/s]\n",
      "eval_pointwise:   0%|          | 0/3 [00:00<?, ?it/s]"
     ]
    },
    {
     "name": "stdout",
     "output_type": "stream",
     "text": [
      "\u001b[31mNo common interaction or similar neighbor for user 5359 and item 2395, proceed with default prediction\u001b[0m\n",
      "\u001b[31mNo common interaction or similar neighbor for user 5773 and item 2930, proceed with default prediction\u001b[0m\n",
      "\u001b[31mNo common interaction or similar neighbor for user 5773 and item 282, proceed with default prediction\u001b[0m\n",
      "\u001b[31mNo common interaction or similar neighbor for user 4268 and item 1643, proceed with default prediction\u001b[0m\n",
      "\u001b[31mNo common interaction or similar neighbor for user 4440 and item 1772, proceed with default prediction\u001b[0m\n",
      "\u001b[31mNo common interaction or similar neighbor for user 1728 and item 2899, proceed with default prediction\u001b[0m\n"
     ]
    },
    {
     "name": "stderr",
     "output_type": "stream",
     "text": [
      "eval_pointwise: 100%|██████████| 3/3 [00:00<00:00,  5.37it/s]\n",
      "/opt/homebrew/lib/python3.11/site-packages/sklearn/metrics/_classification.py:2845: FutureWarning: Setting the eps parameter is deprecated and will be removed in 1.5. Instead eps will always havea default value of `np.finfo(y_pred.dtype).eps`.\n",
      "  warnings.warn(\n",
      "eval_listwise: 100%|██████████| 1823/1823 [00:00<00:00, 4956.02it/s]\n"
     ]
    },
    {
     "name": "stdout",
     "output_type": "stream",
     "text": [
      "\t eval log_loss: 1.9602\n",
      "\t eval roc_auc: 0.6994\n",
      "\t eval precision@10: 0.0035\n",
      "\t eval recall@10: 0.0167\n",
      "\t eval ndcg@10: 0.0233\n",
      "==============================\n"
     ]
    },
    {
     "name": "stderr",
     "output_type": "stream",
     "text": [
      "eval_pointwise: 100%|██████████| 3/3 [00:00<00:00,  5.39it/s]\n"
     ]
    },
    {
     "name": "stdout",
     "output_type": "stream",
     "text": [
      "\u001b[31mWarning: pearson is not suitable for implicit data\u001b[0m\n",
      "Training start time: \u001b[35m2023-10-07 21:20:31\u001b[0m\n",
      "Final block size and num: (3253, 1)\n",
      "sim_matrix elapsed: 0.056s\n",
      "sim_matrix, shape: (3253, 3253), num_elements: 1608184, density: 4.6293 %\n"
     ]
    },
    {
     "name": "stderr",
     "output_type": "stream",
     "text": [
      "top_k: 100%|██████████| 3253/3253 [00:00<00:00, 16762.77it/s]\n",
      "eval_pointwise:  33%|███▎      | 1/3 [00:00<00:00,  5.03it/s]"
     ]
    },
    {
     "name": "stdout",
     "output_type": "stream",
     "text": [
      "\u001b[31mNo common interaction or similar neighbor for user 5359 and item 2395, proceed with default prediction\u001b[0m\n",
      "\u001b[31mNo common interaction or similar neighbor for user 5773 and item 2930, proceed with default prediction\u001b[0m\n",
      "\u001b[31mNo common interaction or similar neighbor for user 1141 and item 711, proceed with default prediction\u001b[0m\n",
      "\u001b[31mNo common interaction or similar neighbor for user 4862 and item 86, proceed with default prediction\u001b[0m\n",
      "\u001b[31mNo common interaction or similar neighbor for user 4440 and item 1772, proceed with default prediction\u001b[0m\n",
      "\u001b[31mNo common interaction or similar neighbor for user 1728 and item 2899, proceed with default prediction\u001b[0m\n"
     ]
    },
    {
     "name": "stderr",
     "output_type": "stream",
     "text": [
      "eval_pointwise: 100%|██████████| 3/3 [00:00<00:00,  6.21it/s]\n",
      "/opt/homebrew/lib/python3.11/site-packages/sklearn/metrics/_classification.py:2845: FutureWarning: Setting the eps parameter is deprecated and will be removed in 1.5. Instead eps will always havea default value of `np.finfo(y_pred.dtype).eps`.\n",
      "  warnings.warn(\n",
      "eval_listwise: 100%|██████████| 1823/1823 [00:00<00:00, 2725.79it/s]\n"
     ]
    },
    {
     "name": "stdout",
     "output_type": "stream",
     "text": [
      "\t eval log_loss: 2.2377\n",
      "\t eval roc_auc: 0.5855\n",
      "\t eval precision@10: 0.0004\n",
      "\t eval recall@10: 0.0013\n",
      "\t eval ndcg@10: 0.0016\n",
      "==============================\n"
     ]
    },
    {
     "name": "stderr",
     "output_type": "stream",
     "text": [
      "eval_pointwise: 100%|██████████| 3/3 [00:00<00:00,  6.11it/s]\n"
     ]
    },
    {
     "name": "stdout",
     "output_type": "stream",
     "text": [
      "Training start time: \u001b[35m2023-10-07 21:20:33\u001b[0m\n",
      "Final block size and num: (5894, 1)\n",
      "sim_matrix elapsed: 0.105s\n",
      "sim_matrix, shape: (5894, 5894), num_elements: 4222948, density: 12.1561 %\n"
     ]
    },
    {
     "name": "stderr",
     "output_type": "stream",
     "text": [
      "top_k: 100%|██████████| 5894/5894 [00:00<00:00, 11457.32it/s]\n",
      "eval_pointwise:   0%|          | 0/3 [00:00<?, ?it/s]"
     ]
    },
    {
     "name": "stdout",
     "output_type": "stream",
     "text": [
      "\u001b[31mNo common interaction or similar neighbor for user 1728 and item 2899, proceed with default prediction\u001b[0m\n",
      "\u001b[31mNo common interaction or similar neighbor for user 1728 and item 2621, proceed with default prediction\u001b[0m\n",
      "\u001b[31mNo common interaction or similar neighbor for user 1932 and item 2012, proceed with default prediction\u001b[0m\n",
      "\u001b[31mNo common interaction or similar neighbor for user 35 and item 2067, proceed with default prediction\u001b[0m\n",
      "\u001b[31mNo common interaction or similar neighbor for user 192 and item 556, proceed with default prediction\u001b[0m\n",
      "\u001b[31mNo common interaction or similar neighbor for user 1957 and item 2741, proceed with default prediction\u001b[0m\n"
     ]
    },
    {
     "name": "stderr",
     "output_type": "stream",
     "text": [
      "eval_pointwise: 100%|██████████| 3/3 [00:00<00:00,  5.07it/s]\n",
      "/opt/homebrew/lib/python3.11/site-packages/sklearn/metrics/_classification.py:2845: FutureWarning: Setting the eps parameter is deprecated and will be removed in 1.5. Instead eps will always havea default value of `np.finfo(y_pred.dtype).eps`.\n",
      "  warnings.warn(\n",
      "eval_listwise: 100%|██████████| 1823/1823 [00:00<00:00, 3721.47it/s]\n"
     ]
    },
    {
     "name": "stdout",
     "output_type": "stream",
     "text": [
      "\t eval log_loss: 1.8410\n",
      "\t eval roc_auc: 0.7484\n",
      "\t eval precision@10: 0.0039\n",
      "\t eval recall@10: 0.0155\n",
      "\t eval ndcg@10: 0.0209\n",
      "==============================\n"
     ]
    },
    {
     "name": "stderr",
     "output_type": "stream",
     "text": [
      "eval_pointwise: 100%|██████████| 3/3 [00:00<00:00,  5.07it/s]\n"
     ]
    },
    {
     "name": "stdout",
     "output_type": "stream",
     "text": [
      "Training start time: \u001b[35m2023-10-07 21:20:36\u001b[0m\n",
      "Final block size and num: (3253, 1)\n",
      "sim_matrix elapsed: 0.036s\n",
      "sim_matrix, shape: (3253, 3253), num_elements: 1710008, density: 4.9224 %\n"
     ]
    },
    {
     "name": "stderr",
     "output_type": "stream",
     "text": [
      "top_k: 100%|██████████| 3253/3253 [00:00<00:00, 15367.09it/s]\n",
      "eval_pointwise:   0%|          | 0/3 [00:00<?, ?it/s]"
     ]
    },
    {
     "name": "stdout",
     "output_type": "stream",
     "text": [
      "\u001b[31mNo common interaction or similar neighbor for user 1728 and item 2899, proceed with default prediction\u001b[0m\n",
      "\u001b[31mNo common interaction or similar neighbor for user 1728 and item 2621, proceed with default prediction\u001b[0m\n",
      "\u001b[31mNo common interaction or similar neighbor for user 1932 and item 2012, proceed with default prediction\u001b[0m\n",
      "\u001b[31mNo common interaction or similar neighbor for user 35 and item 2067, proceed with default prediction\u001b[0m\n",
      "\u001b[31mNo common interaction or similar neighbor for user 192 and item 556, proceed with default prediction\u001b[0m\n",
      "\u001b[31mNo common interaction or similar neighbor for user 1957 and item 2741, proceed with default prediction\u001b[0m\n"
     ]
    },
    {
     "name": "stderr",
     "output_type": "stream",
     "text": [
      "eval_pointwise: 100%|██████████| 3/3 [00:00<00:00,  5.77it/s]\n",
      "/opt/homebrew/lib/python3.11/site-packages/sklearn/metrics/_classification.py:2845: FutureWarning: Setting the eps parameter is deprecated and will be removed in 1.5. Instead eps will always havea default value of `np.finfo(y_pred.dtype).eps`.\n",
      "  warnings.warn(\n",
      "eval_listwise: 100%|██████████| 1823/1823 [00:00<00:00, 2676.02it/s]\n"
     ]
    },
    {
     "name": "stdout",
     "output_type": "stream",
     "text": [
      "\t eval log_loss: 2.0809\n",
      "\t eval roc_auc: 0.6392\n",
      "\t eval precision@10: 0.0013\n",
      "\t eval recall@10: 0.0071\n",
      "\t eval ndcg@10: 0.0059\n",
      "==============================\n"
     ]
    },
    {
     "name": "stderr",
     "output_type": "stream",
     "text": [
      "eval_pointwise: 100%|██████████| 3/3 [00:00<00:00,  5.85it/s]\n"
     ]
    },
    {
     "name": "stdout",
     "output_type": "stream",
     "text": [
      "8\n",
      "Training start time: \u001b[35m2023-10-07 21:20:38\u001b[0m\n",
      "Final block size and num: (5894, 1)\n",
      "sim_matrix elapsed: 0.121s\n",
      "sim_matrix, shape: (5894, 5894), num_elements: 4222948, density: 12.1561 %\n"
     ]
    },
    {
     "name": "stderr",
     "output_type": "stream",
     "text": [
      "top_k: 100%|██████████| 5894/5894 [00:00<00:00, 11369.62it/s]\n",
      "eval_pointwise:   0%|          | 0/3 [00:00<?, ?it/s]"
     ]
    },
    {
     "name": "stdout",
     "output_type": "stream",
     "text": [
      "\u001b[31mNo common interaction or similar neighbor for user 1728 and item 2899, proceed with default prediction\u001b[0m\n",
      "\u001b[31mNo common interaction or similar neighbor for user 1728 and item 2621, proceed with default prediction\u001b[0m\n",
      "\u001b[31mNo common interaction or similar neighbor for user 1932 and item 2012, proceed with default prediction\u001b[0m\n",
      "\u001b[31mNo common interaction or similar neighbor for user 35 and item 2067, proceed with default prediction\u001b[0m\n",
      "\u001b[31mNo common interaction or similar neighbor for user 192 and item 556, proceed with default prediction\u001b[0m\n",
      "\u001b[31mNo common interaction or similar neighbor for user 1957 and item 2741, proceed with default prediction\u001b[0m\n"
     ]
    },
    {
     "name": "stderr",
     "output_type": "stream",
     "text": [
      "eval_pointwise: 100%|██████████| 3/3 [00:00<00:00,  5.07it/s]\n",
      "/opt/homebrew/lib/python3.11/site-packages/sklearn/metrics/_classification.py:2845: FutureWarning: Setting the eps parameter is deprecated and will be removed in 1.5. Instead eps will always havea default value of `np.finfo(y_pred.dtype).eps`.\n",
      "  warnings.warn(\n",
      "eval_listwise: 100%|██████████| 1823/1823 [00:00<00:00, 7122.66it/s]\n"
     ]
    },
    {
     "name": "stdout",
     "output_type": "stream",
     "text": [
      "\t eval log_loss: 1.4567\n",
      "\t eval roc_auc: 0.7274\n",
      "\t eval precision@10: 0.0033\n",
      "\t eval recall@10: 0.0137\n",
      "\t eval ndcg@10: 0.0187\n",
      "==============================\n"
     ]
    },
    {
     "name": "stderr",
     "output_type": "stream",
     "text": [
      "eval_pointwise: 100%|██████████| 3/3 [00:00<00:00,  5.10it/s]\n"
     ]
    },
    {
     "name": "stdout",
     "output_type": "stream",
     "text": [
      "Training start time: \u001b[35m2023-10-07 21:20:40\u001b[0m\n",
      "Final block size and num: (3253, 1)\n",
      "sim_matrix elapsed: 0.039s\n",
      "sim_matrix, shape: (3253, 3253), num_elements: 1710008, density: 4.9224 %\n"
     ]
    },
    {
     "name": "stderr",
     "output_type": "stream",
     "text": [
      "top_k: 100%|██████████| 3253/3253 [00:00<00:00, 16016.27it/s]\n",
      "eval_pointwise:   0%|          | 0/3 [00:00<?, ?it/s]"
     ]
    },
    {
     "name": "stdout",
     "output_type": "stream",
     "text": [
      "\u001b[31mNo common interaction or similar neighbor for user 1728 and item 2899, proceed with default prediction\u001b[0m\n",
      "\u001b[31mNo common interaction or similar neighbor for user 1728 and item 2621, proceed with default prediction\u001b[0m\n",
      "\u001b[31mNo common interaction or similar neighbor for user 1932 and item 2012, proceed with default prediction\u001b[0m\n",
      "\u001b[31mNo common interaction or similar neighbor for user 35 and item 2067, proceed with default prediction\u001b[0m\n",
      "\u001b[31mNo common interaction or similar neighbor for user 192 and item 556, proceed with default prediction\u001b[0m\n",
      "\u001b[31mNo common interaction or similar neighbor for user 1957 and item 2741, proceed with default prediction\u001b[0m\n"
     ]
    },
    {
     "name": "stderr",
     "output_type": "stream",
     "text": [
      "eval_pointwise: 100%|██████████| 3/3 [00:00<00:00,  6.04it/s]\n",
      "/opt/homebrew/lib/python3.11/site-packages/sklearn/metrics/_classification.py:2845: FutureWarning: Setting the eps parameter is deprecated and will be removed in 1.5. Instead eps will always havea default value of `np.finfo(y_pred.dtype).eps`.\n",
      "  warnings.warn(\n",
      "eval_listwise: 100%|██████████| 1823/1823 [00:00<00:00, 2549.13it/s]\n"
     ]
    },
    {
     "name": "stdout",
     "output_type": "stream",
     "text": [
      "\t eval log_loss: 1.7449\n",
      "\t eval roc_auc: 0.5342\n",
      "\t eval precision@10: 0.0001\n",
      "\t eval recall@10: 0.0006\n",
      "\t eval ndcg@10: 0.0007\n",
      "==============================\n"
     ]
    },
    {
     "name": "stderr",
     "output_type": "stream",
     "text": [
      "eval_pointwise: 100%|██████████| 3/3 [00:00<00:00,  5.85it/s]\n"
     ]
    },
    {
     "name": "stdout",
     "output_type": "stream",
     "text": [
      "\u001b[31mWarning: pearson is not suitable for implicit data\u001b[0m\n",
      "Training start time: \u001b[35m2023-10-07 21:20:42\u001b[0m\n",
      "Final block size and num: (5894, 1)\n",
      "sim_matrix elapsed: 0.146s\n",
      "sim_matrix, shape: (5894, 5894), num_elements: 3855554, density: 11.0986 %\n"
     ]
    },
    {
     "name": "stderr",
     "output_type": "stream",
     "text": [
      "top_k: 100%|██████████| 5894/5894 [00:00<00:00, 12515.07it/s]\n",
      "eval_pointwise:   0%|          | 0/3 [00:00<?, ?it/s]"
     ]
    },
    {
     "name": "stdout",
     "output_type": "stream",
     "text": [
      "\u001b[31mNo common interaction or similar neighbor for user 5359 and item 2395, proceed with default prediction\u001b[0m\n",
      "\u001b[31mNo common interaction or similar neighbor for user 5773 and item 2930, proceed with default prediction\u001b[0m\n",
      "\u001b[31mNo common interaction or similar neighbor for user 5773 and item 282, proceed with default prediction\u001b[0m\n",
      "\u001b[31mNo common interaction or similar neighbor for user 4268 and item 1643, proceed with default prediction\u001b[0m\n",
      "\u001b[31mNo common interaction or similar neighbor for user 4440 and item 1772, proceed with default prediction\u001b[0m\n",
      "\u001b[31mNo common interaction or similar neighbor for user 1728 and item 2899, proceed with default prediction\u001b[0m\n"
     ]
    },
    {
     "name": "stderr",
     "output_type": "stream",
     "text": [
      "eval_pointwise: 100%|██████████| 3/3 [00:00<00:00,  5.35it/s]\n",
      "/opt/homebrew/lib/python3.11/site-packages/sklearn/metrics/_classification.py:2845: FutureWarning: Setting the eps parameter is deprecated and will be removed in 1.5. Instead eps will always havea default value of `np.finfo(y_pred.dtype).eps`.\n",
      "  warnings.warn(\n",
      "eval_listwise: 100%|██████████| 1823/1823 [00:00<00:00, 4538.31it/s]\n"
     ]
    },
    {
     "name": "stdout",
     "output_type": "stream",
     "text": [
      "\t eval log_loss: 1.9816\n",
      "\t eval roc_auc: 0.6945\n",
      "\t eval precision@10: 0.0032\n",
      "\t eval recall@10: 0.0149\n",
      "\t eval ndcg@10: 0.0206\n",
      "==============================\n"
     ]
    },
    {
     "name": "stderr",
     "output_type": "stream",
     "text": [
      "eval_pointwise: 100%|██████████| 3/3 [00:00<00:00,  5.38it/s]\n"
     ]
    },
    {
     "name": "stdout",
     "output_type": "stream",
     "text": [
      "\u001b[31mWarning: pearson is not suitable for implicit data\u001b[0m\n",
      "Training start time: \u001b[35m2023-10-07 21:20:44\u001b[0m\n",
      "Final block size and num: (3253, 1)\n",
      "sim_matrix elapsed: 0.056s\n",
      "sim_matrix, shape: (3253, 3253), num_elements: 1608184, density: 4.6293 %\n"
     ]
    },
    {
     "name": "stderr",
     "output_type": "stream",
     "text": [
      "top_k: 100%|██████████| 3253/3253 [00:00<00:00, 16878.62it/s]\n",
      "eval_pointwise:   0%|          | 0/3 [00:00<?, ?it/s]"
     ]
    },
    {
     "name": "stdout",
     "output_type": "stream",
     "text": [
      "\u001b[31mNo common interaction or similar neighbor for user 5359 and item 2395, proceed with default prediction\u001b[0m\n",
      "\u001b[31mNo common interaction or similar neighbor for user 5773 and item 2930, proceed with default prediction\u001b[0m\n",
      "\u001b[31mNo common interaction or similar neighbor for user 1141 and item 711, proceed with default prediction\u001b[0m\n",
      "\u001b[31mNo common interaction or similar neighbor for user 4862 and item 86, proceed with default prediction\u001b[0m\n",
      "\u001b[31mNo common interaction or similar neighbor for user 4440 and item 1772, proceed with default prediction\u001b[0m\n",
      "\u001b[31mNo common interaction or similar neighbor for user 1728 and item 2899, proceed with default prediction\u001b[0m\n"
     ]
    },
    {
     "name": "stderr",
     "output_type": "stream",
     "text": [
      "eval_pointwise: 100%|██████████| 3/3 [00:00<00:00,  6.16it/s]\n",
      "/opt/homebrew/lib/python3.11/site-packages/sklearn/metrics/_classification.py:2845: FutureWarning: Setting the eps parameter is deprecated and will be removed in 1.5. Instead eps will always havea default value of `np.finfo(y_pred.dtype).eps`.\n",
      "  warnings.warn(\n",
      "eval_listwise: 100%|██████████| 1823/1823 [00:00<00:00, 2469.45it/s]\n"
     ]
    },
    {
     "name": "stdout",
     "output_type": "stream",
     "text": [
      "\t eval log_loss: 2.2575\n",
      "\t eval roc_auc: 0.5815\n",
      "\t eval precision@10: 0.0004\n",
      "\t eval recall@10: 0.0013\n",
      "\t eval ndcg@10: 0.0015\n",
      "==============================\n"
     ]
    },
    {
     "name": "stderr",
     "output_type": "stream",
     "text": [
      "eval_pointwise: 100%|██████████| 3/3 [00:00<00:00,  6.06it/s]\n"
     ]
    },
    {
     "name": "stdout",
     "output_type": "stream",
     "text": [
      "Training start time: \u001b[35m2023-10-07 21:20:46\u001b[0m\n",
      "Final block size and num: (5894, 1)\n",
      "sim_matrix elapsed: 0.106s\n",
      "sim_matrix, shape: (5894, 5894), num_elements: 4222948, density: 12.1561 %\n"
     ]
    },
    {
     "name": "stderr",
     "output_type": "stream",
     "text": [
      "top_k: 100%|██████████| 5894/5894 [00:00<00:00, 11355.38it/s]\n",
      "eval_pointwise:   0%|          | 0/3 [00:00<?, ?it/s]"
     ]
    },
    {
     "name": "stdout",
     "output_type": "stream",
     "text": [
      "\u001b[31mNo common interaction or similar neighbor for user 1728 and item 2899, proceed with default prediction\u001b[0m\n",
      "\u001b[31mNo common interaction or similar neighbor for user 1728 and item 2621, proceed with default prediction\u001b[0m\n",
      "\u001b[31mNo common interaction or similar neighbor for user 1932 and item 2012, proceed with default prediction\u001b[0m\n",
      "\u001b[31mNo common interaction or similar neighbor for user 35 and item 2067, proceed with default prediction\u001b[0m\n",
      "\u001b[31mNo common interaction or similar neighbor for user 192 and item 556, proceed with default prediction\u001b[0m\n",
      "\u001b[31mNo common interaction or similar neighbor for user 1957 and item 2741, proceed with default prediction\u001b[0m\n"
     ]
    },
    {
     "name": "stderr",
     "output_type": "stream",
     "text": [
      "eval_pointwise: 100%|██████████| 3/3 [00:00<00:00,  5.04it/s]\n",
      "/opt/homebrew/lib/python3.11/site-packages/sklearn/metrics/_classification.py:2845: FutureWarning: Setting the eps parameter is deprecated and will be removed in 1.5. Instead eps will always havea default value of `np.finfo(y_pred.dtype).eps`.\n",
      "  warnings.warn(\n",
      "eval_listwise: 100%|██████████| 1823/1823 [00:00<00:00, 3535.97it/s]\n"
     ]
    },
    {
     "name": "stdout",
     "output_type": "stream",
     "text": [
      "\t eval log_loss: 1.8569\n",
      "\t eval roc_auc: 0.7452\n",
      "\t eval precision@10: 0.0037\n",
      "\t eval recall@10: 0.0161\n",
      "\t eval ndcg@10: 0.0183\n",
      "==============================\n"
     ]
    },
    {
     "name": "stderr",
     "output_type": "stream",
     "text": [
      "eval_pointwise: 100%|██████████| 3/3 [00:00<00:00,  5.07it/s]\n"
     ]
    },
    {
     "name": "stdout",
     "output_type": "stream",
     "text": [
      "Training start time: \u001b[35m2023-10-07 21:20:48\u001b[0m\n",
      "Final block size and num: (3253, 1)\n",
      "sim_matrix elapsed: 0.037s\n",
      "sim_matrix, shape: (3253, 3253), num_elements: 1710008, density: 4.9224 %\n"
     ]
    },
    {
     "name": "stderr",
     "output_type": "stream",
     "text": [
      "top_k: 100%|██████████| 3253/3253 [00:00<00:00, 15524.91it/s]\n",
      "eval_pointwise:   0%|          | 0/3 [00:00<?, ?it/s]"
     ]
    },
    {
     "name": "stdout",
     "output_type": "stream",
     "text": [
      "\u001b[31mNo common interaction or similar neighbor for user 1728 and item 2899, proceed with default prediction\u001b[0m\n",
      "\u001b[31mNo common interaction or similar neighbor for user 1728 and item 2621, proceed with default prediction\u001b[0m\n",
      "\u001b[31mNo common interaction or similar neighbor for user 1932 and item 2012, proceed with default prediction\u001b[0m\n",
      "\u001b[31mNo common interaction or similar neighbor for user 35 and item 2067, proceed with default prediction\u001b[0m\n",
      "\u001b[31mNo common interaction or similar neighbor for user 192 and item 556, proceed with default prediction\u001b[0m\n",
      "\u001b[31mNo common interaction or similar neighbor for user 1957 and item 2741, proceed with default prediction\u001b[0m\n"
     ]
    },
    {
     "name": "stderr",
     "output_type": "stream",
     "text": [
      "eval_pointwise: 100%|██████████| 3/3 [00:00<00:00,  5.58it/s]\n",
      "/opt/homebrew/lib/python3.11/site-packages/sklearn/metrics/_classification.py:2845: FutureWarning: Setting the eps parameter is deprecated and will be removed in 1.5. Instead eps will always havea default value of `np.finfo(y_pred.dtype).eps`.\n",
      "  warnings.warn(\n",
      "eval_listwise: 100%|██████████| 1823/1823 [00:00<00:00, 2304.46it/s]\n"
     ]
    },
    {
     "name": "stdout",
     "output_type": "stream",
     "text": [
      "\t eval log_loss: 2.0968\n",
      "\t eval roc_auc: 0.6361\n",
      "\t eval precision@10: 0.0013\n",
      "\t eval recall@10: 0.0072\n",
      "\t eval ndcg@10: 0.0057\n",
      "==============================\n"
     ]
    },
    {
     "name": "stderr",
     "output_type": "stream",
     "text": [
      "eval_pointwise: 100%|██████████| 3/3 [00:00<00:00,  5.70it/s]\n"
     ]
    },
    {
     "name": "stdout",
     "output_type": "stream",
     "text": [
      "9\n",
      "Training start time: \u001b[35m2023-10-07 21:20:51\u001b[0m\n",
      "Final block size and num: (5894, 1)\n",
      "sim_matrix elapsed: 0.123s\n",
      "sim_matrix, shape: (5894, 5894), num_elements: 4222948, density: 12.1561 %\n"
     ]
    },
    {
     "name": "stderr",
     "output_type": "stream",
     "text": [
      "top_k: 100%|██████████| 5894/5894 [00:00<00:00, 11145.07it/s]\n",
      "eval_pointwise:   0%|          | 0/3 [00:00<?, ?it/s]"
     ]
    },
    {
     "name": "stdout",
     "output_type": "stream",
     "text": [
      "\u001b[31mNo common interaction or similar neighbor for user 1728 and item 2899, proceed with default prediction\u001b[0m\n",
      "\u001b[31mNo common interaction or similar neighbor for user 1728 and item 2621, proceed with default prediction\u001b[0m\n",
      "\u001b[31mNo common interaction or similar neighbor for user 1932 and item 2012, proceed with default prediction\u001b[0m\n",
      "\u001b[31mNo common interaction or similar neighbor for user 35 and item 2067, proceed with default prediction\u001b[0m\n",
      "\u001b[31mNo common interaction or similar neighbor for user 192 and item 556, proceed with default prediction\u001b[0m\n",
      "\u001b[31mNo common interaction or similar neighbor for user 1957 and item 2741, proceed with default prediction\u001b[0m\n"
     ]
    },
    {
     "name": "stderr",
     "output_type": "stream",
     "text": [
      "eval_pointwise:  33%|███▎      | 1/3 [00:00<00:00,  3.96it/s]"
     ]
    }
   ],
   "source": [
    "from libreco.data import random_split, DatasetPure\n",
    "import numpy as np\n",
    "from libreco.evaluation import evaluate\n",
    "import time\n",
    "\n",
    "from libreco.algorithms import UserCF, ItemCF\n",
    "\n",
    "trainData, evalData, testData = random_split(data, multi_ratios=[0.8, 0.1, 0.1])\n",
    "\n",
    "trainData, dataInfo = DatasetPure.build_trainset(trainData)\n",
    "evalData = DatasetPure.build_evalset(evalData)\n",
    "testData = DatasetPure.build_testset(testData)\n",
    "\n",
    "times = [{\"cosine\": [], \"pearson\": [], \"jaccard\": []}, {\"cosine\": [], \"pearson\": [], \"jaccard\": []}, {\"cosine\": [], \"pearson\": [], \"jaccard\": []}, {\"cosine\": [], \"pearson\": [], \"jaccard\": []}]\n",
    "\n",
    "x = [i for i in np.arange(1, 31, 1)]\n",
    "\n",
    "for i in np.arange(1, 31, 1):\n",
    "    print(i)\n",
    "\n",
    "    for simType in [\"cosine\", \"pearson\", \"jaccard\"]:\n",
    "        userCf = UserCF(\n",
    "            task=\"ranking\",\n",
    "            data_info=dataInfo,\n",
    "            sim_type=simType,\n",
    "            k_sim=i\n",
    "        )\n",
    "        start = time.time()\n",
    "        userCf.fit(\n",
    "            trainData,\n",
    "            neg_sampling=True,\n",
    "            verbose=2,\n",
    "            eval_data=evalData,\n",
    "            metrics=[\"loss\", \"roc_auc\", \"precision\", \"recall\", \"ndcg\"]\n",
    "        )\n",
    "        end = time.time()\n",
    "\n",
    "        times[0][simType].append(end - start)\n",
    "\n",
    "        evaluation = evaluate(\n",
    "            model=userCf,\n",
    "            data=testData,\n",
    "            neg_sampling=True,\n",
    "            metrics=[\"roc_auc\"]\n",
    "        )\n",
    "\n",
    "        times[1][simType].append(evaluation[\"roc_auc\"])\n",
    "        \n",
    "        itemCf = ItemCF(\n",
    "            task=\"ranking\",\n",
    "            data_info=dataInfo,\n",
    "            sim_type=simType,\n",
    "            k_sim=i\n",
    "        )\n",
    "        start = time.time()\n",
    "        itemCf.fit(\n",
    "            trainData,\n",
    "            neg_sampling=True,\n",
    "            verbose=2,\n",
    "            eval_data=evalData,\n",
    "            metrics=[\"loss\", \"roc_auc\", \"precision\", \"recall\", \"ndcg\"]\n",
    "        )\n",
    "        end = time.time()\n",
    "\n",
    "        times[2][simType].append(end - start)\n",
    "\n",
    "        evaluation = evaluate(\n",
    "            model=itemCf,\n",
    "            data=testData,\n",
    "            neg_sampling=True,\n",
    "            metrics=[\"roc_auc\"]\n",
    "        )\n",
    "\n",
    "        times[3][simType].append(evaluation[\"roc_auc\"])"
   ]
  },
  {
   "cell_type": "code",
   "execution_count": null,
   "metadata": {},
   "outputs": [],
   "source": [
    "\n",
    "import matplotlib.pyplot as plt\n",
    "\n",
    "plt.plot(x, times[0][\"cosine\"], label=\"Cosine\")\n",
    "plt.plot(x, times[0][\"pearson\"], label=\"Pearson\")\n",
    "plt.plot(x, times[0][\"jaccard\"], label=\"jaccard\")\n",
    "plt.legend()\n",
    "plt.ylabel(\"Время обучения модели, сек\")\n",
    "plt.xlabel(\"Значение параметра количества используемых похожих объектов\")\n",
    "plt.show()"
   ]
  },
  {
   "cell_type": "code",
   "execution_count": null,
   "metadata": {},
   "outputs": [],
   "source": [
    "\n",
    "import matplotlib.pyplot as plt\n",
    "\n",
    "plt.plot(x, times[1][\"cosine\"], label=\"Cosine roc_auc\")\n",
    "plt.plot(x, times[1][\"pearson\"], label=\"Pearson roc_auc\")\n",
    "plt.plot(x, times[1][\"jaccard\"], label=\"jaccard roc_auc\")\n",
    "plt.legend()\n",
    "plt.ylabel(\"Значение roc_auc полученной модели\")\n",
    "plt.xlabel(\"Значение параметра количества используемых похожих объектов\")\n",
    "plt.show()"
   ]
  },
  {
   "cell_type": "code",
   "execution_count": null,
   "metadata": {},
   "outputs": [],
   "source": [
    "\n",
    "import matplotlib.pyplot as plt\n",
    "\n",
    "plt.plot(x, times[2][\"cosine\"], label=\"Cosine\")\n",
    "plt.plot(x, times[2][\"pearson\"], label=\"Pearson\")\n",
    "plt.plot(x, times[2][\"jaccard\"], label=\"jaccard\")\n",
    "plt.legend()\n",
    "plt.ylabel(\"Время обучения модели, сек\")\n",
    "plt.xlabel(\"Значение параметра количества используемых похожих объектов\")\n",
    "plt.show()"
   ]
  },
  {
   "cell_type": "code",
   "execution_count": null,
   "metadata": {},
   "outputs": [],
   "source": [
    "\n",
    "import matplotlib.pyplot as plt\n",
    "\n",
    "plt.plot(x, times[3][\"cosine\"], label=\"Cosine roc_auc\")\n",
    "plt.plot(x, times[3][\"pearson\"], label=\"Pearson roc_auc\")\n",
    "plt.plot(x, times[3][\"jaccard\"], label=\"jaccard roc_auc\")\n",
    "plt.legend()\n",
    "plt.ylabel(\"Значение roc_auc полученной модели\")\n",
    "plt.xlabel(\"Значение параметра количества используемых похожих объектов\")\n",
    "plt.show()"
   ]
  },
  {
   "cell_type": "code",
   "execution_count": null,
   "metadata": {},
   "outputs": [],
   "source": [
    "from apyori import apriori\n",
    "from pyECLAT import ECLAT\n",
    "from fpgrowth_py import fpgrowth\n",
    "\n",
    "import numpy as np\n",
    "\n",
    "import time\n",
    "import memory_profiler as mp\n",
    "import pandas as pd\n",
    "\n",
    "times = [[], [], []]\n",
    "\n",
    "eclat = ECLAT(pd.DataFrame(transactions))\n",
    "transesForFp = [list(filter(lambda x: x != 'nan', it)) for it in transactions]\n",
    "\n",
    "x = []\n",
    "for i in np.arange(0.01, 0.51, 0.01):\n",
    "    print(i)\n",
    "    x.append(i)\n",
    "\n",
    "    start = time.time()\n",
    "    apriori(transactions=transactions, min_support=i, min_confidence=0.2, min_lift=3, min_length=2, max_length=2)\n",
    "    end = time.time() - start\n",
    "    times[0].append(end)\n",
    "\n",
    "\n",
    "    start = time.time()\n",
    "    eclat.fit(min_support=i, min_combination=2, max_combination=2)\n",
    "    end = time.time() - start\n",
    "    times[1].append(end)\n",
    "\n",
    "    start = time.time()\n",
    "    fpgrowth(transesForFp, minSupRatio=i, minConf=0.2)\n",
    "    end = time.time() - start\n",
    "    times[2].append(end)\n",
    "\n",
    "memoryUsage = [[], [], []]\n",
    "\n",
    "for i in np.arange(0.01, 0.51, 0.01):\n",
    "    \n",
    "    memoryUsage[0].append(\n",
    "        mp.memory_usage((apriori, (transactions,), { 'min_support':i, 'min_confidence':0.2, 'min_lift':3, 'min_length':2, 'max_length':2 }), max_usage=True)\n",
    "    )\n",
    "\n",
    "    memoryUsage[1].append(\n",
    "        mp.memory_usage((eclat.fit, (), {'min_support':i, 'min_combination':2, 'max_combination':2}), max_usage=True)\n",
    "    )\n",
    "\n",
    "    memoryUsage[2].append(\n",
    "        mp.memory_usage((fpgrowth, (transesForFp, i, 0.2)), max_usage=True)\n",
    "    )\n"
   ]
  },
  {
   "cell_type": "code",
   "execution_count": null,
   "metadata": {},
   "outputs": [],
   "source": [
    "import matplotlib.pyplot as plt\n",
    "\n",
    "plt.plot(x, times[0], label=\"Apriori\")\n",
    "plt.plot(x, times[1], label=\"ECLAT\")\n",
    "plt.plot(x, times[2], label=\"FP-Growth\")\n",
    "plt.legend()\n",
    "plt.ylabel(\"Время исполнения, сек\")\n",
    "plt.xlabel(\"Значение параметра минимальной поддержки\")\n",
    "plt.show()"
   ]
  },
  {
   "cell_type": "code",
   "execution_count": null,
   "metadata": {},
   "outputs": [],
   "source": [
    "plt.plot(x, memoryUsage[0], label=\"Apriori\")\n",
    "plt.plot(x, memoryUsage[1], label=\"ECLAT\")\n",
    "plt.plot(x, memoryUsage[2], label=\"FP-Growth\")\n",
    "plt.legend()\n",
    "plt.ylabel(\"Максимально занятая память процессом, MiB\")\n",
    "plt.xlabel(\"Значение параметра минимальной поддержки\")\n",
    "plt.show()"
   ]
  },
  {
   "cell_type": "code",
   "execution_count": null,
   "metadata": {},
   "outputs": [],
   "source": []
  }
 ],
 "metadata": {
  "kernelspec": {
   "display_name": "Python 3",
   "language": "python",
   "name": "python3"
  },
  "language_info": {
   "codemirror_mode": {
    "name": "ipython",
    "version": 3
   },
   "file_extension": ".py",
   "mimetype": "text/x-python",
   "name": "python",
   "nbconvert_exporter": "python",
   "pygments_lexer": "ipython3",
   "version": "3.11.5"
  },
  "orig_nbformat": 4
 },
 "nbformat": 4,
 "nbformat_minor": 2
}
