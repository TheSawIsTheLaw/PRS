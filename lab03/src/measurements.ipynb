{
 "cells": [
  {
   "cell_type": "code",
   "execution_count": 1,
   "metadata": {},
   "outputs": [],
   "source": [
    "import pandas as pd\n",
    "import numpy as np\n",
    "\n",
    "dfTrain = pd.read_csv(\"train.csv\")\n",
    "trainText = dfTrain[\"ABSTRACT\"]"
   ]
  },
  {
   "cell_type": "code",
   "execution_count": 2,
   "metadata": {},
   "outputs": [],
   "source": [
    "times = [[], [], [], [], [], []]"
   ]
  },
  {
   "cell_type": "code",
   "execution_count": 4,
   "metadata": {},
   "outputs": [],
   "source": [
    "import nltk \n",
    "import time\n",
    "from sklearn.feature_extraction.text import TfidfVectorizer\n",
    "\n",
    "lemmatizer = nltk.WordNetLemmatizer()\n",
    "\n",
    "class TfidfVectorizerLemmatizer(TfidfVectorizer):\n",
    "    def build_analyzer(self):\n",
    "        analyzer = super(TfidfVectorizerLemmatizer, self).build_analyzer()\n",
    "        return lambda doc:(lemmatizer.lemmatize(w) for w in analyzer(doc))    \n",
    "\n",
    "text = list(trainText)\n",
    "\n",
    "for df in np.arange(0.5, 0.96, 0.01):\n",
    "    model = TfidfVectorizerLemmatizer(decode_error='ignore', max_df=df, min_df=2, stop_words='english')\n",
    "\n",
    "    start = time.time()\n",
    "    model.fit_transform(text)\n",
    "    end = time.time()\n",
    "\n",
    "    times[0].append(end - start)"
   ]
  },
  {
   "cell_type": "code",
   "execution_count": 5,
   "metadata": {},
   "outputs": [],
   "source": [
    "for df in np.arange(1, 10, 1):\n",
    "    model = TfidfVectorizerLemmatizer(decode_error='ignore', max_df=0.95, min_df=df, stop_words='english')\n",
    "\n",
    "    start = time.time()\n",
    "    model.fit_transform(text)\n",
    "    end = time.time()\n",
    "\n",
    "    times[1].append(end - start)"
   ]
  },
  {
   "cell_type": "code",
   "execution_count": 7,
   "metadata": {},
   "outputs": [],
   "source": [
    "from sklearn.decomposition import LatentDirichletAllocation\n",
    "\n",
    "class CountVectorizerLemmatizer(CountVectorizer):\n",
    "    def build_analyzer(self):\n",
    "        analyzer = super(CountVectorizerLemmatizer, self).build_analyzer()\n",
    "        return lambda doc:(lemmatizer.lemmatize(w) for w in analyzer(doc))\n",
    "\n",
    "vectorizer = CountVectorizerLemmatizer(decode_error='ignore', max_df=0.95, min_df=2, stop_words='english')\n",
    "tf = vectorizer.fit_transform(text)\n",
    "\n",
    "for topicsNum in np.arange(1, 10):\n",
    "    model = LatentDirichletAllocation(n_components=topicsNum, max_iter=5, learning_method='online', learning_offset=50.)\n",
    "\n",
    "    start = time.time()\n",
    "    model.fit(tf)\n",
    "    end = time.time()\n",
    "\n",
    "    times[2].append(end - start)\n",
    "\n",
    "    model = LatentDirichletAllocation(n_components=topicsNum, max_iter=5, learning_method='batch', learning_offset=50.)\n",
    "    \n",
    "    start = time.time()\n",
    "    model.fit(tf)\n",
    "    end = time.time()\n",
    "\n",
    "    times[3].append(end - start)\n",
    "\n",
    "for epoches in np.arange(1, 15):\n",
    "    model = LatentDirichletAllocation(n_components=6, max_iter=epoches, learning_method='online', learning_offset=50.)\n",
    "    \n",
    "    start = time.time()\n",
    "    model.fit(tf)\n",
    "    end = time.time()\n",
    "    \n",
    "    times[4].append(end - start)\n",
    "\n",
    "    model = LatentDirichletAllocation(n_components=6, max_iter=epoches, learning_method='batch', learning_offset=50.)\n",
    "\n",
    "    start = time.time()\n",
    "    model.fit(tf)\n",
    "    end = time.time()\n",
    "    \n",
    "    times[5].append(end - start)"
   ]
  },
  {
   "cell_type": "code",
   "execution_count": null,
   "metadata": {},
   "outputs": [],
   "source": []
  },
  {
   "cell_type": "code",
   "execution_count": null,
   "metadata": {},
   "outputs": [],
   "source": [
    "import matplotlib.pyplot as plt\n",
    "\n",
    "plt.plot(np.arange(0.5, 0.96, 0.01), times[0], label=\"TF_IDF\")\n",
    "\n",
    "plt.legend()\n",
    "plt.ylabel(\"Время, сек\")\n",
    "plt.xlabel(\"Значение параметра максимальной частоты встречаемости слова, %\")\n",
    "plt.show()"
   ]
  },
  {
   "cell_type": "code",
   "execution_count": null,
   "metadata": {},
   "outputs": [],
   "source": [
    "import matplotlib.pyplot as plt\n",
    "\n",
    "plt.plot(np.arange(1, 10), times[1], label=\"TF_IDF\")\n",
    "\n",
    "plt.legend()\n",
    "plt.ylabel(\"Время, сек\")\n",
    "plt.xlabel(\"Значение параметра минимальной встречаемости слова, документ\")\n",
    "plt.show()"
   ]
  },
  {
   "cell_type": "code",
   "execution_count": null,
   "metadata": {},
   "outputs": [],
   "source": [
    "import matplotlib.pyplot as plt\n",
    "\n",
    "plt.plot(np.arange(1, 10), times[2], label=\"method online\")\n",
    "plt.plot(np.arange(1, 10), times[3], label=\"method batch\")\n",
    "\n",
    "plt.legend()\n",
    "plt.ylabel(\"Время, сек\")\n",
    "plt.xlabel(\"Значение параметра количества тем\")\n",
    "plt.show()"
   ]
  },
  {
   "cell_type": "code",
   "execution_count": null,
   "metadata": {},
   "outputs": [],
   "source": [
    "\n",
    "import matplotlib.pyplot as plt\n",
    "\n",
    "plt.plot(np.arange(1, 15), times[4], label=\"method online\")\n",
    "plt.plot(np.arange(1, 15), times[5], label=\"method batch\")\n",
    "\n",
    "plt.legend()\n",
    "plt.ylabel(\"Время, сек\")\n",
    "plt.xlabel(\"Значение параметра максимального количества эпох\")\n",
    "plt.show()"
   ]
  }
 ],
 "metadata": {
  "kernelspec": {
   "display_name": "Python 3",
   "language": "python",
   "name": "python3"
  },
  "language_info": {
   "codemirror_mode": {
    "name": "ipython",
    "version": 3
   },
   "file_extension": ".py",
   "mimetype": "text/x-python",
   "name": "python",
   "nbconvert_exporter": "python",
   "pygments_lexer": "ipython3",
   "version": "3.11.5"
  },
  "orig_nbformat": 4
 },
 "nbformat": 4,
 "nbformat_minor": 2
}
