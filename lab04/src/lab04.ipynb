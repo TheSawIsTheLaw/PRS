{
 "cells": [
  {
   "cell_type": "code",
   "execution_count": 4,
   "metadata": {},
   "outputs": [],
   "source": [
    "import matplotlib.pyplot as plt"
   ]
  },
  {
   "cell_type": "code",
   "execution_count": 20,
   "metadata": {},
   "outputs": [
    {
     "data": {
      "text/plain": [
       "<surprise.dataset.DatasetAutoFolds at 0x14c4cc510>"
      ]
     },
     "execution_count": 20,
     "metadata": {},
     "output_type": "execute_result"
    }
   ],
   "source": [
    "from surprise import Dataset\n",
    "\n",
    "data = Dataset.load_builtin('ml-100k', prompt=False)\n",
    "data"
   ]
  },
  {
   "cell_type": "code",
   "execution_count": 22,
   "metadata": {},
   "outputs": [
    {
     "name": "stdout",
     "output_type": "stream",
     "text": [
      "Evaluating RMSE, MAE of algorithm SVD on 3 split(s).\n",
      "\n",
      "                  Fold 1  Fold 2  Fold 3  Mean    Std     \n",
      "RMSE (testset)    0.9459  0.9500  0.9431  0.9463  0.0028  \n",
      "MAE (testset)     0.7464  0.7501  0.7466  0.7477  0.0017  \n",
      "Fit time          0.34    0.37    0.37    0.36    0.01    \n",
      "Test time         0.06    0.12    0.13    0.10    0.03    \n"
     ]
    },
    {
     "data": {
      "text/plain": [
       "{'test_rmse': array([0.94589089, 0.9499634 , 0.94313055]),\n",
       " 'test_mae': array([0.74641093, 0.7500701 , 0.74656488]),\n",
       " 'fit_time': (0.3447408676147461, 0.36521196365356445, 0.3677401542663574),\n",
       " 'test_time': (0.06386613845825195, 0.1215658187866211, 0.12745308876037598)}"
      ]
     },
     "execution_count": 22,
     "metadata": {},
     "output_type": "execute_result"
    }
   ],
   "source": [
    "from surprise import SVD\n",
    "from surprise.model_selection import cross_validate\n",
    "\n",
    "algo = SVD()\n",
    "\n",
    "cross_validate(algo, data, measures=[\"RMSE\", \"MAE\"], cv=3, verbose=True)"
   ]
  },
  {
   "cell_type": "code",
   "execution_count": 26,
   "metadata": {},
   "outputs": [
    {
     "name": "stdout",
     "output_type": "stream",
     "text": [
      "Evaluating RMSE, MAE of algorithm SVDpp on 3 split(s).\n",
      "\n",
      "                  Fold 1  Fold 2  Fold 3  Mean    Std     \n",
      "RMSE (testset)    0.9211  0.9298  0.9265  0.9258  0.0036  \n",
      "MAE (testset)     0.7235  0.7322  0.7254  0.7270  0.0038  \n",
      "Fit time          3.35    3.40    3.29    3.35    0.04    \n",
      "Test time         2.05    2.01    1.89    1.98    0.07    \n"
     ]
    }
   ],
   "source": [
    "from surprise import SVDpp\n",
    "\n",
    "algo = SVDpp(cache_ratings=True)\n",
    "\n",
    "shit = cross_validate(algo, data, measures=[\"RMSE\", \"MAE\"], cv=3, verbose=True)"
   ]
  },
  {
   "cell_type": "code",
   "execution_count": 29,
   "metadata": {},
   "outputs": [
    {
     "data": {
      "text/plain": [
       "{'test_rmse': array([0.92111952, 0.92983681, 0.92646112]),\n",
       " 'test_mae': array([0.72347336, 0.73221971, 0.72540546]),\n",
       " 'fit_time': (3.3544509410858154, 3.39835786819458, 3.290189027786255),\n",
       " 'test_time': (2.0521793365478516, 2.0081918239593506, 1.8941400051116943)}"
      ]
     },
     "execution_count": 29,
     "metadata": {},
     "output_type": "execute_result"
    }
   ],
   "source": [
    "shit"
   ]
  },
  {
   "cell_type": "code",
   "execution_count": null,
   "metadata": {},
   "outputs": [],
   "source": []
  }
 ],
 "metadata": {
  "kernelspec": {
   "display_name": "Python 3",
   "language": "python",
   "name": "python3"
  },
  "language_info": {
   "codemirror_mode": {
    "name": "ipython",
    "version": 3
   },
   "file_extension": ".py",
   "mimetype": "text/x-python",
   "name": "python",
   "nbconvert_exporter": "python",
   "pygments_lexer": "ipython3",
   "version": "3.11.5"
  },
  "orig_nbformat": 4
 },
 "nbformat": 4,
 "nbformat_minor": 2
}
