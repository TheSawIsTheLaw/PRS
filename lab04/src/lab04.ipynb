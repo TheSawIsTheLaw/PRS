{
 "cells": [
  {
   "cell_type": "code",
   "execution_count": null,
   "metadata": {},
   "outputs": [],
   "source": [
    "import numpy as np\n",
    "import matplotlib.pyplot as plt\n",
    "import pandas as pd\n",
    "import nltk\n",
    "import seaborn as sns\n",
    "from sklearn.feature_extraction.text import CountVectorizer"
   ]
  },
  {
   "cell_type": "code",
   "execution_count": null,
   "metadata": {},
   "outputs": [],
   "source": [
    "dfTrain = pd.read_csv(\"train.csv\")\n",
    "dfTrain\n"
   ]
  },
  {
   "cell_type": "code",
   "execution_count": 9,
   "metadata": {},
   "outputs": [
    {
     "data": {
      "text/html": [
       "<div>\n",
       "<style scoped>\n",
       "    .dataframe tbody tr th:only-of-type {\n",
       "        vertical-align: middle;\n",
       "    }\n",
       "\n",
       "    .dataframe tbody tr th {\n",
       "        vertical-align: top;\n",
       "    }\n",
       "\n",
       "    .dataframe thead th {\n",
       "        text-align: right;\n",
       "    }\n",
       "</style>\n",
       "<table border=\"1\" class=\"dataframe\">\n",
       "  <thead>\n",
       "    <tr style=\"text-align: right;\">\n",
       "      <th></th>\n",
       "      <th>ID</th>\n",
       "      <th>TITLE</th>\n",
       "      <th>ABSTRACT</th>\n",
       "    </tr>\n",
       "  </thead>\n",
       "  <tbody>\n",
       "    <tr>\n",
       "      <th>0</th>\n",
       "      <td>20973</td>\n",
       "      <td>Closed-form Marginal Likelihood in Gamma-Poiss...</td>\n",
       "      <td>We present novel understandings of the Gamma...</td>\n",
       "    </tr>\n",
       "    <tr>\n",
       "      <th>1</th>\n",
       "      <td>20974</td>\n",
       "      <td>Laboratory mid-IR spectra of equilibrated and ...</td>\n",
       "      <td>Meteorites contain minerals from Solar Syste...</td>\n",
       "    </tr>\n",
       "    <tr>\n",
       "      <th>2</th>\n",
       "      <td>20975</td>\n",
       "      <td>Case For Static AMSDU Aggregation in WLANs</td>\n",
       "      <td>Frame aggregation is a mechanism by which mu...</td>\n",
       "    </tr>\n",
       "    <tr>\n",
       "      <th>3</th>\n",
       "      <td>20976</td>\n",
       "      <td>The $Gaia$-ESO Survey: the inner disk intermed...</td>\n",
       "      <td>Milky Way open clusters are very diverse in ...</td>\n",
       "    </tr>\n",
       "    <tr>\n",
       "      <th>4</th>\n",
       "      <td>20977</td>\n",
       "      <td>Witness-Functions versus Interpretation-Functi...</td>\n",
       "      <td>Proving that a cryptographic protocol is cor...</td>\n",
       "    </tr>\n",
       "    <tr>\n",
       "      <th>...</th>\n",
       "      <td>...</td>\n",
       "      <td>...</td>\n",
       "      <td>...</td>\n",
       "    </tr>\n",
       "    <tr>\n",
       "      <th>8984</th>\n",
       "      <td>29957</td>\n",
       "      <td>Supporting mixed-datatype matrix multiplicatio...</td>\n",
       "      <td>We approach the problem of implementing mixe...</td>\n",
       "    </tr>\n",
       "    <tr>\n",
       "      <th>8985</th>\n",
       "      <td>29958</td>\n",
       "      <td>An axiomatic basis for Blackwell optimality</td>\n",
       "      <td>In the theory of Markov decision processes (...</td>\n",
       "    </tr>\n",
       "    <tr>\n",
       "      <th>8986</th>\n",
       "      <td>29959</td>\n",
       "      <td>GeneVis - An interactive visualization tool fo...</td>\n",
       "      <td>GeneVis is a web-based tool to visualize com...</td>\n",
       "    </tr>\n",
       "    <tr>\n",
       "      <th>8987</th>\n",
       "      <td>29960</td>\n",
       "      <td>Quantifying the causal effect of speed cameras...</td>\n",
       "      <td>This paper quantifies the effect of speed ca...</td>\n",
       "    </tr>\n",
       "    <tr>\n",
       "      <th>8988</th>\n",
       "      <td>29961</td>\n",
       "      <td>Cube-magic labelings of grids</td>\n",
       "      <td>We show that the vertices and edges of a $d$...</td>\n",
       "    </tr>\n",
       "  </tbody>\n",
       "</table>\n",
       "<p>8989 rows × 3 columns</p>\n",
       "</div>"
      ],
      "text/plain": [
       "         ID                                              TITLE  \\\n",
       "0     20973  Closed-form Marginal Likelihood in Gamma-Poiss...   \n",
       "1     20974  Laboratory mid-IR spectra of equilibrated and ...   \n",
       "2     20975         Case For Static AMSDU Aggregation in WLANs   \n",
       "3     20976  The $Gaia$-ESO Survey: the inner disk intermed...   \n",
       "4     20977  Witness-Functions versus Interpretation-Functi...   \n",
       "...     ...                                                ...   \n",
       "8984  29957  Supporting mixed-datatype matrix multiplicatio...   \n",
       "8985  29958        An axiomatic basis for Blackwell optimality   \n",
       "8986  29959  GeneVis - An interactive visualization tool fo...   \n",
       "8987  29960  Quantifying the causal effect of speed cameras...   \n",
       "8988  29961                      Cube-magic labelings of grids   \n",
       "\n",
       "                                               ABSTRACT  \n",
       "0       We present novel understandings of the Gamma...  \n",
       "1       Meteorites contain minerals from Solar Syste...  \n",
       "2       Frame aggregation is a mechanism by which mu...  \n",
       "3       Milky Way open clusters are very diverse in ...  \n",
       "4       Proving that a cryptographic protocol is cor...  \n",
       "...                                                 ...  \n",
       "8984    We approach the problem of implementing mixe...  \n",
       "8985    In the theory of Markov decision processes (...  \n",
       "8986    GeneVis is a web-based tool to visualize com...  \n",
       "8987    This paper quantifies the effect of speed ca...  \n",
       "8988    We show that the vertices and edges of a $d$...  \n",
       "\n",
       "[8989 rows x 3 columns]"
      ]
     },
     "execution_count": 9,
     "metadata": {},
     "output_type": "execute_result"
    }
   ],
   "source": [
    "dfTest = pd.read_csv(\"test.csv\")\n",
    "dfTest"
   ]
  },
  {
   "cell_type": "code",
   "execution_count": 13,
   "metadata": {},
   "outputs": [
    {
     "name": "stderr",
     "output_type": "stream",
     "text": [
      "[nltk_data] Downloading package wordnet to /Users/dyakuba/nltk_data...\n"
     ]
    },
    {
     "data": {
      "text/plain": [
       "True"
      ]
     },
     "execution_count": 13,
     "metadata": {},
     "output_type": "execute_result"
    }
   ],
   "source": [
    "nltk.download(\"wordnet\")"
   ]
  },
  {
   "cell_type": "code",
   "execution_count": 14,
   "metadata": {},
   "outputs": [],
   "source": [
    "trainText = dfTrain[\"ABSTRACT\"]"
   ]
  },
  {
   "cell_type": "code",
   "execution_count": 17,
   "metadata": {},
   "outputs": [],
   "source": [
    "from nltk.stem import WordNetLemmatizer\n",
    "\n",
    "lemmatizer = nltk.WordNetLemmatizer()\n",
    "\n",
    "class CountVectorizerLemmatizer(CountVectorizer):\n",
    "    def build_analyzer(self):\n",
    "        analyzer = super(CountVectorizerLemmatizer, self).build_analyzer()\n",
    "        return lambda doc:(lemmatizer.lemmatize(w) for w in analyzer(doc))"
   ]
  },
  {
   "cell_type": "code",
   "execution_count": 18,
   "metadata": {},
   "outputs": [],
   "source": [
    "text = list(trainText)\n",
    "tfVectorized = CountVectorizerLemmatizer(decode_error='ignore', max_df=0.95, min_df=2, stop_words='english')\n",
    "tf = tfVectorized.fit_transform(text)"
   ]
  },
  {
   "cell_type": "code",
   "execution_count": 26,
   "metadata": {},
   "outputs": [],
   "source": [
    "from sklearn.decomposition import LatentDirichletAllocation\n",
    "\n",
    "topicsNum = 5\n",
    "\n",
    "lda= LatentDirichletAllocation(n_components=topicsNum, max_iter=5, learning_method='online', learning_offset=50.)\n",
    "\n",
    "lda.fit(tf)\n",
    "shi = lda.fit_transform(tf)"
   ]
  },
  {
   "cell_type": "code",
   "execution_count": 23,
   "metadata": {},
   "outputs": [
    {
     "name": "stdout",
     "output_type": "stream",
     "text": [
      "  (0, 17314)\t2\n",
      "  (0, 14315)\t4\n",
      "  (0, 1642)\t1\n",
      "  (0, 21387)\t7\n",
      "  (0, 20763)\t5\n",
      "  (0, 11301)\t4\n",
      "  (0, 1787)\t1\n",
      "  (0, 6773)\t3\n",
      "  (0, 18668)\t1\n",
      "  (0, 1676)\t1\n",
      "  (0, 15049)\t2\n",
      "  (0, 5888)\t8\n",
      "  (0, 9645)\t1\n",
      "  (0, 12838)\t2\n",
      "  (0, 9676)\t2\n",
      "  (0, 4960)\t3\n",
      "  (0, 17388)\t2\n",
      "  (0, 13062)\t2\n",
      "  (0, 6414)\t1\n",
      "  (0, 7376)\t2\n",
      "  (0, 11239)\t1\n",
      "  (0, 13767)\t1\n",
      "  (0, 8374)\t1\n",
      "  (0, 24236)\t1\n",
      "  (0, 23566)\t5\n",
      "  :\t:\n",
      "  (20971, 17246)\t1\n",
      "  (20971, 22254)\t1\n",
      "  (20971, 18183)\t1\n",
      "  (20971, 17511)\t1\n",
      "  (20971, 4742)\t1\n",
      "  (20971, 6094)\t2\n",
      "  (20971, 6886)\t1\n",
      "  (20971, 5971)\t1\n",
      "  (20971, 3408)\t1\n",
      "  (20971, 18058)\t1\n",
      "  (20971, 10788)\t1\n",
      "  (20971, 8351)\t1\n",
      "  (20971, 20034)\t1\n",
      "  (20971, 17250)\t1\n",
      "  (20971, 20471)\t1\n",
      "  (20971, 388)\t2\n",
      "  (20971, 18404)\t1\n",
      "  (20971, 21194)\t6\n",
      "  (20971, 4298)\t1\n",
      "  (20971, 18911)\t1\n",
      "  (20971, 15811)\t6\n",
      "  (20971, 17784)\t1\n",
      "  (20971, 20768)\t1\n",
      "  (20971, 20659)\t1\n",
      "  (20971, 2124)\t1\n"
     ]
    }
   ],
   "source": [
    "print(tf)"
   ]
  },
  {
   "cell_type": "code",
   "execution_count": null,
   "metadata": {},
   "outputs": [],
   "source": []
  }
 ],
 "metadata": {
  "kernelspec": {
   "display_name": "Python 3",
   "language": "python",
   "name": "python3"
  },
  "language_info": {
   "codemirror_mode": {
    "name": "ipython",
    "version": 3
   },
   "file_extension": ".py",
   "mimetype": "text/x-python",
   "name": "python",
   "nbconvert_exporter": "python",
   "pygments_lexer": "ipython3",
   "version": "3.11.5"
  },
  "orig_nbformat": 4
 },
 "nbformat": 4,
 "nbformat_minor": 2
}
